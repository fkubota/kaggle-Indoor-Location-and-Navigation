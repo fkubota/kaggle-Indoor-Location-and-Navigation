{
 "cells": [
  {
   "cell_type": "markdown",
   "id": "blessed-classics",
   "metadata": {},
   "source": [
    "# Overview\n",
    "- bssidの位置特定"
   ]
  },
  {
   "cell_type": "code",
   "execution_count": 1,
   "id": "agricultural-spiritual",
   "metadata": {},
   "outputs": [
    {
     "name": "stdout",
     "output_type": "stream",
     "text": [
      "df5eb02\n"
     ]
    }
   ],
   "source": [
    "import subprocess\n",
    "cmd = \"git rev-parse --short HEAD\"\n",
    "hash = subprocess.check_output(cmd.split()).strip().decode('utf-8')\n",
    "print(hash)"
   ]
  },
  {
   "cell_type": "markdown",
   "id": "injured-mortgage",
   "metadata": {},
   "source": [
    "# Const"
   ]
  },
  {
   "cell_type": "code",
   "execution_count": 2,
   "id": "flush-accreditation",
   "metadata": {},
   "outputs": [],
   "source": [
    "NB = '013'\n",
    "DIR_TRAIN = './../data_ignore/input/train/'\n",
    "DIR_TEST = './../data_ignore/input/test/'\n",
    "DIR_WIFI = './../data_ignore/input/wifi/'\n",
    "PATH_SUB = './../data_ignore/input/sample_submission.csv'\n",
    "PATH_99_SUB = './../data/input/floor_99per_acc_sub.csv'\n",
    "DIR_SAVE_IGNORE = f'./../data_ignore/nb/{NB}/'\n",
    "DIR_SAVE = f'./../data/nb/{NB}/'"
   ]
  },
  {
   "cell_type": "markdown",
   "id": "stuffed-energy",
   "metadata": {},
   "source": [
    "# Import everything I need:)"
   ]
  },
  {
   "cell_type": "code",
   "execution_count": 3,
   "id": "hourly-dealer",
   "metadata": {},
   "outputs": [],
   "source": [
    "import os\n",
    "import time\n",
    "import yaml\n",
    "import json\n",
    "import types\n",
    "import random\n",
    "import pickle\n",
    "import builtins\n",
    "import numpy as np\n",
    "import pandas as pd\n",
    "import seaborn as sns\n",
    "from PIL import Image\n",
    "from icecream import ic\n",
    "from ipdb import set_trace as st\n",
    "import matplotlib.pyplot as plt\n",
    "from dataclasses import dataclass\n",
    "# from tqdm import tqdm\n",
    "from fastprogress import progress_bar, master_bar\n",
    "from glob import glob\n",
    "from loguru import logger\n",
    "from collections import OrderedDict\n",
    "from lmfit import Parameters, Minimizer, report_fit\n"
   ]
  },
  {
   "cell_type": "markdown",
   "id": "reliable-sight",
   "metadata": {},
   "source": [
    "# Function"
   ]
  },
  {
   "cell_type": "code",
   "execution_count": 4,
   "id": "emerging-notion",
   "metadata": {
    "executionInfo": {
     "elapsed": 4655,
     "status": "ok",
     "timestamp": 1616479151188,
     "user": {
      "displayName": "ユウキハヤカワ",
      "photoUrl": "https://lh3.googleusercontent.com/a-/AOh14GjfXu9o7zmAYL24s4P8H7I0lvSgQUaSfrXi7qemvQ=s64",
      "userId": "00286900621093795459"
     },
     "user_tz": -540
    },
    "id": "7SxgGjwA5Rty"
   },
   "outputs": [],
   "source": [
    "def imports():\n",
    "    for name, val in globals().items():\n",
    "        # module imports\n",
    "        if isinstance(val, types.ModuleType):\n",
    "            yield name, val\n",
    "\n",
    "            # functions / callables\n",
    "        if hasattr(val, '__call__'):\n",
    "            yield name, val\n",
    "\n",
    "\n",
    "def noglobal(f):\n",
    "    '''\n",
    "    ref: https://gist.github.com/raven38/4e4c3c7a179283c441f575d6e375510c\n",
    "    '''\n",
    "    return types.FunctionType(f.__code__,\n",
    "                              dict(imports()),\n",
    "                              f.__name__,\n",
    "                              f.__defaults__,\n",
    "                              f.__closure__\n",
    "                              )\n",
    "\n",
    "\n",
    "def comp_metric(xhat, yhat, fhat, x, y, f):\n",
    "    intermediate = np.sqrt(np.power(xhat-x, 2) + np.power(yhat-y, 2)) + 15 * np.abs(fhat-f)\n",
    "    return intermediate.sum()/xhat.shape[0]\n",
    "\n",
    "def seed_everything(seed=42):\n",
    "    random.seed(seed)\n",
    "    os.environ['PYTHONHASHSEED'] = str(seed)\n",
    "    np.random.seed(seed)\n",
    "    torch.manual_seed(seed)\n",
    "    torch.cuda.manual_seed(seed)\n",
    "    torch.backends.cudnn.deterministic = True\n",
    "    torch.backends.cudnn.benchmark = True"
   ]
  },
  {
   "cell_type": "code",
   "execution_count": 5,
   "id": "expired-monitor",
   "metadata": {},
   "outputs": [],
   "source": [
    "@dataclass\n",
    "class ReadData:\n",
    "    acce: np.ndarray\n",
    "    acce_uncali: np.ndarray\n",
    "    gyro: np.ndarray\n",
    "    gyro_uncali: np.ndarray\n",
    "    magn: np.ndarray\n",
    "    magn_uncali: np.ndarray\n",
    "    ahrs: np.ndarray\n",
    "    wifi: np.ndarray\n",
    "    ibeacon: np.ndarray\n",
    "    waypoint: np.ndarray\n",
    "\n",
    "\n",
    "def read_data_file(data_filename):\n",
    "    acce = []\n",
    "    acce_uncali = []\n",
    "    gyro = []\n",
    "    gyro_uncali = []\n",
    "    magn = []\n",
    "    magn_uncali = []\n",
    "    ahrs = []\n",
    "    wifi = []\n",
    "    ibeacon = []\n",
    "    waypoint = []\n",
    "\n",
    "    with open(data_filename, 'r', encoding='utf-8') as file:\n",
    "        lines = file.readlines()\n",
    "\n",
    "    for line_data in lines:\n",
    "        line_data = line_data.strip()\n",
    "        if not line_data or line_data[0] == '#':\n",
    "            continue\n",
    "\n",
    "        line_data = line_data.split('\\t')\n",
    "\n",
    "        if line_data[1] == 'TYPE_ACCELEROMETER':\n",
    "            acce.append([int(line_data[0]), float(line_data[2]), float(line_data[3]), float(line_data[4])])\n",
    "            continue\n",
    "\n",
    "        if line_data[1] == 'TYPE_ACCELEROMETER_UNCALIBRATED':\n",
    "            acce_uncali.append([int(line_data[0]), float(line_data[2]), float(line_data[3]), float(line_data[4])])\n",
    "            continue\n",
    "\n",
    "        if line_data[1] == 'TYPE_GYROSCOPE':\n",
    "            gyro.append([int(line_data[0]), float(line_data[2]), float(line_data[3]), float(line_data[4])])\n",
    "            continue\n",
    "\n",
    "        if line_data[1] == 'TYPE_GYROSCOPE_UNCALIBRATED':\n",
    "            gyro_uncali.append([int(line_data[0]), float(line_data[2]), float(line_data[3]), float(line_data[4])])\n",
    "            continue\n",
    "\n",
    "        if line_data[1] == 'TYPE_MAGNETIC_FIELD':\n",
    "            magn.append([int(line_data[0]), float(line_data[2]), float(line_data[3]), float(line_data[4])])\n",
    "            continue\n",
    "\n",
    "        if line_data[1] == 'TYPE_MAGNETIC_FIELD_UNCALIBRATED':\n",
    "            magn_uncali.append([int(line_data[0]), float(line_data[2]), float(line_data[3]), float(line_data[4])])\n",
    "            continue\n",
    "\n",
    "        if line_data[1] == 'TYPE_ROTATION_VECTOR':\n",
    "            ahrs.append([int(line_data[0]), float(line_data[2]), float(line_data[3]), float(line_data[4])])\n",
    "            continue\n",
    "\n",
    "        if line_data[1] == 'TYPE_WIFI':\n",
    "            sys_ts = line_data[0]\n",
    "            ssid = line_data[2]\n",
    "            bssid = line_data[3]\n",
    "            rssi = line_data[4]\n",
    "            lastseen_ts = line_data[6]\n",
    "            wifi_data = [sys_ts, ssid, bssid, rssi, lastseen_ts]\n",
    "            wifi.append(wifi_data)\n",
    "            continue\n",
    "\n",
    "        if line_data[1] == 'TYPE_BEACON':\n",
    "            ts = line_data[0]\n",
    "            uuid = line_data[2]\n",
    "            major = line_data[3]\n",
    "            minor = line_data[4]\n",
    "            rssi = line_data[6]\n",
    "            ibeacon_data = [ts, '_'.join([uuid, major, minor]), rssi]\n",
    "            ibeacon.append(ibeacon_data)\n",
    "            continue\n",
    "\n",
    "        if line_data[1] == 'TYPE_WAYPOINT':\n",
    "            waypoint.append([int(line_data[0]), float(line_data[2]), float(line_data[3])])\n",
    "\n",
    "    acce = np.array(acce)\n",
    "    acce_uncali = np.array(acce_uncali)\n",
    "    gyro = np.array(gyro)\n",
    "    gyro_uncali = np.array(gyro_uncali)\n",
    "    magn = np.array(magn)\n",
    "    magn_uncali = np.array(magn_uncali)\n",
    "    ahrs = np.array(ahrs)\n",
    "    wifi = np.array(wifi)\n",
    "    ibeacon = np.array(ibeacon)\n",
    "    waypoint = np.array(waypoint)\n",
    "\n",
    "    return ReadData(acce, acce_uncali, gyro, gyro_uncali, magn, magn_uncali, ahrs, wifi, ibeacon, waypoint)"
   ]
  },
  {
   "cell_type": "code",
   "execution_count": 6,
   "id": "expected-cincinnati",
   "metadata": {},
   "outputs": [],
   "source": [
    "def trace_plot(site, floor):\n",
    "    # trace\n",
    "    path_trace_list = sorted(glob(f'./../data_ignore/input/train/{site}/{floor}/*'))\n",
    "\n",
    "    # json\n",
    "    path_json = f'./../data_ignore/input/metadata/{site}/{floor}/floor_info.json'\n",
    "    with open(path_json) as json_file:\n",
    "        json_data = json.load(json_file)\n",
    "    width_meter = json_data[\"map_info\"][\"width\"]\n",
    "    height_meter = json_data[\"map_info\"][\"height\"]\n",
    "\n",
    "    # show image\n",
    "    title = f'site: {site}\\nfloor: {floor}'\n",
    "    cmap = plt.get_cmap(\"tab20b\")\n",
    "    path_img = f'./../data_ignore/input/metadata/{site}/{floor}/floor_image.png'\n",
    "    fig, ax = plt.subplots(1, 1, figsize=(10, 10))\n",
    "    fig.patch.set_facecolor('white')\n",
    "    fig.suptitle(title, fontsize=18)\n",
    "    im = Image.open(path_img)\n",
    "    ax.imshow(np.asarray(im), extent=(0, width_meter, 0, height_meter))\n",
    "\n",
    "    for i_trace in range(len(path_trace_list)):\n",
    "        data = read_data_file(path_trace_list[i_trace])\n",
    "        waypoints = data.waypoint\n",
    "        x_arr = waypoints[:, 1]\n",
    "        y_arr = waypoints[:, 2]\n",
    "\n",
    "        ax.plot(x_arr, y_arr, linewidth=2, alpha=0.5)\n",
    "    return fig"
   ]
  },
  {
   "cell_type": "code",
   "execution_count": 7,
   "id": "sticky-classics",
   "metadata": {},
   "outputs": [],
   "source": [
    "def get_site_floor_fig(site, floor):\n",
    "    # json\n",
    "    path_json = f'./../data_ignore/input/metadata/{site}/{floor}/floor_info.json'\n",
    "    with open(path_json) as json_file:\n",
    "        json_data = json.load(json_file)\n",
    "    width_meter = json_data[\"map_info\"][\"width\"]\n",
    "    height_meter = json_data[\"map_info\"][\"height\"]\n",
    "    s = max(width_meter, height_meter)\n",
    "    w = round(10*width_meter/s)\n",
    "    h = round(10*height_meter/s)\n",
    "\n",
    "    # show image\n",
    "    cmap = plt.get_cmap(\"tab20b\")\n",
    "    path_img = f'./../data_ignore/input/metadata/{site}/{floor}/floor_image.png'\n",
    "    fig, ax = plt.subplots(1, 1, figsize=(w, h))\n",
    "    fig.patch.set_facecolor('white')\n",
    "    title = f'site: {site}\\nfloor: {floor}'\n",
    "    fig.suptitle(title, fontsize=18)\n",
    "    im = Image.open(path_img)\n",
    "    ax.imshow(np.asarray(im), extent=(0, width_meter, 0, height_meter))\n",
    "    return fig, ax, width_meter, height_meter\n",
    "\n",
    "\n",
    "def gaussian2D(x, y, height, cen_x, cen_y, sig):\n",
    "    return height*np.exp(-(((cen_x-x)/sig)**2 + ((cen_y-y)/sig)**2)/2.0)\n",
    "\n",
    "\n",
    "def residuals(p, x, y, z):\n",
    "    height = p[\"height\"].value\n",
    "    cen_x = p[\"centroid_x\"].value\n",
    "    cen_y = p[\"centroid_y\"].value\n",
    "    sigma = p[\"sig\"].value\n",
    "    return (z - gaussian2D(x,y,height,cen_x, cen_y, sigma))"
   ]
  },
  {
   "cell_type": "code",
   "execution_count": 8,
   "id": "brazilian-teach",
   "metadata": {},
   "outputs": [],
   "source": [
    "@noglobal\n",
    "def fitting(x_arr, y_arr, rssi_arr, n_grid, width_meter, height_meter):\n",
    "    gauss = np.zeros([n_grid, n_grid])\n",
    "    x, y = np.meshgrid(np.linspace(0, width_meter, n_grid), np.linspace(0, height_meter, n_grid))\n",
    "    c = np.exp(np.max(rssi_arr))\n",
    "    for i in range(len(x_arr)):\n",
    "        gauss += gaussian2D(x, y, 1/c*np.exp(rssi_arr[i]), x_arr[i], y_arr[i], 20)\n",
    "\n",
    "    initial = Parameters()\n",
    "    initial.add(\"height\", value=np.max(1/c*np.exp(rssi_arr)), min=0.5)\n",
    "    initial.add(\"centroid_x\", value=width_meter/2, min=0, max=width_meter)\n",
    "    initial.add(\"centroid_y\", value=height_meter/2, min=0, max=height_meter)\n",
    "    initial.add(\"sig\", value=100)\n",
    "\n",
    "    fit = Minimizer(residuals, initial, fcn_args=(x, y, gauss))\n",
    "    out = fit.leastsq()\n",
    "    best_params = [param.value for _, param in out.params.items()]   # height, centroid_x, centroid_y, sig\n",
    "    best_fit = gaussian2D(x, y, best_params[0], best_params[1], best_params[2], best_params[3])\n",
    "    return best_params, best_fit\n",
    "\n",
    "\n",
    "@noglobal\n",
    "def get_near_waypoints(df_wifi_ssid_bssid, df_waypoint, sec):\n",
    "    ts_wp = df_waypoint['timestamp'].values\n",
    "    x_arr = []\n",
    "    y_arr = []\n",
    "    rssi_arr = []\n",
    "    for idx, row in df_wifi_ssid_bssid.iterrows():\n",
    "        lastseen_ts = row.lastseen_ts\n",
    "        rssi = row['rssi']\n",
    "        logics = (lastseen_ts/1000.0 - sec <= ts_wp/1000.0) & (ts_wp/1000.0 < lastseen_ts/1000.0 + sec)\n",
    "        if np.sum(logics) != 0:\n",
    "            _x_arr = df_waypoint[logics].x\n",
    "            _y_arr = df_waypoint[logics].y\n",
    "            _rssi_arr = [rssi]*len(_x_arr)\n",
    "            x_arr = x_arr + _x_arr.tolist()\n",
    "            y_arr = y_arr + _y_arr.tolist()\n",
    "            rssi_arr = rssi_arr + _rssi_arr\n",
    "\n",
    "    df = pd.DataFrame({'x': x_arr, 'y': y_arr, 'rssi': rssi_arr})\n",
    "    df = df.groupby(['x', 'y']).mean().reset_index()\n",
    "    x_arr = df.x.values\n",
    "    y_arr = df.y.values\n",
    "    rssi_arr = df.rssi.values\n",
    "    return x_arr, y_arr, rssi_arr"
   ]
  },
  {
   "cell_type": "markdown",
   "id": "returning-trading",
   "metadata": {},
   "source": [
    "# Preparation"
   ]
  },
  {
   "cell_type": "markdown",
   "id": "thermal-martial",
   "metadata": {},
   "source": [
    "<br>\n",
    "\n",
    "set"
   ]
  },
  {
   "cell_type": "code",
   "execution_count": 9,
   "id": "continental-difficulty",
   "metadata": {},
   "outputs": [],
   "source": [
    "pd.set_option('display.max_rows', 500)\n",
    "\n",
    "if not os.path.exists(DIR_SAVE_IGNORE):\n",
    "    os.makedirs(DIR_SAVE_IGNORE)\n",
    "if not os.path.exists(DIR_SAVE):\n",
    "    os.makedirs(DIR_SAVE)"
   ]
  },
  {
   "cell_type": "markdown",
   "id": "accepted-shopping",
   "metadata": {},
   "source": [
    "<br>\n",
    "\n",
    "load dataset"
   ]
  },
  {
   "cell_type": "code",
   "execution_count": 10,
   "id": "egyptian-silence",
   "metadata": {},
   "outputs": [],
   "source": [
    "sample_submission = pd.read_csv(PATH_SUB)"
   ]
  },
  {
   "cell_type": "markdown",
   "id": "official-lesson",
   "metadata": {},
   "source": [
    "# Save wifi waypoint"
   ]
  },
  {
   "cell_type": "code",
   "execution_count": 11,
   "id": "approved-bernard",
   "metadata": {},
   "outputs": [],
   "source": [
    "n_grid = 100\n",
    "sec = 5"
   ]
  },
  {
   "cell_type": "code",
   "execution_count": 61,
   "id": "adjustable-blake",
   "metadata": {},
   "outputs": [
    {
     "name": "stdout",
     "output_type": "stream",
     "text": [
      "5a0546857ecc773753327266-[B1] start at Fri Apr  2 15:04:09 2021\n"
     ]
    },
    {
     "data": {
      "text/html": [],
      "text/plain": [
       "<IPython.core.display.HTML object>"
      ]
     },
     "metadata": {},
     "output_type": "display_data"
    },
    {
     "name": "stdout",
     "output_type": "stream",
     "text": [
      "5a0546857ecc773753327266-[F1] start at Fri Apr  2 15:05:03 2021\n"
     ]
    },
    {
     "data": {
      "text/html": [],
      "text/plain": [
       "<IPython.core.display.HTML object>"
      ]
     },
     "metadata": {},
     "output_type": "display_data"
    },
    {
     "name": "stdout",
     "output_type": "stream",
     "text": [
      "5a0546857ecc773753327266-[F2] start at Fri Apr  2 15:06:51 2021\n"
     ]
    },
    {
     "data": {
      "text/html": [],
      "text/plain": [
       "<IPython.core.display.HTML object>"
      ]
     },
     "metadata": {},
     "output_type": "display_data"
    },
    {
     "name": "stdout",
     "output_type": "stream",
     "text": [
      "5a0546857ecc773753327266-[F3] start at Fri Apr  2 15:09:08 2021\n"
     ]
    },
    {
     "data": {
      "text/html": [],
      "text/plain": [
       "<IPython.core.display.HTML object>"
      ]
     },
     "metadata": {},
     "output_type": "display_data"
    },
    {
     "name": "stdout",
     "output_type": "stream",
     "text": [
      "5a0546857ecc773753327266-[F4] start at Fri Apr  2 15:10:11 2021\n"
     ]
    },
    {
     "data": {
      "text/html": [],
      "text/plain": [
       "<IPython.core.display.HTML object>"
      ]
     },
     "metadata": {},
     "output_type": "display_data"
    },
    {
     "name": "stdout",
     "output_type": "stream",
     "text": [
      "5c3c44b80379370013e0fd2b-[B1] start at Fri Apr  2 15:11:46 2021\n"
     ]
    },
    {
     "data": {
      "text/html": [],
      "text/plain": [
       "<IPython.core.display.HTML object>"
      ]
     },
     "metadata": {},
     "output_type": "display_data"
    },
    {
     "name": "stdout",
     "output_type": "stream",
     "text": [
      "5c3c44b80379370013e0fd2b-[F1] start at Fri Apr  2 15:13:19 2021\n"
     ]
    },
    {
     "data": {
      "text/html": [],
      "text/plain": [
       "<IPython.core.display.HTML object>"
      ]
     },
     "metadata": {},
     "output_type": "display_data"
    },
    {
     "name": "stdout",
     "output_type": "stream",
     "text": [
      "5c3c44b80379370013e0fd2b-[F2] start at Fri Apr  2 15:15:03 2021\n"
     ]
    },
    {
     "data": {
      "text/html": [],
      "text/plain": [
       "<IPython.core.display.HTML object>"
      ]
     },
     "metadata": {},
     "output_type": "display_data"
    },
    {
     "name": "stdout",
     "output_type": "stream",
     "text": [
      "5c3c44b80379370013e0fd2b-[F3] start at Fri Apr  2 15:17:09 2021\n"
     ]
    },
    {
     "data": {
      "text/html": [],
      "text/plain": [
       "<IPython.core.display.HTML object>"
      ]
     },
     "metadata": {},
     "output_type": "display_data"
    },
    {
     "name": "stdout",
     "output_type": "stream",
     "text": [
      "5c3c44b80379370013e0fd2b-[F4] start at Fri Apr  2 15:18:10 2021\n"
     ]
    },
    {
     "data": {
      "text/html": [],
      "text/plain": [
       "<IPython.core.display.HTML object>"
      ]
     },
     "metadata": {},
     "output_type": "display_data"
    },
    {
     "name": "stdout",
     "output_type": "stream",
     "text": [
      "5c3c44b80379370013e0fd2b-[F5] start at Fri Apr  2 15:18:51 2021\n"
     ]
    },
    {
     "data": {
      "text/html": [],
      "text/plain": [
       "<IPython.core.display.HTML object>"
      ]
     },
     "metadata": {},
     "output_type": "display_data"
    },
    {
     "name": "stdout",
     "output_type": "stream",
     "text": [
      "5d27075f03f801723c2e360f-[B1] start at Fri Apr  2 15:19:14 2021\n"
     ]
    },
    {
     "data": {
      "text/html": [],
      "text/plain": [
       "<IPython.core.display.HTML object>"
      ]
     },
     "metadata": {},
     "output_type": "display_data"
    },
    {
     "name": "stdout",
     "output_type": "stream",
     "text": [
      "5d27075f03f801723c2e360f-[F1] start at Fri Apr  2 15:20:39 2021\n"
     ]
    },
    {
     "data": {
      "text/html": [],
      "text/plain": [
       "<IPython.core.display.HTML object>"
      ]
     },
     "metadata": {},
     "output_type": "display_data"
    },
    {
     "name": "stdout",
     "output_type": "stream",
     "text": [
      "5d27075f03f801723c2e360f-[F2] start at Fri Apr  2 15:27:02 2021\n"
     ]
    },
    {
     "data": {
      "text/html": [],
      "text/plain": [
       "<IPython.core.display.HTML object>"
      ]
     },
     "metadata": {},
     "output_type": "display_data"
    },
    {
     "name": "stdout",
     "output_type": "stream",
     "text": [
      "5d27075f03f801723c2e360f-[F3] start at Fri Apr  2 15:31:44 2021\n"
     ]
    },
    {
     "data": {
      "text/html": [],
      "text/plain": [
       "<IPython.core.display.HTML object>"
      ]
     },
     "metadata": {},
     "output_type": "display_data"
    },
    {
     "name": "stdout",
     "output_type": "stream",
     "text": [
      "5d27075f03f801723c2e360f-[F4] start at Fri Apr  2 15:35:36 2021\n"
     ]
    },
    {
     "data": {
      "text/html": [],
      "text/plain": [
       "<IPython.core.display.HTML object>"
      ]
     },
     "metadata": {},
     "output_type": "display_data"
    },
    {
     "name": "stdout",
     "output_type": "stream",
     "text": [
      "5d27075f03f801723c2e360f-[F5] start at Fri Apr  2 15:38:40 2021\n"
     ]
    },
    {
     "data": {
      "text/html": [],
      "text/plain": [
       "<IPython.core.display.HTML object>"
      ]
     },
     "metadata": {},
     "output_type": "display_data"
    },
    {
     "name": "stdout",
     "output_type": "stream",
     "text": [
      "5d27075f03f801723c2e360f-[F6] start at Fri Apr  2 15:38:50 2021\n"
     ]
    },
    {
     "data": {
      "text/html": [],
      "text/plain": [
       "<IPython.core.display.HTML object>"
      ]
     },
     "metadata": {},
     "output_type": "display_data"
    },
    {
     "name": "stdout",
     "output_type": "stream",
     "text": [
      "5d27075f03f801723c2e360f-[F7] start at Fri Apr  2 15:38:53 2021\n"
     ]
    },
    {
     "data": {
      "text/html": [],
      "text/plain": [
       "<IPython.core.display.HTML object>"
      ]
     },
     "metadata": {},
     "output_type": "display_data"
    },
    {
     "name": "stdout",
     "output_type": "stream",
     "text": [
      "5d27096c03f801723c31e5e0-[B1] start at Fri Apr  2 15:38:57 2021\n"
     ]
    },
    {
     "data": {
      "text/html": [],
      "text/plain": [
       "<IPython.core.display.HTML object>"
      ]
     },
     "metadata": {},
     "output_type": "display_data"
    },
    {
     "name": "stdout",
     "output_type": "stream",
     "text": [
      "5d27096c03f801723c31e5e0-[F1] start at Fri Apr  2 15:39:13 2021\n"
     ]
    },
    {
     "data": {
      "text/html": [],
      "text/plain": [
       "<IPython.core.display.HTML object>"
      ]
     },
     "metadata": {},
     "output_type": "display_data"
    },
    {
     "name": "stdout",
     "output_type": "stream",
     "text": [
      "5d27096c03f801723c31e5e0-[F2] start at Fri Apr  2 15:39:44 2021\n"
     ]
    },
    {
     "data": {
      "text/html": [],
      "text/plain": [
       "<IPython.core.display.HTML object>"
      ]
     },
     "metadata": {},
     "output_type": "display_data"
    },
    {
     "name": "stdout",
     "output_type": "stream",
     "text": [
      "5d27096c03f801723c31e5e0-[F3] start at Fri Apr  2 15:40:11 2021\n"
     ]
    },
    {
     "data": {
      "text/html": [],
      "text/plain": [
       "<IPython.core.display.HTML object>"
      ]
     },
     "metadata": {},
     "output_type": "display_data"
    },
    {
     "name": "stdout",
     "output_type": "stream",
     "text": [
      "5d27096c03f801723c31e5e0-[F4] start at Fri Apr  2 15:40:28 2021\n"
     ]
    },
    {
     "data": {
      "text/html": [],
      "text/plain": [
       "<IPython.core.display.HTML object>"
      ]
     },
     "metadata": {},
     "output_type": "display_data"
    },
    {
     "name": "stdout",
     "output_type": "stream",
     "text": [
      "5d27096c03f801723c31e5e0-[F5] start at Fri Apr  2 15:40:49 2021\n"
     ]
    },
    {
     "data": {
      "text/html": [],
      "text/plain": [
       "<IPython.core.display.HTML object>"
      ]
     },
     "metadata": {},
     "output_type": "display_data"
    },
    {
     "name": "stdout",
     "output_type": "stream",
     "text": [
      "5d27096c03f801723c31e5e0-[F6] start at Fri Apr  2 15:41:09 2021\n"
     ]
    },
    {
     "data": {
      "text/html": [],
      "text/plain": [
       "<IPython.core.display.HTML object>"
      ]
     },
     "metadata": {},
     "output_type": "display_data"
    },
    {
     "name": "stdout",
     "output_type": "stream",
     "text": [
      "5d27097f03f801723c320d97-[B1] start at Fri Apr  2 15:41:48 2021\n"
     ]
    },
    {
     "data": {
      "text/html": [],
      "text/plain": [
       "<IPython.core.display.HTML object>"
      ]
     },
     "metadata": {},
     "output_type": "display_data"
    },
    {
     "name": "stdout",
     "output_type": "stream",
     "text": [
      "5d27097f03f801723c320d97-[B2] start at Fri Apr  2 15:42:00 2021\n"
     ]
    },
    {
     "data": {
      "text/html": [],
      "text/plain": [
       "<IPython.core.display.HTML object>"
      ]
     },
     "metadata": {},
     "output_type": "display_data"
    },
    {
     "name": "stdout",
     "output_type": "stream",
     "text": [
      "5d27097f03f801723c320d97-[F1] start at Fri Apr  2 15:42:09 2021\n"
     ]
    },
    {
     "data": {
      "text/html": [],
      "text/plain": [
       "<IPython.core.display.HTML object>"
      ]
     },
     "metadata": {},
     "output_type": "display_data"
    },
    {
     "name": "stdout",
     "output_type": "stream",
     "text": [
      "5d27097f03f801723c320d97-[F2] start at Fri Apr  2 15:42:24 2021\n"
     ]
    },
    {
     "data": {
      "text/html": [],
      "text/plain": [
       "<IPython.core.display.HTML object>"
      ]
     },
     "metadata": {},
     "output_type": "display_data"
    },
    {
     "name": "stdout",
     "output_type": "stream",
     "text": [
      "5d27097f03f801723c320d97-[F3] start at Fri Apr  2 15:43:14 2021\n"
     ]
    },
    {
     "data": {
      "text/html": [],
      "text/plain": [
       "<IPython.core.display.HTML object>"
      ]
     },
     "metadata": {},
     "output_type": "display_data"
    },
    {
     "name": "stdout",
     "output_type": "stream",
     "text": [
      "5d27097f03f801723c320d97-[F4] start at Fri Apr  2 15:43:57 2021\n"
     ]
    },
    {
     "data": {
      "text/html": [],
      "text/plain": [
       "<IPython.core.display.HTML object>"
      ]
     },
     "metadata": {},
     "output_type": "display_data"
    },
    {
     "name": "stdout",
     "output_type": "stream",
     "text": [
      "5d27097f03f801723c320d97-[F5] start at Fri Apr  2 15:44:29 2021\n"
     ]
    },
    {
     "data": {
      "text/html": [],
      "text/plain": [
       "<IPython.core.display.HTML object>"
      ]
     },
     "metadata": {},
     "output_type": "display_data"
    },
    {
     "name": "stdout",
     "output_type": "stream",
     "text": [
      "5d27099f03f801723c32511d-[B1] start at Fri Apr  2 15:45:08 2021\n"
     ]
    },
    {
     "data": {
      "text/html": [],
      "text/plain": [
       "<IPython.core.display.HTML object>"
      ]
     },
     "metadata": {},
     "output_type": "display_data"
    },
    {
     "name": "stdout",
     "output_type": "stream",
     "text": [
      "5d27099f03f801723c32511d-[F1] start at Fri Apr  2 15:45:17 2021\n"
     ]
    },
    {
     "data": {
      "text/html": [],
      "text/plain": [
       "<IPython.core.display.HTML object>"
      ]
     },
     "metadata": {},
     "output_type": "display_data"
    },
    {
     "name": "stdout",
     "output_type": "stream",
     "text": [
      "5d27099f03f801723c32511d-[F2] start at Fri Apr  2 15:45:35 2021\n"
     ]
    },
    {
     "data": {
      "text/html": [],
      "text/plain": [
       "<IPython.core.display.HTML object>"
      ]
     },
     "metadata": {},
     "output_type": "display_data"
    },
    {
     "name": "stdout",
     "output_type": "stream",
     "text": [
      "5d27099f03f801723c32511d-[F3] start at Fri Apr  2 15:46:18 2021\n"
     ]
    },
    {
     "data": {
      "text/html": [],
      "text/plain": [
       "<IPython.core.display.HTML object>"
      ]
     },
     "metadata": {},
     "output_type": "display_data"
    },
    {
     "name": "stdout",
     "output_type": "stream",
     "text": [
      "5d27099f03f801723c32511d-[F4] start at Fri Apr  2 15:46:31 2021\n"
     ]
    },
    {
     "data": {
      "text/html": [],
      "text/plain": [
       "<IPython.core.display.HTML object>"
      ]
     },
     "metadata": {},
     "output_type": "display_data"
    },
    {
     "name": "stdout",
     "output_type": "stream",
     "text": [
      "5d2709a003f801723c3251bf-[1F] start at Fri Apr  2 15:46:39 2021\n"
     ]
    },
    {
     "data": {
      "text/html": [],
      "text/plain": [
       "<IPython.core.display.HTML object>"
      ]
     },
     "metadata": {},
     "output_type": "display_data"
    },
    {
     "name": "stdout",
     "output_type": "stream",
     "text": [
      "5d2709a003f801723c3251bf-[2F] start at Fri Apr  2 15:47:12 2021\n"
     ]
    },
    {
     "data": {
      "text/html": [],
      "text/plain": [
       "<IPython.core.display.HTML object>"
      ]
     },
     "metadata": {},
     "output_type": "display_data"
    },
    {
     "name": "stdout",
     "output_type": "stream",
     "text": [
      "5d2709a003f801723c3251bf-[3F] start at Fri Apr  2 15:47:38 2021\n"
     ]
    },
    {
     "data": {
      "text/html": [],
      "text/plain": [
       "<IPython.core.display.HTML object>"
      ]
     },
     "metadata": {},
     "output_type": "display_data"
    },
    {
     "name": "stdout",
     "output_type": "stream",
     "text": [
      "5d2709a003f801723c3251bf-[4F] start at Fri Apr  2 15:47:46 2021\n"
     ]
    },
    {
     "data": {
      "text/html": [],
      "text/plain": [
       "<IPython.core.display.HTML object>"
      ]
     },
     "metadata": {},
     "output_type": "display_data"
    },
    {
     "name": "stdout",
     "output_type": "stream",
     "text": [
      "5d2709b303f801723c327472-[1F] start at Fri Apr  2 15:48:02 2021\n"
     ]
    },
    {
     "data": {
      "text/html": [],
      "text/plain": [
       "<IPython.core.display.HTML object>"
      ]
     },
     "metadata": {},
     "output_type": "display_data"
    },
    {
     "name": "stdout",
     "output_type": "stream",
     "text": [
      "5d2709b303f801723c327472-[2F] start at Fri Apr  2 15:50:51 2021\n"
     ]
    },
    {
     "data": {
      "text/html": [],
      "text/plain": [
       "<IPython.core.display.HTML object>"
      ]
     },
     "metadata": {},
     "output_type": "display_data"
    },
    {
     "name": "stdout",
     "output_type": "stream",
     "text": [
      "5d2709b303f801723c327472-[3F] start at Fri Apr  2 15:52:00 2021\n"
     ]
    },
    {
     "data": {
      "text/html": [],
      "text/plain": [
       "<IPython.core.display.HTML object>"
      ]
     },
     "metadata": {},
     "output_type": "display_data"
    },
    {
     "name": "stdout",
     "output_type": "stream",
     "text": [
      "5d2709b303f801723c327472-[4F] start at Fri Apr  2 15:52:54 2021\n"
     ]
    },
    {
     "data": {
      "text/html": [],
      "text/plain": [
       "<IPython.core.display.HTML object>"
      ]
     },
     "metadata": {},
     "output_type": "display_data"
    },
    {
     "name": "stdout",
     "output_type": "stream",
     "text": [
      "5d2709b303f801723c327472-[B1] start at Fri Apr  2 15:53:47 2021\n"
     ]
    },
    {
     "data": {
      "text/html": [],
      "text/plain": [
       "<IPython.core.display.HTML object>"
      ]
     },
     "metadata": {},
     "output_type": "display_data"
    },
    {
     "name": "stdout",
     "output_type": "stream",
     "text": [
      "5d2709bb03f801723c32852c-[B1] start at Fri Apr  2 15:53:54 2021\n"
     ]
    },
    {
     "data": {
      "text/html": [],
      "text/plain": [
       "<IPython.core.display.HTML object>"
      ]
     },
     "metadata": {},
     "output_type": "display_data"
    },
    {
     "name": "stdout",
     "output_type": "stream",
     "text": [
      "5d2709bb03f801723c32852c-[F1] start at Fri Apr  2 15:54:26 2021\n"
     ]
    },
    {
     "data": {
      "text/html": [],
      "text/plain": [
       "<IPython.core.display.HTML object>"
      ]
     },
     "metadata": {},
     "output_type": "display_data"
    },
    {
     "name": "stdout",
     "output_type": "stream",
     "text": [
      "5d2709bb03f801723c32852c-[F2] start at Fri Apr  2 15:57:10 2021\n"
     ]
    },
    {
     "data": {
      "text/html": [],
      "text/plain": [
       "<IPython.core.display.HTML object>"
      ]
     },
     "metadata": {},
     "output_type": "display_data"
    },
    {
     "name": "stdout",
     "output_type": "stream",
     "text": [
      "5d2709bb03f801723c32852c-[F3] start at Fri Apr  2 15:58:40 2021\n"
     ]
    },
    {
     "data": {
      "text/html": [],
      "text/plain": [
       "<IPython.core.display.HTML object>"
      ]
     },
     "metadata": {},
     "output_type": "display_data"
    },
    {
     "name": "stdout",
     "output_type": "stream",
     "text": [
      "5d2709bb03f801723c32852c-[F4] start at Fri Apr  2 15:59:41 2021\n"
     ]
    },
    {
     "data": {
      "text/html": [],
      "text/plain": [
       "<IPython.core.display.HTML object>"
      ]
     },
     "metadata": {},
     "output_type": "display_data"
    },
    {
     "name": "stdout",
     "output_type": "stream",
     "text": [
      "5d2709c303f801723c3299ee-[1F] start at Fri Apr  2 16:00:30 2021\n"
     ]
    },
    {
     "data": {
      "text/html": [],
      "text/plain": [
       "<IPython.core.display.HTML object>"
      ]
     },
     "metadata": {},
     "output_type": "display_data"
    },
    {
     "name": "stdout",
     "output_type": "stream",
     "text": [
      "5d2709c303f801723c3299ee-[2F] start at Fri Apr  2 16:01:52 2021\n"
     ]
    },
    {
     "data": {
      "text/html": [],
      "text/plain": [
       "<IPython.core.display.HTML object>"
      ]
     },
     "metadata": {},
     "output_type": "display_data"
    },
    {
     "name": "stdout",
     "output_type": "stream",
     "text": [
      "5d2709c303f801723c3299ee-[3F] start at Fri Apr  2 16:03:11 2021\n"
     ]
    },
    {
     "data": {
      "text/html": [],
      "text/plain": [
       "<IPython.core.display.HTML object>"
      ]
     },
     "metadata": {},
     "output_type": "display_data"
    },
    {
     "name": "stdout",
     "output_type": "stream",
     "text": [
      "5d2709c303f801723c3299ee-[4F] start at Fri Apr  2 16:04:36 2021\n"
     ]
    },
    {
     "data": {
      "text/html": [],
      "text/plain": [
       "<IPython.core.display.HTML object>"
      ]
     },
     "metadata": {},
     "output_type": "display_data"
    },
    {
     "name": "stdout",
     "output_type": "stream",
     "text": [
      "5d2709c303f801723c3299ee-[5F] start at Fri Apr  2 16:05:59 2021\n"
     ]
    },
    {
     "data": {
      "text/html": [],
      "text/plain": [
       "<IPython.core.display.HTML object>"
      ]
     },
     "metadata": {},
     "output_type": "display_data"
    },
    {
     "name": "stdout",
     "output_type": "stream",
     "text": [
      "5d2709c303f801723c3299ee-[6F] start at Fri Apr  2 16:07:07 2021\n"
     ]
    },
    {
     "data": {
      "text/html": [],
      "text/plain": [
       "<IPython.core.display.HTML object>"
      ]
     },
     "metadata": {},
     "output_type": "display_data"
    },
    {
     "name": "stdout",
     "output_type": "stream",
     "text": [
      "5d2709c303f801723c3299ee-[7F] start at Fri Apr  2 16:07:55 2021\n"
     ]
    },
    {
     "data": {
      "text/html": [],
      "text/plain": [
       "<IPython.core.display.HTML object>"
      ]
     },
     "metadata": {},
     "output_type": "display_data"
    },
    {
     "name": "stdout",
     "output_type": "stream",
     "text": [
      "5d2709c303f801723c3299ee-[8F] start at Fri Apr  2 16:08:36 2021\n"
     ]
    },
    {
     "data": {
      "text/html": [],
      "text/plain": [
       "<IPython.core.display.HTML object>"
      ]
     },
     "metadata": {},
     "output_type": "display_data"
    },
    {
     "name": "stdout",
     "output_type": "stream",
     "text": [
      "5d2709c303f801723c3299ee-[9F] start at Fri Apr  2 16:08:55 2021\n"
     ]
    },
    {
     "data": {
      "text/html": [],
      "text/plain": [
       "<IPython.core.display.HTML object>"
      ]
     },
     "metadata": {},
     "output_type": "display_data"
    },
    {
     "name": "stdout",
     "output_type": "stream",
     "text": [
      "5d2709c303f801723c3299ee-[B1] start at Fri Apr  2 16:09:27 2021\n"
     ]
    },
    {
     "data": {
      "text/html": [],
      "text/plain": [
       "<IPython.core.display.HTML object>"
      ]
     },
     "metadata": {},
     "output_type": "display_data"
    },
    {
     "name": "stdout",
     "output_type": "stream",
     "text": [
      "5d2709d403f801723c32bd39-[1F] start at Fri Apr  2 16:09:45 2021\n"
     ]
    },
    {
     "data": {
      "text/html": [],
      "text/plain": [
       "<IPython.core.display.HTML object>"
      ]
     },
     "metadata": {},
     "output_type": "display_data"
    },
    {
     "name": "stdout",
     "output_type": "stream",
     "text": [
      "5d2709d403f801723c32bd39-[2F] start at Fri Apr  2 16:10:39 2021\n"
     ]
    },
    {
     "data": {
      "text/html": [],
      "text/plain": [
       "<IPython.core.display.HTML object>"
      ]
     },
     "metadata": {},
     "output_type": "display_data"
    },
    {
     "name": "stdout",
     "output_type": "stream",
     "text": [
      "5d2709d403f801723c32bd39-[3F] start at Fri Apr  2 16:11:24 2021\n"
     ]
    },
    {
     "data": {
      "text/html": [],
      "text/plain": [
       "<IPython.core.display.HTML object>"
      ]
     },
     "metadata": {},
     "output_type": "display_data"
    },
    {
     "name": "stdout",
     "output_type": "stream",
     "text": [
      "5d2709d403f801723c32bd39-[B1] start at Fri Apr  2 16:11:31 2021\n"
     ]
    },
    {
     "data": {
      "text/html": [],
      "text/plain": [
       "<IPython.core.display.HTML object>"
      ]
     },
     "metadata": {},
     "output_type": "display_data"
    },
    {
     "name": "stdout",
     "output_type": "stream",
     "text": [
      "5d2709e003f801723c32d896-[B1] start at Fri Apr  2 16:12:25 2021\n"
     ]
    },
    {
     "data": {
      "text/html": [],
      "text/plain": [
       "<IPython.core.display.HTML object>"
      ]
     },
     "metadata": {},
     "output_type": "display_data"
    },
    {
     "name": "stdout",
     "output_type": "stream",
     "text": [
      "5d2709e003f801723c32d896-[F1] start at Fri Apr  2 16:12:53 2021\n"
     ]
    },
    {
     "data": {
      "text/html": [],
      "text/plain": [
       "<IPython.core.display.HTML object>"
      ]
     },
     "metadata": {},
     "output_type": "display_data"
    },
    {
     "name": "stdout",
     "output_type": "stream",
     "text": [
      "5d2709e003f801723c32d896-[F2] start at Fri Apr  2 16:13:25 2021\n"
     ]
    },
    {
     "data": {
      "text/html": [],
      "text/plain": [
       "<IPython.core.display.HTML object>"
      ]
     },
     "metadata": {},
     "output_type": "display_data"
    },
    {
     "name": "stdout",
     "output_type": "stream",
     "text": [
      "5d2709e003f801723c32d896-[F3] start at Fri Apr  2 16:13:51 2021\n"
     ]
    },
    {
     "data": {
      "text/html": [],
      "text/plain": [
       "<IPython.core.display.HTML object>"
      ]
     },
     "metadata": {},
     "output_type": "display_data"
    },
    {
     "name": "stdout",
     "output_type": "stream",
     "text": [
      "5d2709e003f801723c32d896-[F4] start at Fri Apr  2 16:14:23 2021\n"
     ]
    },
    {
     "data": {
      "text/html": [],
      "text/plain": [
       "<IPython.core.display.HTML object>"
      ]
     },
     "metadata": {},
     "output_type": "display_data"
    },
    {
     "name": "stdout",
     "output_type": "stream",
     "text": [
      "5d2709e003f801723c32d896-[F5] start at Fri Apr  2 16:14:44 2021\n"
     ]
    },
    {
     "data": {
      "text/html": [],
      "text/plain": [
       "<IPython.core.display.HTML object>"
      ]
     },
     "metadata": {},
     "output_type": "display_data"
    },
    {
     "name": "stdout",
     "output_type": "stream",
     "text": [
      "5da138274db8ce0c98bbd3d2-[F1] start at Fri Apr  2 16:15:01 2021\n"
     ]
    },
    {
     "data": {
      "text/html": [],
      "text/plain": [
       "<IPython.core.display.HTML object>"
      ]
     },
     "metadata": {},
     "output_type": "display_data"
    },
    {
     "name": "stdout",
     "output_type": "stream",
     "text": [
      "5da138274db8ce0c98bbd3d2-[F2] start at Fri Apr  2 16:15:12 2021\n"
     ]
    },
    {
     "data": {
      "text/html": [],
      "text/plain": [
       "<IPython.core.display.HTML object>"
      ]
     },
     "metadata": {},
     "output_type": "display_data"
    },
    {
     "name": "stdout",
     "output_type": "stream",
     "text": [
      "5da138274db8ce0c98bbd3d2-[F3] start at Fri Apr  2 16:15:24 2021\n"
     ]
    },
    {
     "data": {
      "text/html": [],
      "text/plain": [
       "<IPython.core.display.HTML object>"
      ]
     },
     "metadata": {},
     "output_type": "display_data"
    },
    {
     "name": "stdout",
     "output_type": "stream",
     "text": [
      "5da1382d4db8ce0c98bbe92e-[B1] start at Fri Apr  2 16:15:33 2021\n"
     ]
    },
    {
     "data": {
      "text/html": [],
      "text/plain": [
       "<IPython.core.display.HTML object>"
      ]
     },
     "metadata": {},
     "output_type": "display_data"
    },
    {
     "name": "stdout",
     "output_type": "stream",
     "text": [
      "5da1382d4db8ce0c98bbe92e-[F1] start at Fri Apr  2 16:16:56 2021\n"
     ]
    },
    {
     "data": {
      "text/html": [],
      "text/plain": [
       "<IPython.core.display.HTML object>"
      ]
     },
     "metadata": {},
     "output_type": "display_data"
    },
    {
     "name": "stdout",
     "output_type": "stream",
     "text": [
      "5da1382d4db8ce0c98bbe92e-[F2] start at Fri Apr  2 16:19:23 2021\n"
     ]
    },
    {
     "data": {
      "text/html": [],
      "text/plain": [
       "<IPython.core.display.HTML object>"
      ]
     },
     "metadata": {},
     "output_type": "display_data"
    },
    {
     "name": "stdout",
     "output_type": "stream",
     "text": [
      "5da1382d4db8ce0c98bbe92e-[F3] start at Fri Apr  2 16:20:51 2021\n"
     ]
    },
    {
     "data": {
      "text/html": [],
      "text/plain": [
       "<IPython.core.display.HTML object>"
      ]
     },
     "metadata": {},
     "output_type": "display_data"
    },
    {
     "name": "stdout",
     "output_type": "stream",
     "text": [
      "5da1382d4db8ce0c98bbe92e-[F4] start at Fri Apr  2 16:22:03 2021\n"
     ]
    },
    {
     "data": {
      "text/html": [],
      "text/plain": [
       "<IPython.core.display.HTML object>"
      ]
     },
     "metadata": {},
     "output_type": "display_data"
    },
    {
     "name": "stdout",
     "output_type": "stream",
     "text": [
      "5da1382d4db8ce0c98bbe92e-[F5] start at Fri Apr  2 16:23:22 2021\n"
     ]
    },
    {
     "data": {
      "text/html": [],
      "text/plain": [
       "<IPython.core.display.HTML object>"
      ]
     },
     "metadata": {},
     "output_type": "display_data"
    },
    {
     "name": "stdout",
     "output_type": "stream",
     "text": [
      "5da138314db8ce0c98bbf3a0-[B1] start at Fri Apr  2 16:24:26 2021\n"
     ]
    },
    {
     "data": {
      "text/html": [],
      "text/plain": [
       "<IPython.core.display.HTML object>"
      ]
     },
     "metadata": {},
     "output_type": "display_data"
    },
    {
     "name": "stdout",
     "output_type": "stream",
     "text": [
      "5da138314db8ce0c98bbf3a0-[B2] start at Fri Apr  2 16:25:49 2021\n"
     ]
    },
    {
     "data": {
      "text/html": [],
      "text/plain": [
       "<IPython.core.display.HTML object>"
      ]
     },
     "metadata": {},
     "output_type": "display_data"
    },
    {
     "name": "stdout",
     "output_type": "stream",
     "text": [
      "5da138314db8ce0c98bbf3a0-[F1] start at Fri Apr  2 16:26:01 2021\n"
     ]
    },
    {
     "data": {
      "text/html": [],
      "text/plain": [
       "<IPython.core.display.HTML object>"
      ]
     },
     "metadata": {},
     "output_type": "display_data"
    },
    {
     "name": "stdout",
     "output_type": "stream",
     "text": [
      "5da138314db8ce0c98bbf3a0-[F2] start at Fri Apr  2 16:27:08 2021\n"
     ]
    },
    {
     "data": {
      "text/html": [],
      "text/plain": [
       "<IPython.core.display.HTML object>"
      ]
     },
     "metadata": {},
     "output_type": "display_data"
    },
    {
     "name": "stdout",
     "output_type": "stream",
     "text": [
      "5da138314db8ce0c98bbf3a0-[F3] start at Fri Apr  2 16:27:37 2021\n"
     ]
    },
    {
     "data": {
      "text/html": [],
      "text/plain": [
       "<IPython.core.display.HTML object>"
      ]
     },
     "metadata": {},
     "output_type": "display_data"
    },
    {
     "name": "stdout",
     "output_type": "stream",
     "text": [
      "5da138364db8ce0c98bc00f1-[F1] start at Fri Apr  2 16:28:17 2021\n"
     ]
    },
    {
     "data": {
      "text/html": [],
      "text/plain": [
       "<IPython.core.display.HTML object>"
      ]
     },
     "metadata": {},
     "output_type": "display_data"
    },
    {
     "name": "stdout",
     "output_type": "stream",
     "text": [
      "5da138364db8ce0c98bc00f1-[F2] start at Fri Apr  2 16:28:34 2021\n"
     ]
    },
    {
     "data": {
      "text/html": [],
      "text/plain": [
       "<IPython.core.display.HTML object>"
      ]
     },
     "metadata": {},
     "output_type": "display_data"
    },
    {
     "name": "stdout",
     "output_type": "stream",
     "text": [
      "5da138364db8ce0c98bc00f1-[F3] start at Fri Apr  2 16:28:45 2021\n"
     ]
    },
    {
     "data": {
      "text/html": [],
      "text/plain": [
       "<IPython.core.display.HTML object>"
      ]
     },
     "metadata": {},
     "output_type": "display_data"
    },
    {
     "name": "stdout",
     "output_type": "stream",
     "text": [
      "5da1383b4db8ce0c98bc11ab-[F1] start at Fri Apr  2 16:28:57 2021\n"
     ]
    },
    {
     "data": {
      "text/html": [],
      "text/plain": [
       "<IPython.core.display.HTML object>"
      ]
     },
     "metadata": {},
     "output_type": "display_data"
    },
    {
     "name": "stdout",
     "output_type": "stream",
     "text": [
      "5da1383b4db8ce0c98bc11ab-[F2] start at Fri Apr  2 16:30:54 2021\n"
     ]
    },
    {
     "data": {
      "text/html": [],
      "text/plain": [
       "<IPython.core.display.HTML object>"
      ]
     },
     "metadata": {},
     "output_type": "display_data"
    },
    {
     "name": "stdout",
     "output_type": "stream",
     "text": [
      "5da1383b4db8ce0c98bc11ab-[F3] start at Fri Apr  2 16:32:18 2021\n"
     ]
    },
    {
     "data": {
      "text/html": [],
      "text/plain": [
       "<IPython.core.display.HTML object>"
      ]
     },
     "metadata": {},
     "output_type": "display_data"
    },
    {
     "name": "stdout",
     "output_type": "stream",
     "text": [
      "5da138754db8ce0c98bca82f-[F1] start at Fri Apr  2 16:33:19 2021\n"
     ]
    },
    {
     "data": {
      "text/html": [],
      "text/plain": [
       "<IPython.core.display.HTML object>"
      ]
     },
     "metadata": {},
     "output_type": "display_data"
    },
    {
     "name": "stdout",
     "output_type": "stream",
     "text": [
      "5da138754db8ce0c98bca82f-[F2] start at Fri Apr  2 16:34:03 2021\n"
     ]
    },
    {
     "data": {
      "text/html": [],
      "text/plain": [
       "<IPython.core.display.HTML object>"
      ]
     },
     "metadata": {},
     "output_type": "display_data"
    },
    {
     "name": "stdout",
     "output_type": "stream",
     "text": [
      "5da138754db8ce0c98bca82f-[F3] start at Fri Apr  2 16:34:26 2021\n"
     ]
    },
    {
     "data": {
      "text/html": [],
      "text/plain": [
       "<IPython.core.display.HTML object>"
      ]
     },
     "metadata": {},
     "output_type": "display_data"
    },
    {
     "name": "stdout",
     "output_type": "stream",
     "text": [
      "5da138754db8ce0c98bca82f-[F4] start at Fri Apr  2 16:35:02 2021\n"
     ]
    },
    {
     "data": {
      "text/html": [],
      "text/plain": [
       "<IPython.core.display.HTML object>"
      ]
     },
     "metadata": {},
     "output_type": "display_data"
    },
    {
     "name": "stdout",
     "output_type": "stream",
     "text": [
      "5da138764db8ce0c98bcaa46-[B1] start at Fri Apr  2 16:35:18 2021\n"
     ]
    },
    {
     "data": {
      "text/html": [],
      "text/plain": [
       "<IPython.core.display.HTML object>"
      ]
     },
     "metadata": {},
     "output_type": "display_data"
    },
    {
     "name": "stdout",
     "output_type": "stream",
     "text": [
      "5da138764db8ce0c98bcaa46-[F1] start at Fri Apr  2 16:35:43 2021\n"
     ]
    },
    {
     "data": {
      "text/html": [],
      "text/plain": [
       "<IPython.core.display.HTML object>"
      ]
     },
     "metadata": {},
     "output_type": "display_data"
    },
    {
     "name": "stdout",
     "output_type": "stream",
     "text": [
      "5da138764db8ce0c98bcaa46-[F2] start at Fri Apr  2 16:36:34 2021\n"
     ]
    },
    {
     "data": {
      "text/html": [],
      "text/plain": [
       "<IPython.core.display.HTML object>"
      ]
     },
     "metadata": {},
     "output_type": "display_data"
    },
    {
     "name": "stdout",
     "output_type": "stream",
     "text": [
      "5da138764db8ce0c98bcaa46-[F3] start at Fri Apr  2 16:37:16 2021\n"
     ]
    },
    {
     "data": {
      "text/html": [],
      "text/plain": [
       "<IPython.core.display.HTML object>"
      ]
     },
     "metadata": {},
     "output_type": "display_data"
    },
    {
     "name": "stdout",
     "output_type": "stream",
     "text": [
      "5da138764db8ce0c98bcaa46-[F4] start at Fri Apr  2 16:37:47 2021\n"
     ]
    },
    {
     "data": {
      "text/html": [],
      "text/plain": [
       "<IPython.core.display.HTML object>"
      ]
     },
     "metadata": {},
     "output_type": "display_data"
    },
    {
     "name": "stdout",
     "output_type": "stream",
     "text": [
      "5da138764db8ce0c98bcaa46-[F5] start at Fri Apr  2 16:37:57 2021\n"
     ]
    },
    {
     "data": {
      "text/html": [],
      "text/plain": [
       "<IPython.core.display.HTML object>"
      ]
     },
     "metadata": {},
     "output_type": "display_data"
    },
    {
     "name": "stdout",
     "output_type": "stream",
     "text": [
      "5da1389e4db8ce0c98bd0547-[B1] start at Fri Apr  2 16:38:04 2021\n"
     ]
    },
    {
     "data": {
      "text/html": [],
      "text/plain": [
       "<IPython.core.display.HTML object>"
      ]
     },
     "metadata": {},
     "output_type": "display_data"
    },
    {
     "name": "stdout",
     "output_type": "stream",
     "text": [
      "5da1389e4db8ce0c98bd0547-[B2] start at Fri Apr  2 16:38:16 2021\n"
     ]
    },
    {
     "data": {
      "text/html": [],
      "text/plain": [
       "<IPython.core.display.HTML object>"
      ]
     },
     "metadata": {},
     "output_type": "display_data"
    },
    {
     "name": "stdout",
     "output_type": "stream",
     "text": [
      "5da1389e4db8ce0c98bd0547-[F1] start at Fri Apr  2 16:38:22 2021\n"
     ]
    },
    {
     "data": {
      "text/html": [],
      "text/plain": [
       "<IPython.core.display.HTML object>"
      ]
     },
     "metadata": {},
     "output_type": "display_data"
    },
    {
     "name": "stdout",
     "output_type": "stream",
     "text": [
      "5da1389e4db8ce0c98bd0547-[F2] start at Fri Apr  2 16:38:41 2021\n"
     ]
    },
    {
     "data": {
      "text/html": [],
      "text/plain": [
       "<IPython.core.display.HTML object>"
      ]
     },
     "metadata": {},
     "output_type": "display_data"
    },
    {
     "name": "stdout",
     "output_type": "stream",
     "text": [
      "5da1389e4db8ce0c98bd0547-[F3] start at Fri Apr  2 16:38:55 2021\n"
     ]
    },
    {
     "data": {
      "text/html": [],
      "text/plain": [
       "<IPython.core.display.HTML object>"
      ]
     },
     "metadata": {},
     "output_type": "display_data"
    },
    {
     "name": "stdout",
     "output_type": "stream",
     "text": [
      "5da1389e4db8ce0c98bd0547-[F4] start at Fri Apr  2 16:39:11 2021\n"
     ]
    },
    {
     "data": {
      "text/html": [],
      "text/plain": [
       "<IPython.core.display.HTML object>"
      ]
     },
     "metadata": {},
     "output_type": "display_data"
    },
    {
     "name": "stdout",
     "output_type": "stream",
     "text": [
      "5da138b74db8ce0c98bd4774-[B1] start at Fri Apr  2 16:39:39 2021\n"
     ]
    },
    {
     "data": {
      "text/html": [],
      "text/plain": [
       "<IPython.core.display.HTML object>"
      ]
     },
     "metadata": {},
     "output_type": "display_data"
    },
    {
     "name": "stdout",
     "output_type": "stream",
     "text": [
      "5da138b74db8ce0c98bd4774-[B2] start at Fri Apr  2 16:41:11 2021\n"
     ]
    },
    {
     "data": {
      "text/html": [],
      "text/plain": [
       "<IPython.core.display.HTML object>"
      ]
     },
     "metadata": {},
     "output_type": "display_data"
    },
    {
     "name": "stdout",
     "output_type": "stream",
     "text": [
      "5da138b74db8ce0c98bd4774-[F1] start at Fri Apr  2 16:41:25 2021\n"
     ]
    },
    {
     "data": {
      "text/html": [],
      "text/plain": [
       "<IPython.core.display.HTML object>"
      ]
     },
     "metadata": {},
     "output_type": "display_data"
    },
    {
     "name": "stdout",
     "output_type": "stream",
     "text": [
      "5da138b74db8ce0c98bd4774-[F2] start at Fri Apr  2 16:43:35 2021\n"
     ]
    },
    {
     "data": {
      "text/html": [],
      "text/plain": [
       "<IPython.core.display.HTML object>"
      ]
     },
     "metadata": {},
     "output_type": "display_data"
    },
    {
     "name": "stdout",
     "output_type": "stream",
     "text": [
      "5da138b74db8ce0c98bd4774-[F3] start at Fri Apr  2 16:45:03 2021\n"
     ]
    },
    {
     "data": {
      "text/html": [],
      "text/plain": [
       "<IPython.core.display.HTML object>"
      ]
     },
     "metadata": {},
     "output_type": "display_data"
    },
    {
     "name": "stdout",
     "output_type": "stream",
     "text": [
      "5da138b74db8ce0c98bd4774-[F4] start at Fri Apr  2 16:46:31 2021\n"
     ]
    },
    {
     "data": {
      "text/html": [],
      "text/plain": [
       "<IPython.core.display.HTML object>"
      ]
     },
     "metadata": {},
     "output_type": "display_data"
    },
    {
     "name": "stdout",
     "output_type": "stream",
     "text": [
      "5da138b74db8ce0c98bd4774-[F5] start at Fri Apr  2 16:47:59 2021\n"
     ]
    },
    {
     "data": {
      "text/html": [],
      "text/plain": [
       "<IPython.core.display.HTML object>"
      ]
     },
     "metadata": {},
     "output_type": "display_data"
    },
    {
     "name": "stdout",
     "output_type": "stream",
     "text": [
      "5da958dd46f8266d0737457b-[B1] start at Fri Apr  2 16:49:44 2021\n"
     ]
    },
    {
     "data": {
      "text/html": [],
      "text/plain": [
       "<IPython.core.display.HTML object>"
      ]
     },
     "metadata": {},
     "output_type": "display_data"
    },
    {
     "name": "stdout",
     "output_type": "stream",
     "text": [
      "5da958dd46f8266d0737457b-[F1] start at Fri Apr  2 16:50:56 2021\n"
     ]
    },
    {
     "data": {
      "text/html": [],
      "text/plain": [
       "<IPython.core.display.HTML object>"
      ]
     },
     "metadata": {},
     "output_type": "display_data"
    },
    {
     "name": "stdout",
     "output_type": "stream",
     "text": [
      "5da958dd46f8266d0737457b-[F2] start at Fri Apr  2 16:52:50 2021\n"
     ]
    },
    {
     "data": {
      "text/html": [],
      "text/plain": [
       "<IPython.core.display.HTML object>"
      ]
     },
     "metadata": {},
     "output_type": "display_data"
    },
    {
     "name": "stdout",
     "output_type": "stream",
     "text": [
      "5da958dd46f8266d0737457b-[F3] start at Fri Apr  2 16:54:32 2021\n"
     ]
    },
    {
     "data": {
      "text/html": [],
      "text/plain": [
       "<IPython.core.display.HTML object>"
      ]
     },
     "metadata": {},
     "output_type": "display_data"
    },
    {
     "name": "stdout",
     "output_type": "stream",
     "text": [
      "5da958dd46f8266d0737457b-[F4] start at Fri Apr  2 16:56:18 2021\n"
     ]
    },
    {
     "data": {
      "text/html": [],
      "text/plain": [
       "<IPython.core.display.HTML object>"
      ]
     },
     "metadata": {},
     "output_type": "display_data"
    },
    {
     "name": "stdout",
     "output_type": "stream",
     "text": [
      "5da958dd46f8266d0737457b-[F5] start at Fri Apr  2 16:57:25 2021\n"
     ]
    },
    {
     "data": {
      "text/html": [
       "\n",
       "    <div>\n",
       "        <style>\n",
       "            /* Turns off some styling */\n",
       "            progress {\n",
       "                /* gets rid of default border in Firefox and Opera. */\n",
       "                border: none;\n",
       "                /* Needs to be in here for Safari polyfill so background images work as expected. */\n",
       "                background-size: auto;\n",
       "            }\n",
       "            .progress-bar-interrupted, .progress-bar-interrupted::-webkit-progress-bar {\n",
       "                background: #F44336;\n",
       "            }\n",
       "        </style>\n",
       "      <progress value='238' class='' max='365' style='width:300px; height:20px; vertical-align: middle;'></progress>\n",
       "      65.21% [238/365 00:57<00:30]\n",
       "    </div>\n",
       "    \n",
       "\n",
       "\n",
       "    <div>\n",
       "        <style>\n",
       "            /* Turns off some styling */\n",
       "            progress {\n",
       "                /* gets rid of default border in Firefox and Opera. */\n",
       "                border: none;\n",
       "                /* Needs to be in here for Safari polyfill so background images work as expected. */\n",
       "                background-size: auto;\n",
       "            }\n",
       "            .progress-bar-interrupted, .progress-bar-interrupted::-webkit-progress-bar {\n",
       "                background: #F44336;\n",
       "            }\n",
       "        </style>\n",
       "      <progress value='0' class='' max='1' style='width:300px; height:20px; vertical-align: middle;'></progress>\n",
       "      0.00% [0/1 00:00<00:00]\n",
       "    </div>\n",
       "    "
      ],
      "text/plain": [
       "<IPython.core.display.HTML object>"
      ]
     },
     "metadata": {},
     "output_type": "display_data"
    },
    {
     "name": "stderr",
     "output_type": "stream",
     "text": [
      "IOPub message rate exceeded.\n",
      "The Jupyter server will temporarily stop sending output\n",
      "to the client in order to avoid crashing it.\n",
      "To change this limit, set the config variable\n",
      "`--ServerApp.iopub_msg_rate_limit`.\n",
      "\n",
      "Current values:\n",
      "ServerApp.iopub_msg_rate_limit=1000.0 (msgs/sec)\n",
      "ServerApp.rate_limit_window=3.0 (secs)\n",
      "\n"
     ]
    },
    {
     "name": "stdout",
     "output_type": "stream",
     "text": [
      "5dbc1d84c1eb61796cf7c010-[F3] start at Fri Apr  2 17:02:10 2021\n"
     ]
    },
    {
     "data": {
      "text/html": [],
      "text/plain": [
       "<IPython.core.display.HTML object>"
      ]
     },
     "metadata": {},
     "output_type": "display_data"
    },
    {
     "name": "stdout",
     "output_type": "stream",
     "text": [
      "5dbc1d84c1eb61796cf7c010-[F4] start at Fri Apr  2 17:03:58 2021\n"
     ]
    },
    {
     "data": {
      "text/html": [],
      "text/plain": [
       "<IPython.core.display.HTML object>"
      ]
     },
     "metadata": {},
     "output_type": "display_data"
    },
    {
     "name": "stdout",
     "output_type": "stream",
     "text": [
      "5dbc1d84c1eb61796cf7c010-[F5] start at Fri Apr  2 17:06:07 2021\n"
     ]
    },
    {
     "data": {
      "text/html": [],
      "text/plain": [
       "<IPython.core.display.HTML object>"
      ]
     },
     "metadata": {},
     "output_type": "display_data"
    },
    {
     "name": "stdout",
     "output_type": "stream",
     "text": [
      "5dbc1d84c1eb61796cf7c010-[F6] start at Fri Apr  2 17:08:10 2021\n"
     ]
    },
    {
     "data": {
      "text/html": [],
      "text/plain": [
       "<IPython.core.display.HTML object>"
      ]
     },
     "metadata": {},
     "output_type": "display_data"
    },
    {
     "name": "stdout",
     "output_type": "stream",
     "text": [
      "5dbc1d84c1eb61796cf7c010-[F7] start at Fri Apr  2 17:09:57 2021\n"
     ]
    },
    {
     "data": {
      "text/html": [],
      "text/plain": [
       "<IPython.core.display.HTML object>"
      ]
     },
     "metadata": {},
     "output_type": "display_data"
    },
    {
     "name": "stdout",
     "output_type": "stream",
     "text": [
      "5dbc1d84c1eb61796cf7c010-[F8] start at Fri Apr  2 17:11:43 2021\n"
     ]
    },
    {
     "data": {
      "text/html": [],
      "text/plain": [
       "<IPython.core.display.HTML object>"
      ]
     },
     "metadata": {},
     "output_type": "display_data"
    },
    {
     "name": "stdout",
     "output_type": "stream",
     "text": [
      "5dc8cea7659e181adb076a3f-[B1] start at Fri Apr  2 17:12:52 2021\n"
     ]
    },
    {
     "data": {
      "text/html": [],
      "text/plain": [
       "<IPython.core.display.HTML object>"
      ]
     },
     "metadata": {},
     "output_type": "display_data"
    },
    {
     "name": "stdout",
     "output_type": "stream",
     "text": [
      "5dc8cea7659e181adb076a3f-[F1] start at Fri Apr  2 17:13:09 2021\n"
     ]
    },
    {
     "data": {
      "text/html": [],
      "text/plain": [
       "<IPython.core.display.HTML object>"
      ]
     },
     "metadata": {},
     "output_type": "display_data"
    },
    {
     "name": "stdout",
     "output_type": "stream",
     "text": [
      "5dc8cea7659e181adb076a3f-[F2] start at Fri Apr  2 17:14:30 2021\n"
     ]
    },
    {
     "data": {
      "text/html": [],
      "text/plain": [
       "<IPython.core.display.HTML object>"
      ]
     },
     "metadata": {},
     "output_type": "display_data"
    },
    {
     "name": "stdout",
     "output_type": "stream",
     "text": [
      "5dc8cea7659e181adb076a3f-[F3] start at Fri Apr  2 17:15:59 2021\n"
     ]
    },
    {
     "data": {
      "text/html": [],
      "text/plain": [
       "<IPython.core.display.HTML object>"
      ]
     },
     "metadata": {},
     "output_type": "display_data"
    },
    {
     "name": "stdout",
     "output_type": "stream",
     "text": [
      "5dc8cea7659e181adb076a3f-[F4] start at Fri Apr  2 17:16:55 2021\n"
     ]
    },
    {
     "data": {
      "text/html": [],
      "text/plain": [
       "<IPython.core.display.HTML object>"
      ]
     },
     "metadata": {},
     "output_type": "display_data"
    },
    {
     "name": "stdout",
     "output_type": "stream",
     "text": [
      "5dc8cea7659e181adb076a3f-[F5] start at Fri Apr  2 17:17:51 2021\n"
     ]
    },
    {
     "data": {
      "text/html": [],
      "text/plain": [
       "<IPython.core.display.HTML object>"
      ]
     },
     "metadata": {},
     "output_type": "display_data"
    },
    {
     "name": "stdout",
     "output_type": "stream",
     "text": [
      "5dc8cea7659e181adb076a3f-[F6] start at Fri Apr  2 17:19:00 2021\n"
     ]
    },
    {
     "data": {
      "text/html": [],
      "text/plain": [
       "<IPython.core.display.HTML object>"
      ]
     },
     "metadata": {},
     "output_type": "display_data"
    },
    {
     "name": "stdout",
     "output_type": "stream",
     "text": [
      "5dc8cea7659e181adb076a3f-[F7] start at Fri Apr  2 17:19:42 2021\n"
     ]
    },
    {
     "data": {
      "text/html": [],
      "text/plain": [
       "<IPython.core.display.HTML object>"
      ]
     },
     "metadata": {},
     "output_type": "display_data"
    },
    {
     "name": "stdout",
     "output_type": "stream",
     "text": [
      "CPU times: user 2h 16min 1s, sys: 33.1 s, total: 2h 16min 34s\n",
      "Wall time: 2h 15min 52s\n"
     ]
    }
   ],
   "source": [
    "%%time\n",
    "\n",
    "site_list = [val.split('_')[0] for val in sample_submission.site_path_timestamp]\n",
    "site_list = sorted(np.unique(site_list).tolist())\n",
    "\n",
    "# site loop\n",
    "# for site in progress_bar(site_list):\n",
    "for site in site_list:\n",
    "# for site in site_list[:2]:\n",
    "    # init\n",
    "    site_list_save = []\n",
    "    floor_list_save = []\n",
    "    ssid_list_save = []\n",
    "    bssid_list_save = []\n",
    "    n_samples_list_save = []\n",
    "    n_samples_rssi_over_m50_list_save = []\n",
    "    n_samples_rssi_over_m55_list_save = []\n",
    "    n_samples_rssi_over_m60_list_save = []\n",
    "    n_samples_rssi_over_m65_list_save = []\n",
    "    n_samples_rssi_over_m70_list_save = []\n",
    "    bssid_x_list_save = []\n",
    "    bssid_y_list_save = []\n",
    "    \n",
    "    # dataのロード\n",
    "    path_waypoint = f'./../data_ignore/nb/010/nb010_waypoint_{site}.csv'\n",
    "    df_wp_ori = pd.read_csv(path_waypoint)\n",
    "\n",
    "    path_wifi = f'./../data_ignore/nb/004/nb004_wifi_{site}.csv'\n",
    "    df_wifi_ori = pd.read_csv(path_wifi)\n",
    "    \n",
    "    # floorのリストの取得\n",
    "    floor_list = sorted(glob(f'./../data_ignore/input/train/{site}/*'))\n",
    "    floor_list = [text.split('/')[-1] for text in floor_list]\n",
    "    \n",
    "    # floor loop\n",
    "    for floor in floor_list:\n",
    "#     for floor in floor_list[:1]:\n",
    "        print(f'{site}-[{floor}] start at {time.ctime()}')\n",
    "        path_json = f'./../data_ignore/input/metadata/{site}/{floor}/floor_info.json'\n",
    "        with open(path_json) as json_file:\n",
    "            json_data = json.load(json_file)\n",
    "        width_meter = json_data[\"map_info\"][\"width\"]\n",
    "        height_meter = json_data[\"map_info\"][\"height\"]\n",
    "        \n",
    "        df_wp = df_wp_ori.query('floor == @floor')\n",
    "        df_wifi = df_wifi_ori.query('floor == @floor')\n",
    "        \n",
    "        # ssid loop\n",
    "        mb = master_bar(df_wifi['ssid '].unique())\n",
    "        for ssid in mb:\n",
    "            df_wifi_ssid = df_wifi[df_wifi['ssid '] == ssid]\n",
    "            \n",
    "            # bssid loop\n",
    "            for bssid in progress_bar(df_wifi_ssid['bssid'].unique(), parent=mb):\n",
    "#             for bssid in progress_bar(df_wifi_ssid['bssid'].unique()[:2], parent=mb):\n",
    "                df_wifi_ssid_bssid = df_wifi_ssid.query('bssid == @bssid')\n",
    "                # site, floor, ssid, bssidが決まった！\n",
    "                # あるwifiのlast_seen_timestamp の前後 sec 秒以内 のwaypointを取得する\n",
    "                x_arr, y_arr, rssi_arr = get_near_waypoints(df_wifi_ssid_bssid, df_wp, sec)\n",
    "                if len(x_arr)==0:\n",
    "                    continue\n",
    "\n",
    "                # ガウス分布でフィッティング\n",
    "                best_params, best_fit = fitting(x_arr, y_arr, rssi_arr, n_grid, width_meter, height_meter)\n",
    "                \n",
    "                # append\n",
    "                site_list_save.append(site)\n",
    "                floor_list_save.append(floor)\n",
    "                ssid_list_save.append(ssid)\n",
    "                bssid_list_save.append(bssid)\n",
    "                n_samples_list_save.append(len(rssi_arr))\n",
    "                n_samples_rssi_over_m50_list_save.append((rssi_arr>=-50).sum())\n",
    "                n_samples_rssi_over_m55_list_save.append((rssi_arr>=-55).sum())\n",
    "                n_samples_rssi_over_m60_list_save.append((rssi_arr>=-60).sum())\n",
    "                n_samples_rssi_over_m65_list_save.append((rssi_arr>=-65).sum())\n",
    "                n_samples_rssi_over_m70_list_save.append((rssi_arr>=-70).sum())\n",
    "                bssid_x_list_save.append(best_params[1])\n",
    "                bssid_y_list_save.append(best_params[2])\n",
    "                \n",
    "    # site毎に保存\n",
    "    df_save = pd.DataFrame({\n",
    "        'ssid': ssid_list_save,\n",
    "        'bssid': bssid_list_save,\n",
    "        'bssid_x': bssid_x_list_save,\n",
    "        'bssid_y': bssid_y_list_save,\n",
    "        'n_samples': n_samples_list_save,\n",
    "        'n_samples_rssi_over_m50': n_samples_rssi_over_m50_list_save,\n",
    "        'n_samples_rssi_over_m55': n_samples_rssi_over_m55_list_save,\n",
    "        'n_samples_rssi_over_m60': n_samples_rssi_over_m60_list_save,\n",
    "        'n_samples_rssi_over_m65': n_samples_rssi_over_m65_list_save,\n",
    "        'n_samples_rssi_over_m70': n_samples_rssi_over_m70_list_save,\n",
    "        'site': site_list_save,\n",
    "        'floor': floor_list_save,\n",
    "    })\n",
    "    save_path = f'{DIR_SAVE}nb{NB}_bssid_position_{site}.csv'\n",
    "    df_save.to_csv(save_path, index=False)"
   ]
  },
  {
   "cell_type": "code",
   "execution_count": null,
   "id": "particular-think",
   "metadata": {},
   "outputs": [],
   "source": []
  },
  {
   "cell_type": "code",
   "execution_count": null,
   "id": "royal-gamma",
   "metadata": {},
   "outputs": [],
   "source": []
  },
  {
   "cell_type": "code",
   "execution_count": null,
   "id": "turned-failure",
   "metadata": {},
   "outputs": [],
   "source": []
  },
  {
   "cell_type": "raw",
   "id": "parallel-configuration",
   "metadata": {},
   "source": [
    "\n",
    "\n",
    "\n",
    "\n",
    "\n",
    "\n",
    "\n",
    "\n",
    "\n",
    "\n",
    "\n",
    "\n",
    "\n",
    "\n",
    "\n",
    "\n",
    "\n",
    "\n",
    "\n",
    "\n",
    "\n",
    "\n",
    "\n",
    "\n",
    "\n",
    "\n",
    "\n",
    "\n",
    "\n"
   ]
  }
 ],
 "metadata": {
  "kernelspec": {
   "display_name": "Python 3",
   "language": "python",
   "name": "python3"
  },
  "language_info": {
   "codemirror_mode": {
    "name": "ipython",
    "version": 3
   },
   "file_extension": ".py",
   "mimetype": "text/x-python",
   "name": "python",
   "nbconvert_exporter": "python",
   "pygments_lexer": "ipython3",
   "version": "3.8.5"
  }
 },
 "nbformat": 4,
 "nbformat_minor": 5
}
