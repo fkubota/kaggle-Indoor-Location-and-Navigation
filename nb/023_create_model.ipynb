{
 "cells": [
  {
   "cell_type": "markdown",
   "metadata": {},
   "source": [
    "# Overview\n",
    "- nb016で作った特徴量を使う\n",
    "- nb017のsite='5d27075f03f801723c2e360f'だけver"
   ]
  },
  {
   "cell_type": "code",
   "execution_count": 1,
   "metadata": {},
   "outputs": [
    {
     "name": "stdout",
     "output_type": "stream",
     "text": [
      "1c30b36\n"
     ]
    }
   ],
   "source": [
    "import subprocess\n",
    "cmd = \"git rev-parse --short HEAD\"\n",
    "hash = subprocess.check_output(cmd.split()).strip().decode('utf-8')\n",
    "print(hash)"
   ]
  },
  {
   "cell_type": "markdown",
   "metadata": {},
   "source": [
    "# Const"
   ]
  },
  {
   "cell_type": "code",
   "execution_count": 2,
   "metadata": {},
   "outputs": [],
   "source": [
    "NB = '023'\n",
    "SITE = '5d27075f03f801723c2e360f'\n",
    "DIR_TRAIN = './../data_ignore/input/train/'\n",
    "DIR_TEST = './../data_ignore/input/test/'\n",
    "DIR_WIFI = './../data_ignore/input/wifi/'\n",
    "PATH_SUB = './../data_ignore/input/sample_submission.csv'\n",
    "PATH_99_SUB = './../data/input/floor_99per_acc_sub.csv'\n",
    "DIR_SAVE_IGNORE = f'./../data_ignore/nb/{NB}/'\n",
    "DIR_SAVE = f'./../data/nb/{NB}/'"
   ]
  },
  {
   "cell_type": "code",
   "execution_count": 3,
   "metadata": {},
   "outputs": [],
   "source": [
    "config_str = '''\n",
    "globals:\n",
    "    seed: 5713\n",
    "    device: cuda\n",
    "    n_label: 24\n",
    "    n_splits: 5\n",
    "    random_sate: 42\n",
    "    lr: 0.005\n",
    "    patience: 10\n",
    "    epoch: 100\n",
    "    batch_size: 128\n",
    "    skip_evaluate_num: 5\n",
    "    num_feats: 20\n",
    "    t_mux: 10\n",
    "'''"
   ]
  },
  {
   "cell_type": "code",
   "execution_count": 4,
   "metadata": {},
   "outputs": [],
   "source": [
    "map_floor = {\n",
    "    'B2': -2, 'B1': -1, 'F1': 0, 'F2': 1, 'F3': 2, 'F4': 3, 'F5': 4, 'F6': 5, 'F7': 6, 'F8': 7, 'F9': 8,\n",
    "    \n",
    "    '2B': -2, '1B': -1, '1F': 0, '2F': 1, '3F': 2, '4F': 3, '5F': 4, '6F': 5, '7F': 6, '8F': 7, '9F': 8,\n",
    "    }"
   ]
  },
  {
   "cell_type": "markdown",
   "metadata": {},
   "source": [
    "# Import everything I need:)"
   ]
  },
  {
   "cell_type": "code",
   "execution_count": 5,
   "metadata": {},
   "outputs": [],
   "source": [
    "import os\n",
    "import json\n",
    "import yaml\n",
    "import types\n",
    "import random\n",
    "import pickle\n",
    "import builtins\n",
    "import numpy as np\n",
    "import pandas as pd\n",
    "from PIL import Image\n",
    "from icecream import ic\n",
    "# from tqdm import tqdm\n",
    "import matplotlib.pyplot as plt\n",
    "from fastprogress import progress_bar, master_bar\n",
    "from glob import glob\n",
    "from loguru import logger\n",
    "from collections import OrderedDict\n",
    "\n",
    "# sklearn\n",
    "from sklearn.preprocessing import LabelEncoder, StandardScaler\n",
    "from sklearn.model_selection import KFold\n",
    "\n",
    "# pytorch\n",
    "import torch\n",
    "from torch import nn\n",
    "from torch.utils.data import Dataset, DataLoader\n",
    "import torch.optim as optim\n",
    "import torch.nn.functional as F"
   ]
  },
  {
   "cell_type": "markdown",
   "metadata": {},
   "source": [
    "# Function"
   ]
  },
  {
   "cell_type": "code",
   "execution_count": 6,
   "metadata": {
    "executionInfo": {
     "elapsed": 4655,
     "status": "ok",
     "timestamp": 1616479151188,
     "user": {
      "displayName": "ユウキハヤカワ",
      "photoUrl": "https://lh3.googleusercontent.com/a-/AOh14GjfXu9o7zmAYL24s4P8H7I0lvSgQUaSfrXi7qemvQ=s64",
      "userId": "00286900621093795459"
     },
     "user_tz": -540
    },
    "id": "7SxgGjwA5Rty"
   },
   "outputs": [],
   "source": [
    "def imports():\n",
    "    for name, val in globals().items():\n",
    "        # module imports\n",
    "        if isinstance(val, types.ModuleType):\n",
    "            yield name, val\n",
    "\n",
    "            # functions / callables\n",
    "        if hasattr(val, '__call__'):\n",
    "            yield name, val\n",
    "\n",
    "\n",
    "def noglobal(f):\n",
    "    '''\n",
    "    ref: https://gist.github.com/raven38/4e4c3c7a179283c441f575d6e375510c\n",
    "    '''\n",
    "    return types.FunctionType(f.__code__,\n",
    "                              dict(imports()),\n",
    "                              f.__name__,\n",
    "                              f.__defaults__,\n",
    "                              f.__closure__\n",
    "                              )\n",
    "\n",
    "\n",
    "def comp_metric(xhat, yhat, fhat, x, y, f):\n",
    "    intermediate = np.sqrt(np.power(xhat-x, 2) + np.power(yhat-y, 2)) + 15 * np.abs(fhat-f)\n",
    "    return intermediate.sum()/xhat.shape[0]\n",
    "\n",
    "def seed_everything(seed=42):\n",
    "    random.seed(seed)\n",
    "    os.environ['PYTHONHASHSEED'] = str(seed)\n",
    "    np.random.seed(seed)\n",
    "    torch.manual_seed(seed)\n",
    "    torch.cuda.manual_seed(seed)\n",
    "    torch.backends.cudnn.deterministic = True\n",
    "    torch.backends.cudnn.benchmark = True\n",
    "\n",
    "\n",
    "def visualize_submission(df_sub, dir_image_with_trace, dir_meta, show=True, dpi=100):\n",
    "    map_floor = {'B2': -2, 'B1': -1, 'F1': 0, 'F2': 1, 'F3': 2, 'F4': 3, 'F5': 4, 'F6': 5, 'F7': 6, 'F8': 7, 'F9': 8,\n",
    "                 '2B': -2, '1B': -1, '1F': 0, '2F': 1, '3F': 2, '4F': 3, '5F': 4, '6F': 5, '7F': 6, '8F': 7, '9F': 8}\n",
    "    \n",
    "    site_path_timestamp = df_sub.site_path_timestamp.values\n",
    "    site_arr = []\n",
    "    path_arr = []\n",
    "    for val in site_path_timestamp:\n",
    "        site, path, _ = val.split('_')\n",
    "        site_arr.append(site)\n",
    "        path_arr.append(path)\n",
    "    site_arr = np.array(site_arr)\n",
    "    path_arr = np.array(path_arr)\n",
    "\n",
    "    x_arr = df_sub.x.values\n",
    "    y_arr = df_sub.y.values\n",
    "    floor_arr = df_sub.floor.values\n",
    "    \n",
    "    # site loop\n",
    "    for site in sorted(np.unique(site_arr)):\n",
    "        floor_list = sorted(glob(f'{dir_image_with_trace}{site}/*'))\n",
    "        floor_list = [text.split('/')[-1] for text in floor_list]\n",
    "        \n",
    "        # 画像の比を決めるために一度floor_info.jsonを取得\n",
    "        path_json = f'{dir_meta}{site}/{floor_list[0]}/floor_info.json'\n",
    "        with open(path_json) as json_file:\n",
    "            json_data = json.load(json_file)\n",
    "        _width_meter = json_data[\"map_info\"][\"width\"]\n",
    "        _height_meter = json_data[\"map_info\"][\"height\"]\n",
    "        s = max(_width_meter, _height_meter)\n",
    "\n",
    "        # figとaxesの用意\n",
    "        n_floor = len(floor_list)\n",
    "        n_row = int(np.ceil(n_floor / 3))\n",
    "        w = round(5*3*_width_meter/s)\n",
    "        h = round(5*n_row*_height_meter/s)\n",
    "        fig, axs = plt.subplots(n_row, 3, figsize=(w, h), dpi=dpi)\n",
    "        fig.suptitle(site, fontsize=15)\n",
    "        fig.patch.set_facecolor('white')\n",
    "        axs = axs.ravel()\n",
    "\n",
    "        # floor loop\n",
    "        for i_floor, floor in enumerate(floor_list):\n",
    "            # json\n",
    "            path_json = f'{dir_meta}{site}/{floor}/floor_info.json'\n",
    "            with open(path_json) as json_file:\n",
    "                json_data = json.load(json_file)\n",
    "            width_meter = json_data[\"map_info\"][\"width\"]\n",
    "            height_meter = json_data[\"map_info\"][\"height\"]\n",
    "\n",
    "            # show image\n",
    "            path_img = f'{dir_image_with_trace}{site}/{floor}/floor_image_with_trace.png'\n",
    "            im = Image.open(path_img)\n",
    "            axs[i_floor].imshow(np.asarray(im), extent=(0, width_meter, 0, height_meter))\n",
    "            axs[i_floor].set_title(floor, fontsize=10)\n",
    "\n",
    "            # draw path\n",
    "            logics_site_floor = (site_arr == site) & (floor_arr == map_floor[floor])\n",
    "            for path in sorted(np.unique(path_arr[logics_site_floor])):\n",
    "                logics_path = path_arr == path\n",
    "                x_arr_path = x_arr[logics_path]\n",
    "                y_arr_path = y_arr[logics_path]\n",
    "\n",
    "                axs[i_floor].plot(x_arr_path, y_arr_path, linewidth=1, color='black')\n",
    "        if show:\n",
    "            display(fig)"
   ]
  },
  {
   "cell_type": "markdown",
   "metadata": {},
   "source": [
    "# Preparation"
   ]
  },
  {
   "cell_type": "markdown",
   "metadata": {},
   "source": [
    "load config"
   ]
  },
  {
   "cell_type": "code",
   "execution_count": 7,
   "metadata": {},
   "outputs": [
    {
     "data": {
      "text/plain": [
       "{'globals': {'seed': 5713,\n",
       "  'device': 'cuda',\n",
       "  'n_label': 24,\n",
       "  'n_splits': 5,\n",
       "  'random_sate': 42,\n",
       "  'lr': 0.005,\n",
       "  'patience': 10,\n",
       "  'epoch': 100,\n",
       "  'batch_size': 128,\n",
       "  'skip_evaluate_num': 5,\n",
       "  'num_feats': 20,\n",
       "  't_mux': 10}}"
      ]
     },
     "execution_count": 7,
     "metadata": {},
     "output_type": "execute_result"
    }
   ],
   "source": [
    "config = yaml.safe_load(config_str)\n",
    "config"
   ]
  },
  {
   "cell_type": "markdown",
   "metadata": {},
   "source": [
    "<br>\n",
    "\n",
    "set"
   ]
  },
  {
   "cell_type": "code",
   "execution_count": 8,
   "metadata": {},
   "outputs": [],
   "source": [
    "seed_everything(config['globals']['seed'])\n",
    "\n",
    "if not os.path.exists(DIR_SAVE_IGNORE):\n",
    "    os.makedirs(DIR_SAVE_IGNORE)\n",
    "if not os.path.exists(DIR_SAVE):\n",
    "    os.makedirs(DIR_SAVE)"
   ]
  },
  {
   "cell_type": "code",
   "execution_count": 9,
   "metadata": {
    "executionInfo": {
     "elapsed": 12395,
     "status": "ok",
     "timestamp": 1616479159023,
     "user": {
      "displayName": "ユウキハヤカワ",
      "photoUrl": "https://lh3.googleusercontent.com/a-/AOh14GjfXu9o7zmAYL24s4P8H7I0lvSgQUaSfrXi7qemvQ=s64",
      "userId": "00286900621093795459"
     },
     "user_tz": -540
    },
    "id": "6wFlN2I2NL3z"
   },
   "outputs": [],
   "source": [
    "bssid_feats = [f'bssid_{i}' for i in range(config['globals']['num_feats'])]\n",
    "rssi_feats  = [f'rssi_{i}' for i in range(config['globals']['num_feats'])]"
   ]
  },
  {
   "cell_type": "markdown",
   "metadata": {},
   "source": [
    "<br>\n",
    "\n",
    "load dataset"
   ]
  },
  {
   "cell_type": "raw",
   "metadata": {},
   "source": [
    "train_files = sorted(glob(f'{DIR_WIFI}*_train.csv'))\n",
    "test_files = sorted(glob(f'{DIR_WIFI}*_test.csv'))\n",
    "sample_sub = pd.read_csv(PATH_SUB)"
   ]
  },
  {
   "cell_type": "code",
   "execution_count": 10,
   "metadata": {
    "executionInfo": {
     "elapsed": 12440,
     "status": "ok",
     "timestamp": 1616479159010,
     "user": {
      "displayName": "ユウキハヤカワ",
      "photoUrl": "https://lh3.googleusercontent.com/a-/AOh14GjfXu9o7zmAYL24s4P8H7I0lvSgQUaSfrXi7qemvQ=s64",
      "userId": "00286900621093795459"
     },
     "user_tz": -540
    },
    "id": "g0ytMb1aSnv0"
   },
   "outputs": [],
   "source": [
    "with open(f'{DIR_WIFI}train_all.pkl', 'rb') as f:\n",
    "    df_train = pickle.load( f)\n",
    "with open(f'{DIR_WIFI}test_all.pkl', 'rb') as f:\n",
    "    df_test = pickle.load( f)"
   ]
  },
  {
   "cell_type": "code",
   "execution_count": 11,
   "metadata": {},
   "outputs": [],
   "source": [
    "df_list = []\n",
    "for path in sorted(glob('./../data/nb/013/*.csv')):\n",
    "    df_list.append(pd.read_csv(path))\n",
    "df_wifi_pos = pd.concat(df_list, axis=0)"
   ]
  },
  {
   "cell_type": "code",
   "execution_count": 12,
   "metadata": {},
   "outputs": [],
   "source": [
    "df_wifi_pos['floor_id'] = df_wifi_pos['floor'].map(map_floor)"
   ]
  },
  {
   "cell_type": "markdown",
   "metadata": {},
   "source": [
    "<br>\n",
    "\n",
    "site絞る"
   ]
  },
  {
   "cell_type": "code",
   "execution_count": 13,
   "metadata": {},
   "outputs": [],
   "source": [
    "df_train = df_train[df_train.site_id == SITE]\n",
    "df_test = df_test[df_test.site_id == SITE]"
   ]
  },
  {
   "cell_type": "markdown",
   "metadata": {},
   "source": [
    "<br>\n",
    "\n",
    "merge"
   ]
  },
  {
   "cell_type": "code",
   "execution_count": 14,
   "metadata": {},
   "outputs": [],
   "source": [
    "# floorで丸める\n",
    "df_wifi_pos_grp_floor = df_wifi_pos.groupby(['bssid', 'site']).mean().reset_index(drop=False).copy()"
   ]
  },
  {
   "cell_type": "code",
   "execution_count": 15,
   "metadata": {},
   "outputs": [
    {
     "data": {
      "text/html": [
       "\n",
       "    <div>\n",
       "        <style>\n",
       "            /* Turns off some styling */\n",
       "            progress {\n",
       "                /* gets rid of default border in Firefox and Opera. */\n",
       "                border: none;\n",
       "                /* Needs to be in here for Safari polyfill so background images work as expected. */\n",
       "                background-size: auto;\n",
       "            }\n",
       "            .progress-bar-interrupted, .progress-bar-interrupted::-webkit-progress-bar {\n",
       "                background: #F44336;\n",
       "            }\n",
       "        </style>\n",
       "      <progress value='20' class='' max='20' style='width:300px; height:20px; vertical-align: middle;'></progress>\n",
       "      100.00% [20/20 00:10<00:00]\n",
       "    </div>\n",
       "    "
      ],
      "text/plain": [
       "<IPython.core.display.HTML object>"
      ]
     },
     "metadata": {},
     "output_type": "display_data"
    },
    {
     "name": "stdout",
     "output_type": "stream",
     "text": [
      "CPU times: user 9.45 s, sys: 1.04 s, total: 10.5 s\n",
      "Wall time: 10.5 s\n"
     ]
    }
   ],
   "source": [
    "%%time\n",
    "# df_train = df_train.copy()\n",
    "for i, bssid in enumerate(progress_bar(bssid_feats)):\n",
    "    df_train = df_train.merge(df_wifi_pos_grp_floor[['bssid', 'bssid_x', 'bssid_y', 'site']],\n",
    "                               how='left', left_on=[bssid, 'site_id'], right_on=['bssid', 'site']\n",
    "                              ).drop(['bssid', 'site'], axis=1\n",
    "                                    ).rename({'bssid_x': f'bssid_x_{i}', 'bssid_y': f'bssid_y_{i}'}, axis=1)"
   ]
  },
  {
   "cell_type": "code",
   "execution_count": 16,
   "metadata": {},
   "outputs": [
    {
     "data": {
      "text/html": [
       "\n",
       "    <div>\n",
       "        <style>\n",
       "            /* Turns off some styling */\n",
       "            progress {\n",
       "                /* gets rid of default border in Firefox and Opera. */\n",
       "                border: none;\n",
       "                /* Needs to be in here for Safari polyfill so background images work as expected. */\n",
       "                background-size: auto;\n",
       "            }\n",
       "            .progress-bar-interrupted, .progress-bar-interrupted::-webkit-progress-bar {\n",
       "                background: #F44336;\n",
       "            }\n",
       "        </style>\n",
       "      <progress value='20' class='' max='20' style='width:300px; height:20px; vertical-align: middle;'></progress>\n",
       "      100.00% [20/20 00:00<00:00]\n",
       "    </div>\n",
       "    "
      ],
      "text/plain": [
       "<IPython.core.display.HTML object>"
      ]
     },
     "metadata": {},
     "output_type": "display_data"
    },
    {
     "name": "stdout",
     "output_type": "stream",
     "text": [
      "CPU times: user 223 ms, sys: 3.62 ms, total: 227 ms\n",
      "Wall time: 225 ms\n"
     ]
    }
   ],
   "source": [
    "%%time\n",
    "for i, bssid in enumerate(progress_bar(bssid_feats)):\n",
    "    df_test = df_test.merge(df_wifi_pos_grp_floor[['bssid', 'bssid_x', 'bssid_y', 'site']],\n",
    "                               how='left', left_on=[bssid, 'site_id'], right_on=['bssid', 'site']\n",
    "                              ).drop(['bssid', 'site'], axis=1\n",
    "                                    ).rename({'bssid_x': f'bssid_x_{i}', 'bssid_y': f'bssid_y_{i}'}, axis=1)"
   ]
  },
  {
   "cell_type": "code",
   "execution_count": 17,
   "metadata": {},
   "outputs": [],
   "source": [
    "bssid_x_feats = [f'bssid_x_{i}' for i in range(config['globals']['num_feats'])]\n",
    "bssid_y_feats = [f'bssid_y_{i}' for i in range(config['globals']['num_feats'])]\n",
    "\n",
    "bssid_x_mean = df_wifi_pos_grp_floor['bssid_x'].mean()\n",
    "bssid_y_mean = df_wifi_pos_grp_floor['bssid_y'].mean()"
   ]
  },
  {
   "cell_type": "markdown",
   "metadata": {},
   "source": [
    "<br>\n",
    "\n",
    "nanを埋める"
   ]
  },
  {
   "cell_type": "code",
   "execution_count": 18,
   "metadata": {},
   "outputs": [],
   "source": [
    "df_train[bssid_x_feats] = df_train[bssid_x_feats].fillna(value=bssid_x_mean)\n",
    "df_train[bssid_y_feats] = df_train[bssid_y_feats].fillna(value=bssid_y_mean)\n",
    "df_test[bssid_x_feats] = df_test[bssid_x_feats].fillna(value=bssid_x_mean)\n",
    "df_test[bssid_y_feats] = df_test[bssid_y_feats].fillna(value=bssid_y_mean)"
   ]
  },
  {
   "cell_type": "markdown",
   "metadata": {},
   "source": [
    "<br>\n",
    "\n",
    "preprocessing"
   ]
  },
  {
   "cell_type": "code",
   "execution_count": 19,
   "metadata": {
    "colab": {
     "base_uri": "https://localhost:8080/"
    },
    "executionInfo": {
     "elapsed": 16854,
     "status": "ok",
     "timestamp": 1616479163506,
     "user": {
      "displayName": "ユウキハヤカワ",
      "photoUrl": "https://lh3.googleusercontent.com/a-/AOh14GjfXu9o7zmAYL24s4P8H7I0lvSgQUaSfrXi7qemvQ=s64",
      "userId": "00286900621093795459"
     },
     "user_tz": -540
    },
    "id": "hfyRDfw3Xbov",
    "outputId": "196b63bf-9e51-4a08-8fd5-9b04139c3d4b"
   },
   "outputs": [
    {
     "name": "stdout",
     "output_type": "stream",
     "text": [
      "BSSID TYPES: 4933\n",
      "BSSID TYPES: 197\n",
      "BSSID TYPES: 5130\n"
     ]
    }
   ],
   "source": [
    "# bssidの一覧作成\n",
    "# wifi_bassidにはtrainとtest両方のbssidの一覧が含まれる\n",
    "\n",
    "wifi_bssids = []\n",
    "for i in range(config['globals']['num_feats']):\n",
    "    wifi_bssids.extend(df_train.iloc[:,i].values.tolist())\n",
    "wifi_bssids = list(set(wifi_bssids))\n",
    "\n",
    "wifi_bssids_size = len(wifi_bssids)\n",
    "print(f'BSSID TYPES: {wifi_bssids_size}')\n",
    "\n",
    "wifi_bssids_test = []\n",
    "for i in range(config['globals']['num_feats']):\n",
    "    wifi_bssids_test.extend(df_test.iloc[:,i].values.tolist())\n",
    "wifi_bssids_test = list(set(wifi_bssids_test))\n",
    "\n",
    "wifi_bssids_size = len(wifi_bssids_test)\n",
    "print(f'BSSID TYPES: {wifi_bssids_size}')\n",
    "\n",
    "wifi_bssids.extend(wifi_bssids_test)\n",
    "wifi_bssids_size = len(wifi_bssids)\n",
    "print(f'BSSID TYPES: {wifi_bssids_size}')"
   ]
  },
  {
   "cell_type": "raw",
   "metadata": {
    "colab": {
     "base_uri": "https://localhost:8080/"
    },
    "executionInfo": {
     "elapsed": 16854,
     "status": "ok",
     "timestamp": 1616479163506,
     "user": {
      "displayName": "ユウキハヤカワ",
      "photoUrl": "https://lh3.googleusercontent.com/a-/AOh14GjfXu9o7zmAYL24s4P8H7I0lvSgQUaSfrXi7qemvQ=s64",
      "userId": "00286900621093795459"
     },
     "user_tz": -540
    },
    "id": "hfyRDfw3Xbov",
    "outputId": "196b63bf-9e51-4a08-8fd5-9b04139c3d4b"
   },
   "source": [
    "# bssidの一覧作成\n",
    "# wifi_bassidにはtrainとtest両方のbssidの一覧が含まれる\n",
    "\n",
    "wifi_bssids = []\n",
    "for i in range(100):\n",
    "    wifi_bssids.extend(df_train.iloc[:, i].values.tolist())\n",
    "    wifi_bssids.extend(df_test.iloc[:, i].values.tolist())\n",
    "\n",
    "wifi_bssids = list(set(wifi_bssids))\n",
    "print(f'BSSID TYPES: {len(wifi_bssids)}')"
   ]
  },
  {
   "cell_type": "code",
   "execution_count": 20,
   "metadata": {
    "colab": {
     "base_uri": "https://localhost:8080/"
    },
    "executionInfo": {
     "elapsed": 18605,
     "status": "ok",
     "timestamp": 1616479165294,
     "user": {
      "displayName": "ユウキハヤカワ",
      "photoUrl": "https://lh3.googleusercontent.com/a-/AOh14GjfXu9o7zmAYL24s4P8H7I0lvSgQUaSfrXi7qemvQ=s64",
      "userId": "00286900621093795459"
     },
     "user_tz": -540
    },
    "id": "eBhOfx-CdxJB",
    "outputId": "74a3e5ac-a638-41eb-b228-5d6c6cd9c0df"
   },
   "outputs": [
    {
     "data": {
      "text/plain": [
       "StandardScaler()"
      ]
     },
     "execution_count": 20,
     "metadata": {},
     "output_type": "execute_result"
    }
   ],
   "source": [
    "# LabelEncoding & StandardScaler\n",
    "\n",
    "le = LabelEncoder()\n",
    "le.fit(wifi_bssids)\n",
    "le_site = LabelEncoder()\n",
    "le_site.fit(df_train['site_id'])\n",
    "\n",
    "ss = StandardScaler()\n",
    "ss.fit(df_train.loc[:, rssi_feats])"
   ]
  },
  {
   "cell_type": "code",
   "execution_count": 21,
   "metadata": {
    "executionInfo": {
     "elapsed": 39684,
     "status": "ok",
     "timestamp": 1616479186398,
     "user": {
      "displayName": "ユウキハヤカワ",
      "photoUrl": "https://lh3.googleusercontent.com/a-/AOh14GjfXu9o7zmAYL24s4P8H7I0lvSgQUaSfrXi7qemvQ=s64",
      "userId": "00286900621093795459"
     },
     "user_tz": -540
    },
    "id": "ICMler34Xbt-"
   },
   "outputs": [],
   "source": [
    "df_train.loc[:, rssi_feats] = ss.transform(df_train.loc[:, rssi_feats])\n",
    "df_test.loc[:, rssi_feats] = ss.transform(df_test.loc[:, rssi_feats])\n",
    "for feat in bssid_feats:\n",
    "    df_train.loc[:, feat] = le.transform(df_train.loc[:, feat])\n",
    "    df_test.loc[:, feat] = le.transform(df_test.loc[:, feat])\n",
    "    \n",
    "    df_train.loc[:, feat] = df_train.loc[:, feat] + 1\n",
    "    df_test.loc[:, feat] = df_test.loc[:, feat] + 1\n",
    "    \n",
    "df_train.loc[:, 'site_id'] = le_site.transform(df_train.loc[:, 'site_id'])\n",
    "df_test.loc[:, 'site_id'] = le_site.transform(df_test.loc[:, 'site_id'])\n",
    "\n",
    "# df_train.loc[:, rssi_feats] = ss.transform(df_train.loc[:, rssi_feats])\n",
    "# df_test.loc[:, rssi_feats] = ss.transform(df_test.loc[:, rssi_feats])"
   ]
  },
  {
   "cell_type": "code",
   "execution_count": 22,
   "metadata": {
    "executionInfo": {
     "elapsed": 41413,
     "status": "ok",
     "timestamp": 1616479188164,
     "user": {
      "displayName": "ユウキハヤカワ",
      "photoUrl": "https://lh3.googleusercontent.com/a-/AOh14GjfXu9o7zmAYL24s4P8H7I0lvSgQUaSfrXi7qemvQ=s64",
      "userId": "00286900621093795459"
     },
     "user_tz": -540
    },
    "id": "fhagm8JcdyPI"
   },
   "outputs": [],
   "source": [
    "site_count = len(df_train['site_id'].unique())\n",
    "df_train.reset_index(drop=True, inplace=True)"
   ]
  },
  {
   "cell_type": "code",
   "execution_count": 23,
   "metadata": {},
   "outputs": [
    {
     "data": {
      "text/html": [
       "<div>\n",
       "<style scoped>\n",
       "    .dataframe tbody tr th:only-of-type {\n",
       "        vertical-align: middle;\n",
       "    }\n",
       "\n",
       "    .dataframe tbody tr th {\n",
       "        vertical-align: top;\n",
       "    }\n",
       "\n",
       "    .dataframe thead th {\n",
       "        text-align: right;\n",
       "    }\n",
       "</style>\n",
       "<table border=\"1\" class=\"dataframe\">\n",
       "  <thead>\n",
       "    <tr style=\"text-align: right;\">\n",
       "      <th></th>\n",
       "      <th>bssid_0</th>\n",
       "      <th>bssid_1</th>\n",
       "      <th>bssid_2</th>\n",
       "      <th>bssid_3</th>\n",
       "      <th>bssid_4</th>\n",
       "      <th>bssid_5</th>\n",
       "      <th>bssid_6</th>\n",
       "      <th>bssid_7</th>\n",
       "      <th>bssid_8</th>\n",
       "      <th>bssid_9</th>\n",
       "      <th>...</th>\n",
       "      <th>bssid_x_15</th>\n",
       "      <th>bssid_y_15</th>\n",
       "      <th>bssid_x_16</th>\n",
       "      <th>bssid_y_16</th>\n",
       "      <th>bssid_x_17</th>\n",
       "      <th>bssid_y_17</th>\n",
       "      <th>bssid_x_18</th>\n",
       "      <th>bssid_y_18</th>\n",
       "      <th>bssid_x_19</th>\n",
       "      <th>bssid_y_19</th>\n",
       "    </tr>\n",
       "  </thead>\n",
       "  <tbody>\n",
       "    <tr>\n",
       "      <th>0</th>\n",
       "      <td>3364</td>\n",
       "      <td>2284</td>\n",
       "      <td>1079</td>\n",
       "      <td>2736</td>\n",
       "      <td>728</td>\n",
       "      <td>1322</td>\n",
       "      <td>4770</td>\n",
       "      <td>3824</td>\n",
       "      <td>4021</td>\n",
       "      <td>1325</td>\n",
       "      <td>...</td>\n",
       "      <td>220.064136</td>\n",
       "      <td>130.621938</td>\n",
       "      <td>214.211221</td>\n",
       "      <td>147.514118</td>\n",
       "      <td>208.536700</td>\n",
       "      <td>131.262692</td>\n",
       "      <td>193.375308</td>\n",
       "      <td>128.102097</td>\n",
       "      <td>201.551444</td>\n",
       "      <td>136.780490</td>\n",
       "    </tr>\n",
       "    <tr>\n",
       "      <th>1</th>\n",
       "      <td>2284</td>\n",
       "      <td>3364</td>\n",
       "      <td>1079</td>\n",
       "      <td>1394</td>\n",
       "      <td>2736</td>\n",
       "      <td>1185</td>\n",
       "      <td>659</td>\n",
       "      <td>2965</td>\n",
       "      <td>995</td>\n",
       "      <td>483</td>\n",
       "      <td>...</td>\n",
       "      <td>186.799486</td>\n",
       "      <td>131.196261</td>\n",
       "      <td>202.166839</td>\n",
       "      <td>126.780885</td>\n",
       "      <td>183.883245</td>\n",
       "      <td>133.469729</td>\n",
       "      <td>198.498999</td>\n",
       "      <td>124.970994</td>\n",
       "      <td>183.743442</td>\n",
       "      <td>133.688651</td>\n",
       "    </tr>\n",
       "    <tr>\n",
       "      <th>2</th>\n",
       "      <td>4770</td>\n",
       "      <td>3364</td>\n",
       "      <td>1322</td>\n",
       "      <td>2284</td>\n",
       "      <td>1079</td>\n",
       "      <td>1185</td>\n",
       "      <td>1394</td>\n",
       "      <td>1947</td>\n",
       "      <td>483</td>\n",
       "      <td>938</td>\n",
       "      <td>...</td>\n",
       "      <td>201.551444</td>\n",
       "      <td>136.780490</td>\n",
       "      <td>210.304403</td>\n",
       "      <td>129.768166</td>\n",
       "      <td>183.743442</td>\n",
       "      <td>133.688651</td>\n",
       "      <td>198.538678</td>\n",
       "      <td>121.027648</td>\n",
       "      <td>203.247873</td>\n",
       "      <td>120.138837</td>\n",
       "    </tr>\n",
       "    <tr>\n",
       "      <th>3</th>\n",
       "      <td>1079</td>\n",
       "      <td>2284</td>\n",
       "      <td>1322</td>\n",
       "      <td>1821</td>\n",
       "      <td>4770</td>\n",
       "      <td>2988</td>\n",
       "      <td>728</td>\n",
       "      <td>3364</td>\n",
       "      <td>1394</td>\n",
       "      <td>1185</td>\n",
       "      <td>...</td>\n",
       "      <td>199.940092</td>\n",
       "      <td>129.388281</td>\n",
       "      <td>214.211221</td>\n",
       "      <td>147.514118</td>\n",
       "      <td>208.536700</td>\n",
       "      <td>131.262692</td>\n",
       "      <td>183.743442</td>\n",
       "      <td>133.688651</td>\n",
       "      <td>183.883245</td>\n",
       "      <td>133.469729</td>\n",
       "    </tr>\n",
       "    <tr>\n",
       "      <th>4</th>\n",
       "      <td>4718</td>\n",
       "      <td>4140</td>\n",
       "      <td>4269</td>\n",
       "      <td>873</td>\n",
       "      <td>3666</td>\n",
       "      <td>798</td>\n",
       "      <td>3976</td>\n",
       "      <td>2921</td>\n",
       "      <td>2532</td>\n",
       "      <td>4561</td>\n",
       "      <td>...</td>\n",
       "      <td>226.358348</td>\n",
       "      <td>176.705695</td>\n",
       "      <td>203.709481</td>\n",
       "      <td>169.386031</td>\n",
       "      <td>231.229881</td>\n",
       "      <td>193.854063</td>\n",
       "      <td>222.927150</td>\n",
       "      <td>168.860267</td>\n",
       "      <td>203.708622</td>\n",
       "      <td>169.384776</td>\n",
       "    </tr>\n",
       "  </tbody>\n",
       "</table>\n",
       "<p>5 rows × 245 columns</p>\n",
       "</div>"
      ],
      "text/plain": [
       "   bssid_0  bssid_1  bssid_2  bssid_3  bssid_4  bssid_5  bssid_6  bssid_7  \\\n",
       "0     3364     2284     1079     2736      728     1322     4770     3824   \n",
       "1     2284     3364     1079     1394     2736     1185      659     2965   \n",
       "2     4770     3364     1322     2284     1079     1185     1394     1947   \n",
       "3     1079     2284     1322     1821     4770     2988      728     3364   \n",
       "4     4718     4140     4269      873     3666      798     3976     2921   \n",
       "\n",
       "   bssid_8  bssid_9  ...  bssid_x_15  bssid_y_15  bssid_x_16  bssid_y_16  \\\n",
       "0     4021     1325  ...  220.064136  130.621938  214.211221  147.514118   \n",
       "1      995      483  ...  186.799486  131.196261  202.166839  126.780885   \n",
       "2      483      938  ...  201.551444  136.780490  210.304403  129.768166   \n",
       "3     1394     1185  ...  199.940092  129.388281  214.211221  147.514118   \n",
       "4     2532     4561  ...  226.358348  176.705695  203.709481  169.386031   \n",
       "\n",
       "   bssid_x_17  bssid_y_17  bssid_x_18  bssid_y_18  bssid_x_19  bssid_y_19  \n",
       "0  208.536700  131.262692  193.375308  128.102097  201.551444  136.780490  \n",
       "1  183.883245  133.469729  198.498999  124.970994  183.743442  133.688651  \n",
       "2  183.743442  133.688651  198.538678  121.027648  203.247873  120.138837  \n",
       "3  208.536700  131.262692  183.743442  133.688651  183.883245  133.469729  \n",
       "4  231.229881  193.854063  222.927150  168.860267  203.708622  169.384776  \n",
       "\n",
       "[5 rows x 245 columns]"
      ]
     },
     "execution_count": 23,
     "metadata": {},
     "output_type": "execute_result"
    }
   ],
   "source": [
    "df_train.head()"
   ]
  },
  {
   "cell_type": "markdown",
   "metadata": {},
   "source": [
    "# Execute"
   ]
  },
  {
   "cell_type": "code",
   "execution_count": 24,
   "metadata": {
    "executionInfo": {
     "elapsed": 41390,
     "status": "ok",
     "timestamp": 1616479188168,
     "user": {
      "displayName": "ユウキハヤカワ",
      "photoUrl": "https://lh3.googleusercontent.com/a-/AOh14GjfXu9o7zmAYL24s4P8H7I0lvSgQUaSfrXi7qemvQ=s64",
      "userId": "00286900621093795459"
     },
     "user_tz": -540
    },
    "id": "pUh8IpBV8i8Z"
   },
   "outputs": [],
   "source": [
    "class EarlyStopping:\n",
    "    \"\"\"\n",
    "    Early stops the training if validation loss doesn't improve after a given patience.\n",
    "    based on: https://github.com/Bjarten/early-stopping-pytorch\n",
    "    \"\"\"\n",
    "    def __init__(self, save_name, fold, patience=7, verbose=False, delta=0):\n",
    "        \"\"\"\n",
    "        Args:\n",
    "            patience (int): How long to wait after last time validation loss improved.\n",
    "                            Default: 7\n",
    "            verbose (bool): If True, prints a message for each validation loss improvement. \n",
    "                            Default: False\n",
    "            delta (float): Minimum change in the monitored quantity to qualify as an improvement.\n",
    "                            Default: 0\n",
    "        \"\"\"\n",
    "        self.patience = patience\n",
    "        self.verbose = verbose\n",
    "        self.counter = 0\n",
    "        self.best_score = None\n",
    "        self.early_stop = False\n",
    "        self.val_loss_min = np.Inf\n",
    "        self.delta = delta\n",
    "        self.fold = fold\n",
    "        self.save_name = save_name\n",
    "\n",
    "    def __call__(self, val_loss, model):\n",
    "\n",
    "        score = -val_loss\n",
    "\n",
    "        if self.best_score is None:\n",
    "            self.best_score = score\n",
    "            self.save_checkpoint(val_loss, model)\n",
    "        elif score < self.best_score + self.delta:\n",
    "            self.counter += 1\n",
    "            logger.info(f'EarlyStopping counter: {self.counter} out of {self.patience}')\n",
    "            if self.counter >= self.patience:\n",
    "                self.early_stop = True\n",
    "        else:\n",
    "            self.best_score = score\n",
    "            self.save_checkpoint(val_loss, model)\n",
    "            self.counter = 0\n",
    "\n",
    "    def save_checkpoint(self, val_loss, model):\n",
    "        '''Saves model when validation loss decrease.'''\n",
    "        if self.verbose:\n",
    "            logger.info(f'Validation loss decreased ({self.val_loss_min:.6f} --> {val_loss:.6f}).  Saving model ...')\n",
    "            \n",
    "        torch.save(model.state_dict(),  f'{self.save_name}_{self.fold}.pt')\n",
    "        self.val_loss_min = val_loss"
   ]
  },
  {
   "cell_type": "code",
   "execution_count": 25,
   "metadata": {
    "executionInfo": {
     "elapsed": 41385,
     "status": "ok",
     "timestamp": 1616479188169,
     "user": {
      "displayName": "ユウキハヤカワ",
      "photoUrl": "https://lh3.googleusercontent.com/a-/AOh14GjfXu9o7zmAYL24s4P8H7I0lvSgQUaSfrXi7qemvQ=s64",
      "userId": "00286900621093795459"
     },
     "user_tz": -540
    },
    "id": "7tycasUwdySR"
   },
   "outputs": [],
   "source": [
    "class IndoorWiFiNet(nn.Module):\n",
    "    def __init__(self, bssid_size, site_size, num_feats):\n",
    "        super(IndoorWiFiNet, self).__init__()\n",
    "        self.bssid_embedding = nn.Embedding(bssid_size, 64, max_norm=True)\n",
    "        self.site_embedding = nn.Embedding(site_size, 64, max_norm=True)\n",
    "\n",
    "        self.rssi = nn.Sequential(\n",
    "            nn.BatchNorm1d(20),\n",
    "            nn.Linear(20, num_feats * 64)\n",
    "#             nn.BatchNorm1d(20*3),\n",
    "#             nn.Linear(20*3, num_feats * 64 *3)\n",
    "        )\n",
    "        self.bssid_x = nn.Sequential(\n",
    "            nn.BatchNorm1d(20),\n",
    "            nn.Linear(20, num_feats * 64)\n",
    "        )\n",
    "        self.bssid_y = nn.Sequential(\n",
    "            nn.BatchNorm1d(20),\n",
    "            nn.Linear(20, num_feats * 64)\n",
    "        )\n",
    "\n",
    "        concat_size = 64 + (num_feats * 64) + (num_feats * 64) + (num_feats * 64) + (num_feats * 64)\n",
    "        self.bn1 = nn.BatchNorm1d(concat_size)\n",
    "\n",
    "        self.flatten = nn.Flatten()\n",
    "\n",
    "        self.dropout1 = nn.Dropout(0.3)\n",
    "        self.linear1 = nn.Linear(in_features=concat_size, out_features=256)#, bias=False)\n",
    "        self.bn2 = nn.BatchNorm1d(256)\n",
    "\n",
    "        self.linear2 = nn.Linear(in_features=256, out_features=128)#, bias=False)\n",
    "        self.linear3 = nn.Linear(in_features=128, out_features=16)#, bias=False)\n",
    "\n",
    "        self.bn3 = nn.BatchNorm1d(128)\n",
    "        self.bn4 = nn.BatchNorm1d(16)\n",
    "\n",
    "\n",
    "        self.xy = nn.Linear(in_features=16, out_features=2)#, bias=False)\n",
    "        self.floor = nn.Linear(in_features=16, out_features=1)#, bias=False)\n",
    "        \n",
    "\n",
    "    def forward(self, bssid, rssi, site, bssid_x, bssid_y):\n",
    "#     def forward(self, bssid, rssi, site):\n",
    "\n",
    "        site = torch.reshape(site, (-1, 1))\n",
    "\n",
    "        bssid_out = self.bssid_embedding(bssid)\n",
    "        site_out = self.site_embedding(site)\n",
    "\n",
    "        rssi_out = self.rssi(rssi)\n",
    "        bssid_x_out = self.bssid_x(bssid_x)\n",
    "        bssid_y_out = self.bssid_y(bssid_y)\n",
    "\n",
    "        bssid_out = self.flatten(bssid_out)\n",
    "        site_out = self.flatten(site_out)\n",
    "\n",
    "        x = torch.cat([bssid_out, rssi_out, site_out, bssid_x_out, bssid_y_out], dim=1)\n",
    "#         x = torch.cat([bssid_out, rssi_out, site_out], dim=1)\n",
    "        x = self.bn1(x)\n",
    "        x = self.dropout1(x)\n",
    "        x = F.relu(self.linear1(x))\n",
    "        x = self.bn2(x)\n",
    "\n",
    "        x = F.relu(self.linear2(x))\n",
    "        x = self.bn3(x)\n",
    "\n",
    "        x = F.relu(self.linear3(x))\n",
    "        x = self.bn4(x)\n",
    "\n",
    "        #x = self.lstm(x)\n",
    "\n",
    "        xy = self.xy(x)\n",
    "        floor = self.floor(x)\n",
    "\n",
    "        return xy, floor"
   ]
  },
  {
   "cell_type": "code",
   "execution_count": 26,
   "metadata": {
    "executionInfo": {
     "elapsed": 1376,
     "status": "ok",
     "timestamp": 1616481355217,
     "user": {
      "displayName": "ユウキハヤカワ",
      "photoUrl": "https://lh3.googleusercontent.com/a-/AOh14GjfXu9o7zmAYL24s4P8H7I0lvSgQUaSfrXi7qemvQ=s64",
      "userId": "00286900621093795459"
     },
     "user_tz": -540
    },
    "id": "uNYZS-avjuD-"
   },
   "outputs": [],
   "source": [
    "class IndoorWiFiDataSet(Dataset):\n",
    "    def __init__(self, wifi_df, bssid_feats_, rssi_feats_, bssid_x_feats_, bssid_y_feats_, data_type='test'):\n",
    "        self.wifi_df = wifi_df\n",
    "        self.data_type = data_type\n",
    "        self.bssids = wifi_df[bssid_feats_].to_numpy().astype(np.int)    # <----- リファクタ\n",
    "        self.rssis = wifi_df[rssi_feats_].to_numpy().astype(np.float)    # <----- リファクタ\n",
    "        \n",
    "        self.bssid_x = wifi_df[bssid_x_feats_].to_numpy().astype(np.float)\n",
    "        self.bssid_y = wifi_df[bssid_y_feats_].to_numpy().astype(np.float)\n",
    "        \n",
    "        self.site_ids = wifi_df['site_id'].to_numpy()\n",
    "        if data_type in ['train', 'valid']:\n",
    "            self.floors = wifi_df['floor'].to_numpy().astype(np.int)\n",
    "            self.xs = wifi_df['x'].to_numpy()\n",
    "            self.ys = wifi_df['y'].to_numpy()\n",
    "        \n",
    "    def __len__(self):\n",
    "        return len(self.wifi_df)\n",
    "\n",
    "    def __getitem__(self, idx):\n",
    "        # wifi_row = self.wifi_df.iloc[idx]\n",
    "        bssid = self.bssids[idx, :]\n",
    "        rssi = self.rssis[idx, :]\n",
    "        site_id = self.site_ids[idx]\n",
    "        \n",
    "        bssid_x = self.bssid_x[idx, :]\n",
    "        bssid_y = self.bssid_y[idx, :]\n",
    "\n",
    "        if self.data_type in ['test', 'valid']:\n",
    "            return bssid, rssi, site_id, bssid_x, bssid_y\n",
    "\n",
    "        elif self.data_type == 'train':\n",
    "            x = self.xs[idx]\n",
    "            y = self.ys[idx]\n",
    "            floor = self.floors[idx]\n",
    "\n",
    "            return bssid, rssi, site_id, x, y, floor, bssid_x, bssid_y\n"
   ]
  },
  {
   "cell_type": "code",
   "execution_count": 27,
   "metadata": {
    "executionInfo": {
     "elapsed": 41354,
     "status": "ok",
     "timestamp": 1616479188173,
     "user": {
      "displayName": "ユウキハヤカワ",
      "photoUrl": "https://lh3.googleusercontent.com/a-/AOh14GjfXu9o7zmAYL24s4P8H7I0lvSgQUaSfrXi7qemvQ=s64",
      "userId": "00286900621093795459"
     },
     "user_tz": -540
    },
    "id": "F4Parwz4Xcrn"
   },
   "outputs": [],
   "source": [
    "class IndoorLoss(nn.Module):\n",
    "    def __init__(self):\n",
    "        super().__init__()\n",
    "\n",
    "        self.mse = nn.MSELoss()\n",
    "\n",
    "    def forward(self, x, y, floor, x_pred, y_pred, floor_pred):\n",
    "\n",
    "        x_loss = self.mse(x, x_pred)\n",
    "        y_loss = self.mse(y, y_pred)\n",
    "        floor_loss = self.mse(floor, floor_pred)\n",
    "\n",
    "        return x_loss + y_loss + floor_loss"
   ]
  },
  {
   "cell_type": "code",
   "execution_count": 28,
   "metadata": {
    "colab": {
     "base_uri": "https://localhost:8080/"
    },
    "executionInfo": {
     "elapsed": 41347,
     "status": "ok",
     "timestamp": 1616479188173,
     "user": {
      "displayName": "ユウキハヤカワ",
      "photoUrl": "https://lh3.googleusercontent.com/a-/AOh14GjfXu9o7zmAYL24s4P8H7I0lvSgQUaSfrXi7qemvQ=s64",
      "userId": "00286900621093795459"
     },
     "user_tz": -540
    },
    "id": "_Diyk0TFZBiQ",
    "outputId": "f5a01157-c5f0-448a-ca29-9380a573e4b1"
   },
   "outputs": [],
   "source": [
    "# device = torch.device(\"cuda\" if torch.cuda.is_available() else \"cpu\")\n",
    "device = torch.device(config['globals']['device'])"
   ]
  },
  {
   "cell_type": "code",
   "execution_count": 29,
   "metadata": {
    "colab": {
     "base_uri": "https://localhost:8080/"
    },
    "executionInfo": {
     "elapsed": 2141644,
     "status": "ok",
     "timestamp": 1616481288506,
     "user": {
      "displayName": "ユウキハヤカワ",
      "photoUrl": "https://lh3.googleusercontent.com/a-/AOh14GjfXu9o7zmAYL24s4P8H7I0lvSgQUaSfrXi7qemvQ=s64",
      "userId": "00286900621093795459"
     },
     "user_tz": -540
    },
    "id": "AdSYMcirdyXx",
    "outputId": "e1f840c9-d3af-4df7-b2fc-3f7f9735df4d"
   },
   "outputs": [
    {
     "name": "stdout",
     "output_type": "stream",
     "text": [
      "\n",
      "====== 1 ======\n"
     ]
    },
    {
     "data": {
      "text/html": [
       "\n",
       "    <div>\n",
       "        <style>\n",
       "            /* Turns off some styling */\n",
       "            progress {\n",
       "                /* gets rid of default border in Firefox and Opera. */\n",
       "                border: none;\n",
       "                /* Needs to be in here for Safari polyfill so background images work as expected. */\n",
       "                background-size: auto;\n",
       "            }\n",
       "            .progress-bar-interrupted, .progress-bar-interrupted::-webkit-progress-bar {\n",
       "                background: #F44336;\n",
       "            }\n",
       "        </style>\n",
       "      <progress value='19' class='' max='100' style='width:300px; height:20px; vertical-align: middle;'></progress>\n",
       "      19.00% [19/100 00:33<02:23 epoch = 19]\n",
       "    </div>\n",
       "    \n",
       "\n",
       "\n",
       "    <div>\n",
       "        <style>\n",
       "            /* Turns off some styling */\n",
       "            progress {\n",
       "                /* gets rid of default border in Firefox and Opera. */\n",
       "                border: none;\n",
       "                /* Needs to be in here for Safari polyfill so background images work as expected. */\n",
       "                background-size: auto;\n",
       "            }\n",
       "            .progress-bar-interrupted, .progress-bar-interrupted::-webkit-progress-bar {\n",
       "                background: #F44336;\n",
       "            }\n",
       "        </style>\n",
       "      <progress value='37' class='' max='37' style='width:300px; height:20px; vertical-align: middle;'></progress>\n",
       "      100.00% [37/37 00:00<00:00]\n",
       "    </div>\n",
       "    "
      ],
      "text/plain": [
       "<IPython.core.display.HTML object>"
      ]
     },
     "metadata": {},
     "output_type": "display_data"
    },
    {
     "name": "stderr",
     "output_type": "stream",
     "text": [
      "2021-04-09 00:10:15.865 | INFO     | __main__:save_checkpoint:46 - Validation loss decreased (inf --> 173.824481).  Saving model ...\n",
      "2021-04-09 00:10:17.620 | INFO     | __main__:save_checkpoint:46 - Validation loss decreased (173.824481 --> 115.878266).  Saving model ...\n",
      "2021-04-09 00:10:19.365 | INFO     | __main__:save_checkpoint:46 - Validation loss decreased (115.878266 --> 55.788110).  Saving model ...\n",
      "2021-04-09 00:10:21.146 | INFO     | __main__:save_checkpoint:46 - Validation loss decreased (55.788110 --> 23.343889).  Saving model ...\n",
      "2021-04-09 00:10:22.921 | INFO     | __main__:save_checkpoint:46 - Validation loss decreased (23.343889 --> 11.354298).  Saving model ...\n",
      "2021-04-09 00:10:24.739 | INFO     | __main__:save_checkpoint:46 - Validation loss decreased (11.354298 --> 8.007832).  Saving model ...\n",
      "2021-04-09 00:10:26.509 | INFO     | __main__:save_checkpoint:46 - Validation loss decreased (8.007832 --> 7.185622).  Saving model ...\n",
      "2021-04-09 00:10:28.324 | INFO     | __main__:save_checkpoint:46 - Validation loss decreased (7.185622 --> 7.161879).  Saving model ...\n",
      "2021-04-09 00:10:30.092 | INFO     | __main__:save_checkpoint:46 - Validation loss decreased (7.161879 --> 6.809662).  Saving model ...\n",
      "2021-04-09 00:10:31.896 | INFO     | __main__:save_checkpoint:46 - Validation loss decreased (6.809662 --> 6.439855).  Saving model ...\n",
      "2021-04-09 00:10:33.784 | INFO     | __main__:__call__:35 - EarlyStopping counter: 1 out of 10\n",
      "2021-04-09 00:10:35.497 | INFO     | __main__:__call__:35 - EarlyStopping counter: 2 out of 10\n",
      "2021-04-09 00:10:37.171 | INFO     | __main__:__call__:35 - EarlyStopping counter: 3 out of 10\n",
      "2021-04-09 00:10:38.962 | INFO     | __main__:__call__:35 - EarlyStopping counter: 4 out of 10\n",
      "2021-04-09 00:10:40.763 | INFO     | __main__:__call__:35 - EarlyStopping counter: 5 out of 10\n",
      "2021-04-09 00:10:42.547 | INFO     | __main__:__call__:35 - EarlyStopping counter: 6 out of 10\n",
      "2021-04-09 00:10:44.290 | INFO     | __main__:__call__:35 - EarlyStopping counter: 7 out of 10\n",
      "2021-04-09 00:10:46.078 | INFO     | __main__:__call__:35 - EarlyStopping counter: 8 out of 10\n",
      "2021-04-09 00:10:47.880 | INFO     | __main__:__call__:35 - EarlyStopping counter: 9 out of 10\n",
      "2021-04-09 00:10:49.664 | INFO     | __main__:__call__:35 - EarlyStopping counter: 10 out of 10\n",
      "2021-04-09 00:10:49.665 | INFO     | __main__:<module>:95 - Early stopping\n"
     ]
    },
    {
     "name": "stdout",
     "output_type": "stream",
     "text": [
      "6.439854628887291\n",
      "\n",
      "====== 2 ======\n"
     ]
    },
    {
     "data": {
      "text/html": [
       "\n",
       "    <div>\n",
       "        <style>\n",
       "            /* Turns off some styling */\n",
       "            progress {\n",
       "                /* gets rid of default border in Firefox and Opera. */\n",
       "                border: none;\n",
       "                /* Needs to be in here for Safari polyfill so background images work as expected. */\n",
       "                background-size: auto;\n",
       "            }\n",
       "            .progress-bar-interrupted, .progress-bar-interrupted::-webkit-progress-bar {\n",
       "                background: #F44336;\n",
       "            }\n",
       "        </style>\n",
       "      <progress value='21' class='' max='100' style='width:300px; height:20px; vertical-align: middle;'></progress>\n",
       "      21.00% [21/100 00:37<02:20 epoch = 21]\n",
       "    </div>\n",
       "    \n",
       "\n",
       "\n",
       "    <div>\n",
       "        <style>\n",
       "            /* Turns off some styling */\n",
       "            progress {\n",
       "                /* gets rid of default border in Firefox and Opera. */\n",
       "                border: none;\n",
       "                /* Needs to be in here for Safari polyfill so background images work as expected. */\n",
       "                background-size: auto;\n",
       "            }\n",
       "            .progress-bar-interrupted, .progress-bar-interrupted::-webkit-progress-bar {\n",
       "                background: #F44336;\n",
       "            }\n",
       "        </style>\n",
       "      <progress value='37' class='' max='37' style='width:300px; height:20px; vertical-align: middle;'></progress>\n",
       "      100.00% [37/37 00:00<00:00]\n",
       "    </div>\n",
       "    "
      ],
      "text/plain": [
       "<IPython.core.display.HTML object>"
      ]
     },
     "metadata": {},
     "output_type": "display_data"
    },
    {
     "name": "stderr",
     "output_type": "stream",
     "text": [
      "2021-04-09 00:10:52.136 | INFO     | __main__:save_checkpoint:46 - Validation loss decreased (inf --> 172.961147).  Saving model ...\n",
      "2021-04-09 00:10:53.904 | INFO     | __main__:save_checkpoint:46 - Validation loss decreased (172.961147 --> 112.629809).  Saving model ...\n",
      "2021-04-09 00:10:55.714 | INFO     | __main__:save_checkpoint:46 - Validation loss decreased (112.629809 --> 56.547333).  Saving model ...\n",
      "2021-04-09 00:10:57.480 | INFO     | __main__:save_checkpoint:46 - Validation loss decreased (56.547333 --> 24.316774).  Saving model ...\n",
      "2021-04-09 00:10:59.352 | INFO     | __main__:save_checkpoint:46 - Validation loss decreased (24.316774 --> 10.761358).  Saving model ...\n",
      "2021-04-09 00:11:01.165 | INFO     | __main__:save_checkpoint:46 - Validation loss decreased (10.761358 --> 8.650099).  Saving model ...\n",
      "2021-04-09 00:11:02.901 | INFO     | __main__:save_checkpoint:46 - Validation loss decreased (8.650099 --> 6.929686).  Saving model ...\n",
      "2021-04-09 00:11:04.697 | INFO     | __main__:__call__:35 - EarlyStopping counter: 1 out of 10\n",
      "2021-04-09 00:11:06.500 | INFO     | __main__:save_checkpoint:46 - Validation loss decreased (6.929686 --> 6.658966).  Saving model ...\n",
      "2021-04-09 00:11:08.277 | INFO     | __main__:__call__:35 - EarlyStopping counter: 1 out of 10\n",
      "2021-04-09 00:11:10.055 | INFO     | __main__:__call__:35 - EarlyStopping counter: 2 out of 10\n",
      "2021-04-09 00:11:11.878 | INFO     | __main__:save_checkpoint:46 - Validation loss decreased (6.658966 --> 6.649302).  Saving model ...\n",
      "2021-04-09 00:11:13.726 | INFO     | __main__:__call__:35 - EarlyStopping counter: 1 out of 10\n",
      "2021-04-09 00:11:15.498 | INFO     | __main__:__call__:35 - EarlyStopping counter: 2 out of 10\n",
      "2021-04-09 00:11:17.173 | INFO     | __main__:__call__:35 - EarlyStopping counter: 3 out of 10\n",
      "2021-04-09 00:11:18.839 | INFO     | __main__:__call__:35 - EarlyStopping counter: 4 out of 10\n",
      "2021-04-09 00:11:20.572 | INFO     | __main__:__call__:35 - EarlyStopping counter: 5 out of 10\n",
      "2021-04-09 00:11:22.346 | INFO     | __main__:__call__:35 - EarlyStopping counter: 6 out of 10\n",
      "2021-04-09 00:11:24.129 | INFO     | __main__:__call__:35 - EarlyStopping counter: 7 out of 10\n",
      "2021-04-09 00:11:25.899 | INFO     | __main__:__call__:35 - EarlyStopping counter: 8 out of 10\n",
      "2021-04-09 00:11:27.685 | INFO     | __main__:__call__:35 - EarlyStopping counter: 9 out of 10\n",
      "2021-04-09 00:11:29.500 | INFO     | __main__:__call__:35 - EarlyStopping counter: 10 out of 10\n",
      "2021-04-09 00:11:29.500 | INFO     | __main__:<module>:95 - Early stopping\n"
     ]
    },
    {
     "name": "stdout",
     "output_type": "stream",
     "text": [
      "6.6493020786583745\n",
      "\n",
      "====== 3 ======\n"
     ]
    },
    {
     "data": {
      "text/html": [
       "\n",
       "    <div>\n",
       "        <style>\n",
       "            /* Turns off some styling */\n",
       "            progress {\n",
       "                /* gets rid of default border in Firefox and Opera. */\n",
       "                border: none;\n",
       "                /* Needs to be in here for Safari polyfill so background images work as expected. */\n",
       "                background-size: auto;\n",
       "            }\n",
       "            .progress-bar-interrupted, .progress-bar-interrupted::-webkit-progress-bar {\n",
       "                background: #F44336;\n",
       "            }\n",
       "        </style>\n",
       "      <progress value='24' class='' max='100' style='width:300px; height:20px; vertical-align: middle;'></progress>\n",
       "      24.00% [24/100 00:42<02:14 epoch = 24]\n",
       "    </div>\n",
       "    \n",
       "\n",
       "\n",
       "    <div>\n",
       "        <style>\n",
       "            /* Turns off some styling */\n",
       "            progress {\n",
       "                /* gets rid of default border in Firefox and Opera. */\n",
       "                border: none;\n",
       "                /* Needs to be in here for Safari polyfill so background images work as expected. */\n",
       "                background-size: auto;\n",
       "            }\n",
       "            .progress-bar-interrupted, .progress-bar-interrupted::-webkit-progress-bar {\n",
       "                background: #F44336;\n",
       "            }\n",
       "        </style>\n",
       "      <progress value='37' class='' max='37' style='width:300px; height:20px; vertical-align: middle;'></progress>\n",
       "      100.00% [37/37 00:00<00:00]\n",
       "    </div>\n",
       "    "
      ],
      "text/plain": [
       "<IPython.core.display.HTML object>"
      ]
     },
     "metadata": {},
     "output_type": "display_data"
    },
    {
     "name": "stderr",
     "output_type": "stream",
     "text": [
      "2021-04-09 00:11:31.998 | INFO     | __main__:save_checkpoint:46 - Validation loss decreased (inf --> 171.248080).  Saving model ...\n",
      "2021-04-09 00:11:33.768 | INFO     | __main__:save_checkpoint:46 - Validation loss decreased (171.248080 --> 118.070214).  Saving model ...\n",
      "2021-04-09 00:11:35.603 | INFO     | __main__:save_checkpoint:46 - Validation loss decreased (118.070214 --> 56.122378).  Saving model ...\n",
      "2021-04-09 00:11:37.387 | INFO     | __main__:save_checkpoint:46 - Validation loss decreased (56.122378 --> 21.912839).  Saving model ...\n",
      "2021-04-09 00:11:39.201 | INFO     | __main__:save_checkpoint:46 - Validation loss decreased (21.912839 --> 14.470841).  Saving model ...\n",
      "2021-04-09 00:11:40.988 | INFO     | __main__:save_checkpoint:46 - Validation loss decreased (14.470841 --> 9.153143).  Saving model ...\n",
      "2021-04-09 00:11:42.665 | INFO     | __main__:save_checkpoint:46 - Validation loss decreased (9.153143 --> 7.140678).  Saving model ...\n",
      "2021-04-09 00:11:44.515 | INFO     | __main__:save_checkpoint:46 - Validation loss decreased (7.140678 --> 6.481235).  Saving model ...\n",
      "2021-04-09 00:11:46.213 | INFO     | __main__:__call__:35 - EarlyStopping counter: 1 out of 10\n",
      "2021-04-09 00:11:48.016 | INFO     | __main__:__call__:35 - EarlyStopping counter: 2 out of 10\n",
      "2021-04-09 00:11:49.765 | INFO     | __main__:__call__:35 - EarlyStopping counter: 3 out of 10\n",
      "2021-04-09 00:11:51.540 | INFO     | __main__:__call__:35 - EarlyStopping counter: 4 out of 10\n",
      "2021-04-09 00:11:53.265 | INFO     | __main__:__call__:35 - EarlyStopping counter: 5 out of 10\n",
      "2021-04-09 00:11:54.931 | INFO     | __main__:__call__:35 - EarlyStopping counter: 6 out of 10\n",
      "2021-04-09 00:11:56.574 | INFO     | __main__:save_checkpoint:46 - Validation loss decreased (6.481235 --> 6.391264).  Saving model ...\n",
      "2021-04-09 00:11:58.399 | INFO     | __main__:__call__:35 - EarlyStopping counter: 1 out of 10\n",
      "2021-04-09 00:12:00.201 | INFO     | __main__:__call__:35 - EarlyStopping counter: 2 out of 10\n",
      "2021-04-09 00:12:01.795 | INFO     | __main__:__call__:35 - EarlyStopping counter: 3 out of 10\n",
      "2021-04-09 00:12:03.643 | INFO     | __main__:__call__:35 - EarlyStopping counter: 4 out of 10\n",
      "2021-04-09 00:12:05.417 | INFO     | __main__:__call__:35 - EarlyStopping counter: 5 out of 10\n",
      "2021-04-09 00:12:07.228 | INFO     | __main__:__call__:35 - EarlyStopping counter: 6 out of 10\n",
      "2021-04-09 00:12:09.043 | INFO     | __main__:__call__:35 - EarlyStopping counter: 7 out of 10\n",
      "2021-04-09 00:12:10.758 | INFO     | __main__:__call__:35 - EarlyStopping counter: 8 out of 10\n",
      "2021-04-09 00:12:12.560 | INFO     | __main__:__call__:35 - EarlyStopping counter: 9 out of 10\n",
      "2021-04-09 00:12:14.352 | INFO     | __main__:__call__:35 - EarlyStopping counter: 10 out of 10\n",
      "2021-04-09 00:12:14.352 | INFO     | __main__:<module>:95 - Early stopping\n"
     ]
    },
    {
     "name": "stdout",
     "output_type": "stream",
     "text": [
      "6.391263957531634\n",
      "\n",
      "====== 4 ======\n"
     ]
    },
    {
     "data": {
      "text/html": [
       "\n",
       "    <div>\n",
       "        <style>\n",
       "            /* Turns off some styling */\n",
       "            progress {\n",
       "                /* gets rid of default border in Firefox and Opera. */\n",
       "                border: none;\n",
       "                /* Needs to be in here for Safari polyfill so background images work as expected. */\n",
       "                background-size: auto;\n",
       "            }\n",
       "            .progress-bar-interrupted, .progress-bar-interrupted::-webkit-progress-bar {\n",
       "                background: #F44336;\n",
       "            }\n",
       "        </style>\n",
       "      <progress value='23' class='' max='100' style='width:300px; height:20px; vertical-align: middle;'></progress>\n",
       "      23.00% [23/100 00:41<02:18 epoch = 23]\n",
       "    </div>\n",
       "    \n",
       "\n",
       "\n",
       "    <div>\n",
       "        <style>\n",
       "            /* Turns off some styling */\n",
       "            progress {\n",
       "                /* gets rid of default border in Firefox and Opera. */\n",
       "                border: none;\n",
       "                /* Needs to be in here for Safari polyfill so background images work as expected. */\n",
       "                background-size: auto;\n",
       "            }\n",
       "            .progress-bar-interrupted, .progress-bar-interrupted::-webkit-progress-bar {\n",
       "                background: #F44336;\n",
       "            }\n",
       "        </style>\n",
       "      <progress value='37' class='' max='37' style='width:300px; height:20px; vertical-align: middle;'></progress>\n",
       "      100.00% [37/37 00:00<00:00]\n",
       "    </div>\n",
       "    "
      ],
      "text/plain": [
       "<IPython.core.display.HTML object>"
      ]
     },
     "metadata": {},
     "output_type": "display_data"
    },
    {
     "name": "stderr",
     "output_type": "stream",
     "text": [
      "2021-04-09 00:12:16.820 | INFO     | __main__:save_checkpoint:46 - Validation loss decreased (inf --> 172.498879).  Saving model ...\n",
      "2021-04-09 00:12:18.513 | INFO     | __main__:save_checkpoint:46 - Validation loss decreased (172.498879 --> 112.331878).  Saving model ...\n",
      "2021-04-09 00:12:20.309 | INFO     | __main__:save_checkpoint:46 - Validation loss decreased (112.331878 --> 53.861667).  Saving model ...\n",
      "2021-04-09 00:12:22.132 | INFO     | __main__:save_checkpoint:46 - Validation loss decreased (53.861667 --> 21.471288).  Saving model ...\n",
      "2021-04-09 00:12:23.943 | INFO     | __main__:save_checkpoint:46 - Validation loss decreased (21.471288 --> 10.822174).  Saving model ...\n",
      "2021-04-09 00:12:25.745 | INFO     | __main__:save_checkpoint:46 - Validation loss decreased (10.822174 --> 8.197397).  Saving model ...\n",
      "2021-04-09 00:12:27.510 | INFO     | __main__:save_checkpoint:46 - Validation loss decreased (8.197397 --> 7.544069).  Saving model ...\n",
      "2021-04-09 00:12:29.338 | INFO     | __main__:save_checkpoint:46 - Validation loss decreased (7.544069 --> 7.045235).  Saving model ...\n",
      "2021-04-09 00:12:31.179 | INFO     | __main__:save_checkpoint:46 - Validation loss decreased (7.045235 --> 6.828503).  Saving model ...\n",
      "2021-04-09 00:12:33.003 | INFO     | __main__:__call__:35 - EarlyStopping counter: 1 out of 10\n",
      "2021-04-09 00:12:34.786 | INFO     | __main__:save_checkpoint:46 - Validation loss decreased (6.828503 --> 6.789955).  Saving model ...\n",
      "2021-04-09 00:12:36.581 | INFO     | __main__:__call__:35 - EarlyStopping counter: 1 out of 10\n",
      "2021-04-09 00:12:38.327 | INFO     | __main__:__call__:35 - EarlyStopping counter: 2 out of 10\n",
      "2021-04-09 00:12:40.179 | INFO     | __main__:save_checkpoint:46 - Validation loss decreased (6.789955 --> 6.562600).  Saving model ...\n",
      "2021-04-09 00:12:41.986 | INFO     | __main__:__call__:35 - EarlyStopping counter: 1 out of 10\n",
      "2021-04-09 00:12:43.803 | INFO     | __main__:__call__:35 - EarlyStopping counter: 2 out of 10\n",
      "2021-04-09 00:12:45.612 | INFO     | __main__:__call__:35 - EarlyStopping counter: 3 out of 10\n",
      "2021-04-09 00:12:47.423 | INFO     | __main__:__call__:35 - EarlyStopping counter: 4 out of 10\n",
      "2021-04-09 00:12:49.265 | INFO     | __main__:__call__:35 - EarlyStopping counter: 5 out of 10\n",
      "2021-04-09 00:12:51.105 | INFO     | __main__:__call__:35 - EarlyStopping counter: 6 out of 10\n",
      "2021-04-09 00:12:52.882 | INFO     | __main__:__call__:35 - EarlyStopping counter: 7 out of 10\n",
      "2021-04-09 00:12:54.616 | INFO     | __main__:__call__:35 - EarlyStopping counter: 8 out of 10\n",
      "2021-04-09 00:12:56.401 | INFO     | __main__:__call__:35 - EarlyStopping counter: 9 out of 10\n",
      "2021-04-09 00:12:58.201 | INFO     | __main__:__call__:35 - EarlyStopping counter: 10 out of 10\n",
      "2021-04-09 00:12:58.202 | INFO     | __main__:<module>:95 - Early stopping\n"
     ]
    },
    {
     "name": "stdout",
     "output_type": "stream",
     "text": [
      "6.56260022055599\n",
      "\n",
      "====== 5 ======\n"
     ]
    },
    {
     "data": {
      "text/html": [
       "\n",
       "    <div>\n",
       "        <style>\n",
       "            /* Turns off some styling */\n",
       "            progress {\n",
       "                /* gets rid of default border in Firefox and Opera. */\n",
       "                border: none;\n",
       "                /* Needs to be in here for Safari polyfill so background images work as expected. */\n",
       "                background-size: auto;\n",
       "            }\n",
       "            .progress-bar-interrupted, .progress-bar-interrupted::-webkit-progress-bar {\n",
       "                background: #F44336;\n",
       "            }\n",
       "        </style>\n",
       "      <progress value='22' class='' max='100' style='width:300px; height:20px; vertical-align: middle;'></progress>\n",
       "      22.00% [22/100 00:39<02:18 epoch = 22]\n",
       "    </div>\n",
       "    \n",
       "\n",
       "\n",
       "    <div>\n",
       "        <style>\n",
       "            /* Turns off some styling */\n",
       "            progress {\n",
       "                /* gets rid of default border in Firefox and Opera. */\n",
       "                border: none;\n",
       "                /* Needs to be in here for Safari polyfill so background images work as expected. */\n",
       "                background-size: auto;\n",
       "            }\n",
       "            .progress-bar-interrupted, .progress-bar-interrupted::-webkit-progress-bar {\n",
       "                background: #F44336;\n",
       "            }\n",
       "        </style>\n",
       "      <progress value='37' class='' max='37' style='width:300px; height:20px; vertical-align: middle;'></progress>\n",
       "      100.00% [37/37 00:00<00:00]\n",
       "    </div>\n",
       "    "
      ],
      "text/plain": [
       "<IPython.core.display.HTML object>"
      ]
     },
     "metadata": {},
     "output_type": "display_data"
    },
    {
     "name": "stderr",
     "output_type": "stream",
     "text": [
      "2021-04-09 00:13:00.694 | INFO     | __main__:save_checkpoint:46 - Validation loss decreased (inf --> 173.572659).  Saving model ...\n",
      "2021-04-09 00:13:02.427 | INFO     | __main__:save_checkpoint:46 - Validation loss decreased (173.572659 --> 111.570274).  Saving model ...\n",
      "2021-04-09 00:13:04.218 | INFO     | __main__:save_checkpoint:46 - Validation loss decreased (111.570274 --> 52.524712).  Saving model ...\n",
      "2021-04-09 00:13:06.060 | INFO     | __main__:save_checkpoint:46 - Validation loss decreased (52.524712 --> 24.083422).  Saving model ...\n",
      "2021-04-09 00:13:07.873 | INFO     | __main__:save_checkpoint:46 - Validation loss decreased (24.083422 --> 10.789782).  Saving model ...\n",
      "2021-04-09 00:13:09.664 | INFO     | __main__:save_checkpoint:46 - Validation loss decreased (10.789782 --> 8.429527).  Saving model ...\n",
      "2021-04-09 00:13:11.433 | INFO     | __main__:save_checkpoint:46 - Validation loss decreased (8.429527 --> 7.404780).  Saving model ...\n",
      "2021-04-09 00:13:13.224 | INFO     | __main__:save_checkpoint:46 - Validation loss decreased (7.404780 --> 6.776664).  Saving model ...\n",
      "2021-04-09 00:13:14.992 | INFO     | __main__:save_checkpoint:46 - Validation loss decreased (6.776664 --> 6.419637).  Saving model ...\n",
      "2021-04-09 00:13:16.812 | INFO     | __main__:__call__:35 - EarlyStopping counter: 1 out of 10\n",
      "2021-04-09 00:13:18.425 | INFO     | __main__:__call__:35 - EarlyStopping counter: 2 out of 10\n",
      "2021-04-09 00:13:20.243 | INFO     | __main__:__call__:35 - EarlyStopping counter: 3 out of 10\n",
      "2021-04-09 00:13:21.977 | INFO     | __main__:save_checkpoint:46 - Validation loss decreased (6.419637 --> 6.408360).  Saving model ...\n",
      "2021-04-09 00:13:23.577 | INFO     | __main__:__call__:35 - EarlyStopping counter: 1 out of 10\n",
      "2021-04-09 00:13:25.366 | INFO     | __main__:__call__:35 - EarlyStopping counter: 2 out of 10\n",
      "2021-04-09 00:13:27.190 | INFO     | __main__:__call__:35 - EarlyStopping counter: 3 out of 10\n",
      "2021-04-09 00:13:28.989 | INFO     | __main__:__call__:35 - EarlyStopping counter: 4 out of 10\n",
      "2021-04-09 00:13:30.823 | INFO     | __main__:__call__:35 - EarlyStopping counter: 5 out of 10\n",
      "2021-04-09 00:13:32.635 | INFO     | __main__:__call__:35 - EarlyStopping counter: 6 out of 10\n",
      "2021-04-09 00:13:34.482 | INFO     | __main__:__call__:35 - EarlyStopping counter: 7 out of 10\n",
      "2021-04-09 00:13:36.221 | INFO     | __main__:__call__:35 - EarlyStopping counter: 8 out of 10\n",
      "2021-04-09 00:13:37.959 | INFO     | __main__:__call__:35 - EarlyStopping counter: 9 out of 10\n",
      "2021-04-09 00:13:39.761 | INFO     | __main__:__call__:35 - EarlyStopping counter: 10 out of 10\n",
      "2021-04-09 00:13:39.762 | INFO     | __main__:<module>:95 - Early stopping\n"
     ]
    },
    {
     "name": "stdout",
     "output_type": "stream",
     "text": [
      "6.408359626751845\n",
      "CPU times: user 2min 16s, sys: 50.4 s, total: 3min 7s\n",
      "Wall time: 3min 28s\n"
     ]
    }
   ],
   "source": [
    "%%time\n",
    "\n",
    "oof_x = np.zeros((len(df_train)))\n",
    "oof_y = np.zeros((len(df_train)))\n",
    "oof_floor = np.zeros((len(df_train)))\n",
    "cv_scores = {}\n",
    "\n",
    "kf = KFold(n_splits=config['globals']['n_splits'], random_state=42, shuffle=True)\n",
    "for fold, (train_index, valid_index) in enumerate(kf.split(df_train)):\n",
    "    print(f'\\r\\n====== {fold + 1} ======')\n",
    "    net = IndoorWiFiNet(wifi_bssids_size, site_count, config['globals']['num_feats'])\n",
    "    net = net.to(device)\n",
    "\n",
    "    #criterion = IndoorLoss()\n",
    "    criterion = nn.MSELoss()\n",
    "    criterion = criterion.to(device)\n",
    "    #optimizer = optim.SGD(net.parameters(), lr=Config.LR, weight_decay=0.0001, momentum=0.9)\n",
    "    optimizer = torch.optim.Adam(net.parameters(), lr=config['globals']['lr'])\n",
    "    \n",
    "    train, valid = df_train.iloc[train_index], df_train.iloc[valid_index]\n",
    "\n",
    "    # TODO oof用のdataloaderはいらないはず\n",
    "    train_dataset = IndoorWiFiDataSet(train.reset_index(drop=True), bssid_feats, rssi_feats, bssid_x_feats, bssid_y_feats, data_type='train')\n",
    "    valid_dataset = IndoorWiFiDataSet(valid.reset_index(drop=True), bssid_feats, rssi_feats, bssid_x_feats, bssid_y_feats, data_type='valid')\n",
    "\n",
    "    trainloader = DataLoader(train_dataset, batch_size=config['globals']['batch_size'], shuffle=True, drop_last=True, num_workers=4)\n",
    "    validloader = DataLoader(valid_dataset, batch_size=config['globals']['batch_size'], num_workers=4)\n",
    "\n",
    "    early_stopping = EarlyStopping(save_name=f'{DIR_SAVE_IGNORE}checkpoint_{NB}', fold=fold+1, patience=config['globals']['patience'], verbose=True)\n",
    "    scheduler = torch.optim.lr_scheduler.CosineAnnealingLR(optimizer, T_max=config['globals']['t_mux'])\n",
    "\n",
    "\n",
    "    ############# TRAIN #############\n",
    "    val_losses = []\n",
    "    val_metrics = []\n",
    "    mb = master_bar(range(1, config['globals']['epoch']+1))\n",
    "    for epoch in mb:\n",
    "        mb.main_bar.comment = f'epoch = {epoch}'\n",
    "        running_loss = 0.0\n",
    "        #train_lwlrap = 0.0\n",
    "#         n_iter = len(trainloader)\n",
    "#         with tqdm(enumerate(trainloader), total=n_iter) as pbar:\n",
    "        for i, (bssid, rssi, site_id, x, y, floor, bssid_x, bssid_y) in enumerate(progress_bar(trainloader, parent=mb)):\n",
    "            net.train()\n",
    "            # zero the parameter gradients\n",
    "            optimizer.zero_grad()\n",
    "\n",
    "            bssid, rssi, site_id, x, y, floor, bssid_x, bssid_y = bssid.to(device).long(), rssi.to(device).float(), site_id.to(device).long(), x.to(device).float(), y.to(device).float(), floor.to(device), bssid_x.to(device).float(), bssid_y.to(device).float()\n",
    "\n",
    "            xy_pred, floor_pred = net(bssid, rssi, site_id, bssid_x, bssid_y)\n",
    "#             xy_pred, floor_pred = net(bssid, torch.cat([rssi, bssid_x, bssid_y], dim=1), site_id)\n",
    "            xy_pred = xy_pred.transpose(0, 1).squeeze(-2).reshape(-1)\n",
    "            label = torch.cat([x, y], dim=-1)\n",
    "            loss = criterion(xy_pred, label)\n",
    "            #loss = criterion(x, y, floor, x_pred, y_pred, floor_pred)\n",
    "            loss.backward()\n",
    "            optimizer.step()\n",
    "\n",
    "            running_loss += loss.item()\n",
    "#             mb.child.comment(OrderedDict(\n",
    "#                 epoch=\"{:>10}\".format(epoch), loss=\"{:.4f}\".format(loss.item())\n",
    "#             ))\n",
    "            mb.child.comment = f'loss={loss.item():.4f}'\n",
    "        scheduler.step()\n",
    "            \n",
    "        #if epoch < Config.SKIP_EVALUATE_NUM:\n",
    "        #    continue\n",
    "\n",
    "        ############# VALID #############\n",
    "        val_loss = 0.0\n",
    "        val_lwlrap = 0.0\n",
    "        x_preds = np.array([])\n",
    "        y_preds = np.array([])\n",
    "        val_preds_frame = []\n",
    "        n_iter_val = len(validloader)\n",
    "#         for i, (bssid, rssi, site_id) in tqdm(enumerate(validloader), total=len(validloader)):\n",
    "        for i, (bssid, rssi, site_id, bssid_x, bssid_y) in enumerate(progress_bar(validloader, parent=mb)):\n",
    "            mb.child.comment = 'calc valid'\n",
    "            net.eval()\n",
    "\n",
    "            with torch.no_grad():\n",
    "                \n",
    "                #melspec, labels = melspec.to(device).float(), labels.to(device).float()\n",
    "                bssid, rssi, site_id, bssid_x, bssid_y = bssid.to(device).long(), rssi.to(device).float(), site_id.to(device).long(), bssid_x.to(device).float(), bssid_y.to(device).float()\n",
    "                xy_pred, floor_pred = net(bssid, rssi, site_id, bssid_x, bssid_y)\n",
    "\n",
    "                xy_pred = xy_pred.to('cpu').detach().numpy().copy()\n",
    "                x_pred, y_pred = np.hsplit(xy_pred, 2)\n",
    "                x_preds = np.concatenate([x_preds, x_pred.reshape(-1)])\n",
    "                y_preds = np.concatenate([y_preds, y_pred.reshape(-1)])\n",
    "\n",
    "        score = comp_metric(x_preds, y_preds, 0, valid['x'], valid['y'], 0)\n",
    "\n",
    "        early_stopping(score, net)\n",
    "\n",
    "        if early_stopping.early_stop:\n",
    "            logger.info(\"Early stopping\")\n",
    "            cv_scores[f'cv{fold + 1}'] = early_stopping.best_score\n",
    "            break\n",
    "                \n",
    "    _x_oof = np.array([])\n",
    "    _y_oof = np.array([])\n",
    "    ############# OOF #############\n",
    "    oof_preds = []\n",
    "#     for i, (bssid, rssi, site_id) in tqdm(enumerate(validloader), total=len(validloader)):\n",
    "    for i, (bssid, rssi, site_id, bssid_x, bssid_y) in enumerate(progress_bar(validloader, parent=mb)):\n",
    "#         net.load_state_dict(torch.load(ROOT_DIR / Path('output') / f'checkpoint_{NB}_{fold}.pt'))\n",
    "        net.load_state_dict(torch.load(f'{DIR_SAVE_IGNORE}checkpoint_{NB}_{fold + 1}.pt'))\n",
    "        net.eval()\n",
    "\n",
    "        with torch.no_grad():\n",
    "\n",
    "#             bssid, rssi, site_id, x, y, floor = bssid.to(device).long(), rssi.to(device).float(), site_id.to(device).long(), x.to(device).float(), y.to(device).float(), floor.to(device)\n",
    "            bssid, rssi, site_id, x, y, floor, bssid_x, bssid_y = bssid.to(device).long(), rssi.to(device).float(), site_id.to(device).long(), x.to(device).float(), y.to(device).float(), floor.to(device), bssid_x.to(device).float(), bssid_y.to(device).float()\n",
    "\n",
    "            xy_pred, floor_pred = net(bssid, rssi, site_id, bssid_x, bssid_y)\n",
    "\n",
    "            xy_pred = xy_pred.to('cpu').detach().numpy().copy()\n",
    "            x_pred, y_pred = np.hsplit(xy_pred, 2)\n",
    "            _x_oof = np.concatenate([_x_oof, x_pred.reshape(-1)])\n",
    "            _y_oof = np.concatenate([_y_oof, y_pred.reshape(-1)])\n",
    "\n",
    "    print(comp_metric(_x_oof, _y_oof, 0, valid['x'], valid['y'], 0))\n",
    "\n",
    "    oof_x[valid_index] = _x_oof\n",
    "    oof_y[valid_index] = _y_oof\n",
    "\n",
    "    del net\n",
    "    torch.cuda.empty_cache()"
   ]
  },
  {
   "cell_type": "code",
   "execution_count": 30,
   "metadata": {
    "colab": {
     "base_uri": "https://localhost:8080/"
    },
    "executionInfo": {
     "elapsed": 501,
     "status": "ok",
     "timestamp": 1616481371504,
     "user": {
      "displayName": "ユウキハヤカワ",
      "photoUrl": "https://lh3.googleusercontent.com/a-/AOh14GjfXu9o7zmAYL24s4P8H7I0lvSgQUaSfrXi7qemvQ=s64",
      "userId": "00286900621093795459"
     },
     "user_tz": -540
    },
    "id": "VEdEjVItESKZ",
    "outputId": "8e4be26a-5aa1-4afa-eb4b-336380550dbb"
   },
   "outputs": [
    {
     "data": {
      "text/plain": [
       "6.490273971932213"
      ]
     },
     "execution_count": 30,
     "metadata": {},
     "output_type": "execute_result"
    }
   ],
   "source": [
    "oof_score = comp_metric(oof_x, oof_y, np.zeros(len(df_train)), df_train['x'], df_train['y'], np.zeros(len(df_train)))\n",
    "oof_score"
   ]
  },
  {
   "cell_type": "raw",
   "metadata": {},
   "source": [
    "\n",
    "\n",
    "\n",
    "\n",
    "\n",
    "\n",
    "\n",
    "\n",
    "\n",
    "\n",
    "\n",
    "\n",
    "\n",
    "\n",
    "\n",
    "\n",
    "\n",
    "\n",
    "\n",
    "\n",
    "\n",
    "\n",
    "\n",
    "\n",
    "\n",
    "\n",
    "\n",
    "\n"
   ]
  }
 ],
 "metadata": {
  "accelerator": "GPU",
  "colab": {
   "collapsed_sections": [],
   "machine_shape": "hm",
   "name": "exp003-0.ipynb",
   "provenance": [
    {
     "file_id": "https://github.com/yuki-a4/Indoor/blob/main/COLAB/notebook/exp003.ipynb",
     "timestamp": 1616255627299
    }
   ]
  },
  "kernelspec": {
   "display_name": "Python 3",
   "language": "python",
   "name": "python3"
  },
  "language_info": {
   "codemirror_mode": {
    "name": "ipython",
    "version": 3
   },
   "file_extension": ".py",
   "mimetype": "text/x-python",
   "name": "python",
   "nbconvert_exporter": "python",
   "pygments_lexer": "ipython3",
   "version": "3.8.5"
  }
 },
 "nbformat": 4,
 "nbformat_minor": 4
}
