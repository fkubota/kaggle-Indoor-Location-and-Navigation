{
 "cells": [
  {
   "cell_type": "markdown",
   "metadata": {},
   "source": [
    "# Overview\n",
    "- nb016で作った特徴量を使う\n",
    "- nb017と異なり、ハイクオリティなbssid_posをを使う\n",
    "- nb018のsite=hoge版"
   ]
  },
  {
   "cell_type": "code",
   "execution_count": 1,
   "metadata": {},
   "outputs": [
    {
     "name": "stdout",
     "output_type": "stream",
     "text": [
      "1c30b36\n"
     ]
    }
   ],
   "source": [
    "import subprocess\n",
    "cmd = \"git rev-parse --short HEAD\"\n",
    "hash = subprocess.check_output(cmd.split()).strip().decode('utf-8')\n",
    "print(hash)"
   ]
  },
  {
   "cell_type": "markdown",
   "metadata": {},
   "source": [
    "# Const"
   ]
  },
  {
   "cell_type": "code",
   "execution_count": 2,
   "metadata": {},
   "outputs": [],
   "source": [
    "NB = '024'\n",
    "SITE = '5d27075f03f801723c2e360f'\n",
    "DIR_TRAIN = './../data_ignore/input/train/'\n",
    "DIR_TEST = './../data_ignore/input/test/'\n",
    "DIR_WIFI = './../data_ignore/input/wifi/'\n",
    "PATH_SUB = './../data_ignore/input/sample_submission.csv'\n",
    "PATH_99_SUB = './../data/input/floor_99per_acc_sub.csv'\n",
    "DIR_SAVE_IGNORE = f'./../data_ignore/nb/{NB}/'\n",
    "DIR_SAVE = f'./../data/nb/{NB}/'"
   ]
  },
  {
   "cell_type": "code",
   "execution_count": 3,
   "metadata": {},
   "outputs": [],
   "source": [
    "config_str = '''\n",
    "globals:\n",
    "    seed: 5713\n",
    "    device: cuda\n",
    "    n_label: 24\n",
    "    n_splits: 5\n",
    "    random_sate: 42\n",
    "    lr: 0.005\n",
    "    patience: 10\n",
    "    epoch: 100\n",
    "    batch_size: 128\n",
    "    skip_evaluate_num: 5\n",
    "    num_feats: 20\n",
    "    t_mux: 10\n",
    "'''"
   ]
  },
  {
   "cell_type": "code",
   "execution_count": 4,
   "metadata": {},
   "outputs": [],
   "source": [
    "map_floor = {\n",
    "    'B2': -2, 'B1': -1, 'F1': 0, 'F2': 1, 'F3': 2, 'F4': 3, 'F5': 4, 'F6': 5, 'F7': 6, 'F8': 7, 'F9': 8,\n",
    "    \n",
    "    '2B': -2, '1B': -1, '1F': 0, '2F': 1, '3F': 2, '4F': 3, '5F': 4, '6F': 5, '7F': 6, '8F': 7, '9F': 8,\n",
    "    }"
   ]
  },
  {
   "cell_type": "markdown",
   "metadata": {},
   "source": [
    "# Import everything I need:)"
   ]
  },
  {
   "cell_type": "code",
   "execution_count": 5,
   "metadata": {},
   "outputs": [],
   "source": [
    "import os\n",
    "import json\n",
    "import yaml\n",
    "import types\n",
    "import random\n",
    "import pickle\n",
    "import builtins\n",
    "import numpy as np\n",
    "import pandas as pd\n",
    "from PIL import Image\n",
    "from icecream import ic\n",
    "# from tqdm import tqdm\n",
    "import matplotlib.pyplot as plt\n",
    "from fastprogress import progress_bar, master_bar\n",
    "from glob import glob\n",
    "from loguru import logger\n",
    "from collections import OrderedDict\n",
    "\n",
    "# sklearn\n",
    "from sklearn.preprocessing import LabelEncoder, StandardScaler\n",
    "from sklearn.model_selection import KFold\n",
    "\n",
    "# pytorch\n",
    "import torch\n",
    "from torch import nn\n",
    "from torch.utils.data import Dataset, DataLoader\n",
    "import torch.optim as optim\n",
    "import torch.nn.functional as F"
   ]
  },
  {
   "cell_type": "markdown",
   "metadata": {},
   "source": [
    "# Function"
   ]
  },
  {
   "cell_type": "code",
   "execution_count": 6,
   "metadata": {
    "executionInfo": {
     "elapsed": 4655,
     "status": "ok",
     "timestamp": 1616479151188,
     "user": {
      "displayName": "ユウキハヤカワ",
      "photoUrl": "https://lh3.googleusercontent.com/a-/AOh14GjfXu9o7zmAYL24s4P8H7I0lvSgQUaSfrXi7qemvQ=s64",
      "userId": "00286900621093795459"
     },
     "user_tz": -540
    },
    "id": "7SxgGjwA5Rty"
   },
   "outputs": [],
   "source": [
    "def imports():\n",
    "    for name, val in globals().items():\n",
    "        # module imports\n",
    "        if isinstance(val, types.ModuleType):\n",
    "            yield name, val\n",
    "\n",
    "            # functions / callables\n",
    "        if hasattr(val, '__call__'):\n",
    "            yield name, val\n",
    "\n",
    "\n",
    "def noglobal(f):\n",
    "    '''\n",
    "    ref: https://gist.github.com/raven38/4e4c3c7a179283c441f575d6e375510c\n",
    "    '''\n",
    "    return types.FunctionType(f.__code__,\n",
    "                              dict(imports()),\n",
    "                              f.__name__,\n",
    "                              f.__defaults__,\n",
    "                              f.__closure__\n",
    "                              )\n",
    "\n",
    "\n",
    "def comp_metric(xhat, yhat, fhat, x, y, f):\n",
    "    intermediate = np.sqrt(np.power(xhat-x, 2) + np.power(yhat-y, 2)) + 15 * np.abs(fhat-f)\n",
    "    return intermediate.sum()/xhat.shape[0]\n",
    "\n",
    "def seed_everything(seed=42):\n",
    "    random.seed(seed)\n",
    "    os.environ['PYTHONHASHSEED'] = str(seed)\n",
    "    np.random.seed(seed)\n",
    "    torch.manual_seed(seed)\n",
    "    torch.cuda.manual_seed(seed)\n",
    "    torch.backends.cudnn.deterministic = True\n",
    "    torch.backends.cudnn.benchmark = True\n",
    "\n",
    "\n",
    "def visualize_submission(df_sub, dir_image_with_trace, dir_meta, show=True, dpi=100):\n",
    "    map_floor = {'B2': -2, 'B1': -1, 'F1': 0, 'F2': 1, 'F3': 2, 'F4': 3, 'F5': 4, 'F6': 5, 'F7': 6, 'F8': 7, 'F9': 8,\n",
    "                 '2B': -2, '1B': -1, '1F': 0, '2F': 1, '3F': 2, '4F': 3, '5F': 4, '6F': 5, '7F': 6, '8F': 7, '9F': 8}\n",
    "    \n",
    "    site_path_timestamp = df_sub.site_path_timestamp.values\n",
    "    site_arr = []\n",
    "    path_arr = []\n",
    "    for val in site_path_timestamp:\n",
    "        site, path, _ = val.split('_')\n",
    "        site_arr.append(site)\n",
    "        path_arr.append(path)\n",
    "    site_arr = np.array(site_arr)\n",
    "    path_arr = np.array(path_arr)\n",
    "\n",
    "    x_arr = df_sub.x.values\n",
    "    y_arr = df_sub.y.values\n",
    "    floor_arr = df_sub.floor.values\n",
    "    \n",
    "    # site loop\n",
    "    for site in sorted(np.unique(site_arr)):\n",
    "        floor_list = sorted(glob(f'{dir_image_with_trace}{site}/*'))\n",
    "        floor_list = [text.split('/')[-1] for text in floor_list]\n",
    "        \n",
    "        # 画像の比を決めるために一度floor_info.jsonを取得\n",
    "        path_json = f'{dir_meta}{site}/{floor_list[0]}/floor_info.json'\n",
    "        with open(path_json) as json_file:\n",
    "            json_data = json.load(json_file)\n",
    "        _width_meter = json_data[\"map_info\"][\"width\"]\n",
    "        _height_meter = json_data[\"map_info\"][\"height\"]\n",
    "        s = max(_width_meter, _height_meter)\n",
    "\n",
    "        # figとaxesの用意\n",
    "        n_floor = len(floor_list)\n",
    "        n_row = int(np.ceil(n_floor / 3))\n",
    "        w = round(5*3*_width_meter/s)\n",
    "        h = round(5*n_row*_height_meter/s)\n",
    "        fig, axs = plt.subplots(n_row, 3, figsize=(w, h), dpi=dpi)\n",
    "        fig.suptitle(site, fontsize=15)\n",
    "        fig.patch.set_facecolor('white')\n",
    "        axs = axs.ravel()\n",
    "\n",
    "        # floor loop\n",
    "        for i_floor, floor in enumerate(floor_list):\n",
    "            # json\n",
    "            path_json = f'{dir_meta}{site}/{floor}/floor_info.json'\n",
    "            with open(path_json) as json_file:\n",
    "                json_data = json.load(json_file)\n",
    "            width_meter = json_data[\"map_info\"][\"width\"]\n",
    "            height_meter = json_data[\"map_info\"][\"height\"]\n",
    "\n",
    "            # show image\n",
    "            path_img = f'{dir_image_with_trace}{site}/{floor}/floor_image_with_trace.png'\n",
    "            im = Image.open(path_img)\n",
    "            axs[i_floor].imshow(np.asarray(im), extent=(0, width_meter, 0, height_meter))\n",
    "            axs[i_floor].set_title(floor, fontsize=10)\n",
    "\n",
    "            # draw path\n",
    "            logics_site_floor = (site_arr == site) & (floor_arr == map_floor[floor])\n",
    "            for path in sorted(np.unique(path_arr[logics_site_floor])):\n",
    "                logics_path = path_arr == path\n",
    "                x_arr_path = x_arr[logics_path]\n",
    "                y_arr_path = y_arr[logics_path]\n",
    "\n",
    "                axs[i_floor].plot(x_arr_path, y_arr_path, linewidth=1, color='black')\n",
    "        if show:\n",
    "            display(fig)"
   ]
  },
  {
   "cell_type": "markdown",
   "metadata": {},
   "source": [
    "# Preparation"
   ]
  },
  {
   "cell_type": "markdown",
   "metadata": {},
   "source": [
    "load config"
   ]
  },
  {
   "cell_type": "code",
   "execution_count": 7,
   "metadata": {},
   "outputs": [
    {
     "data": {
      "text/plain": [
       "{'globals': {'seed': 5713,\n",
       "  'device': 'cuda',\n",
       "  'n_label': 24,\n",
       "  'n_splits': 5,\n",
       "  'random_sate': 42,\n",
       "  'lr': 0.005,\n",
       "  'patience': 10,\n",
       "  'epoch': 100,\n",
       "  'batch_size': 128,\n",
       "  'skip_evaluate_num': 5,\n",
       "  'num_feats': 20,\n",
       "  't_mux': 10}}"
      ]
     },
     "execution_count": 7,
     "metadata": {},
     "output_type": "execute_result"
    }
   ],
   "source": [
    "config = yaml.safe_load(config_str)\n",
    "config"
   ]
  },
  {
   "cell_type": "markdown",
   "metadata": {},
   "source": [
    "<br>\n",
    "\n",
    "set"
   ]
  },
  {
   "cell_type": "code",
   "execution_count": 8,
   "metadata": {},
   "outputs": [],
   "source": [
    "seed_everything(config['globals']['seed'])\n",
    "\n",
    "if not os.path.exists(DIR_SAVE_IGNORE):\n",
    "    os.makedirs(DIR_SAVE_IGNORE)\n",
    "if not os.path.exists(DIR_SAVE):\n",
    "    os.makedirs(DIR_SAVE)"
   ]
  },
  {
   "cell_type": "code",
   "execution_count": 9,
   "metadata": {
    "executionInfo": {
     "elapsed": 12395,
     "status": "ok",
     "timestamp": 1616479159023,
     "user": {
      "displayName": "ユウキハヤカワ",
      "photoUrl": "https://lh3.googleusercontent.com/a-/AOh14GjfXu9o7zmAYL24s4P8H7I0lvSgQUaSfrXi7qemvQ=s64",
      "userId": "00286900621093795459"
     },
     "user_tz": -540
    },
    "id": "6wFlN2I2NL3z"
   },
   "outputs": [],
   "source": [
    "bssid_feats = [f'bssid_{i}' for i in range(config['globals']['num_feats'])]\n",
    "rssi_feats  = [f'rssi_{i}' for i in range(config['globals']['num_feats'])]"
   ]
  },
  {
   "cell_type": "markdown",
   "metadata": {},
   "source": [
    "<br>\n",
    "\n",
    "load dataset"
   ]
  },
  {
   "cell_type": "code",
   "execution_count": 10,
   "metadata": {},
   "outputs": [],
   "source": [
    "sample_submission = pd.read_csv(PATH_SUB)"
   ]
  },
  {
   "cell_type": "raw",
   "metadata": {},
   "source": [
    "train_files = sorted(glob(f'{DIR_WIFI}*_train.csv'))\n",
    "test_files = sorted(glob(f'{DIR_WIFI}*_test.csv'))\n",
    "sample_sub = pd.read_csv(PATH_SUB)"
   ]
  },
  {
   "cell_type": "code",
   "execution_count": 11,
   "metadata": {
    "executionInfo": {
     "elapsed": 12440,
     "status": "ok",
     "timestamp": 1616479159010,
     "user": {
      "displayName": "ユウキハヤカワ",
      "photoUrl": "https://lh3.googleusercontent.com/a-/AOh14GjfXu9o7zmAYL24s4P8H7I0lvSgQUaSfrXi7qemvQ=s64",
      "userId": "00286900621093795459"
     },
     "user_tz": -540
    },
    "id": "g0ytMb1aSnv0"
   },
   "outputs": [],
   "source": [
    "with open(f'{DIR_WIFI}train_all.pkl', 'rb') as f:\n",
    "    df_train = pickle.load( f)\n",
    "with open(f'{DIR_WIFI}test_all.pkl', 'rb') as f:\n",
    "    df_test = pickle.load( f)"
   ]
  },
  {
   "cell_type": "code",
   "execution_count": 12,
   "metadata": {},
   "outputs": [],
   "source": [
    "df_list = []\n",
    "for path in sorted(glob('./../data/nb/013/*.csv')):\n",
    "    df_list.append(pd.read_csv(path))\n",
    "df_wifi_pos = pd.concat(df_list, axis=0)"
   ]
  },
  {
   "cell_type": "code",
   "execution_count": 13,
   "metadata": {},
   "outputs": [],
   "source": [
    "df_wifi_pos['floor_id'] = df_wifi_pos['floor'].map(map_floor)"
   ]
  },
  {
   "cell_type": "markdown",
   "metadata": {},
   "source": [
    "<br>\n",
    "\n",
    "site絞る"
   ]
  },
  {
   "cell_type": "code",
   "execution_count": 14,
   "metadata": {},
   "outputs": [],
   "source": [
    "df_train = df_train[df_train.site_id == SITE]\n",
    "df_test = df_test[df_test.site_id == SITE]"
   ]
  },
  {
   "cell_type": "markdown",
   "metadata": {},
   "source": [
    "<br>\n",
    "\n",
    "merge"
   ]
  },
  {
   "cell_type": "code",
   "execution_count": 15,
   "metadata": {},
   "outputs": [],
   "source": [
    "# floorで丸める\n",
    "# df_wifi_pos_grp_floor = df_wifi_pos.groupby(['bssid', 'site']).mean().reset_index(drop=False).copy()\n",
    "\n",
    "# hig quarity 全体の5%(floor数も合わせて)になるまで絞る\n",
    "site_list = [val.split('_')[0] for val in sample_submission.site_path_timestamp]\n",
    "site_list = sorted(np.unique(site_list).tolist())\n",
    "df_list = []\n",
    "for site in site_list:\n",
    "    df_wifi_pos_site = df_wifi_pos.query('site == @site')\n",
    "    for n in range(0, 100):\n",
    "        df_bssid_pos_grp = df_wifi_pos_site.query('n_samples_rssi_over_m60 >= @n & n_samples >= 20')\n",
    "        rate = len(df_bssid_pos_grp)/len(df_wifi_pos_site)\n",
    "        if rate <= 0.05:\n",
    "            break\n",
    "    df_list.append(df_bssid_pos_grp)\n",
    "df_wifi_pos_grp_floor = pd.concat(df_list, axis=0)\n",
    "df_wifi_pos_grp_floor = df_wifi_pos_grp_floor.groupby(['bssid', 'site']).mean().reset_index(drop=False).copy()"
   ]
  },
  {
   "cell_type": "code",
   "execution_count": 16,
   "metadata": {},
   "outputs": [
    {
     "data": {
      "text/html": [
       "\n",
       "    <div>\n",
       "        <style>\n",
       "            /* Turns off some styling */\n",
       "            progress {\n",
       "                /* gets rid of default border in Firefox and Opera. */\n",
       "                border: none;\n",
       "                /* Needs to be in here for Safari polyfill so background images work as expected. */\n",
       "                background-size: auto;\n",
       "            }\n",
       "            .progress-bar-interrupted, .progress-bar-interrupted::-webkit-progress-bar {\n",
       "                background: #F44336;\n",
       "            }\n",
       "        </style>\n",
       "      <progress value='20' class='' max='20' style='width:300px; height:20px; vertical-align: middle;'></progress>\n",
       "      100.00% [20/20 00:10<00:00]\n",
       "    </div>\n",
       "    "
      ],
      "text/plain": [
       "<IPython.core.display.HTML object>"
      ]
     },
     "metadata": {},
     "output_type": "display_data"
    },
    {
     "name": "stdout",
     "output_type": "stream",
     "text": [
      "CPU times: user 9.26 s, sys: 1.04 s, total: 10.3 s\n",
      "Wall time: 10.3 s\n"
     ]
    }
   ],
   "source": [
    "%%time\n",
    "# df_train = df_train.copy()\n",
    "for i, bssid in enumerate(progress_bar(bssid_feats)):\n",
    "    df_train = df_train.merge(df_wifi_pos_grp_floor[['bssid', 'bssid_x', 'bssid_y', 'site']],\n",
    "                               how='left', left_on=[bssid, 'site_id'], right_on=['bssid', 'site']\n",
    "                              ).drop(['bssid', 'site'], axis=1\n",
    "                                    ).rename({'bssid_x': f'bssid_x_{i}', 'bssid_y': f'bssid_y_{i}'}, axis=1)"
   ]
  },
  {
   "cell_type": "code",
   "execution_count": 17,
   "metadata": {},
   "outputs": [
    {
     "data": {
      "text/html": [
       "\n",
       "    <div>\n",
       "        <style>\n",
       "            /* Turns off some styling */\n",
       "            progress {\n",
       "                /* gets rid of default border in Firefox and Opera. */\n",
       "                border: none;\n",
       "                /* Needs to be in here for Safari polyfill so background images work as expected. */\n",
       "                background-size: auto;\n",
       "            }\n",
       "            .progress-bar-interrupted, .progress-bar-interrupted::-webkit-progress-bar {\n",
       "                background: #F44336;\n",
       "            }\n",
       "        </style>\n",
       "      <progress value='20' class='' max='20' style='width:300px; height:20px; vertical-align: middle;'></progress>\n",
       "      100.00% [20/20 00:00<00:00]\n",
       "    </div>\n",
       "    "
      ],
      "text/plain": [
       "<IPython.core.display.HTML object>"
      ]
     },
     "metadata": {},
     "output_type": "display_data"
    },
    {
     "name": "stdout",
     "output_type": "stream",
     "text": [
      "CPU times: user 81.9 ms, sys: 0 ns, total: 81.9 ms\n",
      "Wall time: 80.1 ms\n"
     ]
    }
   ],
   "source": [
    "%%time\n",
    "for i, bssid in enumerate(progress_bar(bssid_feats)):\n",
    "    df_test = df_test.merge(df_wifi_pos_grp_floor[['bssid', 'bssid_x', 'bssid_y', 'site']],\n",
    "                               how='left', left_on=[bssid, 'site_id'], right_on=['bssid', 'site']\n",
    "                              ).drop(['bssid', 'site'], axis=1\n",
    "                                    ).rename({'bssid_x': f'bssid_x_{i}', 'bssid_y': f'bssid_y_{i}'}, axis=1)"
   ]
  },
  {
   "cell_type": "code",
   "execution_count": 18,
   "metadata": {},
   "outputs": [],
   "source": [
    "bssid_x_feats = [f'bssid_x_{i}' for i in range(config['globals']['num_feats'])]\n",
    "bssid_y_feats = [f'bssid_y_{i}' for i in range(config['globals']['num_feats'])]\n",
    "\n",
    "bssid_x_mean = df_wifi_pos_grp_floor['bssid_x'].mean()\n",
    "bssid_y_mean = df_wifi_pos_grp_floor['bssid_y'].mean()"
   ]
  },
  {
   "cell_type": "markdown",
   "metadata": {},
   "source": [
    "<br>\n",
    "\n",
    "nanを埋める"
   ]
  },
  {
   "cell_type": "code",
   "execution_count": 19,
   "metadata": {},
   "outputs": [],
   "source": [
    "df_train[bssid_x_feats] = df_train[bssid_x_feats].fillna(value=bssid_x_mean)\n",
    "df_train[bssid_y_feats] = df_train[bssid_y_feats].fillna(value=bssid_y_mean)\n",
    "df_test[bssid_x_feats] = df_test[bssid_x_feats].fillna(value=bssid_x_mean)\n",
    "df_test[bssid_y_feats] = df_test[bssid_y_feats].fillna(value=bssid_y_mean)"
   ]
  },
  {
   "cell_type": "markdown",
   "metadata": {},
   "source": [
    "<br>\n",
    "\n",
    "preprocessing"
   ]
  },
  {
   "cell_type": "code",
   "execution_count": 20,
   "metadata": {
    "colab": {
     "base_uri": "https://localhost:8080/"
    },
    "executionInfo": {
     "elapsed": 16854,
     "status": "ok",
     "timestamp": 1616479163506,
     "user": {
      "displayName": "ユウキハヤカワ",
      "photoUrl": "https://lh3.googleusercontent.com/a-/AOh14GjfXu9o7zmAYL24s4P8H7I0lvSgQUaSfrXi7qemvQ=s64",
      "userId": "00286900621093795459"
     },
     "user_tz": -540
    },
    "id": "hfyRDfw3Xbov",
    "outputId": "196b63bf-9e51-4a08-8fd5-9b04139c3d4b"
   },
   "outputs": [
    {
     "name": "stdout",
     "output_type": "stream",
     "text": [
      "BSSID TYPES: 4933\n",
      "BSSID TYPES: 197\n",
      "BSSID TYPES: 5130\n"
     ]
    }
   ],
   "source": [
    "# bssidの一覧作成\n",
    "# wifi_bassidにはtrainとtest両方のbssidの一覧が含まれる\n",
    "\n",
    "wifi_bssids = []\n",
    "for i in range(config['globals']['num_feats']):\n",
    "    wifi_bssids.extend(df_train.iloc[:,i].values.tolist())\n",
    "wifi_bssids = list(set(wifi_bssids))\n",
    "\n",
    "wifi_bssids_size = len(wifi_bssids)\n",
    "print(f'BSSID TYPES: {wifi_bssids_size}')\n",
    "\n",
    "wifi_bssids_test = []\n",
    "for i in range(config['globals']['num_feats']):\n",
    "    wifi_bssids_test.extend(df_test.iloc[:,i].values.tolist())\n",
    "wifi_bssids_test = list(set(wifi_bssids_test))\n",
    "\n",
    "wifi_bssids_size = len(wifi_bssids_test)\n",
    "print(f'BSSID TYPES: {wifi_bssids_size}')\n",
    "\n",
    "wifi_bssids.extend(wifi_bssids_test)\n",
    "wifi_bssids_size = len(wifi_bssids)\n",
    "print(f'BSSID TYPES: {wifi_bssids_size}')"
   ]
  },
  {
   "cell_type": "raw",
   "metadata": {
    "colab": {
     "base_uri": "https://localhost:8080/"
    },
    "executionInfo": {
     "elapsed": 16854,
     "status": "ok",
     "timestamp": 1616479163506,
     "user": {
      "displayName": "ユウキハヤカワ",
      "photoUrl": "https://lh3.googleusercontent.com/a-/AOh14GjfXu9o7zmAYL24s4P8H7I0lvSgQUaSfrXi7qemvQ=s64",
      "userId": "00286900621093795459"
     },
     "user_tz": -540
    },
    "id": "hfyRDfw3Xbov",
    "outputId": "196b63bf-9e51-4a08-8fd5-9b04139c3d4b"
   },
   "source": [
    "# bssidの一覧作成\n",
    "# wifi_bassidにはtrainとtest両方のbssidの一覧が含まれる\n",
    "\n",
    "wifi_bssids = []\n",
    "for i in range(100):\n",
    "    wifi_bssids.extend(df_train.iloc[:, i].values.tolist())\n",
    "    wifi_bssids.extend(df_test.iloc[:, i].values.tolist())\n",
    "\n",
    "wifi_bssids = list(set(wifi_bssids))\n",
    "print(f'BSSID TYPES: {len(wifi_bssids)}')"
   ]
  },
  {
   "cell_type": "code",
   "execution_count": 21,
   "metadata": {
    "colab": {
     "base_uri": "https://localhost:8080/"
    },
    "executionInfo": {
     "elapsed": 18605,
     "status": "ok",
     "timestamp": 1616479165294,
     "user": {
      "displayName": "ユウキハヤカワ",
      "photoUrl": "https://lh3.googleusercontent.com/a-/AOh14GjfXu9o7zmAYL24s4P8H7I0lvSgQUaSfrXi7qemvQ=s64",
      "userId": "00286900621093795459"
     },
     "user_tz": -540
    },
    "id": "eBhOfx-CdxJB",
    "outputId": "74a3e5ac-a638-41eb-b228-5d6c6cd9c0df"
   },
   "outputs": [
    {
     "data": {
      "text/plain": [
       "StandardScaler()"
      ]
     },
     "execution_count": 21,
     "metadata": {},
     "output_type": "execute_result"
    }
   ],
   "source": [
    "# LabelEncoding & StandardScaler\n",
    "\n",
    "le = LabelEncoder()\n",
    "le.fit(wifi_bssids)\n",
    "le_site = LabelEncoder()\n",
    "le_site.fit(df_train['site_id'])\n",
    "\n",
    "ss = StandardScaler()\n",
    "ss.fit(df_train.loc[:, rssi_feats])"
   ]
  },
  {
   "cell_type": "code",
   "execution_count": 22,
   "metadata": {
    "executionInfo": {
     "elapsed": 39684,
     "status": "ok",
     "timestamp": 1616479186398,
     "user": {
      "displayName": "ユウキハヤカワ",
      "photoUrl": "https://lh3.googleusercontent.com/a-/AOh14GjfXu9o7zmAYL24s4P8H7I0lvSgQUaSfrXi7qemvQ=s64",
      "userId": "00286900621093795459"
     },
     "user_tz": -540
    },
    "id": "ICMler34Xbt-"
   },
   "outputs": [],
   "source": [
    "df_train.loc[:, rssi_feats] = ss.transform(df_train.loc[:, rssi_feats])\n",
    "df_test.loc[:, rssi_feats] = ss.transform(df_test.loc[:, rssi_feats])\n",
    "for feat in bssid_feats:\n",
    "    df_train.loc[:, feat] = le.transform(df_train.loc[:, feat])\n",
    "    df_test.loc[:, feat] = le.transform(df_test.loc[:, feat])\n",
    "    \n",
    "    df_train.loc[:, feat] = df_train.loc[:, feat] + 1\n",
    "    df_test.loc[:, feat] = df_test.loc[:, feat] + 1\n",
    "    \n",
    "df_train.loc[:, 'site_id'] = le_site.transform(df_train.loc[:, 'site_id'])\n",
    "df_test.loc[:, 'site_id'] = le_site.transform(df_test.loc[:, 'site_id'])\n",
    "\n",
    "# df_train.loc[:, rssi_feats] = ss.transform(df_train.loc[:, rssi_feats])\n",
    "# df_test.loc[:, rssi_feats] = ss.transform(df_test.loc[:, rssi_feats])"
   ]
  },
  {
   "cell_type": "code",
   "execution_count": 23,
   "metadata": {
    "executionInfo": {
     "elapsed": 41413,
     "status": "ok",
     "timestamp": 1616479188164,
     "user": {
      "displayName": "ユウキハヤカワ",
      "photoUrl": "https://lh3.googleusercontent.com/a-/AOh14GjfXu9o7zmAYL24s4P8H7I0lvSgQUaSfrXi7qemvQ=s64",
      "userId": "00286900621093795459"
     },
     "user_tz": -540
    },
    "id": "fhagm8JcdyPI"
   },
   "outputs": [],
   "source": [
    "site_count = len(df_train['site_id'].unique())\n",
    "df_train.reset_index(drop=True, inplace=True)"
   ]
  },
  {
   "cell_type": "code",
   "execution_count": 24,
   "metadata": {},
   "outputs": [
    {
     "data": {
      "text/html": [
       "<div>\n",
       "<style scoped>\n",
       "    .dataframe tbody tr th:only-of-type {\n",
       "        vertical-align: middle;\n",
       "    }\n",
       "\n",
       "    .dataframe tbody tr th {\n",
       "        vertical-align: top;\n",
       "    }\n",
       "\n",
       "    .dataframe thead th {\n",
       "        text-align: right;\n",
       "    }\n",
       "</style>\n",
       "<table border=\"1\" class=\"dataframe\">\n",
       "  <thead>\n",
       "    <tr style=\"text-align: right;\">\n",
       "      <th></th>\n",
       "      <th>bssid_0</th>\n",
       "      <th>bssid_1</th>\n",
       "      <th>bssid_2</th>\n",
       "      <th>bssid_3</th>\n",
       "      <th>bssid_4</th>\n",
       "      <th>bssid_5</th>\n",
       "      <th>bssid_6</th>\n",
       "      <th>bssid_7</th>\n",
       "      <th>bssid_8</th>\n",
       "      <th>bssid_9</th>\n",
       "      <th>...</th>\n",
       "      <th>bssid_x_15</th>\n",
       "      <th>bssid_y_15</th>\n",
       "      <th>bssid_x_16</th>\n",
       "      <th>bssid_y_16</th>\n",
       "      <th>bssid_x_17</th>\n",
       "      <th>bssid_y_17</th>\n",
       "      <th>bssid_x_18</th>\n",
       "      <th>bssid_y_18</th>\n",
       "      <th>bssid_x_19</th>\n",
       "      <th>bssid_y_19</th>\n",
       "    </tr>\n",
       "  </thead>\n",
       "  <tbody>\n",
       "    <tr>\n",
       "      <th>0</th>\n",
       "      <td>3364</td>\n",
       "      <td>2284</td>\n",
       "      <td>1079</td>\n",
       "      <td>2736</td>\n",
       "      <td>728</td>\n",
       "      <td>1322</td>\n",
       "      <td>4770</td>\n",
       "      <td>3824</td>\n",
       "      <td>4021</td>\n",
       "      <td>1325</td>\n",
       "      <td>...</td>\n",
       "      <td>220.064136</td>\n",
       "      <td>130.621938</td>\n",
       "      <td>214.211221</td>\n",
       "      <td>147.514118</td>\n",
       "      <td>110.551124</td>\n",
       "      <td>105.884494</td>\n",
       "      <td>193.375308</td>\n",
       "      <td>128.102097</td>\n",
       "      <td>201.551444</td>\n",
       "      <td>136.780490</td>\n",
       "    </tr>\n",
       "    <tr>\n",
       "      <th>1</th>\n",
       "      <td>2284</td>\n",
       "      <td>3364</td>\n",
       "      <td>1079</td>\n",
       "      <td>1394</td>\n",
       "      <td>2736</td>\n",
       "      <td>1185</td>\n",
       "      <td>659</td>\n",
       "      <td>2965</td>\n",
       "      <td>995</td>\n",
       "      <td>483</td>\n",
       "      <td>...</td>\n",
       "      <td>209.870969</td>\n",
       "      <td>130.123448</td>\n",
       "      <td>203.805719</td>\n",
       "      <td>144.350462</td>\n",
       "      <td>110.551124</td>\n",
       "      <td>105.884494</td>\n",
       "      <td>110.551124</td>\n",
       "      <td>105.884494</td>\n",
       "      <td>110.551124</td>\n",
       "      <td>105.884494</td>\n",
       "    </tr>\n",
       "    <tr>\n",
       "      <th>2</th>\n",
       "      <td>4770</td>\n",
       "      <td>3364</td>\n",
       "      <td>1322</td>\n",
       "      <td>2284</td>\n",
       "      <td>1079</td>\n",
       "      <td>1185</td>\n",
       "      <td>1394</td>\n",
       "      <td>1947</td>\n",
       "      <td>483</td>\n",
       "      <td>938</td>\n",
       "      <td>...</td>\n",
       "      <td>201.551444</td>\n",
       "      <td>136.780490</td>\n",
       "      <td>210.304403</td>\n",
       "      <td>129.768166</td>\n",
       "      <td>110.551124</td>\n",
       "      <td>105.884494</td>\n",
       "      <td>110.551124</td>\n",
       "      <td>105.884494</td>\n",
       "      <td>110.551124</td>\n",
       "      <td>105.884494</td>\n",
       "    </tr>\n",
       "    <tr>\n",
       "      <th>3</th>\n",
       "      <td>1079</td>\n",
       "      <td>2284</td>\n",
       "      <td>1322</td>\n",
       "      <td>1821</td>\n",
       "      <td>4770</td>\n",
       "      <td>2988</td>\n",
       "      <td>728</td>\n",
       "      <td>3364</td>\n",
       "      <td>1394</td>\n",
       "      <td>1185</td>\n",
       "      <td>...</td>\n",
       "      <td>199.940092</td>\n",
       "      <td>129.388281</td>\n",
       "      <td>214.211221</td>\n",
       "      <td>147.514118</td>\n",
       "      <td>110.551124</td>\n",
       "      <td>105.884494</td>\n",
       "      <td>110.551124</td>\n",
       "      <td>105.884494</td>\n",
       "      <td>110.551124</td>\n",
       "      <td>105.884494</td>\n",
       "    </tr>\n",
       "    <tr>\n",
       "      <th>4</th>\n",
       "      <td>4718</td>\n",
       "      <td>4140</td>\n",
       "      <td>4269</td>\n",
       "      <td>873</td>\n",
       "      <td>3666</td>\n",
       "      <td>798</td>\n",
       "      <td>3976</td>\n",
       "      <td>2921</td>\n",
       "      <td>2532</td>\n",
       "      <td>4561</td>\n",
       "      <td>...</td>\n",
       "      <td>226.358348</td>\n",
       "      <td>176.705695</td>\n",
       "      <td>110.551124</td>\n",
       "      <td>105.884494</td>\n",
       "      <td>110.551124</td>\n",
       "      <td>105.884494</td>\n",
       "      <td>110.551124</td>\n",
       "      <td>105.884494</td>\n",
       "      <td>110.551124</td>\n",
       "      <td>105.884494</td>\n",
       "    </tr>\n",
       "  </tbody>\n",
       "</table>\n",
       "<p>5 rows × 245 columns</p>\n",
       "</div>"
      ],
      "text/plain": [
       "   bssid_0  bssid_1  bssid_2  bssid_3  bssid_4  bssid_5  bssid_6  bssid_7  \\\n",
       "0     3364     2284     1079     2736      728     1322     4770     3824   \n",
       "1     2284     3364     1079     1394     2736     1185      659     2965   \n",
       "2     4770     3364     1322     2284     1079     1185     1394     1947   \n",
       "3     1079     2284     1322     1821     4770     2988      728     3364   \n",
       "4     4718     4140     4269      873     3666      798     3976     2921   \n",
       "\n",
       "   bssid_8  bssid_9  ...  bssid_x_15  bssid_y_15  bssid_x_16  bssid_y_16  \\\n",
       "0     4021     1325  ...  220.064136  130.621938  214.211221  147.514118   \n",
       "1      995      483  ...  209.870969  130.123448  203.805719  144.350462   \n",
       "2      483      938  ...  201.551444  136.780490  210.304403  129.768166   \n",
       "3     1394     1185  ...  199.940092  129.388281  214.211221  147.514118   \n",
       "4     2532     4561  ...  226.358348  176.705695  110.551124  105.884494   \n",
       "\n",
       "   bssid_x_17  bssid_y_17  bssid_x_18  bssid_y_18  bssid_x_19  bssid_y_19  \n",
       "0  110.551124  105.884494  193.375308  128.102097  201.551444  136.780490  \n",
       "1  110.551124  105.884494  110.551124  105.884494  110.551124  105.884494  \n",
       "2  110.551124  105.884494  110.551124  105.884494  110.551124  105.884494  \n",
       "3  110.551124  105.884494  110.551124  105.884494  110.551124  105.884494  \n",
       "4  110.551124  105.884494  110.551124  105.884494  110.551124  105.884494  \n",
       "\n",
       "[5 rows x 245 columns]"
      ]
     },
     "execution_count": 24,
     "metadata": {},
     "output_type": "execute_result"
    }
   ],
   "source": [
    "df_train.head()"
   ]
  },
  {
   "cell_type": "markdown",
   "metadata": {},
   "source": [
    "# Execute"
   ]
  },
  {
   "cell_type": "code",
   "execution_count": 25,
   "metadata": {
    "executionInfo": {
     "elapsed": 41390,
     "status": "ok",
     "timestamp": 1616479188168,
     "user": {
      "displayName": "ユウキハヤカワ",
      "photoUrl": "https://lh3.googleusercontent.com/a-/AOh14GjfXu9o7zmAYL24s4P8H7I0lvSgQUaSfrXi7qemvQ=s64",
      "userId": "00286900621093795459"
     },
     "user_tz": -540
    },
    "id": "pUh8IpBV8i8Z"
   },
   "outputs": [],
   "source": [
    "class EarlyStopping:\n",
    "    \"\"\"\n",
    "    Early stops the training if validation loss doesn't improve after a given patience.\n",
    "    based on: https://github.com/Bjarten/early-stopping-pytorch\n",
    "    \"\"\"\n",
    "    def __init__(self, save_name, fold, patience=7, verbose=False, delta=0):\n",
    "        \"\"\"\n",
    "        Args:\n",
    "            patience (int): How long to wait after last time validation loss improved.\n",
    "                            Default: 7\n",
    "            verbose (bool): If True, prints a message for each validation loss improvement. \n",
    "                            Default: False\n",
    "            delta (float): Minimum change in the monitored quantity to qualify as an improvement.\n",
    "                            Default: 0\n",
    "        \"\"\"\n",
    "        self.patience = patience\n",
    "        self.verbose = verbose\n",
    "        self.counter = 0\n",
    "        self.best_score = None\n",
    "        self.early_stop = False\n",
    "        self.val_loss_min = np.Inf\n",
    "        self.delta = delta\n",
    "        self.fold = fold\n",
    "        self.save_name = save_name\n",
    "\n",
    "    def __call__(self, val_loss, model):\n",
    "\n",
    "        score = -val_loss\n",
    "\n",
    "        if self.best_score is None:\n",
    "            self.best_score = score\n",
    "            self.save_checkpoint(val_loss, model)\n",
    "        elif score < self.best_score + self.delta:\n",
    "            self.counter += 1\n",
    "            logger.info(f'EarlyStopping counter: {self.counter} out of {self.patience}, score={val_loss}')\n",
    "            if self.counter >= self.patience:\n",
    "                self.early_stop = True\n",
    "        else:\n",
    "            self.best_score = score\n",
    "            self.save_checkpoint(val_loss, model)\n",
    "            self.counter = 0\n",
    "\n",
    "    def save_checkpoint(self, val_loss, model):\n",
    "        '''Saves model when validation loss decrease.'''\n",
    "        if self.verbose:\n",
    "            logger.info(f'Validation loss decreased ({self.val_loss_min:.6f} --> {val_loss:.6f}).  Saving model ...')\n",
    "            \n",
    "        torch.save(model.state_dict(),  f'{self.save_name}_{self.fold}.pt')\n",
    "        self.val_loss_min = val_loss"
   ]
  },
  {
   "cell_type": "code",
   "execution_count": 26,
   "metadata": {
    "executionInfo": {
     "elapsed": 41385,
     "status": "ok",
     "timestamp": 1616479188169,
     "user": {
      "displayName": "ユウキハヤカワ",
      "photoUrl": "https://lh3.googleusercontent.com/a-/AOh14GjfXu9o7zmAYL24s4P8H7I0lvSgQUaSfrXi7qemvQ=s64",
      "userId": "00286900621093795459"
     },
     "user_tz": -540
    },
    "id": "7tycasUwdySR"
   },
   "outputs": [],
   "source": [
    "class IndoorWiFiNet(nn.Module):\n",
    "    def __init__(self, bssid_size, site_size, num_feats):\n",
    "        super(IndoorWiFiNet, self).__init__()\n",
    "        self.bssid_embedding = nn.Embedding(bssid_size, 64, max_norm=True)\n",
    "        self.site_embedding = nn.Embedding(site_size, 64, max_norm=True)\n",
    "\n",
    "        self.rssi = nn.Sequential(\n",
    "            nn.BatchNorm1d(20),\n",
    "            nn.Linear(20, num_feats * 64)\n",
    "#             nn.BatchNorm1d(20*3),\n",
    "#             nn.Linear(20*3, num_feats * 64 *3)\n",
    "        )\n",
    "        self.bssid_x = nn.Sequential(\n",
    "            nn.BatchNorm1d(20),\n",
    "            nn.Linear(20, num_feats * 64)\n",
    "        )\n",
    "        self.bssid_y = nn.Sequential(\n",
    "            nn.BatchNorm1d(20),\n",
    "            nn.Linear(20, num_feats * 64)\n",
    "        )\n",
    "\n",
    "        concat_size = 64 + (num_feats * 64) + (num_feats * 64) + (num_feats * 64) + (num_feats * 64)\n",
    "        self.bn1 = nn.BatchNorm1d(concat_size)\n",
    "\n",
    "        self.flatten = nn.Flatten()\n",
    "\n",
    "        self.dropout1 = nn.Dropout(0.3)\n",
    "        self.linear1 = nn.Linear(in_features=concat_size, out_features=256)#, bias=False)\n",
    "        self.bn2 = nn.BatchNorm1d(256)\n",
    "\n",
    "        self.linear2 = nn.Linear(in_features=256, out_features=128)#, bias=False)\n",
    "        self.linear3 = nn.Linear(in_features=128, out_features=16)#, bias=False)\n",
    "\n",
    "        self.bn3 = nn.BatchNorm1d(128)\n",
    "        self.bn4 = nn.BatchNorm1d(16)\n",
    "\n",
    "\n",
    "        self.xy = nn.Linear(in_features=16, out_features=2)#, bias=False)\n",
    "        self.floor = nn.Linear(in_features=16, out_features=1)#, bias=False)\n",
    "        \n",
    "\n",
    "    def forward(self, bssid, rssi, site, bssid_x, bssid_y):\n",
    "#     def forward(self, bssid, rssi, site):\n",
    "\n",
    "        site = torch.reshape(site, (-1, 1))\n",
    "\n",
    "        bssid_out = self.bssid_embedding(bssid)\n",
    "        site_out = self.site_embedding(site)\n",
    "\n",
    "        rssi_out = self.rssi(rssi)\n",
    "        bssid_x_out = self.bssid_x(bssid_x)\n",
    "        bssid_y_out = self.bssid_y(bssid_y)\n",
    "\n",
    "        bssid_out = self.flatten(bssid_out)\n",
    "        site_out = self.flatten(site_out)\n",
    "\n",
    "        x = torch.cat([bssid_out, rssi_out, site_out, bssid_x_out, bssid_y_out], dim=1)\n",
    "#         x = torch.cat([bssid_out, rssi_out, site_out], dim=1)\n",
    "        x = self.bn1(x)\n",
    "        x = self.dropout1(x)\n",
    "        x = F.relu(self.linear1(x))\n",
    "        x = self.bn2(x)\n",
    "\n",
    "        x = F.relu(self.linear2(x))\n",
    "        x = self.bn3(x)\n",
    "\n",
    "        x = F.relu(self.linear3(x))\n",
    "        x = self.bn4(x)\n",
    "\n",
    "        #x = self.lstm(x)\n",
    "\n",
    "        xy = self.xy(x)\n",
    "        floor = self.floor(x)\n",
    "\n",
    "        return xy, floor"
   ]
  },
  {
   "cell_type": "code",
   "execution_count": 27,
   "metadata": {
    "executionInfo": {
     "elapsed": 1376,
     "status": "ok",
     "timestamp": 1616481355217,
     "user": {
      "displayName": "ユウキハヤカワ",
      "photoUrl": "https://lh3.googleusercontent.com/a-/AOh14GjfXu9o7zmAYL24s4P8H7I0lvSgQUaSfrXi7qemvQ=s64",
      "userId": "00286900621093795459"
     },
     "user_tz": -540
    },
    "id": "uNYZS-avjuD-"
   },
   "outputs": [],
   "source": [
    "class IndoorWiFiDataSet(Dataset):\n",
    "    def __init__(self, wifi_df, bssid_feats_, rssi_feats_, bssid_x_feats_, bssid_y_feats_, data_type='test'):\n",
    "        self.wifi_df = wifi_df\n",
    "        self.data_type = data_type\n",
    "        self.bssids = wifi_df[bssid_feats_].to_numpy().astype(np.int)    # <----- リファクタ\n",
    "        self.rssis = wifi_df[rssi_feats_].to_numpy().astype(np.float)    # <----- リファクタ\n",
    "        \n",
    "        self.bssid_x = wifi_df[bssid_x_feats_].to_numpy().astype(np.float)\n",
    "        self.bssid_y = wifi_df[bssid_y_feats_].to_numpy().astype(np.float)\n",
    "        \n",
    "        self.site_ids = wifi_df['site_id'].to_numpy()\n",
    "        if data_type in ['train', 'valid']:\n",
    "            self.floors = wifi_df['floor'].to_numpy().astype(np.int)\n",
    "            self.xs = wifi_df['x'].to_numpy()\n",
    "            self.ys = wifi_df['y'].to_numpy()\n",
    "        \n",
    "    def __len__(self):\n",
    "        return len(self.wifi_df)\n",
    "\n",
    "    def __getitem__(self, idx):\n",
    "        # wifi_row = self.wifi_df.iloc[idx]\n",
    "        bssid = self.bssids[idx, :]\n",
    "        rssi = self.rssis[idx, :]\n",
    "        site_id = self.site_ids[idx]\n",
    "        \n",
    "        bssid_x = self.bssid_x[idx, :]\n",
    "        bssid_y = self.bssid_y[idx, :]\n",
    "\n",
    "        if self.data_type in ['test', 'valid']:\n",
    "            return bssid, rssi, site_id, bssid_x, bssid_y\n",
    "\n",
    "        elif self.data_type == 'train':\n",
    "            x = self.xs[idx]\n",
    "            y = self.ys[idx]\n",
    "            floor = self.floors[idx]\n",
    "\n",
    "            return bssid, rssi, site_id, x, y, floor, bssid_x, bssid_y\n"
   ]
  },
  {
   "cell_type": "code",
   "execution_count": 28,
   "metadata": {
    "executionInfo": {
     "elapsed": 41354,
     "status": "ok",
     "timestamp": 1616479188173,
     "user": {
      "displayName": "ユウキハヤカワ",
      "photoUrl": "https://lh3.googleusercontent.com/a-/AOh14GjfXu9o7zmAYL24s4P8H7I0lvSgQUaSfrXi7qemvQ=s64",
      "userId": "00286900621093795459"
     },
     "user_tz": -540
    },
    "id": "F4Parwz4Xcrn"
   },
   "outputs": [],
   "source": [
    "class IndoorLoss(nn.Module):\n",
    "    def __init__(self):\n",
    "        super().__init__()\n",
    "\n",
    "        self.mse = nn.MSELoss()\n",
    "\n",
    "    def forward(self, x, y, floor, x_pred, y_pred, floor_pred):\n",
    "\n",
    "        x_loss = self.mse(x, x_pred)\n",
    "        y_loss = self.mse(y, y_pred)\n",
    "        floor_loss = self.mse(floor, floor_pred)\n",
    "\n",
    "        return x_loss + y_loss + floor_loss"
   ]
  },
  {
   "cell_type": "code",
   "execution_count": 29,
   "metadata": {
    "colab": {
     "base_uri": "https://localhost:8080/"
    },
    "executionInfo": {
     "elapsed": 41347,
     "status": "ok",
     "timestamp": 1616479188173,
     "user": {
      "displayName": "ユウキハヤカワ",
      "photoUrl": "https://lh3.googleusercontent.com/a-/AOh14GjfXu9o7zmAYL24s4P8H7I0lvSgQUaSfrXi7qemvQ=s64",
      "userId": "00286900621093795459"
     },
     "user_tz": -540
    },
    "id": "_Diyk0TFZBiQ",
    "outputId": "f5a01157-c5f0-448a-ca29-9380a573e4b1"
   },
   "outputs": [],
   "source": [
    "# device = torch.device(\"cuda\" if torch.cuda.is_available() else \"cpu\")\n",
    "device = torch.device(config['globals']['device'])"
   ]
  },
  {
   "cell_type": "code",
   "execution_count": 30,
   "metadata": {
    "colab": {
     "base_uri": "https://localhost:8080/"
    },
    "executionInfo": {
     "elapsed": 2141644,
     "status": "ok",
     "timestamp": 1616481288506,
     "user": {
      "displayName": "ユウキハヤカワ",
      "photoUrl": "https://lh3.googleusercontent.com/a-/AOh14GjfXu9o7zmAYL24s4P8H7I0lvSgQUaSfrXi7qemvQ=s64",
      "userId": "00286900621093795459"
     },
     "user_tz": -540
    },
    "id": "AdSYMcirdyXx",
    "outputId": "e1f840c9-d3af-4df7-b2fc-3f7f9735df4d"
   },
   "outputs": [
    {
     "name": "stdout",
     "output_type": "stream",
     "text": [
      "\n",
      "====== 1 ======\n"
     ]
    },
    {
     "data": {
      "text/html": [
       "\n",
       "    <div>\n",
       "        <style>\n",
       "            /* Turns off some styling */\n",
       "            progress {\n",
       "                /* gets rid of default border in Firefox and Opera. */\n",
       "                border: none;\n",
       "                /* Needs to be in here for Safari polyfill so background images work as expected. */\n",
       "                background-size: auto;\n",
       "            }\n",
       "            .progress-bar-interrupted, .progress-bar-interrupted::-webkit-progress-bar {\n",
       "                background: #F44336;\n",
       "            }\n",
       "        </style>\n",
       "      <progress value='19' class='' max='100' style='width:300px; height:20px; vertical-align: middle;'></progress>\n",
       "      19.00% [19/100 00:31<02:14 epoch = 19]\n",
       "    </div>\n",
       "    \n",
       "\n",
       "\n",
       "    <div>\n",
       "        <style>\n",
       "            /* Turns off some styling */\n",
       "            progress {\n",
       "                /* gets rid of default border in Firefox and Opera. */\n",
       "                border: none;\n",
       "                /* Needs to be in here for Safari polyfill so background images work as expected. */\n",
       "                background-size: auto;\n",
       "            }\n",
       "            .progress-bar-interrupted, .progress-bar-interrupted::-webkit-progress-bar {\n",
       "                background: #F44336;\n",
       "            }\n",
       "        </style>\n",
       "      <progress value='37' class='' max='37' style='width:300px; height:20px; vertical-align: middle;'></progress>\n",
       "      100.00% [37/37 00:00<00:00]\n",
       "    </div>\n",
       "    "
      ],
      "text/plain": [
       "<IPython.core.display.HTML object>"
      ]
     },
     "metadata": {},
     "output_type": "display_data"
    },
    {
     "name": "stderr",
     "output_type": "stream",
     "text": [
      "2021-04-09 00:19:37.691 | INFO     | __main__:save_checkpoint:46 - Validation loss decreased (inf --> 173.493489).  Saving model ...\n",
      "2021-04-09 00:19:39.415 | INFO     | __main__:save_checkpoint:46 - Validation loss decreased (173.493489 --> 112.756793).  Saving model ...\n",
      "2021-04-09 00:19:41.124 | INFO     | __main__:save_checkpoint:46 - Validation loss decreased (112.756793 --> 53.742604).  Saving model ...\n",
      "2021-04-09 00:19:42.791 | INFO     | __main__:save_checkpoint:46 - Validation loss decreased (53.742604 --> 24.111718).  Saving model ...\n",
      "2021-04-09 00:19:44.433 | INFO     | __main__:save_checkpoint:46 - Validation loss decreased (24.111718 --> 11.519009).  Saving model ...\n",
      "2021-04-09 00:19:46.045 | INFO     | __main__:save_checkpoint:46 - Validation loss decreased (11.519009 --> 8.142567).  Saving model ...\n",
      "2021-04-09 00:19:47.629 | INFO     | __main__:save_checkpoint:46 - Validation loss decreased (8.142567 --> 7.505208).  Saving model ...\n",
      "2021-04-09 00:19:49.332 | INFO     | __main__:save_checkpoint:46 - Validation loss decreased (7.505208 --> 7.363356).  Saving model ...\n",
      "2021-04-09 00:19:51.016 | INFO     | __main__:save_checkpoint:46 - Validation loss decreased (7.363356 --> 6.998007).  Saving model ...\n",
      "2021-04-09 00:19:52.683 | INFO     | __main__:save_checkpoint:46 - Validation loss decreased (6.998007 --> 6.553829).  Saving model ...\n",
      "2021-04-09 00:19:54.406 | INFO     | __main__:__call__:35 - EarlyStopping counter: 1 out of 10, score=7.031740576269435\n",
      "2021-04-09 00:19:56.088 | INFO     | __main__:__call__:35 - EarlyStopping counter: 2 out of 10, score=6.887825691348499\n",
      "2021-04-09 00:19:57.726 | INFO     | __main__:__call__:35 - EarlyStopping counter: 3 out of 10, score=6.942498779972412\n",
      "2021-04-09 00:19:59.408 | INFO     | __main__:__call__:35 - EarlyStopping counter: 4 out of 10, score=6.801080887927229\n",
      "2021-04-09 00:20:01.047 | INFO     | __main__:__call__:35 - EarlyStopping counter: 5 out of 10, score=7.105900349216742\n",
      "2021-04-09 00:20:02.625 | INFO     | __main__:__call__:35 - EarlyStopping counter: 6 out of 10, score=7.909358166996407\n",
      "2021-04-09 00:20:04.270 | INFO     | __main__:__call__:35 - EarlyStopping counter: 7 out of 10, score=7.19189700669691\n",
      "2021-04-09 00:20:05.890 | INFO     | __main__:__call__:35 - EarlyStopping counter: 8 out of 10, score=7.700811647314078\n",
      "2021-04-09 00:20:07.437 | INFO     | __main__:__call__:35 - EarlyStopping counter: 9 out of 10, score=7.408284620184509\n",
      "2021-04-09 00:20:09.096 | INFO     | __main__:__call__:35 - EarlyStopping counter: 10 out of 10, score=8.217287974783003\n",
      "2021-04-09 00:20:09.096 | INFO     | __main__:<module>:95 - Early stopping\n"
     ]
    },
    {
     "name": "stdout",
     "output_type": "stream",
     "text": [
      "6.553828903527707\n",
      "\n",
      "====== 2 ======\n"
     ]
    },
    {
     "data": {
      "text/html": [
       "\n",
       "    <div>\n",
       "        <style>\n",
       "            /* Turns off some styling */\n",
       "            progress {\n",
       "                /* gets rid of default border in Firefox and Opera. */\n",
       "                border: none;\n",
       "                /* Needs to be in here for Safari polyfill so background images work as expected. */\n",
       "                background-size: auto;\n",
       "            }\n",
       "            .progress-bar-interrupted, .progress-bar-interrupted::-webkit-progress-bar {\n",
       "                background: #F44336;\n",
       "            }\n",
       "        </style>\n",
       "      <progress value='21' class='' max='100' style='width:300px; height:20px; vertical-align: middle;'></progress>\n",
       "      21.00% [21/100 00:34<02:11 epoch = 21]\n",
       "    </div>\n",
       "    \n",
       "\n",
       "\n",
       "    <div>\n",
       "        <style>\n",
       "            /* Turns off some styling */\n",
       "            progress {\n",
       "                /* gets rid of default border in Firefox and Opera. */\n",
       "                border: none;\n",
       "                /* Needs to be in here for Safari polyfill so background images work as expected. */\n",
       "                background-size: auto;\n",
       "            }\n",
       "            .progress-bar-interrupted, .progress-bar-interrupted::-webkit-progress-bar {\n",
       "                background: #F44336;\n",
       "            }\n",
       "        </style>\n",
       "      <progress value='37' class='' max='37' style='width:300px; height:20px; vertical-align: middle;'></progress>\n",
       "      100.00% [37/37 00:00<00:00]\n",
       "    </div>\n",
       "    "
      ],
      "text/plain": [
       "<IPython.core.display.HTML object>"
      ]
     },
     "metadata": {},
     "output_type": "display_data"
    },
    {
     "name": "stderr",
     "output_type": "stream",
     "text": [
      "2021-04-09 00:20:11.437 | INFO     | __main__:save_checkpoint:46 - Validation loss decreased (inf --> 171.461108).  Saving model ...\n",
      "2021-04-09 00:20:13.125 | INFO     | __main__:save_checkpoint:46 - Validation loss decreased (171.461108 --> 113.332960).  Saving model ...\n",
      "2021-04-09 00:20:14.819 | INFO     | __main__:save_checkpoint:46 - Validation loss decreased (113.332960 --> 56.267293).  Saving model ...\n",
      "2021-04-09 00:20:16.483 | INFO     | __main__:save_checkpoint:46 - Validation loss decreased (56.267293 --> 22.880666).  Saving model ...\n",
      "2021-04-09 00:20:18.155 | INFO     | __main__:save_checkpoint:46 - Validation loss decreased (22.880666 --> 11.286300).  Saving model ...\n",
      "2021-04-09 00:20:19.785 | INFO     | __main__:save_checkpoint:46 - Validation loss decreased (11.286300 --> 8.562117).  Saving model ...\n",
      "2021-04-09 00:20:21.486 | INFO     | __main__:save_checkpoint:46 - Validation loss decreased (8.562117 --> 7.042407).  Saving model ...\n",
      "2021-04-09 00:20:23.139 | INFO     | __main__:__call__:35 - EarlyStopping counter: 1 out of 10, score=7.527445133414168\n",
      "2021-04-09 00:20:24.811 | INFO     | __main__:save_checkpoint:46 - Validation loss decreased (7.042407 --> 6.601308).  Saving model ...\n",
      "2021-04-09 00:20:26.452 | INFO     | __main__:save_checkpoint:46 - Validation loss decreased (6.601308 --> 6.597374).  Saving model ...\n",
      "2021-04-09 00:20:28.127 | INFO     | __main__:__call__:35 - EarlyStopping counter: 1 out of 10, score=6.876334592290716\n",
      "2021-04-09 00:20:29.808 | INFO     | __main__:save_checkpoint:46 - Validation loss decreased (6.597374 --> 6.493264).  Saving model ...\n",
      "2021-04-09 00:20:31.446 | INFO     | __main__:__call__:35 - EarlyStopping counter: 1 out of 10, score=6.715113451290461\n",
      "2021-04-09 00:20:33.138 | INFO     | __main__:__call__:35 - EarlyStopping counter: 2 out of 10, score=6.761413219173577\n",
      "2021-04-09 00:20:34.750 | INFO     | __main__:__call__:35 - EarlyStopping counter: 3 out of 10, score=7.073240165616471\n",
      "2021-04-09 00:20:36.368 | INFO     | __main__:__call__:35 - EarlyStopping counter: 4 out of 10, score=6.88112238433953\n",
      "2021-04-09 00:20:38.026 | INFO     | __main__:__call__:35 - EarlyStopping counter: 5 out of 10, score=7.515883990604296\n",
      "2021-04-09 00:20:39.722 | INFO     | __main__:__call__:35 - EarlyStopping counter: 6 out of 10, score=8.172507093045787\n",
      "2021-04-09 00:20:41.443 | INFO     | __main__:__call__:35 - EarlyStopping counter: 7 out of 10, score=7.513948304076482\n",
      "2021-04-09 00:20:43.121 | INFO     | __main__:__call__:35 - EarlyStopping counter: 8 out of 10, score=7.450204441388313\n",
      "2021-04-09 00:20:44.726 | INFO     | __main__:__call__:35 - EarlyStopping counter: 9 out of 10, score=7.367597189873471\n",
      "2021-04-09 00:20:46.458 | INFO     | __main__:__call__:35 - EarlyStopping counter: 10 out of 10, score=7.451293792953466\n",
      "2021-04-09 00:20:46.459 | INFO     | __main__:<module>:95 - Early stopping\n"
     ]
    },
    {
     "name": "stdout",
     "output_type": "stream",
     "text": [
      "6.493264444338038\n",
      "\n",
      "====== 3 ======\n"
     ]
    },
    {
     "data": {
      "text/html": [
       "\n",
       "    <div>\n",
       "        <style>\n",
       "            /* Turns off some styling */\n",
       "            progress {\n",
       "                /* gets rid of default border in Firefox and Opera. */\n",
       "                border: none;\n",
       "                /* Needs to be in here for Safari polyfill so background images work as expected. */\n",
       "                background-size: auto;\n",
       "            }\n",
       "            .progress-bar-interrupted, .progress-bar-interrupted::-webkit-progress-bar {\n",
       "                background: #F44336;\n",
       "            }\n",
       "        </style>\n",
       "      <progress value='18' class='' max='100' style='width:300px; height:20px; vertical-align: middle;'></progress>\n",
       "      18.00% [18/100 00:29<02:15 epoch = 18]\n",
       "    </div>\n",
       "    \n",
       "\n",
       "\n",
       "    <div>\n",
       "        <style>\n",
       "            /* Turns off some styling */\n",
       "            progress {\n",
       "                /* gets rid of default border in Firefox and Opera. */\n",
       "                border: none;\n",
       "                /* Needs to be in here for Safari polyfill so background images work as expected. */\n",
       "                background-size: auto;\n",
       "            }\n",
       "            .progress-bar-interrupted, .progress-bar-interrupted::-webkit-progress-bar {\n",
       "                background: #F44336;\n",
       "            }\n",
       "        </style>\n",
       "      <progress value='37' class='' max='37' style='width:300px; height:20px; vertical-align: middle;'></progress>\n",
       "      100.00% [37/37 00:00<00:00]\n",
       "    </div>\n",
       "    "
      ],
      "text/plain": [
       "<IPython.core.display.HTML object>"
      ]
     },
     "metadata": {},
     "output_type": "display_data"
    },
    {
     "name": "stderr",
     "output_type": "stream",
     "text": [
      "2021-04-09 00:20:48.723 | INFO     | __main__:save_checkpoint:46 - Validation loss decreased (inf --> 173.224018).  Saving model ...\n",
      "2021-04-09 00:20:50.408 | INFO     | __main__:save_checkpoint:46 - Validation loss decreased (173.224018 --> 115.541189).  Saving model ...\n",
      "2021-04-09 00:20:52.032 | INFO     | __main__:save_checkpoint:46 - Validation loss decreased (115.541189 --> 52.842182).  Saving model ...\n",
      "2021-04-09 00:20:53.717 | INFO     | __main__:save_checkpoint:46 - Validation loss decreased (52.842182 --> 21.490740).  Saving model ...\n",
      "2021-04-09 00:20:55.359 | INFO     | __main__:save_checkpoint:46 - Validation loss decreased (21.490740 --> 13.431423).  Saving model ...\n",
      "2021-04-09 00:20:56.992 | INFO     | __main__:save_checkpoint:46 - Validation loss decreased (13.431423 --> 9.148644).  Saving model ...\n",
      "2021-04-09 00:20:58.626 | INFO     | __main__:save_checkpoint:46 - Validation loss decreased (9.148644 --> 7.397112).  Saving model ...\n",
      "2021-04-09 00:21:00.274 | INFO     | __main__:save_checkpoint:46 - Validation loss decreased (7.397112 --> 6.642288).  Saving model ...\n",
      "2021-04-09 00:21:01.945 | INFO     | __main__:save_checkpoint:46 - Validation loss decreased (6.642288 --> 6.593267).  Saving model ...\n",
      "2021-04-09 00:21:03.668 | INFO     | __main__:__call__:35 - EarlyStopping counter: 1 out of 10, score=6.738499405494151\n",
      "2021-04-09 00:21:05.341 | INFO     | __main__:__call__:35 - EarlyStopping counter: 2 out of 10, score=6.705226855959252\n",
      "2021-04-09 00:21:06.981 | INFO     | __main__:__call__:35 - EarlyStopping counter: 3 out of 10, score=6.692876953492197\n",
      "2021-04-09 00:21:08.533 | INFO     | __main__:__call__:35 - EarlyStopping counter: 4 out of 10, score=6.890494200232096\n",
      "2021-04-09 00:21:10.230 | INFO     | __main__:__call__:35 - EarlyStopping counter: 5 out of 10, score=6.749848463586047\n",
      "2021-04-09 00:21:11.940 | INFO     | __main__:__call__:35 - EarlyStopping counter: 6 out of 10, score=6.600660876433017\n",
      "2021-04-09 00:21:13.629 | INFO     | __main__:__call__:35 - EarlyStopping counter: 7 out of 10, score=6.789709461052036\n",
      "2021-04-09 00:21:15.302 | INFO     | __main__:__call__:35 - EarlyStopping counter: 8 out of 10, score=7.504740239838107\n",
      "2021-04-09 00:21:16.922 | INFO     | __main__:__call__:35 - EarlyStopping counter: 9 out of 10, score=7.65164230429882\n",
      "2021-04-09 00:21:18.546 | INFO     | __main__:__call__:35 - EarlyStopping counter: 10 out of 10, score=7.623084924681198\n",
      "2021-04-09 00:21:18.546 | INFO     | __main__:<module>:95 - Early stopping\n"
     ]
    },
    {
     "name": "stdout",
     "output_type": "stream",
     "text": [
      "6.593267111678397\n",
      "\n",
      "====== 4 ======\n"
     ]
    },
    {
     "data": {
      "text/html": [
       "\n",
       "    <div>\n",
       "        <style>\n",
       "            /* Turns off some styling */\n",
       "            progress {\n",
       "                /* gets rid of default border in Firefox and Opera. */\n",
       "                border: none;\n",
       "                /* Needs to be in here for Safari polyfill so background images work as expected. */\n",
       "                background-size: auto;\n",
       "            }\n",
       "            .progress-bar-interrupted, .progress-bar-interrupted::-webkit-progress-bar {\n",
       "                background: #F44336;\n",
       "            }\n",
       "        </style>\n",
       "      <progress value='20' class='' max='100' style='width:300px; height:20px; vertical-align: middle;'></progress>\n",
       "      20.00% [20/100 00:34<02:17 epoch = 20]\n",
       "    </div>\n",
       "    \n",
       "\n",
       "\n",
       "    <div>\n",
       "        <style>\n",
       "            /* Turns off some styling */\n",
       "            progress {\n",
       "                /* gets rid of default border in Firefox and Opera. */\n",
       "                border: none;\n",
       "                /* Needs to be in here for Safari polyfill so background images work as expected. */\n",
       "                background-size: auto;\n",
       "            }\n",
       "            .progress-bar-interrupted, .progress-bar-interrupted::-webkit-progress-bar {\n",
       "                background: #F44336;\n",
       "            }\n",
       "        </style>\n",
       "      <progress value='37' class='' max='37' style='width:300px; height:20px; vertical-align: middle;'></progress>\n",
       "      100.00% [37/37 00:00<00:00]\n",
       "    </div>\n",
       "    "
      ],
      "text/plain": [
       "<IPython.core.display.HTML object>"
      ]
     },
     "metadata": {},
     "output_type": "display_data"
    },
    {
     "name": "stderr",
     "output_type": "stream",
     "text": [
      "2021-04-09 00:21:20.836 | INFO     | __main__:save_checkpoint:46 - Validation loss decreased (inf --> 175.957531).  Saving model ...\n",
      "2021-04-09 00:21:22.408 | INFO     | __main__:save_checkpoint:46 - Validation loss decreased (175.957531 --> 110.013882).  Saving model ...\n",
      "2021-04-09 00:21:24.097 | INFO     | __main__:save_checkpoint:46 - Validation loss decreased (110.013882 --> 54.608752).  Saving model ...\n",
      "2021-04-09 00:21:25.689 | INFO     | __main__:save_checkpoint:46 - Validation loss decreased (54.608752 --> 22.940191).  Saving model ...\n",
      "2021-04-09 00:21:27.290 | INFO     | __main__:save_checkpoint:46 - Validation loss decreased (22.940191 --> 11.485317).  Saving model ...\n",
      "2021-04-09 00:21:28.918 | INFO     | __main__:save_checkpoint:46 - Validation loss decreased (11.485317 --> 8.034599).  Saving model ...\n",
      "2021-04-09 00:21:30.612 | INFO     | __main__:save_checkpoint:46 - Validation loss decreased (8.034599 --> 7.099618).  Saving model ...\n",
      "2021-04-09 00:21:32.193 | INFO     | __main__:__call__:35 - EarlyStopping counter: 1 out of 10, score=7.23802453104055\n",
      "2021-04-09 00:21:33.901 | INFO     | __main__:save_checkpoint:46 - Validation loss decreased (7.099618 --> 7.063626).  Saving model ...\n",
      "2021-04-09 00:21:35.431 | INFO     | __main__:save_checkpoint:46 - Validation loss decreased (7.063626 --> 6.854436).  Saving model ...\n",
      "2021-04-09 00:21:37.142 | INFO     | __main__:save_checkpoint:46 - Validation loss decreased (6.854436 --> 6.563240).  Saving model ...\n",
      "2021-04-09 00:21:38.701 | INFO     | __main__:__call__:35 - EarlyStopping counter: 1 out of 10, score=6.76348441620936\n",
      "2021-04-09 00:21:40.476 | INFO     | __main__:__call__:35 - EarlyStopping counter: 2 out of 10, score=6.8205493557872785\n",
      "2021-04-09 00:21:42.189 | INFO     | __main__:__call__:35 - EarlyStopping counter: 3 out of 10, score=6.770283305484554\n",
      "2021-04-09 00:21:43.904 | INFO     | __main__:__call__:35 - EarlyStopping counter: 4 out of 10, score=7.1933045778731834\n",
      "2021-04-09 00:21:45.782 | INFO     | __main__:__call__:35 - EarlyStopping counter: 5 out of 10, score=7.002712306254659\n",
      "2021-04-09 00:21:47.703 | INFO     | __main__:__call__:35 - EarlyStopping counter: 6 out of 10, score=7.3938872348135485\n",
      "2021-04-09 00:21:49.693 | INFO     | __main__:__call__:35 - EarlyStopping counter: 7 out of 10, score=7.416605109571793\n",
      "2021-04-09 00:21:51.783 | INFO     | __main__:__call__:35 - EarlyStopping counter: 8 out of 10, score=7.22789743720447\n",
      "2021-04-09 00:21:53.645 | INFO     | __main__:__call__:35 - EarlyStopping counter: 9 out of 10, score=7.867256430039966\n",
      "2021-04-09 00:21:55.646 | INFO     | __main__:__call__:35 - EarlyStopping counter: 10 out of 10, score=7.214108092585819\n",
      "2021-04-09 00:21:55.646 | INFO     | __main__:<module>:95 - Early stopping\n"
     ]
    },
    {
     "name": "stdout",
     "output_type": "stream",
     "text": [
      "6.563239659078893\n",
      "\n",
      "====== 5 ======\n"
     ]
    },
    {
     "data": {
      "text/html": [
       "\n",
       "    <div>\n",
       "        <style>\n",
       "            /* Turns off some styling */\n",
       "            progress {\n",
       "                /* gets rid of default border in Firefox and Opera. */\n",
       "                border: none;\n",
       "                /* Needs to be in here for Safari polyfill so background images work as expected. */\n",
       "                background-size: auto;\n",
       "            }\n",
       "            .progress-bar-interrupted, .progress-bar-interrupted::-webkit-progress-bar {\n",
       "                background: #F44336;\n",
       "            }\n",
       "        </style>\n",
       "      <progress value='19' class='' max='100' style='width:300px; height:20px; vertical-align: middle;'></progress>\n",
       "      19.00% [19/100 00:34<02:27 epoch = 19]\n",
       "    </div>\n",
       "    \n",
       "\n",
       "\n",
       "    <div>\n",
       "        <style>\n",
       "            /* Turns off some styling */\n",
       "            progress {\n",
       "                /* gets rid of default border in Firefox and Opera. */\n",
       "                border: none;\n",
       "                /* Needs to be in here for Safari polyfill so background images work as expected. */\n",
       "                background-size: auto;\n",
       "            }\n",
       "            .progress-bar-interrupted, .progress-bar-interrupted::-webkit-progress-bar {\n",
       "                background: #F44336;\n",
       "            }\n",
       "        </style>\n",
       "      <progress value='37' class='' max='37' style='width:300px; height:20px; vertical-align: middle;'></progress>\n",
       "      100.00% [37/37 00:00<00:00]\n",
       "    </div>\n",
       "    "
      ],
      "text/plain": [
       "<IPython.core.display.HTML object>"
      ]
     },
     "metadata": {},
     "output_type": "display_data"
    },
    {
     "name": "stderr",
     "output_type": "stream",
     "text": [
      "2021-04-09 00:21:58.530 | INFO     | __main__:save_checkpoint:46 - Validation loss decreased (inf --> 169.578908).  Saving model ...\n",
      "2021-04-09 00:22:00.287 | INFO     | __main__:save_checkpoint:46 - Validation loss decreased (169.578908 --> 112.289367).  Saving model ...\n",
      "2021-04-09 00:22:02.108 | INFO     | __main__:save_checkpoint:46 - Validation loss decreased (112.289367 --> 54.209771).  Saving model ...\n",
      "2021-04-09 00:22:03.806 | INFO     | __main__:save_checkpoint:46 - Validation loss decreased (54.209771 --> 21.329406).  Saving model ...\n",
      "2021-04-09 00:22:05.607 | INFO     | __main__:save_checkpoint:46 - Validation loss decreased (21.329406 --> 12.683293).  Saving model ...\n",
      "2021-04-09 00:22:07.432 | INFO     | __main__:save_checkpoint:46 - Validation loss decreased (12.683293 --> 9.017982).  Saving model ...\n",
      "2021-04-09 00:22:09.249 | INFO     | __main__:save_checkpoint:46 - Validation loss decreased (9.017982 --> 7.295686).  Saving model ...\n",
      "2021-04-09 00:22:11.069 | INFO     | __main__:__call__:35 - EarlyStopping counter: 1 out of 10, score=7.393610924085521\n",
      "2021-04-09 00:22:12.847 | INFO     | __main__:save_checkpoint:46 - Validation loss decreased (7.295686 --> 6.779956).  Saving model ...\n",
      "2021-04-09 00:22:14.670 | INFO     | __main__:save_checkpoint:46 - Validation loss decreased (6.779956 --> 6.256507).  Saving model ...\n",
      "2021-04-09 00:22:16.485 | INFO     | __main__:__call__:35 - EarlyStopping counter: 1 out of 10, score=6.511547355756862\n",
      "2021-04-09 00:22:18.303 | INFO     | __main__:__call__:35 - EarlyStopping counter: 2 out of 10, score=6.598268268447608\n",
      "2021-04-09 00:22:20.056 | INFO     | __main__:__call__:35 - EarlyStopping counter: 3 out of 10, score=7.221248396658112\n",
      "2021-04-09 00:22:21.906 | INFO     | __main__:__call__:35 - EarlyStopping counter: 4 out of 10, score=6.739216106090404\n",
      "2021-04-09 00:22:23.753 | INFO     | __main__:__call__:35 - EarlyStopping counter: 5 out of 10, score=7.095243385236054\n",
      "2021-04-09 00:22:25.528 | INFO     | __main__:__call__:35 - EarlyStopping counter: 6 out of 10, score=7.548764339560836\n",
      "2021-04-09 00:22:27.372 | INFO     | __main__:__call__:35 - EarlyStopping counter: 7 out of 10, score=6.967957925133495\n",
      "2021-04-09 00:22:29.120 | INFO     | __main__:__call__:35 - EarlyStopping counter: 8 out of 10, score=6.967167491194075\n",
      "2021-04-09 00:22:30.920 | INFO     | __main__:__call__:35 - EarlyStopping counter: 9 out of 10, score=6.921208998380511\n",
      "2021-04-09 00:22:32.564 | INFO     | __main__:__call__:35 - EarlyStopping counter: 10 out of 10, score=7.404601297935871\n",
      "2021-04-09 00:22:32.565 | INFO     | __main__:<module>:95 - Early stopping\n"
     ]
    },
    {
     "name": "stdout",
     "output_type": "stream",
     "text": [
      "6.256507480491012\n",
      "CPU times: user 2min 2s, sys: 34 s, total: 2min 36s\n",
      "Wall time: 2min 58s\n"
     ]
    }
   ],
   "source": [
    "%%time\n",
    "\n",
    "oof_x = np.zeros((len(df_train)))\n",
    "oof_y = np.zeros((len(df_train)))\n",
    "oof_floor = np.zeros((len(df_train)))\n",
    "cv_scores = {}\n",
    "\n",
    "kf = KFold(n_splits=config['globals']['n_splits'], random_state=42, shuffle=True)\n",
    "for fold, (train_index, valid_index) in enumerate(kf.split(df_train)):\n",
    "    print(f'\\r\\n====== {fold + 1} ======')\n",
    "    net = IndoorWiFiNet(wifi_bssids_size, site_count, config['globals']['num_feats'])\n",
    "    net = net.to(device)\n",
    "\n",
    "    #criterion = IndoorLoss()\n",
    "    criterion = nn.MSELoss()\n",
    "    criterion = criterion.to(device)\n",
    "    #optimizer = optim.SGD(net.parameters(), lr=Config.LR, weight_decay=0.0001, momentum=0.9)\n",
    "    optimizer = torch.optim.Adam(net.parameters(), lr=config['globals']['lr'])\n",
    "    \n",
    "    train, valid = df_train.iloc[train_index], df_train.iloc[valid_index]\n",
    "\n",
    "    # TODO oof用のdataloaderはいらないはず\n",
    "    train_dataset = IndoorWiFiDataSet(train.reset_index(drop=True), bssid_feats, rssi_feats, bssid_x_feats, bssid_y_feats, data_type='train')\n",
    "    valid_dataset = IndoorWiFiDataSet(valid.reset_index(drop=True), bssid_feats, rssi_feats, bssid_x_feats, bssid_y_feats, data_type='valid')\n",
    "\n",
    "    trainloader = DataLoader(train_dataset, batch_size=config['globals']['batch_size'], shuffle=True, drop_last=True, num_workers=4)\n",
    "    validloader = DataLoader(valid_dataset, batch_size=config['globals']['batch_size'], num_workers=4)\n",
    "\n",
    "    early_stopping = EarlyStopping(save_name=f'{DIR_SAVE_IGNORE}checkpoint_{NB}', fold=fold+1, patience=config['globals']['patience'], verbose=True)\n",
    "    scheduler = torch.optim.lr_scheduler.CosineAnnealingLR(optimizer, T_max=config['globals']['t_mux'])\n",
    "\n",
    "\n",
    "    ############# TRAIN #############\n",
    "    val_losses = []\n",
    "    val_metrics = []\n",
    "    mb = master_bar(range(1, config['globals']['epoch']+1))\n",
    "    for epoch in mb:\n",
    "        mb.main_bar.comment = f'epoch = {epoch}'\n",
    "        running_loss = 0.0\n",
    "        #train_lwlrap = 0.0\n",
    "#         n_iter = len(trainloader)\n",
    "#         with tqdm(enumerate(trainloader), total=n_iter) as pbar:\n",
    "        for i, (bssid, rssi, site_id, x, y, floor, bssid_x, bssid_y) in enumerate(progress_bar(trainloader, parent=mb)):\n",
    "            net.train()\n",
    "            # zero the parameter gradients\n",
    "            optimizer.zero_grad()\n",
    "\n",
    "            bssid, rssi, site_id, x, y, floor, bssid_x, bssid_y = bssid.to(device).long(), rssi.to(device).float(), site_id.to(device).long(), x.to(device).float(), y.to(device).float(), floor.to(device), bssid_x.to(device).float(), bssid_y.to(device).float()\n",
    "\n",
    "            xy_pred, floor_pred = net(bssid, rssi, site_id, bssid_x, bssid_y)\n",
    "#             xy_pred, floor_pred = net(bssid, torch.cat([rssi, bssid_x, bssid_y], dim=1), site_id)\n",
    "            xy_pred = xy_pred.transpose(0, 1).squeeze(-2).reshape(-1)\n",
    "            label = torch.cat([x, y], dim=-1)\n",
    "            loss = criterion(xy_pred, label)\n",
    "            #loss = criterion(x, y, floor, x_pred, y_pred, floor_pred)\n",
    "            loss.backward()\n",
    "            optimizer.step()\n",
    "\n",
    "            running_loss += loss.item()\n",
    "#             mb.child.comment(OrderedDict(\n",
    "#                 epoch=\"{:>10}\".format(epoch), loss=\"{:.4f}\".format(loss.item())\n",
    "#             ))\n",
    "            mb.child.comment = f'loss={loss.item():.4f}'\n",
    "        scheduler.step()\n",
    "            \n",
    "        #if epoch < Config.SKIP_EVALUATE_NUM:\n",
    "        #    continue\n",
    "\n",
    "        ############# VALID #############\n",
    "        val_loss = 0.0\n",
    "        val_lwlrap = 0.0\n",
    "        x_preds = np.array([])\n",
    "        y_preds = np.array([])\n",
    "        val_preds_frame = []\n",
    "        n_iter_val = len(validloader)\n",
    "#         for i, (bssid, rssi, site_id) in tqdm(enumerate(validloader), total=len(validloader)):\n",
    "        for i, (bssid, rssi, site_id, bssid_x, bssid_y) in enumerate(progress_bar(validloader, parent=mb)):\n",
    "            mb.child.comment = 'calc valid'\n",
    "            net.eval()\n",
    "\n",
    "            with torch.no_grad():\n",
    "                \n",
    "                #melspec, labels = melspec.to(device).float(), labels.to(device).float()\n",
    "                bssid, rssi, site_id, bssid_x, bssid_y = bssid.to(device).long(), rssi.to(device).float(), site_id.to(device).long(), bssid_x.to(device).float(), bssid_y.to(device).float()\n",
    "                xy_pred, floor_pred = net(bssid, rssi, site_id, bssid_x, bssid_y)\n",
    "\n",
    "                xy_pred = xy_pred.to('cpu').detach().numpy().copy()\n",
    "                x_pred, y_pred = np.hsplit(xy_pred, 2)\n",
    "                x_preds = np.concatenate([x_preds, x_pred.reshape(-1)])\n",
    "                y_preds = np.concatenate([y_preds, y_pred.reshape(-1)])\n",
    "\n",
    "        score = comp_metric(x_preds, y_preds, 0, valid['x'], valid['y'], 0)\n",
    "\n",
    "        early_stopping(score, net)\n",
    "\n",
    "        if early_stopping.early_stop:\n",
    "            logger.info(\"Early stopping\")\n",
    "            cv_scores[f'cv{fold + 1}'] = early_stopping.best_score\n",
    "            break\n",
    "                \n",
    "    _x_oof = np.array([])\n",
    "    _y_oof = np.array([])\n",
    "    ############# OOF #############\n",
    "    oof_preds = []\n",
    "#     for i, (bssid, rssi, site_id) in tqdm(enumerate(validloader), total=len(validloader)):\n",
    "    for i, (bssid, rssi, site_id, bssid_x, bssid_y) in enumerate(progress_bar(validloader, parent=mb)):\n",
    "#         net.load_state_dict(torch.load(ROOT_DIR / Path('output') / f'checkpoint_{NB}_{fold}.pt'))\n",
    "        net.load_state_dict(torch.load(f'{DIR_SAVE_IGNORE}checkpoint_{NB}_{fold + 1}.pt'))\n",
    "        net.eval()\n",
    "\n",
    "        with torch.no_grad():\n",
    "\n",
    "#             bssid, rssi, site_id, x, y, floor = bssid.to(device).long(), rssi.to(device).float(), site_id.to(device).long(), x.to(device).float(), y.to(device).float(), floor.to(device)\n",
    "            bssid, rssi, site_id, x, y, floor, bssid_x, bssid_y = bssid.to(device).long(), rssi.to(device).float(), site_id.to(device).long(), x.to(device).float(), y.to(device).float(), floor.to(device), bssid_x.to(device).float(), bssid_y.to(device).float()\n",
    "\n",
    "            xy_pred, floor_pred = net(bssid, rssi, site_id, bssid_x, bssid_y)\n",
    "\n",
    "            xy_pred = xy_pred.to('cpu').detach().numpy().copy()\n",
    "            x_pred, y_pred = np.hsplit(xy_pred, 2)\n",
    "            _x_oof = np.concatenate([_x_oof, x_pred.reshape(-1)])\n",
    "            _y_oof = np.concatenate([_y_oof, y_pred.reshape(-1)])\n",
    "\n",
    "    print(comp_metric(_x_oof, _y_oof, 0, valid['x'], valid['y'], 0))\n",
    "\n",
    "    oof_x[valid_index] = _x_oof\n",
    "    oof_y[valid_index] = _y_oof\n",
    "\n",
    "    del net\n",
    "    torch.cuda.empty_cache()"
   ]
  },
  {
   "cell_type": "code",
   "execution_count": 31,
   "metadata": {
    "colab": {
     "base_uri": "https://localhost:8080/"
    },
    "executionInfo": {
     "elapsed": 501,
     "status": "ok",
     "timestamp": 1616481371504,
     "user": {
      "displayName": "ユウキハヤカワ",
      "photoUrl": "https://lh3.googleusercontent.com/a-/AOh14GjfXu9o7zmAYL24s4P8H7I0lvSgQUaSfrXi7qemvQ=s64",
      "userId": "00286900621093795459"
     },
     "user_tz": -540
    },
    "id": "VEdEjVItESKZ",
    "outputId": "8e4be26a-5aa1-4afa-eb4b-336380550dbb"
   },
   "outputs": [
    {
     "data": {
      "text/plain": [
       "6.492024131475972"
      ]
     },
     "execution_count": 31,
     "metadata": {},
     "output_type": "execute_result"
    }
   ],
   "source": [
    "oof_score = comp_metric(oof_x, oof_y, np.zeros(len(df_train)), df_train['x'], df_train['y'], np.zeros(len(df_train)))\n",
    "oof_score"
   ]
  },
  {
   "cell_type": "code",
   "execution_count": null,
   "metadata": {},
   "outputs": [],
   "source": []
  },
  {
   "cell_type": "code",
   "execution_count": null,
   "metadata": {},
   "outputs": [],
   "source": []
  },
  {
   "cell_type": "raw",
   "metadata": {},
   "source": [
    "\n",
    "\n",
    "\n",
    "\n",
    "\n",
    "\n",
    "\n",
    "\n",
    "\n",
    "\n",
    "\n",
    "\n",
    "\n",
    "\n",
    "\n",
    "\n",
    "\n",
    "\n",
    "\n",
    "\n",
    "\n",
    "\n",
    "\n",
    "\n",
    "\n",
    "\n",
    "\n",
    "\n"
   ]
  }
 ],
 "metadata": {
  "accelerator": "GPU",
  "colab": {
   "collapsed_sections": [],
   "machine_shape": "hm",
   "name": "exp003-0.ipynb",
   "provenance": [
    {
     "file_id": "https://github.com/yuki-a4/Indoor/blob/main/COLAB/notebook/exp003.ipynb",
     "timestamp": 1616255627299
    }
   ]
  },
  "kernelspec": {
   "display_name": "Python 3",
   "language": "python",
   "name": "python3"
  },
  "language_info": {
   "codemirror_mode": {
    "name": "ipython",
    "version": 3
   },
   "file_extension": ".py",
   "mimetype": "text/x-python",
   "name": "python",
   "nbconvert_exporter": "python",
   "pygments_lexer": "ipython3",
   "version": "3.8.5"
  }
 },
 "nbformat": 4,
 "nbformat_minor": 4
}
