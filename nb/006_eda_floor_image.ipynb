{
 "cells": [
  {
   "cell_type": "markdown",
   "id": "finnish-warner",
   "metadata": {},
   "source": [
    "# Overview\n",
    "- floor imageを一覧で見えやすくする"
   ]
  },
  {
   "cell_type": "code",
   "execution_count": 1,
   "id": "humanitarian-organ",
   "metadata": {},
   "outputs": [
    {
     "name": "stdout",
     "output_type": "stream",
     "text": [
      "f613900\n"
     ]
    }
   ],
   "source": [
    "import subprocess\n",
    "cmd = \"git rev-parse --short HEAD\"\n",
    "hash = subprocess.check_output(cmd.split()).strip().decode('utf-8')\n",
    "print(hash)"
   ]
  },
  {
   "cell_type": "markdown",
   "id": "indoor-distinction",
   "metadata": {},
   "source": [
    "# Const"
   ]
  },
  {
   "cell_type": "code",
   "execution_count": 2,
   "id": "auburn-party",
   "metadata": {},
   "outputs": [],
   "source": [
    "NB = '006'\n",
    "DIR_TRAIN = './../data_ignore/input/train/'\n",
    "DIR_TEST = './../data_ignore/input/test/'\n",
    "DIR_WIFI = './../data_ignore/input/wifi/'\n",
    "PATH_SUB = './../data_ignore/input/sample_submission.csv'\n",
    "PATH_99_SUB = './../data/input/floor_99per_acc_sub.csv'\n",
    "DIR_SAVE_IGNORE = f'./../data_ignore/nb/{NB}/'\n",
    "DIR_SAVE = f'./../data/nb/{NB}/'"
   ]
  },
  {
   "cell_type": "code",
   "execution_count": 3,
   "id": "wrong-legend",
   "metadata": {},
   "outputs": [],
   "source": [
    "config_str = '''\n",
    "globals:\n",
    "    seed: 5713\n",
    "    device: cuda\n",
    "    n_label: 24\n",
    "    n_splits: 5\n",
    "    random_sate: 42\n",
    "    lr: 0.001\n",
    "    patience: 10\n",
    "    epoch: 100\n",
    "    batch_size: 512\n",
    "    skip_evaluate_num: 5\n",
    "    num_feats: 20\n",
    "    t_mux: 10\n",
    "'''"
   ]
  },
  {
   "cell_type": "markdown",
   "id": "sufficient-routine",
   "metadata": {},
   "source": [
    "# Import everything I need:)"
   ]
  },
  {
   "cell_type": "code",
   "execution_count": 4,
   "id": "absolute-gross",
   "metadata": {},
   "outputs": [],
   "source": [
    "import os\n",
    "import time\n",
    "import yaml\n",
    "import types\n",
    "import random\n",
    "import pickle\n",
    "import builtins\n",
    "import numpy as np\n",
    "import pandas as pd\n",
    "import seaborn as sns\n",
    "from icecream import ic\n",
    "import matplotlib.pyplot as plt\n",
    "from dataclasses import dataclass\n",
    "# from tqdm import tqdm\n",
    "from fastprogress import progress_bar, master_bar\n",
    "from glob import glob\n",
    "from loguru import logger\n",
    "from collections import OrderedDict\n",
    "\n",
    "# sklearn\n",
    "from sklearn.preprocessing import LabelEncoder, StandardScaler\n",
    "from sklearn.model_selection import KFold\n",
    "\n",
    "# pytorch\n",
    "import torch\n",
    "from torch import nn\n",
    "from torch.utils.data import Dataset, DataLoader\n",
    "import torch.optim as optim\n",
    "import torch.nn.functional as F"
   ]
  },
  {
   "cell_type": "markdown",
   "id": "toxic-backing",
   "metadata": {},
   "source": [
    "# Function"
   ]
  },
  {
   "cell_type": "code",
   "execution_count": 5,
   "id": "incident-contrary",
   "metadata": {
    "executionInfo": {
     "elapsed": 4655,
     "status": "ok",
     "timestamp": 1616479151188,
     "user": {
      "displayName": "ユウキハヤカワ",
      "photoUrl": "https://lh3.googleusercontent.com/a-/AOh14GjfXu9o7zmAYL24s4P8H7I0lvSgQUaSfrXi7qemvQ=s64",
      "userId": "00286900621093795459"
     },
     "user_tz": -540
    },
    "id": "7SxgGjwA5Rty"
   },
   "outputs": [],
   "source": [
    "def imports():\n",
    "    for name, val in globals().items():\n",
    "        # module imports\n",
    "        if isinstance(val, types.ModuleType):\n",
    "            yield name, val\n",
    "\n",
    "            # functions / callables\n",
    "        if hasattr(val, '__call__'):\n",
    "            yield name, val\n",
    "\n",
    "\n",
    "def noglobal(f):\n",
    "    '''\n",
    "    ref: https://gist.github.com/raven38/4e4c3c7a179283c441f575d6e375510c\n",
    "    '''\n",
    "    return types.FunctionType(f.__code__,\n",
    "                              dict(imports()),\n",
    "                              f.__name__,\n",
    "                              f.__defaults__,\n",
    "                              f.__closure__\n",
    "                              )\n",
    "\n",
    "\n",
    "def comp_metric(xhat, yhat, fhat, x, y, f):\n",
    "    intermediate = np.sqrt(np.power(xhat-x, 2) + np.power(yhat-y, 2)) + 15 * np.abs(fhat-f)\n",
    "    return intermediate.sum()/xhat.shape[0]\n",
    "\n",
    "def seed_everything(seed=42):\n",
    "    random.seed(seed)\n",
    "    os.environ['PYTHONHASHSEED'] = str(seed)\n",
    "    np.random.seed(seed)\n",
    "    torch.manual_seed(seed)\n",
    "    torch.cuda.manual_seed(seed)\n",
    "    torch.backends.cudnn.deterministic = True\n",
    "    torch.backends.cudnn.benchmark = True"
   ]
  },
  {
   "cell_type": "code",
   "execution_count": 6,
   "id": "systematic-pitch",
   "metadata": {},
   "outputs": [],
   "source": [
    "@dataclass\n",
    "class ReadData:\n",
    "    acce: np.ndarray\n",
    "    acce_uncali: np.ndarray\n",
    "    gyro: np.ndarray\n",
    "    gyro_uncali: np.ndarray\n",
    "    magn: np.ndarray\n",
    "    magn_uncali: np.ndarray\n",
    "    ahrs: np.ndarray\n",
    "    wifi: np.ndarray\n",
    "    ibeacon: np.ndarray\n",
    "    waypoint: np.ndarray\n",
    "\n",
    "\n",
    "def read_data_file(data_filename):\n",
    "    acce = []\n",
    "    acce_uncali = []\n",
    "    gyro = []\n",
    "    gyro_uncali = []\n",
    "    magn = []\n",
    "    magn_uncali = []\n",
    "    ahrs = []\n",
    "    wifi = []\n",
    "    ibeacon = []\n",
    "    waypoint = []\n",
    "\n",
    "    with open(data_filename, 'r', encoding='utf-8') as file:\n",
    "        lines = file.readlines()\n",
    "\n",
    "    for line_data in lines:\n",
    "        line_data = line_data.strip()\n",
    "        if not line_data or line_data[0] == '#':\n",
    "            continue\n",
    "\n",
    "        line_data = line_data.split('\\t')\n",
    "\n",
    "        if line_data[1] == 'TYPE_ACCELEROMETER':\n",
    "            acce.append([int(line_data[0]), float(line_data[2]), float(line_data[3]), float(line_data[4])])\n",
    "            continue\n",
    "\n",
    "        if line_data[1] == 'TYPE_ACCELEROMETER_UNCALIBRATED':\n",
    "            acce_uncali.append([int(line_data[0]), float(line_data[2]), float(line_data[3]), float(line_data[4])])\n",
    "            continue\n",
    "\n",
    "        if line_data[1] == 'TYPE_GYROSCOPE':\n",
    "            gyro.append([int(line_data[0]), float(line_data[2]), float(line_data[3]), float(line_data[4])])\n",
    "            continue\n",
    "\n",
    "        if line_data[1] == 'TYPE_GYROSCOPE_UNCALIBRATED':\n",
    "            gyro_uncali.append([int(line_data[0]), float(line_data[2]), float(line_data[3]), float(line_data[4])])\n",
    "            continue\n",
    "\n",
    "        if line_data[1] == 'TYPE_MAGNETIC_FIELD':\n",
    "            magn.append([int(line_data[0]), float(line_data[2]), float(line_data[3]), float(line_data[4])])\n",
    "            continue\n",
    "\n",
    "        if line_data[1] == 'TYPE_MAGNETIC_FIELD_UNCALIBRATED':\n",
    "            magn_uncali.append([int(line_data[0]), float(line_data[2]), float(line_data[3]), float(line_data[4])])\n",
    "            continue\n",
    "\n",
    "        if line_data[1] == 'TYPE_ROTATION_VECTOR':\n",
    "            ahrs.append([int(line_data[0]), float(line_data[2]), float(line_data[3]), float(line_data[4])])\n",
    "            continue\n",
    "\n",
    "        if line_data[1] == 'TYPE_WIFI':\n",
    "            sys_ts = line_data[0]\n",
    "            ssid = line_data[2]\n",
    "            bssid = line_data[3]\n",
    "            rssi = line_data[4]\n",
    "            lastseen_ts = line_data[6]\n",
    "            wifi_data = [sys_ts, ssid, bssid, rssi, lastseen_ts]\n",
    "            wifi.append(wifi_data)\n",
    "            continue\n",
    "\n",
    "        if line_data[1] == 'TYPE_BEACON':\n",
    "            ts = line_data[0]\n",
    "            uuid = line_data[2]\n",
    "            major = line_data[3]\n",
    "            minor = line_data[4]\n",
    "            rssi = line_data[6]\n",
    "            ibeacon_data = [ts, '_'.join([uuid, major, minor]), rssi]\n",
    "            ibeacon.append(ibeacon_data)\n",
    "            continue\n",
    "\n",
    "        if line_data[1] == 'TYPE_WAYPOINT':\n",
    "            waypoint.append([int(line_data[0]), float(line_data[2]), float(line_data[3])])\n",
    "\n",
    "    acce = np.array(acce)\n",
    "    acce_uncali = np.array(acce_uncali)\n",
    "    gyro = np.array(gyro)\n",
    "    gyro_uncali = np.array(gyro_uncali)\n",
    "    magn = np.array(magn)\n",
    "    magn_uncali = np.array(magn_uncali)\n",
    "    ahrs = np.array(ahrs)\n",
    "    wifi = np.array(wifi)\n",
    "    ibeacon = np.array(ibeacon)\n",
    "    waypoint = np.array(waypoint)\n",
    "\n",
    "    return ReadData(acce, acce_uncali, gyro, gyro_uncali, magn, magn_uncali, ahrs, wifi, ibeacon, waypoint)"
   ]
  },
  {
   "cell_type": "markdown",
   "id": "continued-variety",
   "metadata": {},
   "source": [
    "# Preparation"
   ]
  },
  {
   "cell_type": "markdown",
   "id": "antique-perfume",
   "metadata": {},
   "source": [
    "load config"
   ]
  },
  {
   "cell_type": "code",
   "execution_count": 7,
   "id": "desperate-attachment",
   "metadata": {},
   "outputs": [
    {
     "data": {
      "text/plain": [
       "{'globals': {'seed': 5713,\n",
       "  'device': 'cuda',\n",
       "  'n_label': 24,\n",
       "  'n_splits': 5,\n",
       "  'random_sate': 42,\n",
       "  'lr': 0.001,\n",
       "  'patience': 10,\n",
       "  'epoch': 100,\n",
       "  'batch_size': 512,\n",
       "  'skip_evaluate_num': 5,\n",
       "  'num_feats': 20,\n",
       "  't_mux': 10}}"
      ]
     },
     "execution_count": 7,
     "metadata": {},
     "output_type": "execute_result"
    }
   ],
   "source": [
    "config = yaml.safe_load(config_str)\n",
    "config"
   ]
  },
  {
   "cell_type": "markdown",
   "id": "negative-format",
   "metadata": {},
   "source": [
    "<br>\n",
    "\n",
    "set"
   ]
  },
  {
   "cell_type": "code",
   "execution_count": 8,
   "id": "allied-radio",
   "metadata": {},
   "outputs": [],
   "source": [
    "seed_everything(config['globals']['seed'])\n",
    "pd.set_option('display.max_rows', 500)\n",
    "\n",
    "if not os.path.exists(DIR_SAVE_IGNORE):\n",
    "    os.makedirs(DIR_SAVE_IGNORE)\n",
    "if not os.path.exists(DIR_SAVE):\n",
    "    os.makedirs(DIR_SAVE)"
   ]
  },
  {
   "cell_type": "markdown",
   "id": "arbitrary-property",
   "metadata": {},
   "source": [
    "<br>\n",
    "\n",
    "load dataset"
   ]
  },
  {
   "cell_type": "code",
   "execution_count": 11,
   "id": "wanted-correspondence",
   "metadata": {
    "executionInfo": {
     "elapsed": 12440,
     "status": "ok",
     "timestamp": 1616479159010,
     "user": {
      "displayName": "ユウキハヤカワ",
      "photoUrl": "https://lh3.googleusercontent.com/a-/AOh14GjfXu9o7zmAYL24s4P8H7I0lvSgQUaSfrXi7qemvQ=s64",
      "userId": "00286900621093795459"
     },
     "user_tz": -540
    },
    "id": "g0ytMb1aSnv0"
   },
   "outputs": [],
   "source": [
    "with open(f'{DIR_WIFI}train_all.pkl', 'rb') as f:\n",
    "    df_train = pickle.load( f)\n",
    "with open(f'{DIR_WIFI}test_all.pkl', 'rb') as f:\n",
    "    df_test = pickle.load( f)\n",
    "\n",
    "sample_submission = pd.read_csv(PATH_SUB)"
   ]
  },
  {
   "cell_type": "markdown",
   "id": "liked-vietnamese",
   "metadata": {},
   "source": [
    "# EDA"
   ]
  },
  {
   "cell_type": "code",
   "execution_count": 12,
   "id": "similar-mouse",
   "metadata": {},
   "outputs": [],
   "source": [
    "site_list = [val.split('_')[0] for val in sample_submission.site_path_timestamp]\n",
    "site_list = sorted(np.unique(site_list).tolist())"
   ]
  },
  {
   "cell_type": "code",
   "execution_count": 13,
   "id": "blind-grain",
   "metadata": {},
   "outputs": [
    {
     "data": {
      "text/plain": [
       "['5a0546857ecc773753327266',\n",
       " '5c3c44b80379370013e0fd2b',\n",
       " '5d27075f03f801723c2e360f',\n",
       " '5d27096c03f801723c31e5e0',\n",
       " '5d27097f03f801723c320d97',\n",
       " '5d27099f03f801723c32511d',\n",
       " '5d2709a003f801723c3251bf',\n",
       " '5d2709b303f801723c327472',\n",
       " '5d2709bb03f801723c32852c',\n",
       " '5d2709c303f801723c3299ee',\n",
       " '5d2709d403f801723c32bd39',\n",
       " '5d2709e003f801723c32d896',\n",
       " '5da138274db8ce0c98bbd3d2',\n",
       " '5da1382d4db8ce0c98bbe92e',\n",
       " '5da138314db8ce0c98bbf3a0',\n",
       " '5da138364db8ce0c98bc00f1',\n",
       " '5da1383b4db8ce0c98bc11ab',\n",
       " '5da138754db8ce0c98bca82f',\n",
       " '5da138764db8ce0c98bcaa46',\n",
       " '5da1389e4db8ce0c98bd0547',\n",
       " '5da138b74db8ce0c98bd4774',\n",
       " '5da958dd46f8266d0737457b',\n",
       " '5dbc1d84c1eb61796cf7c010',\n",
       " '5dc8cea7659e181adb076a3f']"
      ]
     },
     "execution_count": 13,
     "metadata": {},
     "output_type": "execute_result"
    }
   ],
   "source": [
    "site_list"
   ]
  },
  {
   "cell_type": "code",
   "execution_count": 28,
   "id": "related-mathematics",
   "metadata": {},
   "outputs": [
    {
     "data": {
      "text/plain": [
       "['./../data_ignore/input/metadata/5a0546857ecc773753327266/B1/floor_image.png',\n",
       " './../data_ignore/input/metadata/5a0546857ecc773753327266/F1/floor_image.png',\n",
       " './../data_ignore/input/metadata/5a0546857ecc773753327266/F2/floor_image.png',\n",
       " './../data_ignore/input/metadata/5a0546857ecc773753327266/F3/floor_image.png',\n",
       " './../data_ignore/input/metadata/5a0546857ecc773753327266/F4/floor_image.png']"
      ]
     },
     "execution_count": 28,
     "metadata": {},
     "output_type": "execute_result"
    }
   ],
   "source": [
    "site = site_list[0]\n",
    "path_list"
   ]
  },
  {
   "cell_type": "code",
   "execution_count": null,
   "id": "changing-merit",
   "metadata": {},
   "outputs": [],
   "source": [
    "for site in site_list:\n",
    "    path_list = sorted(glob(f'./../data_ignore/input/metadata/{site}/*/floor_image.png'))\n",
    "    n_floor = len(path_list)\n",
    "    n_row = int(np.ceil(n_floor / 3))\n",
    "    fig, axs = plt.subplots(n_row, 3, figsize=(30, 10*n_row))\n",
    "    fig.suptitle(site, fontsize=30)\n",
    "    axs = axs.ravel()\n",
    "    for i_path, path in enumerate(path_list):\n",
    "        im = Image.open(path)\n",
    "        floor = path.split('/')[-2]\n",
    "        axs[i_path].imshow(np.asarray(im))\n",
    "        axs[i_path].set_title(floor, fontsize=20)\n",
    "    fig.show()\n",
    "    \n",
    "    # save\n",
    "    fig.savefig(f'{DIR_SAVE}floors_{site}.png')"
   ]
  },
  {
   "cell_type": "code",
   "execution_count": null,
   "id": "modern-romance",
   "metadata": {},
   "outputs": [],
   "source": []
  },
  {
   "cell_type": "code",
   "execution_count": null,
   "id": "colored-communist",
   "metadata": {},
   "outputs": [],
   "source": []
  },
  {
   "cell_type": "code",
   "execution_count": null,
   "id": "conservative-appraisal",
   "metadata": {},
   "outputs": [],
   "source": []
  },
  {
   "cell_type": "raw",
   "id": "mysterious-delta",
   "metadata": {},
   "source": [
    "\n",
    "\n",
    "\n",
    "\n",
    "\n",
    "\n",
    "\n",
    "\n",
    "\n",
    "\n",
    "\n",
    "\n",
    "\n",
    "\n",
    "\n",
    "\n",
    "\n",
    "\n",
    "\n",
    "\n",
    "\n",
    "\n",
    "\n",
    "\n",
    "\n",
    "\n"
   ]
  }
 ],
 "metadata": {
  "kernelspec": {
   "display_name": "Python 3",
   "language": "python",
   "name": "python3"
  },
  "language_info": {
   "codemirror_mode": {
    "name": "ipython",
    "version": 3
   },
   "file_extension": ".py",
   "mimetype": "text/x-python",
   "name": "python",
   "nbconvert_exporter": "python",
   "pygments_lexer": "ipython3",
   "version": "3.8.5"
  }
 },
 "nbformat": 4,
 "nbformat_minor": 5
}
