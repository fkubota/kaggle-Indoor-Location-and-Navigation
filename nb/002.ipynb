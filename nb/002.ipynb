{
 "cells": [
  {
   "cell_type": "markdown",
   "metadata": {},
   "source": [
    "# Overview\n",
    "- yukiさんのノートブックを参考にする"
   ]
  },
  {
   "cell_type": "code",
   "execution_count": 1,
   "metadata": {},
   "outputs": [
    {
     "name": "stdout",
     "output_type": "stream",
     "text": [
      "188ff37\n"
     ]
    }
   ],
   "source": [
    "import subprocess\n",
    "cmd = \"git rev-parse --short HEAD\"\n",
    "hash = subprocess.check_output(cmd.split()).strip().decode('utf-8')\n",
    "print(hash)"
   ]
  },
  {
   "cell_type": "markdown",
   "metadata": {},
   "source": [
    "# Const"
   ]
  },
  {
   "cell_type": "code",
   "execution_count": 2,
   "metadata": {},
   "outputs": [],
   "source": [
    "NB = '002'\n",
    "DIR_TRAIN = './../data_ignore/input/train/'\n",
    "DIR_TEST = './../data_ignore/input/test/'\n",
    "DIR_WIFI = './../data_ignore/input/wifi/'\n",
    "PATH_SUB = './../data_ignore/input/sample_submission.csv'\n",
    "PATH_99_SUB = './../data/input/floor_99per_acc_sub.csv'\n",
    "DIR_SAVE_IGNORE = f'./../data_ignore/nb/{NB}/'\n",
    "DIR_SAVE = f'./../data/nb/{NB}/'"
   ]
  },
  {
   "cell_type": "code",
   "execution_count": 3,
   "metadata": {},
   "outputs": [],
   "source": [
    "config_str = '''\n",
    "globals:\n",
    "    seed: 5713\n",
    "    device: cuda\n",
    "    n_label: 24\n",
    "    n_splits: 5\n",
    "    random_sate: 42\n",
    "    lr: 0.001\n",
    "    patience: 10\n",
    "    epoch: 100\n",
    "    batch_size: 512\n",
    "    skip_evaluate_num: 5\n",
    "    num_feats: 20\n",
    "    t_mux: 10\n",
    "'''"
   ]
  },
  {
   "cell_type": "markdown",
   "metadata": {},
   "source": [
    "# Import everything I need:)"
   ]
  },
  {
   "cell_type": "code",
   "execution_count": 4,
   "metadata": {},
   "outputs": [],
   "source": [
    "import os\n",
    "import yaml\n",
    "import types\n",
    "import random\n",
    "import pickle\n",
    "import builtins\n",
    "import numpy as np\n",
    "import pandas as pd\n",
    "from icecream import ic\n",
    "# from tqdm import tqdm\n",
    "from fastprogress import progress_bar, master_bar\n",
    "from glob import glob\n",
    "from loguru import logger\n",
    "from collections import OrderedDict\n",
    "\n",
    "# sklearn\n",
    "from sklearn.preprocessing import LabelEncoder, StandardScaler\n",
    "from sklearn.model_selection import KFold\n",
    "\n",
    "# pytorch\n",
    "import torch\n",
    "from torch import nn\n",
    "from torch.utils.data import Dataset, DataLoader\n",
    "import torch.optim as optim\n",
    "import torch.nn.functional as F"
   ]
  },
  {
   "cell_type": "markdown",
   "metadata": {},
   "source": [
    "# Function"
   ]
  },
  {
   "cell_type": "code",
   "execution_count": 5,
   "metadata": {
    "executionInfo": {
     "elapsed": 4655,
     "status": "ok",
     "timestamp": 1616479151188,
     "user": {
      "displayName": "ユウキハヤカワ",
      "photoUrl": "https://lh3.googleusercontent.com/a-/AOh14GjfXu9o7zmAYL24s4P8H7I0lvSgQUaSfrXi7qemvQ=s64",
      "userId": "00286900621093795459"
     },
     "user_tz": -540
    },
    "id": "7SxgGjwA5Rty"
   },
   "outputs": [],
   "source": [
    "def imports():\n",
    "    for name, val in globals().items():\n",
    "        # module imports\n",
    "        if isinstance(val, types.ModuleType):\n",
    "            yield name, val\n",
    "\n",
    "            # functions / callables\n",
    "        if hasattr(val, '__call__'):\n",
    "            yield name, val\n",
    "\n",
    "\n",
    "def noglobal(f):\n",
    "    '''\n",
    "    ref: https://gist.github.com/raven38/4e4c3c7a179283c441f575d6e375510c\n",
    "    '''\n",
    "    return types.FunctionType(f.__code__,\n",
    "                              dict(imports()),\n",
    "                              f.__name__,\n",
    "                              f.__defaults__,\n",
    "                              f.__closure__\n",
    "                              )\n",
    "\n",
    "\n",
    "def comp_metric(xhat, yhat, fhat, x, y, f):\n",
    "    intermediate = np.sqrt(np.power(xhat-x, 2) + np.power(yhat-y, 2)) + 15 * np.abs(fhat-f)\n",
    "    return intermediate.sum()/xhat.shape[0]\n",
    "\n",
    "def seed_everything(seed=42):\n",
    "    random.seed(seed)\n",
    "    os.environ['PYTHONHASHSEED'] = str(seed)\n",
    "    np.random.seed(seed)\n",
    "    torch.manual_seed(seed)\n",
    "    torch.cuda.manual_seed(seed)\n",
    "    torch.backends.cudnn.deterministic = True\n",
    "    torch.backends.cudnn.benchmark = True"
   ]
  },
  {
   "cell_type": "markdown",
   "metadata": {},
   "source": [
    "# Preparation"
   ]
  },
  {
   "cell_type": "markdown",
   "metadata": {},
   "source": [
    "load config"
   ]
  },
  {
   "cell_type": "code",
   "execution_count": 6,
   "metadata": {},
   "outputs": [
    {
     "data": {
      "text/plain": [
       "{'globals': {'seed': 5713,\n",
       "  'device': 'cuda',\n",
       "  'n_label': 24,\n",
       "  'n_splits': 5,\n",
       "  'random_sate': 42,\n",
       "  'lr': 0.001,\n",
       "  'patience': 10,\n",
       "  'epoch': 100,\n",
       "  'batch_size': 512,\n",
       "  'skip_evaluate_num': 5,\n",
       "  'num_feats': 20,\n",
       "  't_mux': 10}}"
      ]
     },
     "execution_count": 6,
     "metadata": {},
     "output_type": "execute_result"
    }
   ],
   "source": [
    "config = yaml.safe_load(config_str)\n",
    "config"
   ]
  },
  {
   "cell_type": "markdown",
   "metadata": {},
   "source": [
    "<br>\n",
    "\n",
    "set"
   ]
  },
  {
   "cell_type": "code",
   "execution_count": 7,
   "metadata": {},
   "outputs": [],
   "source": [
    "seed_everything(config['globals']['seed'])\n",
    "\n",
    "if not os.path.exists(DIR_SAVE_IGNORE):\n",
    "    os.makedirs(DIR_SAVE_IGNORE)\n",
    "if not os.path.exists(DIR_SAVE):\n",
    "    os.makedirs(DIR_SAVE)"
   ]
  },
  {
   "cell_type": "markdown",
   "metadata": {},
   "source": [
    "<br>\n",
    "\n",
    "load dataset"
   ]
  },
  {
   "cell_type": "raw",
   "metadata": {},
   "source": [
    "train_files = sorted(glob(f'{DIR_WIFI}*_train.csv'))\n",
    "test_files = sorted(glob(f'{DIR_WIFI}*_test.csv'))\n",
    "sample_sub = pd.read_csv(PATH_SUB)"
   ]
  },
  {
   "cell_type": "code",
   "execution_count": 8,
   "metadata": {
    "executionInfo": {
     "elapsed": 12440,
     "status": "ok",
     "timestamp": 1616479159010,
     "user": {
      "displayName": "ユウキハヤカワ",
      "photoUrl": "https://lh3.googleusercontent.com/a-/AOh14GjfXu9o7zmAYL24s4P8H7I0lvSgQUaSfrXi7qemvQ=s64",
      "userId": "00286900621093795459"
     },
     "user_tz": -540
    },
    "id": "g0ytMb1aSnv0"
   },
   "outputs": [],
   "source": [
    "with open(f'{DIR_WIFI}train_all.pkl', 'rb') as f:\n",
    "    df_train = pickle.load( f)\n",
    "with open(f'{DIR_WIFI}test_all.pkl', 'rb') as f:\n",
    "    df_test = pickle.load( f)"
   ]
  },
  {
   "cell_type": "markdown",
   "metadata": {},
   "source": [
    "<br>\n",
    "\n",
    "preprocessing"
   ]
  },
  {
   "cell_type": "code",
   "execution_count": 9,
   "metadata": {
    "executionInfo": {
     "elapsed": 12395,
     "status": "ok",
     "timestamp": 1616479159023,
     "user": {
      "displayName": "ユウキハヤカワ",
      "photoUrl": "https://lh3.googleusercontent.com/a-/AOh14GjfXu9o7zmAYL24s4P8H7I0lvSgQUaSfrXi7qemvQ=s64",
      "userId": "00286900621093795459"
     },
     "user_tz": -540
    },
    "id": "6wFlN2I2NL3z"
   },
   "outputs": [],
   "source": [
    "bssid_feats = [f'bssid_{i}' for i in range(config['globals']['num_feats'])]\n",
    "rssi_feats  = [f'rssi_{i}' for i in range(config['globals']['num_feats'])]"
   ]
  },
  {
   "cell_type": "code",
   "execution_count": 10,
   "metadata": {
    "colab": {
     "base_uri": "https://localhost:8080/"
    },
    "executionInfo": {
     "elapsed": 16854,
     "status": "ok",
     "timestamp": 1616479163506,
     "user": {
      "displayName": "ユウキハヤカワ",
      "photoUrl": "https://lh3.googleusercontent.com/a-/AOh14GjfXu9o7zmAYL24s4P8H7I0lvSgQUaSfrXi7qemvQ=s64",
      "userId": "00286900621093795459"
     },
     "user_tz": -540
    },
    "id": "hfyRDfw3Xbov",
    "outputId": "196b63bf-9e51-4a08-8fd5-9b04139c3d4b"
   },
   "outputs": [
    {
     "name": "stdout",
     "output_type": "stream",
     "text": [
      "BSSID TYPES: 61206\n",
      "BSSID TYPES: 33042\n",
      "BSSID TYPES: 94248\n"
     ]
    }
   ],
   "source": [
    "# bssidの一覧作成\n",
    "# wifi_bassidにはtrainとtest両方のbssidの一覧が含まれる\n",
    "\n",
    "wifi_bssids = []\n",
    "for i in range(100):\n",
    "    wifi_bssids.extend(df_train.iloc[:,i].values.tolist())\n",
    "wifi_bssids = list(set(wifi_bssids))\n",
    "\n",
    "wifi_bssids_size = len(wifi_bssids)\n",
    "print(f'BSSID TYPES: {wifi_bssids_size}')\n",
    "\n",
    "wifi_bssids_test = []\n",
    "for i in range(100):\n",
    "    wifi_bssids_test.extend(df_test.iloc[:,i].values.tolist())\n",
    "wifi_bssids_test = list(set(wifi_bssids_test))\n",
    "\n",
    "wifi_bssids_size = len(wifi_bssids_test)\n",
    "print(f'BSSID TYPES: {wifi_bssids_size}')\n",
    "\n",
    "wifi_bssids.extend(wifi_bssids_test)\n",
    "wifi_bssids_size = len(wifi_bssids)\n",
    "print(f'BSSID TYPES: {wifi_bssids_size}')"
   ]
  },
  {
   "cell_type": "raw",
   "metadata": {
    "colab": {
     "base_uri": "https://localhost:8080/"
    },
    "executionInfo": {
     "elapsed": 16854,
     "status": "ok",
     "timestamp": 1616479163506,
     "user": {
      "displayName": "ユウキハヤカワ",
      "photoUrl": "https://lh3.googleusercontent.com/a-/AOh14GjfXu9o7zmAYL24s4P8H7I0lvSgQUaSfrXi7qemvQ=s64",
      "userId": "00286900621093795459"
     },
     "user_tz": -540
    },
    "id": "hfyRDfw3Xbov",
    "outputId": "196b63bf-9e51-4a08-8fd5-9b04139c3d4b"
   },
   "source": [
    "# bssidの一覧作成\n",
    "# wifi_bassidにはtrainとtest両方のbssidの一覧が含まれる\n",
    "\n",
    "wifi_bssids = []\n",
    "for i in range(100):\n",
    "    wifi_bssids.extend(df_train.iloc[:, i].values.tolist())\n",
    "    wifi_bssids.extend(df_test.iloc[:, i].values.tolist())\n",
    "\n",
    "wifi_bssids = list(set(wifi_bssids))\n",
    "print(f'BSSID TYPES: {len(wifi_bssids)}')"
   ]
  },
  {
   "cell_type": "code",
   "execution_count": 11,
   "metadata": {
    "colab": {
     "base_uri": "https://localhost:8080/"
    },
    "executionInfo": {
     "elapsed": 18605,
     "status": "ok",
     "timestamp": 1616479165294,
     "user": {
      "displayName": "ユウキハヤカワ",
      "photoUrl": "https://lh3.googleusercontent.com/a-/AOh14GjfXu9o7zmAYL24s4P8H7I0lvSgQUaSfrXi7qemvQ=s64",
      "userId": "00286900621093795459"
     },
     "user_tz": -540
    },
    "id": "eBhOfx-CdxJB",
    "outputId": "74a3e5ac-a638-41eb-b228-5d6c6cd9c0df"
   },
   "outputs": [
    {
     "data": {
      "text/plain": [
       "StandardScaler()"
      ]
     },
     "execution_count": 11,
     "metadata": {},
     "output_type": "execute_result"
    }
   ],
   "source": [
    "# LabelEncoding & StandardScaler\n",
    "\n",
    "le = LabelEncoder()\n",
    "le.fit(wifi_bssids)\n",
    "le_site = LabelEncoder()\n",
    "le_site.fit(df_train['site_id'])\n",
    "\n",
    "ss = StandardScaler()\n",
    "ss.fit(df_train.loc[:, rssi_feats])"
   ]
  },
  {
   "cell_type": "code",
   "execution_count": 12,
   "metadata": {
    "executionInfo": {
     "elapsed": 39684,
     "status": "ok",
     "timestamp": 1616479186398,
     "user": {
      "displayName": "ユウキハヤカワ",
      "photoUrl": "https://lh3.googleusercontent.com/a-/AOh14GjfXu9o7zmAYL24s4P8H7I0lvSgQUaSfrXi7qemvQ=s64",
      "userId": "00286900621093795459"
     },
     "user_tz": -540
    },
    "id": "ICMler34Xbt-"
   },
   "outputs": [],
   "source": [
    "df_train.loc[:, rssi_feats] = ss.transform(df_train.loc[:, rssi_feats])\n",
    "df_test.loc[:, rssi_feats] = ss.transform(df_test.loc[:, rssi_feats])\n",
    "for feat in bssid_feats:\n",
    "    df_train.loc[:, feat] = le.transform(df_train.loc[:, feat])\n",
    "    df_test.loc[:, feat] = le.transform(df_test.loc[:, feat])\n",
    "    \n",
    "    df_train.loc[:, feat] = df_train.loc[:, feat] + 1\n",
    "    df_test.loc[:, feat] = df_test.loc[:, feat] + 1\n",
    "    \n",
    "df_train.loc[:, 'site_id'] = le_site.transform(df_train.loc[:, 'site_id'])\n",
    "df_test.loc[:, 'site_id'] = le_site.transform(df_test.loc[:, 'site_id'])\n",
    "\n",
    "df_train.loc[:, rssi_feats] = ss.transform(df_train.loc[:, rssi_feats])\n",
    "df_test.loc[:, rssi_feats] = ss.transform(df_test.loc[:, rssi_feats])"
   ]
  },
  {
   "cell_type": "code",
   "execution_count": 13,
   "metadata": {
    "executionInfo": {
     "elapsed": 41413,
     "status": "ok",
     "timestamp": 1616479188164,
     "user": {
      "displayName": "ユウキハヤカワ",
      "photoUrl": "https://lh3.googleusercontent.com/a-/AOh14GjfXu9o7zmAYL24s4P8H7I0lvSgQUaSfrXi7qemvQ=s64",
      "userId": "00286900621093795459"
     },
     "user_tz": -540
    },
    "id": "fhagm8JcdyPI"
   },
   "outputs": [],
   "source": [
    "site_count = len(df_train['site_id'].unique())\n",
    "df_train.reset_index(drop=True, inplace=True)"
   ]
  },
  {
   "cell_type": "code",
   "execution_count": 14,
   "metadata": {},
   "outputs": [
    {
     "data": {
      "text/html": [
       "<div>\n",
       "<style scoped>\n",
       "    .dataframe tbody tr th:only-of-type {\n",
       "        vertical-align: middle;\n",
       "    }\n",
       "\n",
       "    .dataframe tbody tr th {\n",
       "        vertical-align: top;\n",
       "    }\n",
       "\n",
       "    .dataframe thead th {\n",
       "        text-align: right;\n",
       "    }\n",
       "</style>\n",
       "<table border=\"1\" class=\"dataframe\">\n",
       "  <thead>\n",
       "    <tr style=\"text-align: right;\">\n",
       "      <th></th>\n",
       "      <th>bssid_0</th>\n",
       "      <th>bssid_1</th>\n",
       "      <th>bssid_2</th>\n",
       "      <th>bssid_3</th>\n",
       "      <th>bssid_4</th>\n",
       "      <th>bssid_5</th>\n",
       "      <th>bssid_6</th>\n",
       "      <th>bssid_7</th>\n",
       "      <th>bssid_8</th>\n",
       "      <th>bssid_9</th>\n",
       "      <th>...</th>\n",
       "      <th>rssi_95</th>\n",
       "      <th>rssi_96</th>\n",
       "      <th>rssi_97</th>\n",
       "      <th>rssi_98</th>\n",
       "      <th>rssi_99</th>\n",
       "      <th>x</th>\n",
       "      <th>y</th>\n",
       "      <th>floor</th>\n",
       "      <th>path</th>\n",
       "      <th>site_id</th>\n",
       "    </tr>\n",
       "  </thead>\n",
       "  <tbody>\n",
       "    <tr>\n",
       "      <th>0</th>\n",
       "      <td>52393</td>\n",
       "      <td>35871</td>\n",
       "      <td>2765</td>\n",
       "      <td>34898</td>\n",
       "      <td>52710</td>\n",
       "      <td>35260</td>\n",
       "      <td>42720</td>\n",
       "      <td>33510</td>\n",
       "      <td>23417</td>\n",
       "      <td>15249</td>\n",
       "      <td>...</td>\n",
       "      <td>-79</td>\n",
       "      <td>-79</td>\n",
       "      <td>-79</td>\n",
       "      <td>-79</td>\n",
       "      <td>-79</td>\n",
       "      <td>107.85044</td>\n",
       "      <td>161.89262</td>\n",
       "      <td>-1</td>\n",
       "      <td>5e1580adf4c3420006d520d4</td>\n",
       "      <td>0</td>\n",
       "    </tr>\n",
       "    <tr>\n",
       "      <th>1</th>\n",
       "      <td>35871</td>\n",
       "      <td>52393</td>\n",
       "      <td>7487</td>\n",
       "      <td>34898</td>\n",
       "      <td>52710</td>\n",
       "      <td>35260</td>\n",
       "      <td>21971</td>\n",
       "      <td>15249</td>\n",
       "      <td>17025</td>\n",
       "      <td>5351</td>\n",
       "      <td>...</td>\n",
       "      <td>-79</td>\n",
       "      <td>-79</td>\n",
       "      <td>-79</td>\n",
       "      <td>-80</td>\n",
       "      <td>-80</td>\n",
       "      <td>107.85044</td>\n",
       "      <td>161.89262</td>\n",
       "      <td>-1</td>\n",
       "      <td>5e1580adf4c3420006d520d4</td>\n",
       "      <td>0</td>\n",
       "    </tr>\n",
       "    <tr>\n",
       "      <th>2</th>\n",
       "      <td>35871</td>\n",
       "      <td>52393</td>\n",
       "      <td>52710</td>\n",
       "      <td>34898</td>\n",
       "      <td>35260</td>\n",
       "      <td>23417</td>\n",
       "      <td>49408</td>\n",
       "      <td>6673</td>\n",
       "      <td>7487</td>\n",
       "      <td>48501</td>\n",
       "      <td>...</td>\n",
       "      <td>-77</td>\n",
       "      <td>-78</td>\n",
       "      <td>-78</td>\n",
       "      <td>-78</td>\n",
       "      <td>-78</td>\n",
       "      <td>98.33065</td>\n",
       "      <td>163.34334</td>\n",
       "      <td>-1</td>\n",
       "      <td>5e1580adf4c3420006d520d4</td>\n",
       "      <td>0</td>\n",
       "    </tr>\n",
       "    <tr>\n",
       "      <th>3</th>\n",
       "      <td>23417</td>\n",
       "      <td>34898</td>\n",
       "      <td>35260</td>\n",
       "      <td>52393</td>\n",
       "      <td>35871</td>\n",
       "      <td>3707</td>\n",
       "      <td>49408</td>\n",
       "      <td>15613</td>\n",
       "      <td>10167</td>\n",
       "      <td>4978</td>\n",
       "      <td>...</td>\n",
       "      <td>-75</td>\n",
       "      <td>-76</td>\n",
       "      <td>-76</td>\n",
       "      <td>-77</td>\n",
       "      <td>-77</td>\n",
       "      <td>98.33065</td>\n",
       "      <td>163.34334</td>\n",
       "      <td>-1</td>\n",
       "      <td>5e1580adf4c3420006d520d4</td>\n",
       "      <td>0</td>\n",
       "    </tr>\n",
       "    <tr>\n",
       "      <th>4</th>\n",
       "      <td>35871</td>\n",
       "      <td>35260</td>\n",
       "      <td>23417</td>\n",
       "      <td>19473</td>\n",
       "      <td>52393</td>\n",
       "      <td>3707</td>\n",
       "      <td>49408</td>\n",
       "      <td>18306</td>\n",
       "      <td>21410</td>\n",
       "      <td>52795</td>\n",
       "      <td>...</td>\n",
       "      <td>-75</td>\n",
       "      <td>-76</td>\n",
       "      <td>-76</td>\n",
       "      <td>-77</td>\n",
       "      <td>-77</td>\n",
       "      <td>98.33065</td>\n",
       "      <td>163.34334</td>\n",
       "      <td>-1</td>\n",
       "      <td>5e1580adf4c3420006d520d4</td>\n",
       "      <td>0</td>\n",
       "    </tr>\n",
       "  </tbody>\n",
       "</table>\n",
       "<p>5 rows × 205 columns</p>\n",
       "</div>"
      ],
      "text/plain": [
       "   bssid_0  bssid_1  bssid_2  bssid_3  bssid_4  bssid_5  bssid_6  bssid_7  \\\n",
       "0    52393    35871     2765    34898    52710    35260    42720    33510   \n",
       "1    35871    52393     7487    34898    52710    35260    21971    15249   \n",
       "2    35871    52393    52710    34898    35260    23417    49408     6673   \n",
       "3    23417    34898    35260    52393    35871     3707    49408    15613   \n",
       "4    35871    35260    23417    19473    52393     3707    49408    18306   \n",
       "\n",
       "   bssid_8  bssid_9  ...  rssi_95  rssi_96  rssi_97  rssi_98  rssi_99  \\\n",
       "0    23417    15249  ...      -79      -79      -79      -79      -79   \n",
       "1    17025     5351  ...      -79      -79      -79      -80      -80   \n",
       "2     7487    48501  ...      -77      -78      -78      -78      -78   \n",
       "3    10167     4978  ...      -75      -76      -76      -77      -77   \n",
       "4    21410    52795  ...      -75      -76      -76      -77      -77   \n",
       "\n",
       "           x          y  floor                      path  site_id  \n",
       "0  107.85044  161.89262     -1  5e1580adf4c3420006d520d4        0  \n",
       "1  107.85044  161.89262     -1  5e1580adf4c3420006d520d4        0  \n",
       "2   98.33065  163.34334     -1  5e1580adf4c3420006d520d4        0  \n",
       "3   98.33065  163.34334     -1  5e1580adf4c3420006d520d4        0  \n",
       "4   98.33065  163.34334     -1  5e1580adf4c3420006d520d4        0  \n",
       "\n",
       "[5 rows x 205 columns]"
      ]
     },
     "execution_count": 14,
     "metadata": {},
     "output_type": "execute_result"
    }
   ],
   "source": [
    "df_train.head()"
   ]
  },
  {
   "cell_type": "markdown",
   "metadata": {},
   "source": [
    "# Execute"
   ]
  },
  {
   "cell_type": "code",
   "execution_count": 15,
   "metadata": {
    "executionInfo": {
     "elapsed": 41390,
     "status": "ok",
     "timestamp": 1616479188168,
     "user": {
      "displayName": "ユウキハヤカワ",
      "photoUrl": "https://lh3.googleusercontent.com/a-/AOh14GjfXu9o7zmAYL24s4P8H7I0lvSgQUaSfrXi7qemvQ=s64",
      "userId": "00286900621093795459"
     },
     "user_tz": -540
    },
    "id": "pUh8IpBV8i8Z"
   },
   "outputs": [],
   "source": [
    "class EarlyStopping:\n",
    "    \"\"\"\n",
    "    Early stops the training if validation loss doesn't improve after a given patience.\n",
    "    based on: https://github.com/Bjarten/early-stopping-pytorch\n",
    "    \"\"\"\n",
    "    def __init__(self, save_name, fold, patience=7, verbose=False, delta=0):\n",
    "        \"\"\"\n",
    "        Args:\n",
    "            patience (int): How long to wait after last time validation loss improved.\n",
    "                            Default: 7\n",
    "            verbose (bool): If True, prints a message for each validation loss improvement. \n",
    "                            Default: False\n",
    "            delta (float): Minimum change in the monitored quantity to qualify as an improvement.\n",
    "                            Default: 0\n",
    "        \"\"\"\n",
    "        self.patience = patience\n",
    "        self.verbose = verbose\n",
    "        self.counter = 0\n",
    "        self.best_score = None\n",
    "        self.early_stop = False\n",
    "        self.val_loss_min = np.Inf\n",
    "        self.delta = delta\n",
    "        self.fold = fold\n",
    "        self.save_name = save_name\n",
    "\n",
    "    def __call__(self, val_loss, model):\n",
    "\n",
    "        score = -val_loss\n",
    "\n",
    "        if self.best_score is None:\n",
    "            self.best_score = score\n",
    "            self.save_checkpoint(val_loss, model)\n",
    "        elif score < self.best_score + self.delta:\n",
    "            self.counter += 1\n",
    "            logger.info(f'EarlyStopping counter: {self.counter} out of {self.patience}')\n",
    "            if self.counter >= self.patience:\n",
    "                self.early_stop = True\n",
    "        else:\n",
    "            self.best_score = score\n",
    "            self.save_checkpoint(val_loss, model)\n",
    "            self.counter = 0\n",
    "\n",
    "    def save_checkpoint(self, val_loss, model):\n",
    "        '''Saves model when validation loss decrease.'''\n",
    "        if self.verbose:\n",
    "            logger.info(f'Validation loss decreased ({self.val_loss_min:.6f} --> {val_loss:.6f}).  Saving model ...')\n",
    "            \n",
    "        torch.save(model.state_dict(),  f'{self.save_name}_{self.fold}.pt')\n",
    "        self.val_loss_min = val_loss"
   ]
  },
  {
   "cell_type": "code",
   "execution_count": 16,
   "metadata": {
    "executionInfo": {
     "elapsed": 41385,
     "status": "ok",
     "timestamp": 1616479188169,
     "user": {
      "displayName": "ユウキハヤカワ",
      "photoUrl": "https://lh3.googleusercontent.com/a-/AOh14GjfXu9o7zmAYL24s4P8H7I0lvSgQUaSfrXi7qemvQ=s64",
      "userId": "00286900621093795459"
     },
     "user_tz": -540
    },
    "id": "7tycasUwdySR"
   },
   "outputs": [],
   "source": [
    "class IndoorWiFiNet(nn.Module):\n",
    "    def __init__(self, bssid_size, site_size, num_feats):\n",
    "        super(IndoorWiFiNet, self).__init__()\n",
    "        self.bssid_embedding = nn.Embedding(bssid_size, 64, max_norm=True)\n",
    "        self.site_embedding = nn.Embedding(site_size, 64, max_norm=True)\n",
    "\n",
    "        self.rssi = nn.Sequential(\n",
    "            nn.BatchNorm1d(20),\n",
    "            nn.Linear(20, num_feats * 64)\n",
    "        )\n",
    "\n",
    "        concat_size = 64 + (num_feats * 64) + (num_feats * 64)\n",
    "        self.bn1 = nn.BatchNorm1d(concat_size)\n",
    "\n",
    "        self.flatten = nn.Flatten()\n",
    "\n",
    "        self.dropout1 = nn.Dropout(0.3)\n",
    "        self.linear1 = nn.Linear(in_features=concat_size, out_features=256)#, bias=False)\n",
    "        self.bn2 = nn.BatchNorm1d(256)\n",
    "\n",
    "        self.linear2 = nn.Linear(in_features=256, out_features=128)#, bias=False)\n",
    "        self.linear3 = nn.Linear(in_features=128, out_features=16)#, bias=False)\n",
    "\n",
    "        self.bn3 = nn.BatchNorm1d(128)\n",
    "        self.bn4 = nn.BatchNorm1d(16)\n",
    "\n",
    "\n",
    "        self.xy = nn.Linear(in_features=16, out_features=2)#, bias=False)\n",
    "        self.floor = nn.Linear(in_features=16, out_features=1)#, bias=False)\n",
    "        \n",
    "\n",
    "    def forward(self, bssid, rssi, site):\n",
    "\n",
    "        site = torch.reshape(site, (-1, 1))\n",
    "\n",
    "        bssid_out = self.bssid_embedding(bssid)\n",
    "        site_out = self.site_embedding(site)\n",
    "\n",
    "        rssi_out = self.rssi(rssi)\n",
    "\n",
    "        bssid_out = self.flatten(bssid_out)\n",
    "        site_out = self.flatten(site_out)\n",
    "\n",
    "        x = torch.cat([bssid_out, rssi_out, site_out], dim=1)\n",
    "        x = self.bn1(x)\n",
    "        x = self.dropout1(x)\n",
    "        x = F.relu(self.linear1(x))\n",
    "        x = self.bn2(x)\n",
    "\n",
    "        x = F.relu(self.linear2(x))\n",
    "        x = self.bn3(x)\n",
    "\n",
    "        x = F.relu(self.linear3(x))\n",
    "        x = self.bn4(x)\n",
    "\n",
    "        #x = self.lstm(x)\n",
    "\n",
    "        xy = self.xy(x)\n",
    "        floor = self.floor(x)\n",
    "\n",
    "        return xy, floor"
   ]
  },
  {
   "cell_type": "code",
   "execution_count": 17,
   "metadata": {
    "executionInfo": {
     "elapsed": 1376,
     "status": "ok",
     "timestamp": 1616481355217,
     "user": {
      "displayName": "ユウキハヤカワ",
      "photoUrl": "https://lh3.googleusercontent.com/a-/AOh14GjfXu9o7zmAYL24s4P8H7I0lvSgQUaSfrXi7qemvQ=s64",
      "userId": "00286900621093795459"
     },
     "user_tz": -540
    },
    "id": "uNYZS-avjuD-"
   },
   "outputs": [],
   "source": [
    "class IndoorWiFiDataSet(Dataset):\n",
    "    def __init__(self, wifi_df, bssid_feats_, rssi_feats_, data_type='test'):\n",
    "        self.wifi_df = wifi_df\n",
    "        self.data_type = data_type\n",
    "        self.bssids = wifi_df[bssid_feats_].to_numpy().astype(np.int)    # <----- リファクタ\n",
    "        self.rssis = wifi_df[rssi_feats_].to_numpy().astype(np.float)    # <----- リファクタ\n",
    "        self.site_ids = wifi_df['site_id'].to_numpy()\n",
    "        if data_type in ['train', 'valid']:\n",
    "            self.floors = wifi_df['floor'].to_numpy().astype(np.int)\n",
    "            self.xs = wifi_df['x'].to_numpy()\n",
    "            self.ys = wifi_df['y'].to_numpy()\n",
    "        \n",
    "    def __len__(self):\n",
    "        return len(self.wifi_df)\n",
    "\n",
    "    def __getitem__(self, idx):\n",
    "\n",
    "        #wifi_row = self.wifi_df.iloc[idx]\n",
    "\n",
    "        bssid = self.bssids[idx,:]\n",
    "        rssi = self.rssis[idx,:]\n",
    "        site_id = self.site_ids[idx]\n",
    "\n",
    "        if self.data_type in ['test', 'valid']:\n",
    "            return bssid, rssi, site_id\n",
    "\n",
    "        elif self.data_type == 'train':\n",
    "            x = self.xs[idx]\n",
    "            y = self.ys[idx]\n",
    "            floor = self.floors[idx]\n",
    "\n",
    "            return bssid, rssi, site_id, x, y, floor\n"
   ]
  },
  {
   "cell_type": "code",
   "execution_count": 18,
   "metadata": {
    "executionInfo": {
     "elapsed": 41354,
     "status": "ok",
     "timestamp": 1616479188173,
     "user": {
      "displayName": "ユウキハヤカワ",
      "photoUrl": "https://lh3.googleusercontent.com/a-/AOh14GjfXu9o7zmAYL24s4P8H7I0lvSgQUaSfrXi7qemvQ=s64",
      "userId": "00286900621093795459"
     },
     "user_tz": -540
    },
    "id": "F4Parwz4Xcrn"
   },
   "outputs": [],
   "source": [
    "class IndoorLoss(nn.Module):\n",
    "    def __init__(self):\n",
    "        super().__init__()\n",
    "\n",
    "        self.mse = nn.MSELoss()\n",
    "\n",
    "    def forward(self, x, y, floor, x_pred, y_pred, floor_pred):\n",
    "\n",
    "        x_loss = self.mse(x, x_pred)\n",
    "        y_loss = self.mse(y, y_pred)\n",
    "        floor_loss = self.mse(floor, floor_pred)\n",
    "\n",
    "        return x_loss + y_loss + floor_loss"
   ]
  },
  {
   "cell_type": "code",
   "execution_count": 19,
   "metadata": {
    "colab": {
     "base_uri": "https://localhost:8080/"
    },
    "executionInfo": {
     "elapsed": 41347,
     "status": "ok",
     "timestamp": 1616479188173,
     "user": {
      "displayName": "ユウキハヤカワ",
      "photoUrl": "https://lh3.googleusercontent.com/a-/AOh14GjfXu9o7zmAYL24s4P8H7I0lvSgQUaSfrXi7qemvQ=s64",
      "userId": "00286900621093795459"
     },
     "user_tz": -540
    },
    "id": "_Diyk0TFZBiQ",
    "outputId": "f5a01157-c5f0-448a-ca29-9380a573e4b1"
   },
   "outputs": [],
   "source": [
    "# device = torch.device(\"cuda\" if torch.cuda.is_available() else \"cpu\")\n",
    "device = torch.device(config['globals']['device'])"
   ]
  },
  {
   "cell_type": "code",
   "execution_count": 20,
   "metadata": {
    "colab": {
     "base_uri": "https://localhost:8080/"
    },
    "executionInfo": {
     "elapsed": 2141644,
     "status": "ok",
     "timestamp": 1616481288506,
     "user": {
      "displayName": "ユウキハヤカワ",
      "photoUrl": "https://lh3.googleusercontent.com/a-/AOh14GjfXu9o7zmAYL24s4P8H7I0lvSgQUaSfrXi7qemvQ=s64",
      "userId": "00286900621093795459"
     },
     "user_tz": -540
    },
    "id": "AdSYMcirdyXx",
    "outputId": "e1f840c9-d3af-4df7-b2fc-3f7f9735df4d"
   },
   "outputs": [
    {
     "name": "stdout",
     "output_type": "stream",
     "text": [
      "\n",
      "====== 1 ======\n"
     ]
    },
    {
     "data": {
      "text/html": [
       "\n",
       "    <div>\n",
       "        <style>\n",
       "            /* Turns off some styling */\n",
       "            progress {\n",
       "                /* gets rid of default border in Firefox and Opera. */\n",
       "                border: none;\n",
       "                /* Needs to be in here for Safari polyfill so background images work as expected. */\n",
       "                background-size: auto;\n",
       "            }\n",
       "            .progress-bar-interrupted, .progress-bar-interrupted::-webkit-progress-bar {\n",
       "                background: #F44336;\n",
       "            }\n",
       "        </style>\n",
       "      <progress value='42' class='' max='100' style='width:300px; height:20px; vertical-align: middle;'></progress>\n",
       "      42.00% [42/100 02:44<03:47 epoch = 42]\n",
       "    </div>\n",
       "    \n",
       "\n",
       "\n",
       "    <div>\n",
       "        <style>\n",
       "            /* Turns off some styling */\n",
       "            progress {\n",
       "                /* gets rid of default border in Firefox and Opera. */\n",
       "                border: none;\n",
       "                /* Needs to be in here for Safari polyfill so background images work as expected. */\n",
       "                background-size: auto;\n",
       "            }\n",
       "            .progress-bar-interrupted, .progress-bar-interrupted::-webkit-progress-bar {\n",
       "                background: #F44336;\n",
       "            }\n",
       "        </style>\n",
       "      <progress value='101' class='' max='101' style='width:300px; height:20px; vertical-align: middle;'></progress>\n",
       "      100.00% [101/101 00:01<00:00]\n",
       "    </div>\n",
       "    "
      ],
      "text/plain": [
       "<IPython.core.display.HTML object>"
      ]
     },
     "metadata": {},
     "output_type": "display_data"
    },
    {
     "name": "stderr",
     "output_type": "stream",
     "text": [
      "2021-03-25 14:08:42.052 | INFO     | __main__:save_checkpoint:46 - Validation loss decreased (inf --> 158.961051).  Saving model ...\n",
      "2021-03-25 14:08:46.004 | INFO     | __main__:save_checkpoint:46 - Validation loss decreased (158.961051 --> 139.384281).  Saving model ...\n",
      "2021-03-25 14:08:49.988 | INFO     | __main__:save_checkpoint:46 - Validation loss decreased (139.384281 --> 114.038958).  Saving model ...\n",
      "2021-03-25 14:08:53.922 | INFO     | __main__:save_checkpoint:46 - Validation loss decreased (114.038958 --> 89.179540).  Saving model ...\n",
      "2021-03-25 14:08:57.871 | INFO     | __main__:save_checkpoint:46 - Validation loss decreased (89.179540 --> 66.981005).  Saving model ...\n",
      "2021-03-25 14:09:01.797 | INFO     | __main__:save_checkpoint:46 - Validation loss decreased (66.981005 --> 53.142762).  Saving model ...\n",
      "2021-03-25 14:09:05.769 | INFO     | __main__:save_checkpoint:46 - Validation loss decreased (53.142762 --> 42.634591).  Saving model ...\n",
      "2021-03-25 14:09:09.654 | INFO     | __main__:save_checkpoint:46 - Validation loss decreased (42.634591 --> 36.283138).  Saving model ...\n",
      "2021-03-25 14:09:13.571 | INFO     | __main__:save_checkpoint:46 - Validation loss decreased (36.283138 --> 34.239912).  Saving model ...\n",
      "2021-03-25 14:09:17.452 | INFO     | __main__:save_checkpoint:46 - Validation loss decreased (34.239912 --> 33.424224).  Saving model ...\n",
      "2021-03-25 14:09:21.395 | INFO     | __main__:__call__:35 - EarlyStopping counter: 1 out of 10\n",
      "2021-03-25 14:09:25.235 | INFO     | __main__:save_checkpoint:46 - Validation loss decreased (33.424224 --> 32.808068).  Saving model ...\n",
      "2021-03-25 14:09:29.227 | INFO     | __main__:save_checkpoint:46 - Validation loss decreased (32.808068 --> 30.471774).  Saving model ...\n",
      "2021-03-25 14:09:33.131 | INFO     | __main__:save_checkpoint:46 - Validation loss decreased (30.471774 --> 23.764637).  Saving model ...\n",
      "2021-03-25 14:09:37.132 | INFO     | __main__:save_checkpoint:46 - Validation loss decreased (23.764637 --> 15.914275).  Saving model ...\n",
      "2021-03-25 14:09:41.086 | INFO     | __main__:save_checkpoint:46 - Validation loss decreased (15.914275 --> 9.865710).  Saving model ...\n",
      "2021-03-25 14:09:45.050 | INFO     | __main__:save_checkpoint:46 - Validation loss decreased (9.865710 --> 7.337556).  Saving model ...\n",
      "2021-03-25 14:09:48.946 | INFO     | __main__:save_checkpoint:46 - Validation loss decreased (7.337556 --> 6.988321).  Saving model ...\n",
      "2021-03-25 14:09:52.839 | INFO     | __main__:save_checkpoint:46 - Validation loss decreased (6.988321 --> 6.798924).  Saving model ...\n",
      "2021-03-25 14:09:56.801 | INFO     | __main__:save_checkpoint:46 - Validation loss decreased (6.798924 --> 6.795439).  Saving model ...\n",
      "2021-03-25 14:10:00.723 | INFO     | __main__:__call__:35 - EarlyStopping counter: 1 out of 10\n",
      "2021-03-25 14:10:04.601 | INFO     | __main__:save_checkpoint:46 - Validation loss decreased (6.795439 --> 6.500436).  Saving model ...\n",
      "2021-03-25 14:10:08.544 | INFO     | __main__:save_checkpoint:46 - Validation loss decreased (6.500436 --> 6.327208).  Saving model ...\n",
      "2021-03-25 14:10:12.475 | INFO     | __main__:save_checkpoint:46 - Validation loss decreased (6.327208 --> 6.209486).  Saving model ...\n",
      "2021-03-25 14:10:16.388 | INFO     | __main__:__call__:35 - EarlyStopping counter: 1 out of 10\n",
      "2021-03-25 14:10:20.303 | INFO     | __main__:__call__:35 - EarlyStopping counter: 2 out of 10\n",
      "2021-03-25 14:10:24.187 | INFO     | __main__:save_checkpoint:46 - Validation loss decreased (6.209486 --> 6.092860).  Saving model ...\n",
      "2021-03-25 14:10:28.200 | INFO     | __main__:__call__:35 - EarlyStopping counter: 1 out of 10\n",
      "2021-03-25 14:10:32.135 | INFO     | __main__:__call__:35 - EarlyStopping counter: 2 out of 10\n",
      "2021-03-25 14:10:35.964 | INFO     | __main__:__call__:35 - EarlyStopping counter: 3 out of 10\n",
      "2021-03-25 14:10:39.881 | INFO     | __main__:__call__:35 - EarlyStopping counter: 4 out of 10\n",
      "2021-03-25 14:10:43.884 | INFO     | __main__:save_checkpoint:46 - Validation loss decreased (6.092860 --> 6.027737).  Saving model ...\n",
      "2021-03-25 14:10:47.846 | INFO     | __main__:save_checkpoint:46 - Validation loss decreased (6.027737 --> 5.968173).  Saving model ...\n",
      "2021-03-25 14:10:51.784 | INFO     | __main__:__call__:35 - EarlyStopping counter: 1 out of 10\n",
      "2021-03-25 14:10:55.630 | INFO     | __main__:__call__:35 - EarlyStopping counter: 2 out of 10\n",
      "2021-03-25 14:10:59.507 | INFO     | __main__:__call__:35 - EarlyStopping counter: 3 out of 10\n",
      "2021-03-25 14:11:03.364 | INFO     | __main__:__call__:35 - EarlyStopping counter: 4 out of 10\n",
      "2021-03-25 14:11:07.224 | INFO     | __main__:__call__:35 - EarlyStopping counter: 5 out of 10\n",
      "2021-03-25 14:11:11.169 | INFO     | __main__:__call__:35 - EarlyStopping counter: 6 out of 10\n",
      "2021-03-25 14:11:15.108 | INFO     | __main__:__call__:35 - EarlyStopping counter: 7 out of 10\n",
      "2021-03-25 14:11:19.144 | INFO     | __main__:__call__:35 - EarlyStopping counter: 8 out of 10\n",
      "2021-03-25 14:11:23.039 | INFO     | __main__:__call__:35 - EarlyStopping counter: 9 out of 10\n",
      "2021-03-25 14:11:27.000 | INFO     | __main__:__call__:35 - EarlyStopping counter: 10 out of 10\n",
      "2021-03-25 14:11:27.001 | INFO     | __main__:<module>:94 - Early stopping\n"
     ]
    },
    {
     "name": "stdout",
     "output_type": "stream",
     "text": [
      "5.968173337993779\n",
      "\n",
      "====== 2 ======\n"
     ]
    },
    {
     "data": {
      "text/html": [
       "\n",
       "    <div>\n",
       "        <style>\n",
       "            /* Turns off some styling */\n",
       "            progress {\n",
       "                /* gets rid of default border in Firefox and Opera. */\n",
       "                border: none;\n",
       "                /* Needs to be in here for Safari polyfill so background images work as expected. */\n",
       "                background-size: auto;\n",
       "            }\n",
       "            .progress-bar-interrupted, .progress-bar-interrupted::-webkit-progress-bar {\n",
       "                background: #F44336;\n",
       "            }\n",
       "        </style>\n",
       "      <progress value='40' class='' max='100' style='width:300px; height:20px; vertical-align: middle;'></progress>\n",
       "      40.00% [40/100 04:32<06:48 epoch = 40]\n",
       "    </div>\n",
       "    \n",
       "\n",
       "\n",
       "    <div>\n",
       "        <style>\n",
       "            /* Turns off some styling */\n",
       "            progress {\n",
       "                /* gets rid of default border in Firefox and Opera. */\n",
       "                border: none;\n",
       "                /* Needs to be in here for Safari polyfill so background images work as expected. */\n",
       "                background-size: auto;\n",
       "            }\n",
       "            .progress-bar-interrupted, .progress-bar-interrupted::-webkit-progress-bar {\n",
       "                background: #F44336;\n",
       "            }\n",
       "        </style>\n",
       "      <progress value='101' class='' max='101' style='width:300px; height:20px; vertical-align: middle;'></progress>\n",
       "      100.00% [101/101 00:02<00:00]\n",
       "    </div>\n",
       "    "
      ],
      "text/plain": [
       "<IPython.core.display.HTML object>"
      ]
     },
     "metadata": {},
     "output_type": "display_data"
    },
    {
     "name": "stderr",
     "output_type": "stream",
     "text": [
      "2021-03-25 14:11:37.533 | INFO     | __main__:save_checkpoint:46 - Validation loss decreased (inf --> 158.980187).  Saving model ...\n",
      "2021-03-25 14:11:44.191 | INFO     | __main__:save_checkpoint:46 - Validation loss decreased (158.980187 --> 139.924008).  Saving model ...\n",
      "2021-03-25 14:11:50.930 | INFO     | __main__:save_checkpoint:46 - Validation loss decreased (139.924008 --> 113.393681).  Saving model ...\n",
      "2021-03-25 14:11:57.687 | INFO     | __main__:save_checkpoint:46 - Validation loss decreased (113.393681 --> 87.313746).  Saving model ...\n",
      "2021-03-25 14:12:04.483 | INFO     | __main__:save_checkpoint:46 - Validation loss decreased (87.313746 --> 67.510818).  Saving model ...\n",
      "2021-03-25 14:12:11.194 | INFO     | __main__:save_checkpoint:46 - Validation loss decreased (67.510818 --> 54.595658).  Saving model ...\n",
      "2021-03-25 14:12:17.928 | INFO     | __main__:save_checkpoint:46 - Validation loss decreased (54.595658 --> 43.656856).  Saving model ...\n",
      "2021-03-25 14:12:24.674 | INFO     | __main__:save_checkpoint:46 - Validation loss decreased (43.656856 --> 38.967206).  Saving model ...\n",
      "2021-03-25 14:12:31.408 | INFO     | __main__:save_checkpoint:46 - Validation loss decreased (38.967206 --> 37.052894).  Saving model ...\n",
      "2021-03-25 14:12:38.137 | INFO     | __main__:save_checkpoint:46 - Validation loss decreased (37.052894 --> 36.542766).  Saving model ...\n",
      "2021-03-25 14:12:44.797 | INFO     | __main__:__call__:35 - EarlyStopping counter: 1 out of 10\n",
      "2021-03-25 14:12:51.569 | INFO     | __main__:save_checkpoint:46 - Validation loss decreased (36.542766 --> 35.007651).  Saving model ...\n",
      "2021-03-25 14:12:58.283 | INFO     | __main__:save_checkpoint:46 - Validation loss decreased (35.007651 --> 32.489394).  Saving model ...\n",
      "2021-03-25 14:13:05.058 | INFO     | __main__:save_checkpoint:46 - Validation loss decreased (32.489394 --> 25.898582).  Saving model ...\n",
      "2021-03-25 14:13:11.699 | INFO     | __main__:save_checkpoint:46 - Validation loss decreased (25.898582 --> 18.900267).  Saving model ...\n",
      "2021-03-25 14:13:19.077 | INFO     | __main__:save_checkpoint:46 - Validation loss decreased (18.900267 --> 11.281725).  Saving model ...\n",
      "2021-03-25 14:13:26.530 | INFO     | __main__:save_checkpoint:46 - Validation loss decreased (11.281725 --> 7.349556).  Saving model ...\n",
      "2021-03-25 14:13:33.211 | INFO     | __main__:save_checkpoint:46 - Validation loss decreased (7.349556 --> 7.246431).  Saving model ...\n",
      "2021-03-25 14:13:39.930 | INFO     | __main__:save_checkpoint:46 - Validation loss decreased (7.246431 --> 6.743701).  Saving model ...\n",
      "2021-03-25 14:13:46.662 | INFO     | __main__:save_checkpoint:46 - Validation loss decreased (6.743701 --> 6.589892).  Saving model ...\n",
      "2021-03-25 14:13:53.475 | INFO     | __main__:__call__:35 - EarlyStopping counter: 1 out of 10\n",
      "2021-03-25 14:14:00.789 | INFO     | __main__:__call__:35 - EarlyStopping counter: 2 out of 10\n",
      "2021-03-25 14:14:07.378 | INFO     | __main__:save_checkpoint:46 - Validation loss decreased (6.589892 --> 6.325827).  Saving model ...\n",
      "2021-03-25 14:14:14.131 | INFO     | __main__:__call__:35 - EarlyStopping counter: 1 out of 10\n",
      "2021-03-25 14:14:20.814 | INFO     | __main__:__call__:35 - EarlyStopping counter: 2 out of 10\n",
      "2021-03-25 14:14:27.498 | INFO     | __main__:save_checkpoint:46 - Validation loss decreased (6.325827 --> 6.167193).  Saving model ...\n",
      "2021-03-25 14:14:34.257 | INFO     | __main__:save_checkpoint:46 - Validation loss decreased (6.167193 --> 6.103488).  Saving model ...\n",
      "2021-03-25 14:14:41.026 | INFO     | __main__:save_checkpoint:46 - Validation loss decreased (6.103488 --> 6.098545).  Saving model ...\n",
      "2021-03-25 14:14:47.794 | INFO     | __main__:save_checkpoint:46 - Validation loss decreased (6.098545 --> 6.055436).  Saving model ...\n",
      "2021-03-25 14:14:54.540 | INFO     | __main__:__call__:35 - EarlyStopping counter: 1 out of 10\n",
      "2021-03-25 14:15:01.206 | INFO     | __main__:save_checkpoint:46 - Validation loss decreased (6.055436 --> 5.994185).  Saving model ...\n",
      "2021-03-25 14:15:07.965 | INFO     | __main__:__call__:35 - EarlyStopping counter: 1 out of 10\n",
      "2021-03-25 14:15:14.626 | INFO     | __main__:__call__:35 - EarlyStopping counter: 2 out of 10\n",
      "2021-03-25 14:15:21.333 | INFO     | __main__:__call__:35 - EarlyStopping counter: 3 out of 10\n",
      "2021-03-25 14:15:28.081 | INFO     | __main__:__call__:35 - EarlyStopping counter: 4 out of 10\n",
      "2021-03-25 14:15:34.742 | INFO     | __main__:__call__:35 - EarlyStopping counter: 5 out of 10\n",
      "2021-03-25 14:15:41.372 | INFO     | __main__:__call__:35 - EarlyStopping counter: 6 out of 10\n",
      "2021-03-25 14:15:48.155 | INFO     | __main__:__call__:35 - EarlyStopping counter: 7 out of 10\n",
      "2021-03-25 14:15:55.483 | INFO     | __main__:__call__:35 - EarlyStopping counter: 8 out of 10\n",
      "2021-03-25 14:16:02.397 | INFO     | __main__:__call__:35 - EarlyStopping counter: 9 out of 10\n",
      "2021-03-25 14:16:09.022 | INFO     | __main__:__call__:35 - EarlyStopping counter: 10 out of 10\n",
      "2021-03-25 14:16:09.022 | INFO     | __main__:<module>:94 - Early stopping\n"
     ]
    },
    {
     "name": "stdout",
     "output_type": "stream",
     "text": [
      "5.9941848546718335\n",
      "\n",
      "====== 3 ======\n"
     ]
    },
    {
     "data": {
      "text/html": [
       "\n",
       "    <div>\n",
       "        <style>\n",
       "            /* Turns off some styling */\n",
       "            progress {\n",
       "                /* gets rid of default border in Firefox and Opera. */\n",
       "                border: none;\n",
       "                /* Needs to be in here for Safari polyfill so background images work as expected. */\n",
       "                background-size: auto;\n",
       "            }\n",
       "            .progress-bar-interrupted, .progress-bar-interrupted::-webkit-progress-bar {\n",
       "                background: #F44336;\n",
       "            }\n",
       "        </style>\n",
       "      <progress value='42' class='' max='100' style='width:300px; height:20px; vertical-align: middle;'></progress>\n",
       "      42.00% [42/100 05:13<07:13 epoch = 42]\n",
       "    </div>\n",
       "    \n",
       "\n",
       "\n",
       "    <div>\n",
       "        <style>\n",
       "            /* Turns off some styling */\n",
       "            progress {\n",
       "                /* gets rid of default border in Firefox and Opera. */\n",
       "                border: none;\n",
       "                /* Needs to be in here for Safari polyfill so background images work as expected. */\n",
       "                background-size: auto;\n",
       "            }\n",
       "            .progress-bar-interrupted, .progress-bar-interrupted::-webkit-progress-bar {\n",
       "                background: #F44336;\n",
       "            }\n",
       "        </style>\n",
       "      <progress value='101' class='' max='101' style='width:300px; height:20px; vertical-align: middle;'></progress>\n",
       "      100.00% [101/101 00:02<00:00]\n",
       "    </div>\n",
       "    "
      ],
      "text/plain": [
       "<IPython.core.display.HTML object>"
      ]
     },
     "metadata": {},
     "output_type": "display_data"
    },
    {
     "name": "stderr",
     "output_type": "stream",
     "text": [
      "2021-03-25 14:16:20.573 | INFO     | __main__:save_checkpoint:46 - Validation loss decreased (inf --> 159.986596).  Saving model ...\n",
      "2021-03-25 14:16:28.222 | INFO     | __main__:save_checkpoint:46 - Validation loss decreased (159.986596 --> 139.784585).  Saving model ...\n",
      "2021-03-25 14:16:35.325 | INFO     | __main__:save_checkpoint:46 - Validation loss decreased (139.784585 --> 113.367833).  Saving model ...\n",
      "2021-03-25 14:16:42.296 | INFO     | __main__:save_checkpoint:46 - Validation loss decreased (113.367833 --> 90.377169).  Saving model ...\n",
      "2021-03-25 14:16:50.008 | INFO     | __main__:save_checkpoint:46 - Validation loss decreased (90.377169 --> 67.820723).  Saving model ...\n",
      "2021-03-25 14:16:57.871 | INFO     | __main__:save_checkpoint:46 - Validation loss decreased (67.820723 --> 54.059943).  Saving model ...\n",
      "2021-03-25 14:17:06.255 | INFO     | __main__:save_checkpoint:46 - Validation loss decreased (54.059943 --> 42.904219).  Saving model ...\n",
      "2021-03-25 14:17:13.899 | INFO     | __main__:save_checkpoint:46 - Validation loss decreased (42.904219 --> 38.883702).  Saving model ...\n",
      "2021-03-25 14:17:21.632 | INFO     | __main__:save_checkpoint:46 - Validation loss decreased (38.883702 --> 36.844618).  Saving model ...\n",
      "2021-03-25 14:17:29.292 | INFO     | __main__:save_checkpoint:46 - Validation loss decreased (36.844618 --> 34.890558).  Saving model ...\n",
      "2021-03-25 14:17:36.315 | INFO     | __main__:__call__:35 - EarlyStopping counter: 1 out of 10\n",
      "2021-03-25 14:17:45.462 | INFO     | __main__:save_checkpoint:46 - Validation loss decreased (34.890558 --> 34.479848).  Saving model ...\n",
      "2021-03-25 14:17:52.470 | INFO     | __main__:save_checkpoint:46 - Validation loss decreased (34.479848 --> 31.626955).  Saving model ...\n",
      "2021-03-25 14:18:01.007 | INFO     | __main__:save_checkpoint:46 - Validation loss decreased (31.626955 --> 26.004716).  Saving model ...\n",
      "2021-03-25 14:18:07.889 | INFO     | __main__:save_checkpoint:46 - Validation loss decreased (26.004716 --> 19.028298).  Saving model ...\n",
      "2021-03-25 14:18:15.724 | INFO     | __main__:save_checkpoint:46 - Validation loss decreased (19.028298 --> 10.542671).  Saving model ...\n",
      "2021-03-25 14:18:23.492 | INFO     | __main__:save_checkpoint:46 - Validation loss decreased (10.542671 --> 7.568873).  Saving model ...\n",
      "2021-03-25 14:18:31.216 | INFO     | __main__:save_checkpoint:46 - Validation loss decreased (7.568873 --> 6.820660).  Saving model ...\n",
      "2021-03-25 14:18:38.921 | INFO     | __main__:__call__:35 - EarlyStopping counter: 1 out of 10\n",
      "2021-03-25 14:18:45.917 | INFO     | __main__:save_checkpoint:46 - Validation loss decreased (6.820660 --> 6.746534).  Saving model ...\n",
      "2021-03-25 14:18:53.759 | INFO     | __main__:save_checkpoint:46 - Validation loss decreased (6.746534 --> 6.585587).  Saving model ...\n",
      "2021-03-25 14:19:00.758 | INFO     | __main__:save_checkpoint:46 - Validation loss decreased (6.585587 --> 6.530856).  Saving model ...\n",
      "2021-03-25 14:19:08.454 | INFO     | __main__:__call__:35 - EarlyStopping counter: 1 out of 10\n",
      "2021-03-25 14:19:16.051 | INFO     | __main__:save_checkpoint:46 - Validation loss decreased (6.530856 --> 6.397066).  Saving model ...\n",
      "2021-03-25 14:19:23.720 | INFO     | __main__:save_checkpoint:46 - Validation loss decreased (6.397066 --> 6.315413).  Saving model ...\n",
      "2021-03-25 14:19:31.503 | INFO     | __main__:save_checkpoint:46 - Validation loss decreased (6.315413 --> 6.287278).  Saving model ...\n",
      "2021-03-25 14:19:38.571 | INFO     | __main__:save_checkpoint:46 - Validation loss decreased (6.287278 --> 6.183895).  Saving model ...\n",
      "2021-03-25 14:19:46.307 | INFO     | __main__:__call__:35 - EarlyStopping counter: 1 out of 10\n",
      "2021-03-25 14:19:54.021 | INFO     | __main__:save_checkpoint:46 - Validation loss decreased (6.183895 --> 6.105108).  Saving model ...\n",
      "2021-03-25 14:20:01.012 | INFO     | __main__:__call__:35 - EarlyStopping counter: 1 out of 10\n",
      "2021-03-25 14:20:07.962 | INFO     | __main__:__call__:35 - EarlyStopping counter: 2 out of 10\n",
      "2021-03-25 14:20:15.685 | INFO     | __main__:__call__:35 - EarlyStopping counter: 3 out of 10\n",
      "2021-03-25 14:20:23.300 | INFO     | __main__:save_checkpoint:46 - Validation loss decreased (6.105108 --> 6.091271).  Saving model ...\n",
      "2021-03-25 14:20:30.266 | INFO     | __main__:__call__:35 - EarlyStopping counter: 1 out of 10\n",
      "2021-03-25 14:20:37.267 | INFO     | __main__:__call__:35 - EarlyStopping counter: 2 out of 10\n",
      "2021-03-25 14:20:45.032 | INFO     | __main__:__call__:35 - EarlyStopping counter: 3 out of 10\n",
      "2021-03-25 14:20:52.052 | INFO     | __main__:__call__:35 - EarlyStopping counter: 4 out of 10\n",
      "2021-03-25 14:20:59.775 | INFO     | __main__:__call__:35 - EarlyStopping counter: 5 out of 10\n",
      "2021-03-25 14:21:06.716 | INFO     | __main__:__call__:35 - EarlyStopping counter: 6 out of 10\n",
      "2021-03-25 14:21:13.687 | INFO     | __main__:__call__:35 - EarlyStopping counter: 7 out of 10\n",
      "2021-03-25 14:21:20.633 | INFO     | __main__:__call__:35 - EarlyStopping counter: 8 out of 10\n",
      "2021-03-25 14:21:27.563 | INFO     | __main__:__call__:35 - EarlyStopping counter: 9 out of 10\n",
      "2021-03-25 14:21:34.439 | INFO     | __main__:__call__:35 - EarlyStopping counter: 10 out of 10\n",
      "2021-03-25 14:21:34.440 | INFO     | __main__:<module>:94 - Early stopping\n"
     ]
    },
    {
     "name": "stdout",
     "output_type": "stream",
     "text": [
      "6.09127110102384\n",
      "\n",
      "====== 4 ======\n"
     ]
    },
    {
     "data": {
      "text/html": [
       "\n",
       "    <div>\n",
       "        <style>\n",
       "            /* Turns off some styling */\n",
       "            progress {\n",
       "                /* gets rid of default border in Firefox and Opera. */\n",
       "                border: none;\n",
       "                /* Needs to be in here for Safari polyfill so background images work as expected. */\n",
       "                background-size: auto;\n",
       "            }\n",
       "            .progress-bar-interrupted, .progress-bar-interrupted::-webkit-progress-bar {\n",
       "                background: #F44336;\n",
       "            }\n",
       "        </style>\n",
       "      <progress value='41' class='' max='100' style='width:300px; height:20px; vertical-align: middle;'></progress>\n",
       "      41.00% [41/100 04:57<07:08 epoch = 41]\n",
       "    </div>\n",
       "    \n",
       "\n",
       "\n",
       "    <div>\n",
       "        <style>\n",
       "            /* Turns off some styling */\n",
       "            progress {\n",
       "                /* gets rid of default border in Firefox and Opera. */\n",
       "                border: none;\n",
       "                /* Needs to be in here for Safari polyfill so background images work as expected. */\n",
       "                background-size: auto;\n",
       "            }\n",
       "            .progress-bar-interrupted, .progress-bar-interrupted::-webkit-progress-bar {\n",
       "                background: #F44336;\n",
       "            }\n",
       "        </style>\n",
       "      <progress value='101' class='' max='101' style='width:300px; height:20px; vertical-align: middle;'></progress>\n",
       "      100.00% [101/101 00:02<00:00]\n",
       "    </div>\n",
       "    "
      ],
      "text/plain": [
       "<IPython.core.display.HTML object>"
      ]
     },
     "metadata": {},
     "output_type": "display_data"
    },
    {
     "name": "stderr",
     "output_type": "stream",
     "text": [
      "2021-03-25 14:21:46.474 | INFO     | __main__:save_checkpoint:46 - Validation loss decreased (inf --> 158.506055).  Saving model ...\n",
      "2021-03-25 14:21:53.945 | INFO     | __main__:save_checkpoint:46 - Validation loss decreased (158.506055 --> 139.538674).  Saving model ...\n",
      "2021-03-25 14:22:01.313 | INFO     | __main__:save_checkpoint:46 - Validation loss decreased (139.538674 --> 114.173990).  Saving model ...\n",
      "2021-03-25 14:22:08.559 | INFO     | __main__:save_checkpoint:46 - Validation loss decreased (114.173990 --> 89.115555).  Saving model ...\n",
      "2021-03-25 14:22:16.557 | INFO     | __main__:save_checkpoint:46 - Validation loss decreased (89.115555 --> 68.227650).  Saving model ...\n",
      "2021-03-25 14:22:23.807 | INFO     | __main__:save_checkpoint:46 - Validation loss decreased (68.227650 --> 54.596796).  Saving model ...\n",
      "2021-03-25 14:22:31.074 | INFO     | __main__:save_checkpoint:46 - Validation loss decreased (54.596796 --> 44.374148).  Saving model ...\n",
      "2021-03-25 14:22:38.360 | INFO     | __main__:save_checkpoint:46 - Validation loss decreased (44.374148 --> 40.215912).  Saving model ...\n",
      "2021-03-25 14:22:45.542 | INFO     | __main__:save_checkpoint:46 - Validation loss decreased (40.215912 --> 36.478570).  Saving model ...\n",
      "2021-03-25 14:22:52.859 | INFO     | __main__:save_checkpoint:46 - Validation loss decreased (36.478570 --> 35.745786).  Saving model ...\n",
      "2021-03-25 14:23:00.164 | INFO     | __main__:__call__:35 - EarlyStopping counter: 1 out of 10\n",
      "2021-03-25 14:23:07.388 | INFO     | __main__:__call__:35 - EarlyStopping counter: 2 out of 10\n",
      "2021-03-25 14:23:14.389 | INFO     | __main__:save_checkpoint:46 - Validation loss decreased (35.745786 --> 32.734889).  Saving model ...\n",
      "2021-03-25 14:23:21.703 | INFO     | __main__:save_checkpoint:46 - Validation loss decreased (32.734889 --> 27.857026).  Saving model ...\n",
      "2021-03-25 14:23:29.049 | INFO     | __main__:save_checkpoint:46 - Validation loss decreased (27.857026 --> 17.838935).  Saving model ...\n",
      "2021-03-25 14:23:36.375 | INFO     | __main__:save_checkpoint:46 - Validation loss decreased (17.838935 --> 11.743714).  Saving model ...\n",
      "2021-03-25 14:23:43.570 | INFO     | __main__:save_checkpoint:46 - Validation loss decreased (11.743714 --> 7.734547).  Saving model ...\n",
      "2021-03-25 14:23:50.872 | INFO     | __main__:save_checkpoint:46 - Validation loss decreased (7.734547 --> 6.683630).  Saving model ...\n",
      "2021-03-25 14:23:58.121 | INFO     | __main__:__call__:35 - EarlyStopping counter: 1 out of 10\n",
      "2021-03-25 14:24:05.412 | INFO     | __main__:save_checkpoint:46 - Validation loss decreased (6.683630 --> 6.587026).  Saving model ...\n",
      "2021-03-25 14:24:12.609 | INFO     | __main__:__call__:35 - EarlyStopping counter: 1 out of 10\n",
      "2021-03-25 14:24:19.876 | INFO     | __main__:save_checkpoint:46 - Validation loss decreased (6.587026 --> 6.468900).  Saving model ...\n",
      "2021-03-25 14:24:27.016 | INFO     | __main__:__call__:35 - EarlyStopping counter: 1 out of 10\n",
      "2021-03-25 14:24:34.261 | INFO     | __main__:__call__:35 - EarlyStopping counter: 2 out of 10\n",
      "2021-03-25 14:24:41.387 | INFO     | __main__:save_checkpoint:46 - Validation loss decreased (6.468900 --> 6.355405).  Saving model ...\n",
      "2021-03-25 14:24:48.744 | INFO     | __main__:save_checkpoint:46 - Validation loss decreased (6.355405 --> 6.179701).  Saving model ...\n",
      "2021-03-25 14:24:55.942 | INFO     | __main__:__call__:35 - EarlyStopping counter: 1 out of 10\n",
      "2021-03-25 14:25:03.014 | INFO     | __main__:save_checkpoint:46 - Validation loss decreased (6.179701 --> 6.099226).  Saving model ...\n",
      "2021-03-25 14:25:10.320 | INFO     | __main__:__call__:35 - EarlyStopping counter: 1 out of 10\n",
      "2021-03-25 14:25:17.603 | INFO     | __main__:__call__:35 - EarlyStopping counter: 2 out of 10\n",
      "2021-03-25 14:25:24.782 | INFO     | __main__:save_checkpoint:46 - Validation loss decreased (6.099226 --> 6.061291).  Saving model ...\n",
      "2021-03-25 14:25:32.104 | INFO     | __main__:save_checkpoint:46 - Validation loss decreased (6.061291 --> 6.023719).  Saving model ...\n",
      "2021-03-25 14:25:39.292 | INFO     | __main__:__call__:35 - EarlyStopping counter: 1 out of 10\n",
      "2021-03-25 14:25:46.518 | INFO     | __main__:__call__:35 - EarlyStopping counter: 2 out of 10\n",
      "2021-03-25 14:25:53.764 | INFO     | __main__:__call__:35 - EarlyStopping counter: 3 out of 10\n",
      "2021-03-25 14:26:01.040 | INFO     | __main__:__call__:35 - EarlyStopping counter: 4 out of 10\n",
      "2021-03-25 14:26:08.249 | INFO     | __main__:__call__:35 - EarlyStopping counter: 5 out of 10\n",
      "2021-03-25 14:26:15.464 | INFO     | __main__:__call__:35 - EarlyStopping counter: 6 out of 10\n",
      "2021-03-25 14:26:22.669 | INFO     | __main__:__call__:35 - EarlyStopping counter: 7 out of 10\n",
      "2021-03-25 14:26:29.948 | INFO     | __main__:__call__:35 - EarlyStopping counter: 8 out of 10\n",
      "2021-03-25 14:26:37.214 | INFO     | __main__:__call__:35 - EarlyStopping counter: 9 out of 10\n",
      "2021-03-25 14:26:44.429 | INFO     | __main__:__call__:35 - EarlyStopping counter: 10 out of 10\n",
      "2021-03-25 14:26:44.430 | INFO     | __main__:<module>:94 - Early stopping\n"
     ]
    },
    {
     "name": "stdout",
     "output_type": "stream",
     "text": [
      "6.0237188525776215\n",
      "\n",
      "====== 5 ======\n"
     ]
    },
    {
     "data": {
      "text/html": [
       "\n",
       "    <div>\n",
       "        <style>\n",
       "            /* Turns off some styling */\n",
       "            progress {\n",
       "                /* gets rid of default border in Firefox and Opera. */\n",
       "                border: none;\n",
       "                /* Needs to be in here for Safari polyfill so background images work as expected. */\n",
       "                background-size: auto;\n",
       "            }\n",
       "            .progress-bar-interrupted, .progress-bar-interrupted::-webkit-progress-bar {\n",
       "                background: #F44336;\n",
       "            }\n",
       "        </style>\n",
       "      <progress value='39' class='' max='100' style='width:300px; height:20px; vertical-align: middle;'></progress>\n",
       "      39.00% [39/100 04:41<07:20 epoch = 39]\n",
       "    </div>\n",
       "    \n",
       "\n",
       "\n",
       "    <div>\n",
       "        <style>\n",
       "            /* Turns off some styling */\n",
       "            progress {\n",
       "                /* gets rid of default border in Firefox and Opera. */\n",
       "                border: none;\n",
       "                /* Needs to be in here for Safari polyfill so background images work as expected. */\n",
       "                background-size: auto;\n",
       "            }\n",
       "            .progress-bar-interrupted, .progress-bar-interrupted::-webkit-progress-bar {\n",
       "                background: #F44336;\n",
       "            }\n",
       "        </style>\n",
       "      <progress value='101' class='' max='101' style='width:300px; height:20px; vertical-align: middle;'></progress>\n",
       "      100.00% [101/101 00:01<00:00]\n",
       "    </div>\n",
       "    "
      ],
      "text/plain": [
       "<IPython.core.display.HTML object>"
      ]
     },
     "metadata": {},
     "output_type": "display_data"
    },
    {
     "name": "stderr",
     "output_type": "stream",
     "text": [
      "2021-03-25 14:26:56.910 | INFO     | __main__:save_checkpoint:46 - Validation loss decreased (inf --> 159.515330).  Saving model ...\n",
      "2021-03-25 14:27:04.410 | INFO     | __main__:save_checkpoint:46 - Validation loss decreased (159.515330 --> 139.199897).  Saving model ...\n",
      "2021-03-25 14:27:11.943 | INFO     | __main__:save_checkpoint:46 - Validation loss decreased (139.199897 --> 113.787298).  Saving model ...\n",
      "2021-03-25 14:27:19.490 | INFO     | __main__:save_checkpoint:46 - Validation loss decreased (113.787298 --> 87.666396).  Saving model ...\n",
      "2021-03-25 14:27:27.082 | INFO     | __main__:save_checkpoint:46 - Validation loss decreased (87.666396 --> 68.137301).  Saving model ...\n",
      "2021-03-25 14:27:34.571 | INFO     | __main__:save_checkpoint:46 - Validation loss decreased (68.137301 --> 53.216235).  Saving model ...\n",
      "2021-03-25 14:27:42.130 | INFO     | __main__:save_checkpoint:46 - Validation loss decreased (53.216235 --> 44.560699).  Saving model ...\n",
      "2021-03-25 14:27:49.673 | INFO     | __main__:save_checkpoint:46 - Validation loss decreased (44.560699 --> 37.856750).  Saving model ...\n",
      "2021-03-25 14:27:57.147 | INFO     | __main__:save_checkpoint:46 - Validation loss decreased (37.856750 --> 37.091779).  Saving model ...\n",
      "2021-03-25 14:28:04.681 | INFO     | __main__:save_checkpoint:46 - Validation loss decreased (37.091779 --> 36.312783).  Saving model ...\n",
      "2021-03-25 14:28:12.205 | INFO     | __main__:save_checkpoint:46 - Validation loss decreased (36.312783 --> 35.193763).  Saving model ...\n",
      "2021-03-25 14:28:19.687 | INFO     | __main__:save_checkpoint:46 - Validation loss decreased (35.193763 --> 34.658951).  Saving model ...\n",
      "2021-03-25 14:28:27.214 | INFO     | __main__:save_checkpoint:46 - Validation loss decreased (34.658951 --> 31.605912).  Saving model ...\n",
      "2021-03-25 14:28:34.784 | INFO     | __main__:save_checkpoint:46 - Validation loss decreased (31.605912 --> 26.631975).  Saving model ...\n",
      "2021-03-25 14:28:42.440 | INFO     | __main__:save_checkpoint:46 - Validation loss decreased (26.631975 --> 19.166536).  Saving model ...\n",
      "2021-03-25 14:28:50.030 | INFO     | __main__:save_checkpoint:46 - Validation loss decreased (19.166536 --> 10.625543).  Saving model ...\n",
      "2021-03-25 14:28:57.530 | INFO     | __main__:save_checkpoint:46 - Validation loss decreased (10.625543 --> 7.442338).  Saving model ...\n",
      "2021-03-25 14:29:05.130 | INFO     | __main__:save_checkpoint:46 - Validation loss decreased (7.442338 --> 6.694578).  Saving model ...\n",
      "2021-03-25 14:29:12.706 | INFO     | __main__:__call__:35 - EarlyStopping counter: 1 out of 10\n",
      "2021-03-25 14:29:20.246 | INFO     | __main__:save_checkpoint:46 - Validation loss decreased (6.694578 --> 6.642468).  Saving model ...\n",
      "2021-03-25 14:29:27.832 | INFO     | __main__:__call__:35 - EarlyStopping counter: 1 out of 10\n",
      "2021-03-25 14:29:35.363 | INFO     | __main__:__call__:35 - EarlyStopping counter: 2 out of 10\n",
      "2021-03-25 14:29:42.858 | INFO     | __main__:save_checkpoint:46 - Validation loss decreased (6.642468 --> 6.489976).  Saving model ...\n",
      "2021-03-25 14:29:50.512 | INFO     | __main__:__call__:35 - EarlyStopping counter: 1 out of 10\n",
      "2021-03-25 14:29:57.970 | INFO     | __main__:save_checkpoint:46 - Validation loss decreased (6.489976 --> 6.381437).  Saving model ...\n",
      "2021-03-25 14:30:05.617 | INFO     | __main__:__call__:35 - EarlyStopping counter: 1 out of 10\n",
      "2021-03-25 14:30:13.177 | INFO     | __main__:save_checkpoint:46 - Validation loss decreased (6.381437 --> 6.124777).  Saving model ...\n",
      "2021-03-25 14:30:20.697 | INFO     | __main__:save_checkpoint:46 - Validation loss decreased (6.124777 --> 6.064985).  Saving model ...\n",
      "2021-03-25 14:30:28.137 | INFO     | __main__:save_checkpoint:46 - Validation loss decreased (6.064985 --> 6.028909).  Saving model ...\n",
      "2021-03-25 14:30:35.628 | INFO     | __main__:save_checkpoint:46 - Validation loss decreased (6.028909 --> 6.000137).  Saving model ...\n",
      "2021-03-25 14:30:43.166 | INFO     | __main__:__call__:35 - EarlyStopping counter: 1 out of 10\n",
      "2021-03-25 14:30:50.630 | INFO     | __main__:__call__:35 - EarlyStopping counter: 2 out of 10\n",
      "2021-03-25 14:30:57.999 | INFO     | __main__:__call__:35 - EarlyStopping counter: 3 out of 10\n",
      "2021-03-25 14:31:05.478 | INFO     | __main__:__call__:35 - EarlyStopping counter: 4 out of 10\n",
      "2021-03-25 14:31:12.996 | INFO     | __main__:__call__:35 - EarlyStopping counter: 5 out of 10\n",
      "2021-03-25 14:31:19.201 | INFO     | __main__:__call__:35 - EarlyStopping counter: 6 out of 10\n",
      "2021-03-25 14:31:23.207 | INFO     | __main__:__call__:35 - EarlyStopping counter: 7 out of 10\n",
      "2021-03-25 14:31:27.143 | INFO     | __main__:__call__:35 - EarlyStopping counter: 8 out of 10\n",
      "2021-03-25 14:31:31.067 | INFO     | __main__:__call__:35 - EarlyStopping counter: 9 out of 10\n",
      "2021-03-25 14:31:34.988 | INFO     | __main__:__call__:35 - EarlyStopping counter: 10 out of 10\n",
      "2021-03-25 14:31:34.989 | INFO     | __main__:<module>:94 - Early stopping\n"
     ]
    },
    {
     "name": "stdout",
     "output_type": "stream",
     "text": [
      "6.000137315767312\n",
      "CPU times: user 10min 5s, sys: 2min 51s, total: 12min 56s\n",
      "Wall time: 23min 1s\n"
     ]
    }
   ],
   "source": [
    "%%time\n",
    "\n",
    "oof_x = np.zeros((len(df_train)))\n",
    "oof_y = np.zeros((len(df_train)))\n",
    "oof_floor = np.zeros((len(df_train)))\n",
    "cv_scores = {}\n",
    "\n",
    "kf = KFold(n_splits=config['globals']['n_splits'], random_state=42, shuffle=True)\n",
    "for fold, (train_index, valid_index) in enumerate(kf.split(df_train)):\n",
    "    print(f'\\r\\n====== {fold + 1} ======')\n",
    "    net = IndoorWiFiNet(wifi_bssids_size, site_count, config['globals']['num_feats'])\n",
    "    net = net.to(device)\n",
    "\n",
    "    #criterion = IndoorLoss()\n",
    "    criterion = nn.MSELoss()\n",
    "    criterion = criterion.to(device)\n",
    "    #optimizer = optim.SGD(net.parameters(), lr=Config.LR, weight_decay=0.0001, momentum=0.9)\n",
    "    optimizer = torch.optim.Adam(net.parameters(), lr=config['globals']['lr'])\n",
    "    \n",
    "    train, valid = df_train.iloc[train_index], df_train.iloc[valid_index]\n",
    "\n",
    "    # TODO oof用のdataloaderはいらないはず\n",
    "    train_dataset = IndoorWiFiDataSet(train.reset_index(drop=True), bssid_feats, rssi_feats, data_type='train')\n",
    "    valid_dataset = IndoorWiFiDataSet(valid.reset_index(drop=True), bssid_feats, rssi_feats, data_type='valid')\n",
    "\n",
    "    trainloader = DataLoader(train_dataset, batch_size=config['globals']['batch_size'], shuffle=True, drop_last=True, num_workers=4)\n",
    "    validloader = DataLoader(valid_dataset, batch_size=config['globals']['batch_size'], num_workers=4)\n",
    "\n",
    "    early_stopping = EarlyStopping(save_name=f'{DIR_SAVE_IGNORE}checkpoint_{NB}', fold=fold+1, patience=config['globals']['patience'], verbose=True)\n",
    "    scheduler = torch.optim.lr_scheduler.CosineAnnealingLR(optimizer, T_max=config['globals']['t_mux'])\n",
    "\n",
    "\n",
    "    ############# TRAIN #############\n",
    "    val_losses = []\n",
    "    val_metrics = []\n",
    "    mb = master_bar(range(1, config['globals']['epoch']+1))\n",
    "    for epoch in mb:\n",
    "        mb.main_bar.comment = f'epoch = {epoch}'\n",
    "        running_loss = 0.0\n",
    "        #train_lwlrap = 0.0\n",
    "#         n_iter = len(trainloader)\n",
    "#         with tqdm(enumerate(trainloader), total=n_iter) as pbar:\n",
    "        for i, (bssid, rssi, site_id, x, y, floor) in enumerate(progress_bar(trainloader, parent=mb)):\n",
    "            net.train()\n",
    "            # zero the parameter gradients\n",
    "            optimizer.zero_grad()\n",
    "\n",
    "            bssid, rssi, site_id, x, y, floor = bssid.to(device).long(), rssi.to(device).float(), site_id.to(device).long(), x.to(device).float(), y.to(device).float(), floor.to(device)\n",
    "\n",
    "            xy_pred, floor_pred = net(bssid, rssi, site_id)\n",
    "            xy_pred = xy_pred.transpose(0, 1).squeeze(-2).reshape(-1)\n",
    "            label = torch.cat([x, y], dim=-1)\n",
    "            loss = criterion(xy_pred, label)\n",
    "            #loss = criterion(x, y, floor, x_pred, y_pred, floor_pred)\n",
    "            loss.backward()\n",
    "            optimizer.step()\n",
    "\n",
    "            running_loss += loss.item()\n",
    "#             mb.child.comment(OrderedDict(\n",
    "#                 epoch=\"{:>10}\".format(epoch), loss=\"{:.4f}\".format(loss.item())\n",
    "#             ))\n",
    "            mb.child.comment = f'loss={loss.item():.4f}'\n",
    "        scheduler.step()\n",
    "            \n",
    "        #if epoch < Config.SKIP_EVALUATE_NUM:\n",
    "        #    continue\n",
    "\n",
    "        ############# VALID #############\n",
    "        val_loss = 0.0\n",
    "        val_lwlrap = 0.0\n",
    "        x_preds = np.array([])\n",
    "        y_preds = np.array([])\n",
    "        val_preds_frame = []\n",
    "        n_iter_val = len(validloader)\n",
    "#         for i, (bssid, rssi, site_id) in tqdm(enumerate(validloader), total=len(validloader)):\n",
    "        for i, (bssid, rssi, site_id) in enumerate(progress_bar(validloader, parent=mb)):\n",
    "            mb.child.comment = 'calc valid'\n",
    "            net.eval()\n",
    "\n",
    "            with torch.no_grad():\n",
    "                \n",
    "                #melspec, labels = melspec.to(device).float(), labels.to(device).float()\n",
    "                bssid, rssi, site_id = bssid.to(device).long(), rssi.to(device).float(), site_id.to(device).long()\n",
    "                xy_pred, floor_pred = net(bssid, rssi, site_id)\n",
    "\n",
    "                xy_pred = xy_pred.to('cpu').detach().numpy().copy()\n",
    "                x_pred, y_pred = np.hsplit(xy_pred, 2)\n",
    "                x_preds = np.concatenate([x_preds, x_pred.reshape(-1)])\n",
    "                y_preds = np.concatenate([y_preds, y_pred.reshape(-1)])\n",
    "\n",
    "        score = comp_metric(x_preds, y_preds, 0, valid['x'], valid['y'], 0)\n",
    "\n",
    "        early_stopping(score, net)\n",
    "\n",
    "        if early_stopping.early_stop:\n",
    "            logger.info(\"Early stopping\")\n",
    "            cv_scores[f'cv{fold + 1}'] = early_stopping.best_score\n",
    "            break\n",
    "                \n",
    "    _x_oof = np.array([])\n",
    "    _y_oof = np.array([])\n",
    "    ############# OOF #############\n",
    "    oof_preds = []\n",
    "#     for i, (bssid, rssi, site_id) in tqdm(enumerate(validloader), total=len(validloader)):\n",
    "    for i, (bssid, rssi, site_id) in enumerate(progress_bar(validloader, parent=mb)):\n",
    "#         net.load_state_dict(torch.load(ROOT_DIR / Path('output') / f'checkpoint_{NB}_{fold}.pt'))\n",
    "        net.load_state_dict(torch.load(f'{DIR_SAVE_IGNORE}checkpoint_{NB}_{fold + 1}.pt'))\n",
    "        net.eval()\n",
    "\n",
    "        with torch.no_grad():\n",
    "\n",
    "            bssid, rssi, site_id, x, y, floor = bssid.to(device).long(), rssi.to(device).float(), site_id.to(device).long(), x.to(device).float(), y.to(device).float(), floor.to(device)\n",
    "\n",
    "            xy_pred, floor_pred = net(bssid, rssi, site_id)\n",
    "\n",
    "            xy_pred = xy_pred.to('cpu').detach().numpy().copy()\n",
    "            x_pred, y_pred = np.hsplit(xy_pred, 2)\n",
    "            _x_oof = np.concatenate([_x_oof, x_pred.reshape(-1)])\n",
    "            _y_oof = np.concatenate([_y_oof, y_pred.reshape(-1)])\n",
    "\n",
    "    print(comp_metric(_x_oof, _y_oof, 0, valid['x'], valid['y'], 0))\n",
    "\n",
    "    oof_x[valid_index] = _x_oof\n",
    "    oof_y[valid_index] = _y_oof\n",
    "\n",
    "    del net\n",
    "    torch.cuda.empty_cache()"
   ]
  },
  {
   "cell_type": "code",
   "execution_count": 21,
   "metadata": {
    "colab": {
     "base_uri": "https://localhost:8080/"
    },
    "executionInfo": {
     "elapsed": 501,
     "status": "ok",
     "timestamp": 1616481371504,
     "user": {
      "displayName": "ユウキハヤカワ",
      "photoUrl": "https://lh3.googleusercontent.com/a-/AOh14GjfXu9o7zmAYL24s4P8H7I0lvSgQUaSfrXi7qemvQ=s64",
      "userId": "00286900621093795459"
     },
     "user_tz": -540
    },
    "id": "VEdEjVItESKZ",
    "outputId": "8e4be26a-5aa1-4afa-eb4b-336380550dbb"
   },
   "outputs": [
    {
     "data": {
      "text/plain": [
       "6.015497092406876"
      ]
     },
     "execution_count": 21,
     "metadata": {},
     "output_type": "execute_result"
    }
   ],
   "source": [
    "oof_score = comp_metric(oof_x, oof_y, np.zeros(len(df_train)), df_train['x'], df_train['y'], np.zeros(len(df_train)))\n",
    "oof_score"
   ]
  },
  {
   "cell_type": "markdown",
   "metadata": {},
   "source": [
    "# test"
   ]
  },
  {
   "cell_type": "code",
   "execution_count": 22,
   "metadata": {},
   "outputs": [
    {
     "data": {
      "text/html": [
       "\n",
       "    <div>\n",
       "        <style>\n",
       "            /* Turns off some styling */\n",
       "            progress {\n",
       "                /* gets rid of default border in Firefox and Opera. */\n",
       "                border: none;\n",
       "                /* Needs to be in here for Safari polyfill so background images work as expected. */\n",
       "                background-size: auto;\n",
       "            }\n",
       "            .progress-bar-interrupted, .progress-bar-interrupted::-webkit-progress-bar {\n",
       "                background: #F44336;\n",
       "            }\n",
       "        </style>\n",
       "      <progress value='20' class='' max='20' style='width:300px; height:20px; vertical-align: middle;'></progress>\n",
       "      100.00% [20/20 00:00<00:00]\n",
       "    </div>\n",
       "    "
      ],
      "text/plain": [
       "<IPython.core.display.HTML object>"
      ]
     },
     "metadata": {},
     "output_type": "display_data"
    },
    {
     "data": {
      "text/html": [
       "\n",
       "    <div>\n",
       "        <style>\n",
       "            /* Turns off some styling */\n",
       "            progress {\n",
       "                /* gets rid of default border in Firefox and Opera. */\n",
       "                border: none;\n",
       "                /* Needs to be in here for Safari polyfill so background images work as expected. */\n",
       "                background-size: auto;\n",
       "            }\n",
       "            .progress-bar-interrupted, .progress-bar-interrupted::-webkit-progress-bar {\n",
       "                background: #F44336;\n",
       "            }\n",
       "        </style>\n",
       "      <progress value='20' class='' max='20' style='width:300px; height:20px; vertical-align: middle;'></progress>\n",
       "      100.00% [20/20 00:00<00:00]\n",
       "    </div>\n",
       "    "
      ],
      "text/plain": [
       "<IPython.core.display.HTML object>"
      ]
     },
     "metadata": {},
     "output_type": "display_data"
    },
    {
     "data": {
      "text/html": [
       "\n",
       "    <div>\n",
       "        <style>\n",
       "            /* Turns off some styling */\n",
       "            progress {\n",
       "                /* gets rid of default border in Firefox and Opera. */\n",
       "                border: none;\n",
       "                /* Needs to be in here for Safari polyfill so background images work as expected. */\n",
       "                background-size: auto;\n",
       "            }\n",
       "            .progress-bar-interrupted, .progress-bar-interrupted::-webkit-progress-bar {\n",
       "                background: #F44336;\n",
       "            }\n",
       "        </style>\n",
       "      <progress value='20' class='' max='20' style='width:300px; height:20px; vertical-align: middle;'></progress>\n",
       "      100.00% [20/20 00:00<00:00]\n",
       "    </div>\n",
       "    "
      ],
      "text/plain": [
       "<IPython.core.display.HTML object>"
      ]
     },
     "metadata": {},
     "output_type": "display_data"
    },
    {
     "data": {
      "text/html": [
       "\n",
       "    <div>\n",
       "        <style>\n",
       "            /* Turns off some styling */\n",
       "            progress {\n",
       "                /* gets rid of default border in Firefox and Opera. */\n",
       "                border: none;\n",
       "                /* Needs to be in here for Safari polyfill so background images work as expected. */\n",
       "                background-size: auto;\n",
       "            }\n",
       "            .progress-bar-interrupted, .progress-bar-interrupted::-webkit-progress-bar {\n",
       "                background: #F44336;\n",
       "            }\n",
       "        </style>\n",
       "      <progress value='20' class='' max='20' style='width:300px; height:20px; vertical-align: middle;'></progress>\n",
       "      100.00% [20/20 00:00<00:00]\n",
       "    </div>\n",
       "    "
      ],
      "text/plain": [
       "<IPython.core.display.HTML object>"
      ]
     },
     "metadata": {},
     "output_type": "display_data"
    },
    {
     "data": {
      "text/html": [
       "\n",
       "    <div>\n",
       "        <style>\n",
       "            /* Turns off some styling */\n",
       "            progress {\n",
       "                /* gets rid of default border in Firefox and Opera. */\n",
       "                border: none;\n",
       "                /* Needs to be in here for Safari polyfill so background images work as expected. */\n",
       "                background-size: auto;\n",
       "            }\n",
       "            .progress-bar-interrupted, .progress-bar-interrupted::-webkit-progress-bar {\n",
       "                background: #F44336;\n",
       "            }\n",
       "        </style>\n",
       "      <progress value='20' class='' max='20' style='width:300px; height:20px; vertical-align: middle;'></progress>\n",
       "      100.00% [20/20 00:00<00:00]\n",
       "    </div>\n",
       "    "
      ],
      "text/plain": [
       "<IPython.core.display.HTML object>"
      ]
     },
     "metadata": {},
     "output_type": "display_data"
    },
    {
     "name": "stdout",
     "output_type": "stream",
     "text": [
      "CPU times: user 495 ms, sys: 1.46 s, total: 1.95 s\n",
      "Wall time: 2.43 s\n"
     ]
    }
   ],
   "source": [
    "%%time\n",
    "x_preds_mean = np.zeros(len(df_test))\n",
    "y_preds_mean = np.zeros(len(df_test))\n",
    "\n",
    "for fold in range(config['globals']['n_splits']):\n",
    "\n",
    "    x_preds = np.array([])\n",
    "    y_preds = np.array([])\n",
    "\n",
    "    net = IndoorWiFiNet(wifi_bssids_size, site_count, config['globals']['num_feats'])\n",
    "    net.to(device)\n",
    "#     print(ROOT_DIR / Path('output') / f'load checkpoint_{NB}_{fold}.pt')\n",
    "#     net.load_state_dict(torch.load(ROOT_DIR / Path('output') / f'checkpoint_{NB}_{fold}.pt'))\n",
    "    net.load_state_dict(torch.load(f'{DIR_SAVE_IGNORE}checkpoint_{NB}_{fold + 1}.pt'))\n",
    "\n",
    "    test_dataset = IndoorWiFiDataSet(df_test, bssid_feats, rssi_feats, data_type='test')\n",
    "#     valid_dataset = IndoorWiFiDataSet(valid.reset_index(drop=True), bssid_feats, rssi_feats, data_type='valid')\n",
    "    testloader = DataLoader(test_dataset, batch_size=config['globals']['batch_size'], num_workers=4)\n",
    "    \n",
    "    test_preds = []\n",
    "    for i, (bssid, rssi, site_id) in enumerate(progress_bar(testloader)):\n",
    "        net.eval()\n",
    "\n",
    "        with torch.no_grad():\n",
    "\n",
    "            bssid, rssi, site_id = bssid.to(device).long(), rssi.to(device).float(), site_id.to(device).long()\n",
    "\n",
    "            xy_pred, floor_pred = net(bssid, rssi, site_id)\n",
    "            xy_pred = xy_pred.to('cpu').detach().numpy().copy()\n",
    "\n",
    "            x_pred, y_pred = np.hsplit(xy_pred, 2)\n",
    "            x_preds = np.concatenate([x_preds, x_pred.reshape(-1)])\n",
    "            y_preds = np.concatenate([y_preds, y_pred.reshape(-1)])\n",
    "\n",
    "    x_preds_mean += x_preds / config['globals']['n_splits']\n",
    "    y_preds_mean += y_preds / config['globals']['n_splits']"
   ]
  },
  {
   "cell_type": "code",
   "execution_count": 23,
   "metadata": {},
   "outputs": [
    {
     "data": {
      "text/plain": [
       "array([ 86.4702652 ,  78.12654572,  79.24743347, ..., 204.11754456,\n",
       "       202.37128601, 200.59635315])"
      ]
     },
     "execution_count": 23,
     "metadata": {},
     "output_type": "execute_result"
    }
   ],
   "source": [
    "x_preds_mean"
   ]
  },
  {
   "cell_type": "code",
   "execution_count": 24,
   "metadata": {},
   "outputs": [],
   "source": [
    "df_xy_oof = pd.DataFrame()\n",
    "df_xy_oof['oof_x'] = oof_x\n",
    "df_xy_oof['oof_y'] = oof_y\n",
    "df_xy_oof.to_csv(f'{DIR_SAVE}nb{NB}_oof_xy.csv', index=False)"
   ]
  },
  {
   "cell_type": "raw",
   "metadata": {
    "executionInfo": {
     "elapsed": 860,
     "status": "ok",
     "timestamp": 1616481374869,
     "user": {
      "displayName": "ユウキハヤカワ",
      "photoUrl": "https://lh3.googleusercontent.com/a-/AOh14GjfXu9o7zmAYL24s4P8H7I0lvSgQUaSfrXi7qemvQ=s64",
      "userId": "00286900621093795459"
     },
     "user_tz": -540
    },
    "id": "iACJhcvEiR_Z"
   },
   "source": [
    "np.save(ROOT_DIR / Path('output') / f'oof_x_{NB}', oof_x)\n",
    "np.save(ROOT_DIR / Path('output') / f'oof_y_{NB}', oof_y)"
   ]
  },
  {
   "cell_type": "code",
   "execution_count": 28,
   "metadata": {
    "executionInfo": {
     "elapsed": 1689,
     "status": "ok",
     "timestamp": 1616481376074,
     "user": {
      "displayName": "ユウキハヤカワ",
      "photoUrl": "https://lh3.googleusercontent.com/a-/AOh14GjfXu9o7zmAYL24s4P8H7I0lvSgQUaSfrXi7qemvQ=s64",
      "userId": "00286900621093795459"
     },
     "user_tz": -540
    },
    "id": "nLIi69kGdV5B"
   },
   "outputs": [],
   "source": [
    "sample_submission = pd.read_csv(PATH_SUB)\n",
    "submission_99per_acc = pd.read_csv(PATH_99_SUB)\n",
    "\n",
    "pred_df = df_test[['site_path_timestamp']].copy()\n",
    "pred_df['x'] = x_preds_mean\n",
    "pred_df['y'] = y_preds_mean\n",
    "sub = pred_df.merge(submission_99per_acc[['site_path_timestamp', 'floor']], how='left', on='site_path_timestamp')[['site_path_timestamp', 'floor', 'x', 'y']]"
   ]
  },
  {
   "cell_type": "code",
   "execution_count": 29,
   "metadata": {
    "executionInfo": {
     "elapsed": 1423,
     "status": "ok",
     "timestamp": 1616481376078,
     "user": {
      "displayName": "ユウキハヤカワ",
      "photoUrl": "https://lh3.googleusercontent.com/a-/AOh14GjfXu9o7zmAYL24s4P8H7I0lvSgQUaSfrXi7qemvQ=s64",
      "userId": "00286900621093795459"
     },
     "user_tz": -540
    },
    "id": "2gtvd6JQZQ1_"
   },
   "outputs": [],
   "source": [
    "assert len(sample_submission.merge(sub, how='inner', on='site_path_timestamp')) == len(sample_submission)"
   ]
  },
  {
   "cell_type": "code",
   "execution_count": 30,
   "metadata": {
    "executionInfo": {
     "elapsed": 929,
     "status": "ok",
     "timestamp": 1616481376081,
     "user": {
      "displayName": "ユウキハヤカワ",
      "photoUrl": "https://lh3.googleusercontent.com/a-/AOh14GjfXu9o7zmAYL24s4P8H7I0lvSgQUaSfrXi7qemvQ=s64",
      "userId": "00286900621093795459"
     },
     "user_tz": -540
    },
    "id": "VpCo-uT_NOCh"
   },
   "outputs": [],
   "source": [
    "sub_file_path = f'{DIR_SAVE}nb{NB}_sub.csv'\n",
    "sub.to_csv(sub_file_path, index=False)"
   ]
  },
  {
   "cell_type": "code",
   "execution_count": null,
   "metadata": {},
   "outputs": [],
   "source": []
  },
  {
   "cell_type": "raw",
   "metadata": {},
   "source": [
    "\n",
    "\n",
    "\n",
    "\n",
    "\n",
    "\n",
    "\n",
    "\n",
    "\n",
    "\n",
    "\n",
    "\n",
    "\n",
    "\n",
    "\n",
    "\n",
    "\n",
    "\n",
    "\n",
    "\n",
    "\n",
    "\n",
    "\n",
    "\n",
    "\n",
    "\n",
    "\n",
    "\n"
   ]
  }
 ],
 "metadata": {
  "accelerator": "GPU",
  "colab": {
   "collapsed_sections": [],
   "machine_shape": "hm",
   "name": "exp003-0.ipynb",
   "provenance": [
    {
     "file_id": "https://github.com/yuki-a4/Indoor/blob/main/COLAB/notebook/exp003.ipynb",
     "timestamp": 1616255627299
    }
   ]
  },
  "kernelspec": {
   "display_name": "Python 3",
   "language": "python",
   "name": "python3"
  },
  "language_info": {
   "codemirror_mode": {
    "name": "ipython",
    "version": 3
   },
   "file_extension": ".py",
   "mimetype": "text/x-python",
   "name": "python",
   "nbconvert_exporter": "python",
   "pygments_lexer": "ipython3",
   "version": "3.8.5"
  }
 },
 "nbformat": 4,
 "nbformat_minor": 4
}
