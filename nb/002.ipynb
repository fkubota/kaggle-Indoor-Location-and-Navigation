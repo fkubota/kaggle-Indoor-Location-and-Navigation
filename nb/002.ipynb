{
 "cells": [
  {
   "cell_type": "markdown",
   "metadata": {},
   "source": [
    "# Overview\n",
    "- yukiさんのノートブックを参考にする"
   ]
  },
  {
   "cell_type": "code",
   "execution_count": 1,
   "metadata": {},
   "outputs": [
    {
     "name": "stdout",
     "output_type": "stream",
     "text": [
      "1c30b36\n"
     ]
    }
   ],
   "source": [
    "import subprocess\n",
    "cmd = \"git rev-parse --short HEAD\"\n",
    "hash = subprocess.check_output(cmd.split()).strip().decode('utf-8')\n",
    "print(hash)"
   ]
  },
  {
   "cell_type": "markdown",
   "metadata": {},
   "source": [
    "# Const"
   ]
  },
  {
   "cell_type": "code",
   "execution_count": 2,
   "metadata": {},
   "outputs": [],
   "source": [
    "NB = '002'\n",
    "DIR_TRAIN = './../data_ignore/input/train/'\n",
    "DIR_TEST = './../data_ignore/input/test/'\n",
    "DIR_WIFI = './../data_ignore/input/wifi/'\n",
    "PATH_SUB = './../data_ignore/input/sample_submission.csv'\n",
    "PATH_99_SUB = './../data/input/floor_99per_acc_sub.csv'\n",
    "DIR_SAVE_IGNORE = f'./../data_ignore/nb/{NB}/'\n",
    "DIR_SAVE = f'./../data/nb/{NB}/'"
   ]
  },
  {
   "cell_type": "code",
   "execution_count": 3,
   "metadata": {},
   "outputs": [],
   "source": [
    "config_str = '''\n",
    "globals:\n",
    "    seed: 5713\n",
    "    device: cuda\n",
    "    n_label: 24\n",
    "    n_splits: 5\n",
    "    random_sate: 42\n",
    "    lr: 0.001\n",
    "    patience: 10\n",
    "    epoch: 100\n",
    "    batch_size: 512\n",
    "    skip_evaluate_num: 5\n",
    "    num_feats: 20\n",
    "    t_mux: 10\n",
    "'''"
   ]
  },
  {
   "cell_type": "markdown",
   "metadata": {},
   "source": [
    "# Import everything I need:)"
   ]
  },
  {
   "cell_type": "code",
   "execution_count": 4,
   "metadata": {},
   "outputs": [],
   "source": [
    "import os\n",
    "import yaml\n",
    "import types\n",
    "import random\n",
    "import pickle\n",
    "import builtins\n",
    "import numpy as np\n",
    "import pandas as pd\n",
    "import pytablewriter\n",
    "from icecream import ic\n",
    "# from tqdm import tqdm\n",
    "from fastprogress import progress_bar, master_bar\n",
    "from glob import glob\n",
    "from loguru import logger\n",
    "from collections import OrderedDict\n",
    "\n",
    "# sklearn\n",
    "from sklearn.preprocessing import LabelEncoder, StandardScaler\n",
    "from sklearn.model_selection import KFold\n",
    "\n",
    "# pytorch\n",
    "import torch\n",
    "from torch import nn\n",
    "from torch.utils.data import Dataset, DataLoader\n",
    "import torch.optim as optim\n",
    "import torch.nn.functional as F"
   ]
  },
  {
   "cell_type": "markdown",
   "metadata": {},
   "source": [
    "# Function"
   ]
  },
  {
   "cell_type": "code",
   "execution_count": 5,
   "metadata": {
    "executionInfo": {
     "elapsed": 4655,
     "status": "ok",
     "timestamp": 1616479151188,
     "user": {
      "displayName": "ユウキハヤカワ",
      "photoUrl": "https://lh3.googleusercontent.com/a-/AOh14GjfXu9o7zmAYL24s4P8H7I0lvSgQUaSfrXi7qemvQ=s64",
      "userId": "00286900621093795459"
     },
     "user_tz": -540
    },
    "id": "7SxgGjwA5Rty"
   },
   "outputs": [],
   "source": [
    "def imports():\n",
    "    for name, val in globals().items():\n",
    "        # module imports\n",
    "        if isinstance(val, types.ModuleType):\n",
    "            yield name, val\n",
    "\n",
    "            # functions / callables\n",
    "        if hasattr(val, '__call__'):\n",
    "            yield name, val\n",
    "\n",
    "\n",
    "def noglobal(f):\n",
    "    '''\n",
    "    ref: https://gist.github.com/raven38/4e4c3c7a179283c441f575d6e375510c\n",
    "    '''\n",
    "    return types.FunctionType(f.__code__,\n",
    "                              dict(imports()),\n",
    "                              f.__name__,\n",
    "                              f.__defaults__,\n",
    "                              f.__closure__\n",
    "                              )\n",
    "\n",
    "\n",
    "def comp_metric(xhat, yhat, fhat, x, y, f):\n",
    "    intermediate = np.sqrt(np.power(xhat-x, 2) + np.power(yhat-y, 2)) + 15 * np.abs(fhat-f)\n",
    "    return intermediate.sum()/xhat.shape[0]\n",
    "\n",
    "def seed_everything(seed=42):\n",
    "    random.seed(seed)\n",
    "    os.environ['PYTHONHASHSEED'] = str(seed)\n",
    "    np.random.seed(seed)\n",
    "    torch.manual_seed(seed)\n",
    "    torch.cuda.manual_seed(seed)\n",
    "    torch.backends.cudnn.deterministic = True\n",
    "    torch.backends.cudnn.benchmark = True\n",
    "\n",
    "\n",
    "@noglobal\n",
    "def calc_metrics_site(x_pred, y_pred, f_pred, x_true, y_true, f_true, site_arr):\n",
    "    '''\n",
    "    site_arrは、intじゃなくて、\"B1\", \"F2\"みたいな感じで入力\n",
    "    site_arr = le_site.inverse_transform(df_train.site_id)\n",
    "    '''\n",
    "    site_unique = sorted(np.unique(site_arr))\n",
    "    score_list = []\n",
    "    n_sample = []\n",
    "    for site in site_unique:\n",
    "        logics = site_arr == site\n",
    "        x_pred_, y_pred_, f_pred_ = x_pred[logics], y_pred[logics], f_pred[logics]\n",
    "        x_true_, y_true_, f_true_, = x_true[logics], y_true[logics], f_true[logics]\n",
    "        len_x = len(x_pred_)\n",
    "        \n",
    "        intermediate = np.sqrt(np.power(x_pred_-x_true_, 2) + np.power(y_pred_-y_true_, 2)) + 15 * np.abs(f_pred_-f_true_)\n",
    "        \n",
    "        score_list.append(intermediate.sum()/len_x)\n",
    "        n_sample.append(len_x)\n",
    "    \n",
    "    df_result = pd.DataFrame({\n",
    "        'site': site_unique,\n",
    "        'n_sample': n_sample,\n",
    "        'score': score_list,\n",
    "    })\n",
    "    return df_result\n",
    "\n",
    "\n",
    "@noglobal\n",
    "def site_eval_report(df_result_site):\n",
    "    df_result_site.insert(loc=0, column='No', value=df_result_site.index)\n",
    "    writer = pytablewriter.MarkdownTableWriter()\n",
    "    writer.from_dataframe(df_result_site)\n",
    "    writer.write_table()"
   ]
  },
  {
   "cell_type": "markdown",
   "metadata": {},
   "source": [
    "# Preparation"
   ]
  },
  {
   "cell_type": "markdown",
   "metadata": {},
   "source": [
    "load config"
   ]
  },
  {
   "cell_type": "code",
   "execution_count": 6,
   "metadata": {},
   "outputs": [
    {
     "data": {
      "text/plain": [
       "{'globals': {'seed': 5713,\n",
       "  'device': 'cuda',\n",
       "  'n_label': 24,\n",
       "  'n_splits': 5,\n",
       "  'random_sate': 42,\n",
       "  'lr': 0.001,\n",
       "  'patience': 10,\n",
       "  'epoch': 100,\n",
       "  'batch_size': 512,\n",
       "  'skip_evaluate_num': 5,\n",
       "  'num_feats': 20,\n",
       "  't_mux': 10}}"
      ]
     },
     "execution_count": 6,
     "metadata": {},
     "output_type": "execute_result"
    }
   ],
   "source": [
    "config = yaml.safe_load(config_str)\n",
    "config"
   ]
  },
  {
   "cell_type": "markdown",
   "metadata": {},
   "source": [
    "<br>\n",
    "\n",
    "set"
   ]
  },
  {
   "cell_type": "code",
   "execution_count": 7,
   "metadata": {},
   "outputs": [],
   "source": [
    "seed_everything(config['globals']['seed'])\n",
    "\n",
    "if not os.path.exists(DIR_SAVE_IGNORE):\n",
    "    os.makedirs(DIR_SAVE_IGNORE)\n",
    "if not os.path.exists(DIR_SAVE):\n",
    "    os.makedirs(DIR_SAVE)"
   ]
  },
  {
   "cell_type": "markdown",
   "metadata": {},
   "source": [
    "<br>\n",
    "\n",
    "load dataset"
   ]
  },
  {
   "cell_type": "raw",
   "metadata": {},
   "source": [
    "train_files = sorted(glob(f'{DIR_WIFI}*_train.csv'))\n",
    "test_files = sorted(glob(f'{DIR_WIFI}*_test.csv'))\n",
    "sample_sub = pd.read_csv(PATH_SUB)"
   ]
  },
  {
   "cell_type": "code",
   "execution_count": 8,
   "metadata": {
    "executionInfo": {
     "elapsed": 12440,
     "status": "ok",
     "timestamp": 1616479159010,
     "user": {
      "displayName": "ユウキハヤカワ",
      "photoUrl": "https://lh3.googleusercontent.com/a-/AOh14GjfXu9o7zmAYL24s4P8H7I0lvSgQUaSfrXi7qemvQ=s64",
      "userId": "00286900621093795459"
     },
     "user_tz": -540
    },
    "id": "g0ytMb1aSnv0"
   },
   "outputs": [],
   "source": [
    "with open(f'{DIR_WIFI}train_all.pkl', 'rb') as f:\n",
    "    df_train = pickle.load( f)\n",
    "with open(f'{DIR_WIFI}test_all.pkl', 'rb') as f:\n",
    "    df_test = pickle.load( f)"
   ]
  },
  {
   "cell_type": "markdown",
   "metadata": {},
   "source": [
    "<br>\n",
    "\n",
    "preprocessing"
   ]
  },
  {
   "cell_type": "code",
   "execution_count": 9,
   "metadata": {
    "executionInfo": {
     "elapsed": 12395,
     "status": "ok",
     "timestamp": 1616479159023,
     "user": {
      "displayName": "ユウキハヤカワ",
      "photoUrl": "https://lh3.googleusercontent.com/a-/AOh14GjfXu9o7zmAYL24s4P8H7I0lvSgQUaSfrXi7qemvQ=s64",
      "userId": "00286900621093795459"
     },
     "user_tz": -540
    },
    "id": "6wFlN2I2NL3z"
   },
   "outputs": [],
   "source": [
    "bssid_feats = [f'bssid_{i}' for i in range(config['globals']['num_feats'])]\n",
    "rssi_feats  = [f'rssi_{i}' for i in range(config['globals']['num_feats'])]"
   ]
  },
  {
   "cell_type": "code",
   "execution_count": 10,
   "metadata": {
    "colab": {
     "base_uri": "https://localhost:8080/"
    },
    "executionInfo": {
     "elapsed": 16854,
     "status": "ok",
     "timestamp": 1616479163506,
     "user": {
      "displayName": "ユウキハヤカワ",
      "photoUrl": "https://lh3.googleusercontent.com/a-/AOh14GjfXu9o7zmAYL24s4P8H7I0lvSgQUaSfrXi7qemvQ=s64",
      "userId": "00286900621093795459"
     },
     "user_tz": -540
    },
    "id": "hfyRDfw3Xbov",
    "outputId": "196b63bf-9e51-4a08-8fd5-9b04139c3d4b"
   },
   "outputs": [
    {
     "name": "stdout",
     "output_type": "stream",
     "text": [
      "BSSID TYPES: 61206\n",
      "BSSID TYPES: 33042\n",
      "BSSID TYPES: 94248\n"
     ]
    }
   ],
   "source": [
    "# bssidの一覧作成\n",
    "# wifi_bassidにはtrainとtest両方のbssidの一覧が含まれる\n",
    "\n",
    "wifi_bssids = []\n",
    "for i in range(100):\n",
    "    wifi_bssids.extend(df_train.iloc[:,i].values.tolist())\n",
    "wifi_bssids = list(set(wifi_bssids))\n",
    "\n",
    "wifi_bssids_size = len(wifi_bssids)\n",
    "print(f'BSSID TYPES: {wifi_bssids_size}')\n",
    "\n",
    "wifi_bssids_test = []\n",
    "for i in range(100):\n",
    "    wifi_bssids_test.extend(df_test.iloc[:,i].values.tolist())\n",
    "wifi_bssids_test = list(set(wifi_bssids_test))\n",
    "\n",
    "wifi_bssids_size = len(wifi_bssids_test)\n",
    "print(f'BSSID TYPES: {wifi_bssids_size}')\n",
    "\n",
    "wifi_bssids.extend(wifi_bssids_test)\n",
    "wifi_bssids_size = len(wifi_bssids)\n",
    "print(f'BSSID TYPES: {wifi_bssids_size}')"
   ]
  },
  {
   "cell_type": "raw",
   "metadata": {
    "colab": {
     "base_uri": "https://localhost:8080/"
    },
    "executionInfo": {
     "elapsed": 16854,
     "status": "ok",
     "timestamp": 1616479163506,
     "user": {
      "displayName": "ユウキハヤカワ",
      "photoUrl": "https://lh3.googleusercontent.com/a-/AOh14GjfXu9o7zmAYL24s4P8H7I0lvSgQUaSfrXi7qemvQ=s64",
      "userId": "00286900621093795459"
     },
     "user_tz": -540
    },
    "id": "hfyRDfw3Xbov",
    "outputId": "196b63bf-9e51-4a08-8fd5-9b04139c3d4b"
   },
   "source": [
    "# bssidの一覧作成\n",
    "# wifi_bassidにはtrainとtest両方のbssidの一覧が含まれる\n",
    "\n",
    "wifi_bssids = []\n",
    "for i in range(100):\n",
    "    wifi_bssids.extend(df_train.iloc[:, i].values.tolist())\n",
    "    wifi_bssids.extend(df_test.iloc[:, i].values.tolist())\n",
    "\n",
    "wifi_bssids = list(set(wifi_bssids))\n",
    "print(f'BSSID TYPES: {len(wifi_bssids)}')"
   ]
  },
  {
   "cell_type": "code",
   "execution_count": 11,
   "metadata": {
    "colab": {
     "base_uri": "https://localhost:8080/"
    },
    "executionInfo": {
     "elapsed": 18605,
     "status": "ok",
     "timestamp": 1616479165294,
     "user": {
      "displayName": "ユウキハヤカワ",
      "photoUrl": "https://lh3.googleusercontent.com/a-/AOh14GjfXu9o7zmAYL24s4P8H7I0lvSgQUaSfrXi7qemvQ=s64",
      "userId": "00286900621093795459"
     },
     "user_tz": -540
    },
    "id": "eBhOfx-CdxJB",
    "outputId": "74a3e5ac-a638-41eb-b228-5d6c6cd9c0df"
   },
   "outputs": [
    {
     "data": {
      "text/plain": [
       "StandardScaler()"
      ]
     },
     "execution_count": 11,
     "metadata": {},
     "output_type": "execute_result"
    }
   ],
   "source": [
    "# LabelEncoding & StandardScaler\n",
    "\n",
    "le = LabelEncoder()\n",
    "le.fit(wifi_bssids)\n",
    "le_site = LabelEncoder()\n",
    "le_site.fit(df_train['site_id'])\n",
    "\n",
    "ss = StandardScaler()\n",
    "ss.fit(df_train.loc[:, rssi_feats])"
   ]
  },
  {
   "cell_type": "code",
   "execution_count": 12,
   "metadata": {
    "executionInfo": {
     "elapsed": 39684,
     "status": "ok",
     "timestamp": 1616479186398,
     "user": {
      "displayName": "ユウキハヤカワ",
      "photoUrl": "https://lh3.googleusercontent.com/a-/AOh14GjfXu9o7zmAYL24s4P8H7I0lvSgQUaSfrXi7qemvQ=s64",
      "userId": "00286900621093795459"
     },
     "user_tz": -540
    },
    "id": "ICMler34Xbt-"
   },
   "outputs": [],
   "source": [
    "df_train.loc[:, rssi_feats] = ss.transform(df_train.loc[:, rssi_feats])\n",
    "df_test.loc[:, rssi_feats] = ss.transform(df_test.loc[:, rssi_feats])\n",
    "for feat in bssid_feats:\n",
    "    df_train.loc[:, feat] = le.transform(df_train.loc[:, feat])\n",
    "    df_test.loc[:, feat] = le.transform(df_test.loc[:, feat])\n",
    "    \n",
    "    df_train.loc[:, feat] = df_train.loc[:, feat] + 1\n",
    "    df_test.loc[:, feat] = df_test.loc[:, feat] + 1\n",
    "    \n",
    "df_train.loc[:, 'site_id'] = le_site.transform(df_train.loc[:, 'site_id'])\n",
    "df_test.loc[:, 'site_id'] = le_site.transform(df_test.loc[:, 'site_id'])\n",
    "\n",
    "df_train.loc[:, rssi_feats] = ss.transform(df_train.loc[:, rssi_feats])\n",
    "df_test.loc[:, rssi_feats] = ss.transform(df_test.loc[:, rssi_feats])"
   ]
  },
  {
   "cell_type": "code",
   "execution_count": 13,
   "metadata": {
    "executionInfo": {
     "elapsed": 41413,
     "status": "ok",
     "timestamp": 1616479188164,
     "user": {
      "displayName": "ユウキハヤカワ",
      "photoUrl": "https://lh3.googleusercontent.com/a-/AOh14GjfXu9o7zmAYL24s4P8H7I0lvSgQUaSfrXi7qemvQ=s64",
      "userId": "00286900621093795459"
     },
     "user_tz": -540
    },
    "id": "fhagm8JcdyPI"
   },
   "outputs": [],
   "source": [
    "site_count = len(df_train['site_id'].unique())\n",
    "df_train.reset_index(drop=True, inplace=True)"
   ]
  },
  {
   "cell_type": "code",
   "execution_count": 14,
   "metadata": {},
   "outputs": [
    {
     "data": {
      "text/html": [
       "<div>\n",
       "<style scoped>\n",
       "    .dataframe tbody tr th:only-of-type {\n",
       "        vertical-align: middle;\n",
       "    }\n",
       "\n",
       "    .dataframe tbody tr th {\n",
       "        vertical-align: top;\n",
       "    }\n",
       "\n",
       "    .dataframe thead th {\n",
       "        text-align: right;\n",
       "    }\n",
       "</style>\n",
       "<table border=\"1\" class=\"dataframe\">\n",
       "  <thead>\n",
       "    <tr style=\"text-align: right;\">\n",
       "      <th></th>\n",
       "      <th>bssid_0</th>\n",
       "      <th>bssid_1</th>\n",
       "      <th>bssid_2</th>\n",
       "      <th>bssid_3</th>\n",
       "      <th>bssid_4</th>\n",
       "      <th>bssid_5</th>\n",
       "      <th>bssid_6</th>\n",
       "      <th>bssid_7</th>\n",
       "      <th>bssid_8</th>\n",
       "      <th>bssid_9</th>\n",
       "      <th>...</th>\n",
       "      <th>rssi_95</th>\n",
       "      <th>rssi_96</th>\n",
       "      <th>rssi_97</th>\n",
       "      <th>rssi_98</th>\n",
       "      <th>rssi_99</th>\n",
       "      <th>x</th>\n",
       "      <th>y</th>\n",
       "      <th>floor</th>\n",
       "      <th>path</th>\n",
       "      <th>site_id</th>\n",
       "    </tr>\n",
       "  </thead>\n",
       "  <tbody>\n",
       "    <tr>\n",
       "      <th>0</th>\n",
       "      <td>52393</td>\n",
       "      <td>35871</td>\n",
       "      <td>2765</td>\n",
       "      <td>34898</td>\n",
       "      <td>52710</td>\n",
       "      <td>35260</td>\n",
       "      <td>42720</td>\n",
       "      <td>33510</td>\n",
       "      <td>23417</td>\n",
       "      <td>15249</td>\n",
       "      <td>...</td>\n",
       "      <td>-79</td>\n",
       "      <td>-79</td>\n",
       "      <td>-79</td>\n",
       "      <td>-79</td>\n",
       "      <td>-79</td>\n",
       "      <td>107.85044</td>\n",
       "      <td>161.89262</td>\n",
       "      <td>-1</td>\n",
       "      <td>5e1580adf4c3420006d520d4</td>\n",
       "      <td>0</td>\n",
       "    </tr>\n",
       "    <tr>\n",
       "      <th>1</th>\n",
       "      <td>35871</td>\n",
       "      <td>52393</td>\n",
       "      <td>7487</td>\n",
       "      <td>34898</td>\n",
       "      <td>52710</td>\n",
       "      <td>35260</td>\n",
       "      <td>21971</td>\n",
       "      <td>15249</td>\n",
       "      <td>17025</td>\n",
       "      <td>5351</td>\n",
       "      <td>...</td>\n",
       "      <td>-79</td>\n",
       "      <td>-79</td>\n",
       "      <td>-79</td>\n",
       "      <td>-80</td>\n",
       "      <td>-80</td>\n",
       "      <td>107.85044</td>\n",
       "      <td>161.89262</td>\n",
       "      <td>-1</td>\n",
       "      <td>5e1580adf4c3420006d520d4</td>\n",
       "      <td>0</td>\n",
       "    </tr>\n",
       "    <tr>\n",
       "      <th>2</th>\n",
       "      <td>35871</td>\n",
       "      <td>52393</td>\n",
       "      <td>52710</td>\n",
       "      <td>34898</td>\n",
       "      <td>35260</td>\n",
       "      <td>23417</td>\n",
       "      <td>49408</td>\n",
       "      <td>6673</td>\n",
       "      <td>7487</td>\n",
       "      <td>48501</td>\n",
       "      <td>...</td>\n",
       "      <td>-77</td>\n",
       "      <td>-78</td>\n",
       "      <td>-78</td>\n",
       "      <td>-78</td>\n",
       "      <td>-78</td>\n",
       "      <td>98.33065</td>\n",
       "      <td>163.34334</td>\n",
       "      <td>-1</td>\n",
       "      <td>5e1580adf4c3420006d520d4</td>\n",
       "      <td>0</td>\n",
       "    </tr>\n",
       "    <tr>\n",
       "      <th>3</th>\n",
       "      <td>23417</td>\n",
       "      <td>34898</td>\n",
       "      <td>35260</td>\n",
       "      <td>52393</td>\n",
       "      <td>35871</td>\n",
       "      <td>3707</td>\n",
       "      <td>49408</td>\n",
       "      <td>15613</td>\n",
       "      <td>10167</td>\n",
       "      <td>4978</td>\n",
       "      <td>...</td>\n",
       "      <td>-75</td>\n",
       "      <td>-76</td>\n",
       "      <td>-76</td>\n",
       "      <td>-77</td>\n",
       "      <td>-77</td>\n",
       "      <td>98.33065</td>\n",
       "      <td>163.34334</td>\n",
       "      <td>-1</td>\n",
       "      <td>5e1580adf4c3420006d520d4</td>\n",
       "      <td>0</td>\n",
       "    </tr>\n",
       "    <tr>\n",
       "      <th>4</th>\n",
       "      <td>35871</td>\n",
       "      <td>35260</td>\n",
       "      <td>23417</td>\n",
       "      <td>19473</td>\n",
       "      <td>52393</td>\n",
       "      <td>3707</td>\n",
       "      <td>49408</td>\n",
       "      <td>18306</td>\n",
       "      <td>21410</td>\n",
       "      <td>52795</td>\n",
       "      <td>...</td>\n",
       "      <td>-75</td>\n",
       "      <td>-76</td>\n",
       "      <td>-76</td>\n",
       "      <td>-77</td>\n",
       "      <td>-77</td>\n",
       "      <td>98.33065</td>\n",
       "      <td>163.34334</td>\n",
       "      <td>-1</td>\n",
       "      <td>5e1580adf4c3420006d520d4</td>\n",
       "      <td>0</td>\n",
       "    </tr>\n",
       "  </tbody>\n",
       "</table>\n",
       "<p>5 rows × 205 columns</p>\n",
       "</div>"
      ],
      "text/plain": [
       "   bssid_0  bssid_1  bssid_2  bssid_3  bssid_4  bssid_5  bssid_6  bssid_7  \\\n",
       "0    52393    35871     2765    34898    52710    35260    42720    33510   \n",
       "1    35871    52393     7487    34898    52710    35260    21971    15249   \n",
       "2    35871    52393    52710    34898    35260    23417    49408     6673   \n",
       "3    23417    34898    35260    52393    35871     3707    49408    15613   \n",
       "4    35871    35260    23417    19473    52393     3707    49408    18306   \n",
       "\n",
       "   bssid_8  bssid_9  ...  rssi_95  rssi_96  rssi_97  rssi_98  rssi_99  \\\n",
       "0    23417    15249  ...      -79      -79      -79      -79      -79   \n",
       "1    17025     5351  ...      -79      -79      -79      -80      -80   \n",
       "2     7487    48501  ...      -77      -78      -78      -78      -78   \n",
       "3    10167     4978  ...      -75      -76      -76      -77      -77   \n",
       "4    21410    52795  ...      -75      -76      -76      -77      -77   \n",
       "\n",
       "           x          y  floor                      path  site_id  \n",
       "0  107.85044  161.89262     -1  5e1580adf4c3420006d520d4        0  \n",
       "1  107.85044  161.89262     -1  5e1580adf4c3420006d520d4        0  \n",
       "2   98.33065  163.34334     -1  5e1580adf4c3420006d520d4        0  \n",
       "3   98.33065  163.34334     -1  5e1580adf4c3420006d520d4        0  \n",
       "4   98.33065  163.34334     -1  5e1580adf4c3420006d520d4        0  \n",
       "\n",
       "[5 rows x 205 columns]"
      ]
     },
     "execution_count": 14,
     "metadata": {},
     "output_type": "execute_result"
    }
   ],
   "source": [
    "df_train.head()"
   ]
  },
  {
   "cell_type": "markdown",
   "metadata": {},
   "source": [
    "# Execute"
   ]
  },
  {
   "cell_type": "code",
   "execution_count": 15,
   "metadata": {
    "executionInfo": {
     "elapsed": 41390,
     "status": "ok",
     "timestamp": 1616479188168,
     "user": {
      "displayName": "ユウキハヤカワ",
      "photoUrl": "https://lh3.googleusercontent.com/a-/AOh14GjfXu9o7zmAYL24s4P8H7I0lvSgQUaSfrXi7qemvQ=s64",
      "userId": "00286900621093795459"
     },
     "user_tz": -540
    },
    "id": "pUh8IpBV8i8Z"
   },
   "outputs": [],
   "source": [
    "class EarlyStopping:\n",
    "    \"\"\"\n",
    "    Early stops the training if validation loss doesn't improve after a given patience.\n",
    "    based on: https://github.com/Bjarten/early-stopping-pytorch\n",
    "    \"\"\"\n",
    "    def __init__(self, save_name, fold, patience=7, verbose=False, delta=0):\n",
    "        \"\"\"\n",
    "        Args:\n",
    "            patience (int): How long to wait after last time validation loss improved.\n",
    "                            Default: 7\n",
    "            verbose (bool): If True, prints a message for each validation loss improvement. \n",
    "                            Default: False\n",
    "            delta (float): Minimum change in the monitored quantity to qualify as an improvement.\n",
    "                            Default: 0\n",
    "        \"\"\"\n",
    "        self.patience = patience\n",
    "        self.verbose = verbose\n",
    "        self.counter = 0\n",
    "        self.best_score = None\n",
    "        self.early_stop = False\n",
    "        self.val_loss_min = np.Inf\n",
    "        self.delta = delta\n",
    "        self.fold = fold\n",
    "        self.save_name = save_name\n",
    "\n",
    "    def __call__(self, val_loss, model):\n",
    "\n",
    "        score = -val_loss\n",
    "\n",
    "        if self.best_score is None:\n",
    "            self.best_score = score\n",
    "            self.save_checkpoint(val_loss, model)\n",
    "        elif score < self.best_score + self.delta:\n",
    "            self.counter += 1\n",
    "            logger.info(f'EarlyStopping counter: {self.counter} out of {self.patience}')\n",
    "            if self.counter >= self.patience:\n",
    "                self.early_stop = True\n",
    "        else:\n",
    "            self.best_score = score\n",
    "            self.save_checkpoint(val_loss, model)\n",
    "            self.counter = 0\n",
    "\n",
    "    def save_checkpoint(self, val_loss, model):\n",
    "        '''Saves model when validation loss decrease.'''\n",
    "        if self.verbose:\n",
    "            logger.info(f'Validation loss decreased ({self.val_loss_min:.6f} --> {val_loss:.6f}).  Saving model ...')\n",
    "            \n",
    "        torch.save(model.state_dict(),  f'{self.save_name}_{self.fold}.pt')\n",
    "        self.val_loss_min = val_loss"
   ]
  },
  {
   "cell_type": "code",
   "execution_count": 16,
   "metadata": {
    "executionInfo": {
     "elapsed": 41385,
     "status": "ok",
     "timestamp": 1616479188169,
     "user": {
      "displayName": "ユウキハヤカワ",
      "photoUrl": "https://lh3.googleusercontent.com/a-/AOh14GjfXu9o7zmAYL24s4P8H7I0lvSgQUaSfrXi7qemvQ=s64",
      "userId": "00286900621093795459"
     },
     "user_tz": -540
    },
    "id": "7tycasUwdySR"
   },
   "outputs": [],
   "source": [
    "class IndoorWiFiNet(nn.Module):\n",
    "    def __init__(self, bssid_size, site_size, num_feats):\n",
    "        super(IndoorWiFiNet, self).__init__()\n",
    "        self.bssid_embedding = nn.Embedding(bssid_size, 64, max_norm=True)\n",
    "        self.site_embedding = nn.Embedding(site_size, 64, max_norm=True)\n",
    "\n",
    "        self.rssi = nn.Sequential(\n",
    "            nn.BatchNorm1d(20),\n",
    "            nn.Linear(20, num_feats * 64)\n",
    "        )\n",
    "\n",
    "        concat_size = 64 + (num_feats * 64) + (num_feats * 64)\n",
    "        self.bn1 = nn.BatchNorm1d(concat_size)\n",
    "\n",
    "        self.flatten = nn.Flatten()\n",
    "\n",
    "        self.dropout1 = nn.Dropout(0.3)\n",
    "        self.linear1 = nn.Linear(in_features=concat_size, out_features=256)#, bias=False)\n",
    "        self.bn2 = nn.BatchNorm1d(256)\n",
    "\n",
    "        self.linear2 = nn.Linear(in_features=256, out_features=128)#, bias=False)\n",
    "        self.linear3 = nn.Linear(in_features=128, out_features=16)#, bias=False)\n",
    "\n",
    "        self.bn3 = nn.BatchNorm1d(128)\n",
    "        self.bn4 = nn.BatchNorm1d(16)\n",
    "\n",
    "\n",
    "        self.xy = nn.Linear(in_features=16, out_features=2)#, bias=False)\n",
    "        self.floor = nn.Linear(in_features=16, out_features=1)#, bias=False)\n",
    "        \n",
    "\n",
    "    def forward(self, bssid, rssi, site):\n",
    "\n",
    "        site = torch.reshape(site, (-1, 1))\n",
    "\n",
    "        bssid_out = self.bssid_embedding(bssid)\n",
    "        site_out = self.site_embedding(site)\n",
    "\n",
    "        rssi_out = self.rssi(rssi)\n",
    "\n",
    "        bssid_out = self.flatten(bssid_out)\n",
    "        site_out = self.flatten(site_out)\n",
    "\n",
    "        x = torch.cat([bssid_out, rssi_out, site_out], dim=1)\n",
    "        x = self.bn1(x)\n",
    "        x = self.dropout1(x)\n",
    "        x = F.relu(self.linear1(x))\n",
    "        x = self.bn2(x)\n",
    "\n",
    "        x = F.relu(self.linear2(x))\n",
    "        x = self.bn3(x)\n",
    "\n",
    "        x = F.relu(self.linear3(x))\n",
    "        x = self.bn4(x)\n",
    "\n",
    "        #x = self.lstm(x)\n",
    "\n",
    "        xy = self.xy(x)\n",
    "        floor = self.floor(x)\n",
    "\n",
    "        return xy, floor"
   ]
  },
  {
   "cell_type": "code",
   "execution_count": 17,
   "metadata": {
    "executionInfo": {
     "elapsed": 1376,
     "status": "ok",
     "timestamp": 1616481355217,
     "user": {
      "displayName": "ユウキハヤカワ",
      "photoUrl": "https://lh3.googleusercontent.com/a-/AOh14GjfXu9o7zmAYL24s4P8H7I0lvSgQUaSfrXi7qemvQ=s64",
      "userId": "00286900621093795459"
     },
     "user_tz": -540
    },
    "id": "uNYZS-avjuD-"
   },
   "outputs": [],
   "source": [
    "class IndoorWiFiDataSet(Dataset):\n",
    "    def __init__(self, wifi_df, bssid_feats_, rssi_feats_, data_type='test'):\n",
    "        self.wifi_df = wifi_df\n",
    "        self.data_type = data_type\n",
    "        self.bssids = wifi_df[bssid_feats_].to_numpy().astype(np.int)    # <----- リファクタ\n",
    "        self.rssis = wifi_df[rssi_feats_].to_numpy().astype(np.float)    # <----- リファクタ\n",
    "        self.site_ids = wifi_df['site_id'].to_numpy()\n",
    "        if data_type in ['train', 'valid']:\n",
    "            self.floors = wifi_df['floor'].to_numpy().astype(np.int)\n",
    "            self.xs = wifi_df['x'].to_numpy()\n",
    "            self.ys = wifi_df['y'].to_numpy()\n",
    "        \n",
    "    def __len__(self):\n",
    "        return len(self.wifi_df)\n",
    "\n",
    "    def __getitem__(self, idx):\n",
    "\n",
    "        #wifi_row = self.wifi_df.iloc[idx]\n",
    "\n",
    "        bssid = self.bssids[idx,:]\n",
    "        rssi = self.rssis[idx,:]\n",
    "        site_id = self.site_ids[idx]\n",
    "\n",
    "        if self.data_type in ['test', 'valid']:\n",
    "            return bssid, rssi, site_id\n",
    "\n",
    "        elif self.data_type == 'train':\n",
    "            x = self.xs[idx]\n",
    "            y = self.ys[idx]\n",
    "            floor = self.floors[idx]\n",
    "\n",
    "            return bssid, rssi, site_id, x, y, floor\n"
   ]
  },
  {
   "cell_type": "code",
   "execution_count": 18,
   "metadata": {
    "executionInfo": {
     "elapsed": 41354,
     "status": "ok",
     "timestamp": 1616479188173,
     "user": {
      "displayName": "ユウキハヤカワ",
      "photoUrl": "https://lh3.googleusercontent.com/a-/AOh14GjfXu9o7zmAYL24s4P8H7I0lvSgQUaSfrXi7qemvQ=s64",
      "userId": "00286900621093795459"
     },
     "user_tz": -540
    },
    "id": "F4Parwz4Xcrn"
   },
   "outputs": [],
   "source": [
    "class IndoorLoss(nn.Module):\n",
    "    def __init__(self):\n",
    "        super().__init__()\n",
    "\n",
    "        self.mse = nn.MSELoss()\n",
    "\n",
    "    def forward(self, x, y, floor, x_pred, y_pred, floor_pred):\n",
    "\n",
    "        x_loss = self.mse(x, x_pred)\n",
    "        y_loss = self.mse(y, y_pred)\n",
    "        floor_loss = self.mse(floor, floor_pred)\n",
    "\n",
    "        return x_loss + y_loss + floor_loss"
   ]
  },
  {
   "cell_type": "code",
   "execution_count": 19,
   "metadata": {
    "colab": {
     "base_uri": "https://localhost:8080/"
    },
    "executionInfo": {
     "elapsed": 41347,
     "status": "ok",
     "timestamp": 1616479188173,
     "user": {
      "displayName": "ユウキハヤカワ",
      "photoUrl": "https://lh3.googleusercontent.com/a-/AOh14GjfXu9o7zmAYL24s4P8H7I0lvSgQUaSfrXi7qemvQ=s64",
      "userId": "00286900621093795459"
     },
     "user_tz": -540
    },
    "id": "_Diyk0TFZBiQ",
    "outputId": "f5a01157-c5f0-448a-ca29-9380a573e4b1"
   },
   "outputs": [],
   "source": [
    "# device = torch.device(\"cuda\" if torch.cuda.is_available() else \"cpu\")\n",
    "device = torch.device(config['globals']['device'])"
   ]
  },
  {
   "cell_type": "code",
   "execution_count": 20,
   "metadata": {
    "colab": {
     "base_uri": "https://localhost:8080/"
    },
    "executionInfo": {
     "elapsed": 2141644,
     "status": "ok",
     "timestamp": 1616481288506,
     "user": {
      "displayName": "ユウキハヤカワ",
      "photoUrl": "https://lh3.googleusercontent.com/a-/AOh14GjfXu9o7zmAYL24s4P8H7I0lvSgQUaSfrXi7qemvQ=s64",
      "userId": "00286900621093795459"
     },
     "user_tz": -540
    },
    "id": "AdSYMcirdyXx",
    "outputId": "e1f840c9-d3af-4df7-b2fc-3f7f9735df4d",
    "scrolled": true
   },
   "outputs": [
    {
     "name": "stdout",
     "output_type": "stream",
     "text": [
      "\n",
      "====== 1 ======\n"
     ]
    },
    {
     "data": {
      "text/html": [
       "\n",
       "    <div>\n",
       "        <style>\n",
       "            /* Turns off some styling */\n",
       "            progress {\n",
       "                /* gets rid of default border in Firefox and Opera. */\n",
       "                border: none;\n",
       "                /* Needs to be in here for Safari polyfill so background images work as expected. */\n",
       "                background-size: auto;\n",
       "            }\n",
       "            .progress-bar-interrupted, .progress-bar-interrupted::-webkit-progress-bar {\n",
       "                background: #F44336;\n",
       "            }\n",
       "        </style>\n",
       "      <progress value='42' class='' max='100' style='width:300px; height:20px; vertical-align: middle;'></progress>\n",
       "      42.00% [42/100 02:46<03:49 epoch = 42]\n",
       "    </div>\n",
       "    \n",
       "\n",
       "\n",
       "    <div>\n",
       "        <style>\n",
       "            /* Turns off some styling */\n",
       "            progress {\n",
       "                /* gets rid of default border in Firefox and Opera. */\n",
       "                border: none;\n",
       "                /* Needs to be in here for Safari polyfill so background images work as expected. */\n",
       "                background-size: auto;\n",
       "            }\n",
       "            .progress-bar-interrupted, .progress-bar-interrupted::-webkit-progress-bar {\n",
       "                background: #F44336;\n",
       "            }\n",
       "        </style>\n",
       "      <progress value='101' class='' max='101' style='width:300px; height:20px; vertical-align: middle;'></progress>\n",
       "      100.00% [101/101 00:01<00:00]\n",
       "    </div>\n",
       "    "
      ],
      "text/plain": [
       "<IPython.core.display.HTML object>"
      ]
     },
     "metadata": {},
     "output_type": "display_data"
    },
    {
     "name": "stderr",
     "output_type": "stream",
     "text": [
      "2021-04-09 09:47:28.247 | INFO     | __main__:save_checkpoint:46 - Validation loss decreased (inf --> 158.660448).  Saving model ...\n",
      "2021-04-09 09:47:32.260 | INFO     | __main__:save_checkpoint:46 - Validation loss decreased (158.660448 --> 139.490426).  Saving model ...\n",
      "2021-04-09 09:47:36.213 | INFO     | __main__:save_checkpoint:46 - Validation loss decreased (139.490426 --> 114.101066).  Saving model ...\n",
      "2021-04-09 09:47:40.280 | INFO     | __main__:save_checkpoint:46 - Validation loss decreased (114.101066 --> 89.173849).  Saving model ...\n",
      "2021-04-09 09:47:44.256 | INFO     | __main__:save_checkpoint:46 - Validation loss decreased (89.173849 --> 66.712030).  Saving model ...\n",
      "2021-04-09 09:47:48.237 | INFO     | __main__:save_checkpoint:46 - Validation loss decreased (66.712030 --> 53.446055).  Saving model ...\n",
      "2021-04-09 09:47:52.216 | INFO     | __main__:save_checkpoint:46 - Validation loss decreased (53.446055 --> 42.796336).  Saving model ...\n",
      "2021-04-09 09:47:56.325 | INFO     | __main__:save_checkpoint:46 - Validation loss decreased (42.796336 --> 36.431651).  Saving model ...\n",
      "2021-04-09 09:48:00.327 | INFO     | __main__:save_checkpoint:46 - Validation loss decreased (36.431651 --> 34.356521).  Saving model ...\n",
      "2021-04-09 09:48:04.257 | INFO     | __main__:save_checkpoint:46 - Validation loss decreased (34.356521 --> 33.585695).  Saving model ...\n",
      "2021-04-09 09:48:08.203 | INFO     | __main__:__call__:35 - EarlyStopping counter: 1 out of 10\n",
      "2021-04-09 09:48:12.183 | INFO     | __main__:save_checkpoint:46 - Validation loss decreased (33.585695 --> 32.949187).  Saving model ...\n",
      "2021-04-09 09:48:16.145 | INFO     | __main__:save_checkpoint:46 - Validation loss decreased (32.949187 --> 30.683677).  Saving model ...\n",
      "2021-04-09 09:48:20.094 | INFO     | __main__:save_checkpoint:46 - Validation loss decreased (30.683677 --> 24.099296).  Saving model ...\n",
      "2021-04-09 09:48:24.024 | INFO     | __main__:save_checkpoint:46 - Validation loss decreased (24.099296 --> 15.915606).  Saving model ...\n",
      "2021-04-09 09:48:28.064 | INFO     | __main__:save_checkpoint:46 - Validation loss decreased (15.915606 --> 9.989533).  Saving model ...\n",
      "2021-04-09 09:48:31.972 | INFO     | __main__:save_checkpoint:46 - Validation loss decreased (9.989533 --> 7.387449).  Saving model ...\n",
      "2021-04-09 09:48:35.931 | INFO     | __main__:save_checkpoint:46 - Validation loss decreased (7.387449 --> 7.131690).  Saving model ...\n",
      "2021-04-09 09:48:39.920 | INFO     | __main__:save_checkpoint:46 - Validation loss decreased (7.131690 --> 6.769229).  Saving model ...\n",
      "2021-04-09 09:48:43.872 | INFO     | __main__:__call__:35 - EarlyStopping counter: 1 out of 10\n",
      "2021-04-09 09:48:47.865 | INFO     | __main__:__call__:35 - EarlyStopping counter: 2 out of 10\n",
      "2021-04-09 09:48:51.860 | INFO     | __main__:save_checkpoint:46 - Validation loss decreased (6.769229 --> 6.531409).  Saving model ...\n",
      "2021-04-09 09:48:55.882 | INFO     | __main__:save_checkpoint:46 - Validation loss decreased (6.531409 --> 6.369834).  Saving model ...\n",
      "2021-04-09 09:48:59.888 | INFO     | __main__:save_checkpoint:46 - Validation loss decreased (6.369834 --> 6.217658).  Saving model ...\n",
      "2021-04-09 09:49:03.847 | INFO     | __main__:__call__:35 - EarlyStopping counter: 1 out of 10\n",
      "2021-04-09 09:49:07.748 | INFO     | __main__:__call__:35 - EarlyStopping counter: 2 out of 10\n",
      "2021-04-09 09:49:11.691 | INFO     | __main__:save_checkpoint:46 - Validation loss decreased (6.217658 --> 6.132650).  Saving model ...\n",
      "2021-04-09 09:49:15.698 | INFO     | __main__:__call__:35 - EarlyStopping counter: 1 out of 10\n",
      "2021-04-09 09:49:19.550 | INFO     | __main__:__call__:35 - EarlyStopping counter: 2 out of 10\n",
      "2021-04-09 09:49:23.455 | INFO     | __main__:__call__:35 - EarlyStopping counter: 3 out of 10\n",
      "2021-04-09 09:49:27.376 | INFO     | __main__:__call__:35 - EarlyStopping counter: 4 out of 10\n",
      "2021-04-09 09:49:31.350 | INFO     | __main__:save_checkpoint:46 - Validation loss decreased (6.132650 --> 6.062081).  Saving model ...\n",
      "2021-04-09 09:49:35.347 | INFO     | __main__:save_checkpoint:46 - Validation loss decreased (6.062081 --> 6.005800).  Saving model ...\n",
      "2021-04-09 09:49:39.327 | INFO     | __main__:__call__:35 - EarlyStopping counter: 1 out of 10\n",
      "2021-04-09 09:49:43.246 | INFO     | __main__:__call__:35 - EarlyStopping counter: 2 out of 10\n",
      "2021-04-09 09:49:47.166 | INFO     | __main__:__call__:35 - EarlyStopping counter: 3 out of 10\n",
      "2021-04-09 09:49:51.029 | INFO     | __main__:__call__:35 - EarlyStopping counter: 4 out of 10\n",
      "2021-04-09 09:49:54.922 | INFO     | __main__:__call__:35 - EarlyStopping counter: 5 out of 10\n",
      "2021-04-09 09:49:58.928 | INFO     | __main__:__call__:35 - EarlyStopping counter: 6 out of 10\n",
      "2021-04-09 09:50:02.908 | INFO     | __main__:__call__:35 - EarlyStopping counter: 7 out of 10\n",
      "2021-04-09 09:50:06.885 | INFO     | __main__:__call__:35 - EarlyStopping counter: 8 out of 10\n",
      "2021-04-09 09:50:10.820 | INFO     | __main__:__call__:35 - EarlyStopping counter: 9 out of 10\n",
      "2021-04-09 09:50:14.811 | INFO     | __main__:__call__:35 - EarlyStopping counter: 10 out of 10\n",
      "2021-04-09 09:50:14.812 | INFO     | __main__:<module>:94 - Early stopping\n"
     ]
    },
    {
     "name": "stdout",
     "output_type": "stream",
     "text": [
      "6.005799526193263\n",
      "\n",
      "====== 2 ======\n"
     ]
    },
    {
     "data": {
      "text/html": [
       "\n",
       "    <div>\n",
       "        <style>\n",
       "            /* Turns off some styling */\n",
       "            progress {\n",
       "                /* gets rid of default border in Firefox and Opera. */\n",
       "                border: none;\n",
       "                /* Needs to be in here for Safari polyfill so background images work as expected. */\n",
       "                background-size: auto;\n",
       "            }\n",
       "            .progress-bar-interrupted, .progress-bar-interrupted::-webkit-progress-bar {\n",
       "                background: #F44336;\n",
       "            }\n",
       "        </style>\n",
       "      <progress value='40' class='' max='100' style='width:300px; height:20px; vertical-align: middle;'></progress>\n",
       "      40.00% [40/100 04:33<06:49 epoch = 40]\n",
       "    </div>\n",
       "    \n",
       "\n",
       "\n",
       "    <div>\n",
       "        <style>\n",
       "            /* Turns off some styling */\n",
       "            progress {\n",
       "                /* gets rid of default border in Firefox and Opera. */\n",
       "                border: none;\n",
       "                /* Needs to be in here for Safari polyfill so background images work as expected. */\n",
       "                background-size: auto;\n",
       "            }\n",
       "            .progress-bar-interrupted, .progress-bar-interrupted::-webkit-progress-bar {\n",
       "                background: #F44336;\n",
       "            }\n",
       "        </style>\n",
       "      <progress value='101' class='' max='101' style='width:300px; height:20px; vertical-align: middle;'></progress>\n",
       "      100.00% [101/101 00:02<00:00]\n",
       "    </div>\n",
       "    "
      ],
      "text/plain": [
       "<IPython.core.display.HTML object>"
      ]
     },
     "metadata": {},
     "output_type": "display_data"
    },
    {
     "name": "stderr",
     "output_type": "stream",
     "text": [
      "2021-04-09 09:50:25.562 | INFO     | __main__:save_checkpoint:46 - Validation loss decreased (inf --> 158.995700).  Saving model ...\n",
      "2021-04-09 09:50:32.406 | INFO     | __main__:save_checkpoint:46 - Validation loss decreased (158.995700 --> 140.084158).  Saving model ...\n",
      "2021-04-09 09:50:39.201 | INFO     | __main__:save_checkpoint:46 - Validation loss decreased (140.084158 --> 113.370383).  Saving model ...\n",
      "2021-04-09 09:50:45.975 | INFO     | __main__:save_checkpoint:46 - Validation loss decreased (113.370383 --> 87.392728).  Saving model ...\n",
      "2021-04-09 09:50:52.832 | INFO     | __main__:save_checkpoint:46 - Validation loss decreased (87.392728 --> 67.323958).  Saving model ...\n",
      "2021-04-09 09:50:59.549 | INFO     | __main__:save_checkpoint:46 - Validation loss decreased (67.323958 --> 54.520849).  Saving model ...\n",
      "2021-04-09 09:51:06.352 | INFO     | __main__:save_checkpoint:46 - Validation loss decreased (54.520849 --> 43.584443).  Saving model ...\n",
      "2021-04-09 09:51:13.113 | INFO     | __main__:save_checkpoint:46 - Validation loss decreased (43.584443 --> 38.890630).  Saving model ...\n",
      "2021-04-09 09:51:19.925 | INFO     | __main__:save_checkpoint:46 - Validation loss decreased (38.890630 --> 36.992300).  Saving model ...\n",
      "2021-04-09 09:51:26.651 | INFO     | __main__:save_checkpoint:46 - Validation loss decreased (36.992300 --> 36.449859).  Saving model ...\n",
      "2021-04-09 09:51:33.518 | INFO     | __main__:__call__:35 - EarlyStopping counter: 1 out of 10\n",
      "2021-04-09 09:51:40.142 | INFO     | __main__:save_checkpoint:46 - Validation loss decreased (36.449859 --> 34.893748).  Saving model ...\n",
      "2021-04-09 09:51:47.526 | INFO     | __main__:save_checkpoint:46 - Validation loss decreased (34.893748 --> 32.390170).  Saving model ...\n",
      "2021-04-09 09:51:54.399 | INFO     | __main__:save_checkpoint:46 - Validation loss decreased (32.390170 --> 25.882587).  Saving model ...\n",
      "2021-04-09 09:52:01.082 | INFO     | __main__:save_checkpoint:46 - Validation loss decreased (25.882587 --> 18.875430).  Saving model ...\n",
      "2021-04-09 09:52:07.841 | INFO     | __main__:save_checkpoint:46 - Validation loss decreased (18.875430 --> 11.476087).  Saving model ...\n",
      "2021-04-09 09:52:14.633 | INFO     | __main__:save_checkpoint:46 - Validation loss decreased (11.476087 --> 7.224106).  Saving model ...\n",
      "2021-04-09 09:52:21.392 | INFO     | __main__:save_checkpoint:46 - Validation loss decreased (7.224106 --> 7.163125).  Saving model ...\n",
      "2021-04-09 09:52:28.139 | INFO     | __main__:save_checkpoint:46 - Validation loss decreased (7.163125 --> 6.739032).  Saving model ...\n",
      "2021-04-09 09:52:34.804 | INFO     | __main__:save_checkpoint:46 - Validation loss decreased (6.739032 --> 6.649613).  Saving model ...\n",
      "2021-04-09 09:52:41.590 | INFO     | __main__:__call__:35 - EarlyStopping counter: 1 out of 10\n",
      "2021-04-09 09:52:48.322 | INFO     | __main__:__call__:35 - EarlyStopping counter: 2 out of 10\n",
      "2021-04-09 09:52:55.059 | INFO     | __main__:save_checkpoint:46 - Validation loss decreased (6.649613 --> 6.328533).  Saving model ...\n",
      "2021-04-09 09:53:01.780 | INFO     | __main__:__call__:35 - EarlyStopping counter: 1 out of 10\n",
      "2021-04-09 09:53:08.515 | INFO     | __main__:__call__:35 - EarlyStopping counter: 2 out of 10\n",
      "2021-04-09 09:53:15.214 | INFO     | __main__:save_checkpoint:46 - Validation loss decreased (6.328533 --> 6.200012).  Saving model ...\n",
      "2021-04-09 09:53:22.055 | INFO     | __main__:save_checkpoint:46 - Validation loss decreased (6.200012 --> 6.164430).  Saving model ...\n",
      "2021-04-09 09:53:28.847 | INFO     | __main__:save_checkpoint:46 - Validation loss decreased (6.164430 --> 6.127405).  Saving model ...\n",
      "2021-04-09 09:53:35.673 | INFO     | __main__:save_checkpoint:46 - Validation loss decreased (6.127405 --> 6.084042).  Saving model ...\n",
      "2021-04-09 09:53:42.427 | INFO     | __main__:__call__:35 - EarlyStopping counter: 1 out of 10\n",
      "2021-04-09 09:53:49.077 | INFO     | __main__:save_checkpoint:46 - Validation loss decreased (6.084042 --> 6.011297).  Saving model ...\n",
      "2021-04-09 09:53:55.872 | INFO     | __main__:__call__:35 - EarlyStopping counter: 1 out of 10\n",
      "2021-04-09 09:54:03.388 | INFO     | __main__:__call__:35 - EarlyStopping counter: 2 out of 10\n",
      "2021-04-09 09:54:09.974 | INFO     | __main__:__call__:35 - EarlyStopping counter: 3 out of 10\n",
      "2021-04-09 09:54:16.726 | INFO     | __main__:__call__:35 - EarlyStopping counter: 4 out of 10\n",
      "2021-04-09 09:54:23.524 | INFO     | __main__:__call__:35 - EarlyStopping counter: 5 out of 10\n",
      "2021-04-09 09:54:30.284 | INFO     | __main__:__call__:35 - EarlyStopping counter: 6 out of 10\n",
      "2021-04-09 09:54:37.900 | INFO     | __main__:__call__:35 - EarlyStopping counter: 7 out of 10\n",
      "2021-04-09 09:54:44.651 | INFO     | __main__:__call__:35 - EarlyStopping counter: 8 out of 10\n",
      "2021-04-09 09:54:51.432 | INFO     | __main__:__call__:35 - EarlyStopping counter: 9 out of 10\n",
      "2021-04-09 09:54:58.173 | INFO     | __main__:__call__:35 - EarlyStopping counter: 10 out of 10\n",
      "2021-04-09 09:54:58.174 | INFO     | __main__:<module>:94 - Early stopping\n"
     ]
    },
    {
     "name": "stdout",
     "output_type": "stream",
     "text": [
      "6.011297022485053\n",
      "\n",
      "====== 3 ======\n"
     ]
    },
    {
     "data": {
      "text/html": [
       "\n",
       "    <div>\n",
       "        <style>\n",
       "            /* Turns off some styling */\n",
       "            progress {\n",
       "                /* gets rid of default border in Firefox and Opera. */\n",
       "                border: none;\n",
       "                /* Needs to be in here for Safari polyfill so background images work as expected. */\n",
       "                background-size: auto;\n",
       "            }\n",
       "            .progress-bar-interrupted, .progress-bar-interrupted::-webkit-progress-bar {\n",
       "                background: #F44336;\n",
       "            }\n",
       "        </style>\n",
       "      <progress value='42' class='' max='100' style='width:300px; height:20px; vertical-align: middle;'></progress>\n",
       "      42.00% [42/100 05:01<06:56 epoch = 42]\n",
       "    </div>\n",
       "    \n",
       "\n",
       "\n",
       "    <div>\n",
       "        <style>\n",
       "            /* Turns off some styling */\n",
       "            progress {\n",
       "                /* gets rid of default border in Firefox and Opera. */\n",
       "                border: none;\n",
       "                /* Needs to be in here for Safari polyfill so background images work as expected. */\n",
       "                background-size: auto;\n",
       "            }\n",
       "            .progress-bar-interrupted, .progress-bar-interrupted::-webkit-progress-bar {\n",
       "                background: #F44336;\n",
       "            }\n",
       "        </style>\n",
       "      <progress value='101' class='' max='101' style='width:300px; height:20px; vertical-align: middle;'></progress>\n",
       "      100.00% [101/101 00:02<00:00]\n",
       "    </div>\n",
       "    "
      ],
      "text/plain": [
       "<IPython.core.display.HTML object>"
      ]
     },
     "metadata": {},
     "output_type": "display_data"
    },
    {
     "name": "stderr",
     "output_type": "stream",
     "text": [
      "2021-04-09 09:55:09.924 | INFO     | __main__:save_checkpoint:46 - Validation loss decreased (inf --> 159.641658).  Saving model ...\n",
      "2021-04-09 09:55:16.974 | INFO     | __main__:save_checkpoint:46 - Validation loss decreased (159.641658 --> 139.531998).  Saving model ...\n",
      "2021-04-09 09:55:24.805 | INFO     | __main__:save_checkpoint:46 - Validation loss decreased (139.531998 --> 113.458663).  Saving model ...\n",
      "2021-04-09 09:55:31.799 | INFO     | __main__:save_checkpoint:46 - Validation loss decreased (113.458663 --> 90.565456).  Saving model ...\n",
      "2021-04-09 09:55:38.824 | INFO     | __main__:save_checkpoint:46 - Validation loss decreased (90.565456 --> 67.869719).  Saving model ...\n",
      "2021-04-09 09:55:45.839 | INFO     | __main__:save_checkpoint:46 - Validation loss decreased (67.869719 --> 53.929203).  Saving model ...\n",
      "2021-04-09 09:55:52.952 | INFO     | __main__:save_checkpoint:46 - Validation loss decreased (53.929203 --> 43.059372).  Saving model ...\n",
      "2021-04-09 09:56:00.122 | INFO     | __main__:save_checkpoint:46 - Validation loss decreased (43.059372 --> 38.666453).  Saving model ...\n",
      "2021-04-09 09:56:07.206 | INFO     | __main__:save_checkpoint:46 - Validation loss decreased (38.666453 --> 36.821623).  Saving model ...\n",
      "2021-04-09 09:56:14.352 | INFO     | __main__:save_checkpoint:46 - Validation loss decreased (36.821623 --> 34.833875).  Saving model ...\n",
      "2021-04-09 09:56:22.185 | INFO     | __main__:__call__:35 - EarlyStopping counter: 1 out of 10\n",
      "2021-04-09 09:56:29.142 | INFO     | __main__:save_checkpoint:46 - Validation loss decreased (34.833875 --> 34.417140).  Saving model ...\n",
      "2021-04-09 09:56:36.279 | INFO     | __main__:save_checkpoint:46 - Validation loss decreased (34.417140 --> 31.536165).  Saving model ...\n",
      "2021-04-09 09:56:43.320 | INFO     | __main__:save_checkpoint:46 - Validation loss decreased (31.536165 --> 25.803074).  Saving model ...\n",
      "2021-04-09 09:56:50.405 | INFO     | __main__:save_checkpoint:46 - Validation loss decreased (25.803074 --> 19.015321).  Saving model ...\n",
      "2021-04-09 09:56:57.399 | INFO     | __main__:save_checkpoint:46 - Validation loss decreased (19.015321 --> 10.524277).  Saving model ...\n",
      "2021-04-09 09:57:04.504 | INFO     | __main__:save_checkpoint:46 - Validation loss decreased (10.524277 --> 7.514344).  Saving model ...\n",
      "2021-04-09 09:57:11.577 | INFO     | __main__:save_checkpoint:46 - Validation loss decreased (7.514344 --> 6.862666).  Saving model ...\n",
      "2021-04-09 09:57:19.417 | INFO     | __main__:__call__:35 - EarlyStopping counter: 1 out of 10\n",
      "2021-04-09 09:57:26.505 | INFO     | __main__:save_checkpoint:46 - Validation loss decreased (6.862666 --> 6.716255).  Saving model ...\n",
      "2021-04-09 09:57:33.640 | INFO     | __main__:save_checkpoint:46 - Validation loss decreased (6.716255 --> 6.576648).  Saving model ...\n",
      "2021-04-09 09:57:40.726 | INFO     | __main__:save_checkpoint:46 - Validation loss decreased (6.576648 --> 6.527704).  Saving model ...\n",
      "2021-04-09 09:57:47.727 | INFO     | __main__:__call__:35 - EarlyStopping counter: 1 out of 10\n",
      "2021-04-09 09:57:54.823 | INFO     | __main__:save_checkpoint:46 - Validation loss decreased (6.527704 --> 6.364126).  Saving model ...\n",
      "2021-04-09 09:58:02.514 | INFO     | __main__:save_checkpoint:46 - Validation loss decreased (6.364126 --> 6.250453).  Saving model ...\n",
      "2021-04-09 09:58:09.562 | INFO     | __main__:__call__:35 - EarlyStopping counter: 1 out of 10\n",
      "2021-04-09 09:58:16.605 | INFO     | __main__:save_checkpoint:46 - Validation loss decreased (6.250453 --> 6.137873).  Saving model ...\n",
      "2021-04-09 09:58:23.688 | INFO     | __main__:__call__:35 - EarlyStopping counter: 1 out of 10\n",
      "2021-04-09 09:58:30.768 | INFO     | __main__:save_checkpoint:46 - Validation loss decreased (6.137873 --> 6.080889).  Saving model ...\n",
      "2021-04-09 09:58:37.840 | INFO     | __main__:__call__:35 - EarlyStopping counter: 1 out of 10\n",
      "2021-04-09 09:58:45.514 | INFO     | __main__:__call__:35 - EarlyStopping counter: 2 out of 10\n",
      "2021-04-09 09:58:52.585 | INFO     | __main__:__call__:35 - EarlyStopping counter: 3 out of 10\n",
      "2021-04-09 09:58:59.561 | INFO     | __main__:save_checkpoint:46 - Validation loss decreased (6.080889 --> 6.071138).  Saving model ...\n",
      "2021-04-09 09:59:07.379 | INFO     | __main__:__call__:35 - EarlyStopping counter: 1 out of 10\n",
      "2021-04-09 09:59:14.421 | INFO     | __main__:__call__:35 - EarlyStopping counter: 2 out of 10\n",
      "2021-04-09 09:59:21.474 | INFO     | __main__:__call__:35 - EarlyStopping counter: 3 out of 10\n",
      "2021-04-09 09:59:28.607 | INFO     | __main__:__call__:35 - EarlyStopping counter: 4 out of 10\n",
      "2021-04-09 09:59:35.670 | INFO     | __main__:__call__:35 - EarlyStopping counter: 5 out of 10\n",
      "2021-04-09 09:59:42.701 | INFO     | __main__:__call__:35 - EarlyStopping counter: 6 out of 10\n",
      "2021-04-09 09:59:49.830 | INFO     | __main__:__call__:35 - EarlyStopping counter: 7 out of 10\n",
      "2021-04-09 09:59:57.587 | INFO     | __main__:__call__:35 - EarlyStopping counter: 8 out of 10\n",
      "2021-04-09 10:00:04.534 | INFO     | __main__:__call__:35 - EarlyStopping counter: 9 out of 10\n",
      "2021-04-09 10:00:11.522 | INFO     | __main__:__call__:35 - EarlyStopping counter: 10 out of 10\n",
      "2021-04-09 10:00:11.522 | INFO     | __main__:<module>:94 - Early stopping\n"
     ]
    },
    {
     "name": "stdout",
     "output_type": "stream",
     "text": [
      "6.071137844910877\n",
      "\n",
      "====== 4 ======\n"
     ]
    },
    {
     "data": {
      "text/html": [
       "\n",
       "    <div>\n",
       "        <style>\n",
       "            /* Turns off some styling */\n",
       "            progress {\n",
       "                /* gets rid of default border in Firefox and Opera. */\n",
       "                border: none;\n",
       "                /* Needs to be in here for Safari polyfill so background images work as expected. */\n",
       "                background-size: auto;\n",
       "            }\n",
       "            .progress-bar-interrupted, .progress-bar-interrupted::-webkit-progress-bar {\n",
       "                background: #F44336;\n",
       "            }\n",
       "        </style>\n",
       "      <progress value='41' class='' max='100' style='width:300px; height:20px; vertical-align: middle;'></progress>\n",
       "      41.00% [41/100 05:06<07:20 epoch = 41]\n",
       "    </div>\n",
       "    \n",
       "\n",
       "\n",
       "    <div>\n",
       "        <style>\n",
       "            /* Turns off some styling */\n",
       "            progress {\n",
       "                /* gets rid of default border in Firefox and Opera. */\n",
       "                border: none;\n",
       "                /* Needs to be in here for Safari polyfill so background images work as expected. */\n",
       "                background-size: auto;\n",
       "            }\n",
       "            .progress-bar-interrupted, .progress-bar-interrupted::-webkit-progress-bar {\n",
       "                background: #F44336;\n",
       "            }\n",
       "        </style>\n",
       "      <progress value='101' class='' max='101' style='width:300px; height:20px; vertical-align: middle;'></progress>\n",
       "      100.00% [101/101 00:03<00:00]\n",
       "    </div>\n",
       "    "
      ],
      "text/plain": [
       "<IPython.core.display.HTML object>"
      ]
     },
     "metadata": {},
     "output_type": "display_data"
    },
    {
     "name": "stderr",
     "output_type": "stream",
     "text": [
      "2021-04-09 10:00:24.334 | INFO     | __main__:save_checkpoint:46 - Validation loss decreased (inf --> 158.695697).  Saving model ...\n",
      "2021-04-09 10:00:31.630 | INFO     | __main__:save_checkpoint:46 - Validation loss decreased (158.695697 --> 139.134984).  Saving model ...\n",
      "2021-04-09 10:00:38.883 | INFO     | __main__:save_checkpoint:46 - Validation loss decreased (139.134984 --> 114.372478).  Saving model ...\n",
      "2021-04-09 10:00:46.879 | INFO     | __main__:save_checkpoint:46 - Validation loss decreased (114.372478 --> 89.867350).  Saving model ...\n",
      "2021-04-09 10:00:54.186 | INFO     | __main__:save_checkpoint:46 - Validation loss decreased (89.867350 --> 68.984971).  Saving model ...\n",
      "2021-04-09 10:01:01.516 | INFO     | __main__:save_checkpoint:46 - Validation loss decreased (68.984971 --> 55.048646).  Saving model ...\n",
      "2021-04-09 10:01:08.881 | INFO     | __main__:save_checkpoint:46 - Validation loss decreased (55.048646 --> 45.088213).  Saving model ...\n",
      "2021-04-09 10:01:16.162 | INFO     | __main__:save_checkpoint:46 - Validation loss decreased (45.088213 --> 40.475867).  Saving model ...\n",
      "2021-04-09 10:01:23.482 | INFO     | __main__:save_checkpoint:46 - Validation loss decreased (40.475867 --> 36.859603).  Saving model ...\n",
      "2021-04-09 10:01:30.884 | INFO     | __main__:save_checkpoint:46 - Validation loss decreased (36.859603 --> 36.026026).  Saving model ...\n",
      "2021-04-09 10:01:38.172 | INFO     | __main__:__call__:35 - EarlyStopping counter: 1 out of 10\n",
      "2021-04-09 10:01:45.381 | INFO     | __main__:__call__:35 - EarlyStopping counter: 2 out of 10\n",
      "2021-04-09 10:01:53.353 | INFO     | __main__:save_checkpoint:46 - Validation loss decreased (36.026026 --> 33.136614).  Saving model ...\n",
      "2021-04-09 10:02:00.714 | INFO     | __main__:save_checkpoint:46 - Validation loss decreased (33.136614 --> 27.919381).  Saving model ...\n",
      "2021-04-09 10:02:08.024 | INFO     | __main__:save_checkpoint:46 - Validation loss decreased (27.919381 --> 17.760599).  Saving model ...\n",
      "2021-04-09 10:02:15.316 | INFO     | __main__:save_checkpoint:46 - Validation loss decreased (17.760599 --> 11.558172).  Saving model ...\n",
      "2021-04-09 10:02:22.715 | INFO     | __main__:save_checkpoint:46 - Validation loss decreased (11.558172 --> 7.702928).  Saving model ...\n",
      "2021-04-09 10:02:30.027 | INFO     | __main__:save_checkpoint:46 - Validation loss decreased (7.702928 --> 6.711840).  Saving model ...\n",
      "2021-04-09 10:02:37.365 | INFO     | __main__:__call__:35 - EarlyStopping counter: 1 out of 10\n",
      "2021-04-09 10:02:44.697 | INFO     | __main__:save_checkpoint:46 - Validation loss decreased (6.711840 --> 6.700246).  Saving model ...\n",
      "2021-04-09 10:02:52.010 | INFO     | __main__:__call__:35 - EarlyStopping counter: 1 out of 10\n",
      "2021-04-09 10:02:59.277 | INFO     | __main__:save_checkpoint:46 - Validation loss decreased (6.700246 --> 6.439894).  Saving model ...\n",
      "2021-04-09 10:03:06.568 | INFO     | __main__:__call__:35 - EarlyStopping counter: 1 out of 10\n",
      "2021-04-09 10:03:13.782 | INFO     | __main__:__call__:35 - EarlyStopping counter: 2 out of 10\n",
      "2021-04-09 10:03:21.152 | INFO     | __main__:save_checkpoint:46 - Validation loss decreased (6.439894 --> 6.311600).  Saving model ...\n",
      "2021-04-09 10:03:28.490 | INFO     | __main__:save_checkpoint:46 - Validation loss decreased (6.311600 --> 6.164237).  Saving model ...\n",
      "2021-04-09 10:03:35.790 | INFO     | __main__:save_checkpoint:46 - Validation loss decreased (6.164237 --> 6.163828).  Saving model ...\n",
      "2021-04-09 10:03:43.100 | INFO     | __main__:save_checkpoint:46 - Validation loss decreased (6.163828 --> 6.100063).  Saving model ...\n",
      "2021-04-09 10:03:50.430 | INFO     | __main__:__call__:35 - EarlyStopping counter: 1 out of 10\n",
      "2021-04-09 10:03:58.374 | INFO     | __main__:save_checkpoint:46 - Validation loss decreased (6.100063 --> 6.095314).  Saving model ...\n",
      "2021-04-09 10:04:06.441 | INFO     | __main__:save_checkpoint:46 - Validation loss decreased (6.095314 --> 6.051600).  Saving model ...\n",
      "2021-04-09 10:04:14.573 | INFO     | __main__:save_checkpoint:46 - Validation loss decreased (6.051600 --> 5.998709).  Saving model ...\n",
      "2021-04-09 10:04:21.904 | INFO     | __main__:__call__:35 - EarlyStopping counter: 1 out of 10\n",
      "2021-04-09 10:04:29.255 | INFO     | __main__:__call__:35 - EarlyStopping counter: 2 out of 10\n",
      "2021-04-09 10:04:36.523 | INFO     | __main__:__call__:35 - EarlyStopping counter: 3 out of 10\n",
      "2021-04-09 10:04:43.927 | INFO     | __main__:__call__:35 - EarlyStopping counter: 4 out of 10\n",
      "2021-04-09 10:04:51.926 | INFO     | __main__:__call__:35 - EarlyStopping counter: 5 out of 10\n",
      "2021-04-09 10:05:00.707 | INFO     | __main__:__call__:35 - EarlyStopping counter: 6 out of 10\n",
      "2021-04-09 10:05:08.018 | INFO     | __main__:__call__:35 - EarlyStopping counter: 7 out of 10\n",
      "2021-04-09 10:05:15.283 | INFO     | __main__:__call__:35 - EarlyStopping counter: 8 out of 10\n",
      "2021-04-09 10:05:22.564 | INFO     | __main__:__call__:35 - EarlyStopping counter: 9 out of 10\n",
      "2021-04-09 10:05:30.631 | INFO     | __main__:__call__:35 - EarlyStopping counter: 10 out of 10\n",
      "2021-04-09 10:05:30.632 | INFO     | __main__:<module>:94 - Early stopping\n"
     ]
    },
    {
     "name": "stdout",
     "output_type": "stream",
     "text": [
      "5.998708651509524\n",
      "\n",
      "====== 5 ======\n"
     ]
    },
    {
     "data": {
      "text/html": [
       "\n",
       "    <div>\n",
       "        <style>\n",
       "            /* Turns off some styling */\n",
       "            progress {\n",
       "                /* gets rid of default border in Firefox and Opera. */\n",
       "                border: none;\n",
       "                /* Needs to be in here for Safari polyfill so background images work as expected. */\n",
       "                background-size: auto;\n",
       "            }\n",
       "            .progress-bar-interrupted, .progress-bar-interrupted::-webkit-progress-bar {\n",
       "                background: #F44336;\n",
       "            }\n",
       "        </style>\n",
       "      <progress value='31' class='' max='100' style='width:300px; height:20px; vertical-align: middle;'></progress>\n",
       "      31.00% [31/100 04:01<08:56 epoch = 31]\n",
       "    </div>\n",
       "    \n",
       "\n",
       "\n",
       "    <div>\n",
       "        <style>\n",
       "            /* Turns off some styling */\n",
       "            progress {\n",
       "                /* gets rid of default border in Firefox and Opera. */\n",
       "                border: none;\n",
       "                /* Needs to be in here for Safari polyfill so background images work as expected. */\n",
       "                background-size: auto;\n",
       "            }\n",
       "            .progress-bar-interrupted, .progress-bar-interrupted::-webkit-progress-bar {\n",
       "                background: #F44336;\n",
       "            }\n",
       "        </style>\n",
       "      <progress value='212' class='' max='403' style='width:300px; height:20px; vertical-align: middle;'></progress>\n",
       "      52.61% [212/403 00:03<00:03 loss=19.7521]\n",
       "    </div>\n",
       "    "
      ],
      "text/plain": [
       "<IPython.core.display.HTML object>"
      ]
     },
     "metadata": {},
     "output_type": "display_data"
    },
    {
     "name": "stderr",
     "output_type": "stream",
     "text": [
      "2021-04-09 10:05:44.709 | INFO     | __main__:save_checkpoint:46 - Validation loss decreased (inf --> 159.829914).  Saving model ...\n",
      "2021-04-09 10:05:52.403 | INFO     | __main__:save_checkpoint:46 - Validation loss decreased (159.829914 --> 139.165347).  Saving model ...\n",
      "2021-04-09 10:06:01.581 | INFO     | __main__:save_checkpoint:46 - Validation loss decreased (139.165347 --> 114.202391).  Saving model ...\n",
      "2021-04-09 10:06:10.001 | INFO     | __main__:save_checkpoint:46 - Validation loss decreased (114.202391 --> 87.820906).  Saving model ...\n",
      "2021-04-09 10:06:17.601 | INFO     | __main__:save_checkpoint:46 - Validation loss decreased (87.820906 --> 67.976062).  Saving model ...\n",
      "2021-04-09 10:06:25.285 | INFO     | __main__:save_checkpoint:46 - Validation loss decreased (67.976062 --> 53.725723).  Saving model ...\n",
      "2021-04-09 10:06:33.000 | INFO     | __main__:save_checkpoint:46 - Validation loss decreased (53.725723 --> 44.749210).  Saving model ...\n",
      "2021-04-09 10:06:40.627 | INFO     | __main__:save_checkpoint:46 - Validation loss decreased (44.749210 --> 37.917010).  Saving model ...\n",
      "2021-04-09 10:06:48.243 | INFO     | __main__:save_checkpoint:46 - Validation loss decreased (37.917010 --> 37.130093).  Saving model ...\n",
      "2021-04-09 10:06:56.023 | INFO     | __main__:save_checkpoint:46 - Validation loss decreased (37.130093 --> 36.478628).  Saving model ...\n",
      "2021-04-09 10:07:03.729 | INFO     | __main__:save_checkpoint:46 - Validation loss decreased (36.478628 --> 35.354015).  Saving model ...\n",
      "2021-04-09 10:07:11.575 | INFO     | __main__:save_checkpoint:46 - Validation loss decreased (35.354015 --> 34.731824).  Saving model ...\n",
      "2021-04-09 10:07:19.103 | INFO     | __main__:save_checkpoint:46 - Validation loss decreased (34.731824 --> 31.926310).  Saving model ...\n",
      "2021-04-09 10:07:26.905 | INFO     | __main__:save_checkpoint:46 - Validation loss decreased (31.926310 --> 26.631927).  Saving model ...\n",
      "2021-04-09 10:07:34.569 | INFO     | __main__:save_checkpoint:46 - Validation loss decreased (26.631927 --> 19.162275).  Saving model ...\n",
      "2021-04-09 10:07:42.411 | INFO     | __main__:save_checkpoint:46 - Validation loss decreased (19.162275 --> 10.730646).  Saving model ...\n",
      "2021-04-09 10:07:49.917 | INFO     | __main__:save_checkpoint:46 - Validation loss decreased (10.730646 --> 7.401479).  Saving model ...\n",
      "2021-04-09 10:07:57.425 | INFO     | __main__:save_checkpoint:46 - Validation loss decreased (7.401479 --> 6.724433).  Saving model ...\n",
      "2021-04-09 10:08:05.013 | INFO     | __main__:__call__:35 - EarlyStopping counter: 1 out of 10\n",
      "2021-04-09 10:08:12.939 | INFO     | __main__:__call__:35 - EarlyStopping counter: 2 out of 10\n",
      "2021-04-09 10:08:20.655 | INFO     | __main__:__call__:35 - EarlyStopping counter: 3 out of 10\n",
      "2021-04-09 10:08:28.265 | INFO     | __main__:save_checkpoint:46 - Validation loss decreased (6.724433 --> 6.718410).  Saving model ...\n",
      "2021-04-09 10:08:36.001 | INFO     | __main__:save_checkpoint:46 - Validation loss decreased (6.718410 --> 6.353261).  Saving model ...\n",
      "2021-04-09 10:08:43.682 | INFO     | __main__:__call__:35 - EarlyStopping counter: 1 out of 10\n",
      "2021-04-09 10:08:51.468 | INFO     | __main__:__call__:35 - EarlyStopping counter: 2 out of 10\n",
      "2021-04-09 10:08:59.029 | INFO     | __main__:__call__:35 - EarlyStopping counter: 3 out of 10\n",
      "2021-04-09 10:09:06.612 | INFO     | __main__:save_checkpoint:46 - Validation loss decreased (6.353261 --> 6.093912).  Saving model ...\n",
      "2021-04-09 10:09:14.261 | INFO     | __main__:save_checkpoint:46 - Validation loss decreased (6.093912 --> 6.026419).  Saving model ...\n",
      "2021-04-09 10:09:21.744 | INFO     | __main__:save_checkpoint:46 - Validation loss decreased (6.026419 --> 6.000080).  Saving model ...\n",
      "2021-04-09 10:09:29.500 | INFO     | __main__:save_checkpoint:46 - Validation loss decreased (6.000080 --> 5.983598).  Saving model ...\n",
      "2021-04-09 10:09:37.311 | INFO     | __main__:__call__:35 - EarlyStopping counter: 1 out of 10\n",
      "IOPub message rate exceeded.\n",
      "The Jupyter server will temporarily stop sending output\n",
      "to the client in order to avoid crashing it.\n",
      "To change this limit, set the config variable\n",
      "`--ServerApp.iopub_msg_rate_limit`.\n",
      "\n",
      "Current values:\n",
      "ServerApp.iopub_msg_rate_limit=1000.0 (msgs/sec)\n",
      "ServerApp.rate_limit_window=3.0 (secs)\n",
      "\n"
     ]
    }
   ],
   "source": [
    "%%time\n",
    "\n",
    "oof_x = np.zeros((len(df_train)))\n",
    "oof_y = np.zeros((len(df_train)))\n",
    "oof_floor = np.zeros((len(df_train)))\n",
    "cv_scores = {}\n",
    "\n",
    "kf = KFold(n_splits=config['globals']['n_splits'], random_state=42, shuffle=True)\n",
    "for fold, (train_index, valid_index) in enumerate(kf.split(df_train)):\n",
    "    print(f'\\r\\n====== {fold + 1} ======')\n",
    "    net = IndoorWiFiNet(wifi_bssids_size, site_count, config['globals']['num_feats'])\n",
    "    net = net.to(device)\n",
    "\n",
    "    #criterion = IndoorLoss()\n",
    "    criterion = nn.MSELoss()\n",
    "    criterion = criterion.to(device)\n",
    "    #optimizer = optim.SGD(net.parameters(), lr=Config.LR, weight_decay=0.0001, momentum=0.9)\n",
    "    optimizer = torch.optim.Adam(net.parameters(), lr=config['globals']['lr'])\n",
    "    \n",
    "    train, valid = df_train.iloc[train_index], df_train.iloc[valid_index]\n",
    "\n",
    "    # TODO oof用のdataloaderはいらないはず\n",
    "    train_dataset = IndoorWiFiDataSet(train.reset_index(drop=True), bssid_feats, rssi_feats, data_type='train')\n",
    "    valid_dataset = IndoorWiFiDataSet(valid.reset_index(drop=True), bssid_feats, rssi_feats, data_type='valid')\n",
    "\n",
    "    trainloader = DataLoader(train_dataset, batch_size=config['globals']['batch_size'], shuffle=True, drop_last=True, num_workers=4)\n",
    "    validloader = DataLoader(valid_dataset, batch_size=config['globals']['batch_size'], num_workers=4)\n",
    "\n",
    "    early_stopping = EarlyStopping(save_name=f'{DIR_SAVE_IGNORE}checkpoint_{NB}', fold=fold+1, patience=config['globals']['patience'], verbose=True)\n",
    "    scheduler = torch.optim.lr_scheduler.CosineAnnealingLR(optimizer, T_max=config['globals']['t_mux'])\n",
    "\n",
    "\n",
    "    ############# TRAIN #############\n",
    "    val_losses = []\n",
    "    val_metrics = []\n",
    "    mb = master_bar(range(1, config['globals']['epoch']+1))\n",
    "    for epoch in mb:\n",
    "        mb.main_bar.comment = f'epoch = {epoch}'\n",
    "        running_loss = 0.0\n",
    "        #train_lwlrap = 0.0\n",
    "#         n_iter = len(trainloader)\n",
    "#         with tqdm(enumerate(trainloader), total=n_iter) as pbar:\n",
    "        for i, (bssid, rssi, site_id, x, y, floor) in enumerate(progress_bar(trainloader, parent=mb)):\n",
    "            net.train()\n",
    "            # zero the parameter gradients\n",
    "            optimizer.zero_grad()\n",
    "\n",
    "            bssid, rssi, site_id, x, y, floor = bssid.to(device).long(), rssi.to(device).float(), site_id.to(device).long(), x.to(device).float(), y.to(device).float(), floor.to(device)\n",
    "\n",
    "            xy_pred, floor_pred = net(bssid, rssi, site_id)\n",
    "            xy_pred = xy_pred.transpose(0, 1).squeeze(-2).reshape(-1)\n",
    "            label = torch.cat([x, y], dim=-1)\n",
    "            loss = criterion(xy_pred, label)\n",
    "            #loss = criterion(x, y, floor, x_pred, y_pred, floor_pred)\n",
    "            loss.backward()\n",
    "            optimizer.step()\n",
    "\n",
    "            running_loss += loss.item()\n",
    "#             mb.child.comment(OrderedDict(\n",
    "#                 epoch=\"{:>10}\".format(epoch), loss=\"{:.4f}\".format(loss.item())\n",
    "#             ))\n",
    "            mb.child.comment = f'loss={loss.item():.4f}'\n",
    "        scheduler.step()\n",
    "            \n",
    "        #if epoch < Config.SKIP_EVALUATE_NUM:\n",
    "        #    continue\n",
    "\n",
    "        ############# VALID #############\n",
    "        val_loss = 0.0\n",
    "        val_lwlrap = 0.0\n",
    "        x_preds = np.array([])\n",
    "        y_preds = np.array([])\n",
    "        val_preds_frame = []\n",
    "        n_iter_val = len(validloader)\n",
    "#         for i, (bssid, rssi, site_id) in tqdm(enumerate(validloader), total=len(validloader)):\n",
    "        for i, (bssid, rssi, site_id) in enumerate(progress_bar(validloader, parent=mb)):\n",
    "            mb.child.comment = 'calc valid'\n",
    "            net.eval()\n",
    "\n",
    "            with torch.no_grad():\n",
    "                \n",
    "                #melspec, labels = melspec.to(device).float(), labels.to(device).float()\n",
    "                bssid, rssi, site_id = bssid.to(device).long(), rssi.to(device).float(), site_id.to(device).long()\n",
    "                xy_pred, floor_pred = net(bssid, rssi, site_id)\n",
    "\n",
    "                xy_pred = xy_pred.to('cpu').detach().numpy().copy()\n",
    "                x_pred, y_pred = np.hsplit(xy_pred, 2)\n",
    "                x_preds = np.concatenate([x_preds, x_pred.reshape(-1)])\n",
    "                y_preds = np.concatenate([y_preds, y_pred.reshape(-1)])\n",
    "\n",
    "        score = comp_metric(x_preds, y_preds, 0, valid['x'], valid['y'], 0)\n",
    "\n",
    "        early_stopping(score, net)\n",
    "\n",
    "        if early_stopping.early_stop:\n",
    "            logger.info(\"Early stopping\")\n",
    "            cv_scores[f'cv{fold + 1}'] = early_stopping.best_score\n",
    "            break\n",
    "                \n",
    "    _x_oof = np.array([])\n",
    "    _y_oof = np.array([])\n",
    "    ############# OOF #############\n",
    "    oof_preds = []\n",
    "#     for i, (bssid, rssi, site_id) in tqdm(enumerate(validloader), total=len(validloader)):\n",
    "    for i, (bssid, rssi, site_id) in enumerate(progress_bar(validloader, parent=mb)):\n",
    "#         net.load_state_dict(torch.load(ROOT_DIR / Path('output') / f'checkpoint_{NB}_{fold}.pt'))\n",
    "        net.load_state_dict(torch.load(f'{DIR_SAVE_IGNORE}checkpoint_{NB}_{fold + 1}.pt'))\n",
    "        net.eval()\n",
    "\n",
    "        with torch.no_grad():\n",
    "\n",
    "            bssid, rssi, site_id, x, y, floor = bssid.to(device).long(), rssi.to(device).float(), site_id.to(device).long(), x.to(device).float(), y.to(device).float(), floor.to(device)\n",
    "\n",
    "            xy_pred, floor_pred = net(bssid, rssi, site_id)\n",
    "\n",
    "            xy_pred = xy_pred.to('cpu').detach().numpy().copy()\n",
    "            x_pred, y_pred = np.hsplit(xy_pred, 2)\n",
    "            _x_oof = np.concatenate([_x_oof, x_pred.reshape(-1)])\n",
    "            _y_oof = np.concatenate([_y_oof, y_pred.reshape(-1)])\n",
    "\n",
    "    print(comp_metric(_x_oof, _y_oof, 0, valid['x'], valid['y'], 0))\n",
    "\n",
    "    oof_x[valid_index] = _x_oof\n",
    "    oof_y[valid_index] = _y_oof\n",
    "\n",
    "    del net\n",
    "    torch.cuda.empty_cache()"
   ]
  },
  {
   "cell_type": "code",
   "execution_count": 21,
   "metadata": {
    "colab": {
     "base_uri": "https://localhost:8080/"
    },
    "executionInfo": {
     "elapsed": 501,
     "status": "ok",
     "timestamp": 1616481371504,
     "user": {
      "displayName": "ユウキハヤカワ",
      "photoUrl": "https://lh3.googleusercontent.com/a-/AOh14GjfXu9o7zmAYL24s4P8H7I0lvSgQUaSfrXi7qemvQ=s64",
      "userId": "00286900621093795459"
     },
     "user_tz": -540
    },
    "id": "VEdEjVItESKZ",
    "outputId": "8e4be26a-5aa1-4afa-eb4b-336380550dbb"
   },
   "outputs": [
    {
     "data": {
      "text/plain": [
       "6.014108136133077"
      ]
     },
     "execution_count": 21,
     "metadata": {},
     "output_type": "execute_result"
    }
   ],
   "source": [
    "oof_score = comp_metric(oof_x, oof_y, np.zeros(len(df_train)), df_train['x'], df_train['y'], np.zeros(len(df_train)))\n",
    "oof_score"
   ]
  },
  {
   "cell_type": "markdown",
   "metadata": {},
   "source": [
    "# test"
   ]
  },
  {
   "cell_type": "code",
   "execution_count": 22,
   "metadata": {},
   "outputs": [
    {
     "data": {
      "text/html": [
       "\n",
       "    <div>\n",
       "        <style>\n",
       "            /* Turns off some styling */\n",
       "            progress {\n",
       "                /* gets rid of default border in Firefox and Opera. */\n",
       "                border: none;\n",
       "                /* Needs to be in here for Safari polyfill so background images work as expected. */\n",
       "                background-size: auto;\n",
       "            }\n",
       "            .progress-bar-interrupted, .progress-bar-interrupted::-webkit-progress-bar {\n",
       "                background: #F44336;\n",
       "            }\n",
       "        </style>\n",
       "      <progress value='20' class='' max='20' style='width:300px; height:20px; vertical-align: middle;'></progress>\n",
       "      100.00% [20/20 00:02<00:00]\n",
       "    </div>\n",
       "    "
      ],
      "text/plain": [
       "<IPython.core.display.HTML object>"
      ]
     },
     "metadata": {},
     "output_type": "display_data"
    },
    {
     "data": {
      "text/html": [
       "\n",
       "    <div>\n",
       "        <style>\n",
       "            /* Turns off some styling */\n",
       "            progress {\n",
       "                /* gets rid of default border in Firefox and Opera. */\n",
       "                border: none;\n",
       "                /* Needs to be in here for Safari polyfill so background images work as expected. */\n",
       "                background-size: auto;\n",
       "            }\n",
       "            .progress-bar-interrupted, .progress-bar-interrupted::-webkit-progress-bar {\n",
       "                background: #F44336;\n",
       "            }\n",
       "        </style>\n",
       "      <progress value='20' class='' max='20' style='width:300px; height:20px; vertical-align: middle;'></progress>\n",
       "      100.00% [20/20 00:02<00:00]\n",
       "    </div>\n",
       "    "
      ],
      "text/plain": [
       "<IPython.core.display.HTML object>"
      ]
     },
     "metadata": {},
     "output_type": "display_data"
    },
    {
     "data": {
      "text/html": [
       "\n",
       "    <div>\n",
       "        <style>\n",
       "            /* Turns off some styling */\n",
       "            progress {\n",
       "                /* gets rid of default border in Firefox and Opera. */\n",
       "                border: none;\n",
       "                /* Needs to be in here for Safari polyfill so background images work as expected. */\n",
       "                background-size: auto;\n",
       "            }\n",
       "            .progress-bar-interrupted, .progress-bar-interrupted::-webkit-progress-bar {\n",
       "                background: #F44336;\n",
       "            }\n",
       "        </style>\n",
       "      <progress value='20' class='' max='20' style='width:300px; height:20px; vertical-align: middle;'></progress>\n",
       "      100.00% [20/20 00:02<00:00]\n",
       "    </div>\n",
       "    "
      ],
      "text/plain": [
       "<IPython.core.display.HTML object>"
      ]
     },
     "metadata": {},
     "output_type": "display_data"
    },
    {
     "data": {
      "text/html": [
       "\n",
       "    <div>\n",
       "        <style>\n",
       "            /* Turns off some styling */\n",
       "            progress {\n",
       "                /* gets rid of default border in Firefox and Opera. */\n",
       "                border: none;\n",
       "                /* Needs to be in here for Safari polyfill so background images work as expected. */\n",
       "                background-size: auto;\n",
       "            }\n",
       "            .progress-bar-interrupted, .progress-bar-interrupted::-webkit-progress-bar {\n",
       "                background: #F44336;\n",
       "            }\n",
       "        </style>\n",
       "      <progress value='20' class='' max='20' style='width:300px; height:20px; vertical-align: middle;'></progress>\n",
       "      100.00% [20/20 00:01<00:00]\n",
       "    </div>\n",
       "    "
      ],
      "text/plain": [
       "<IPython.core.display.HTML object>"
      ]
     },
     "metadata": {},
     "output_type": "display_data"
    },
    {
     "data": {
      "text/html": [
       "\n",
       "    <div>\n",
       "        <style>\n",
       "            /* Turns off some styling */\n",
       "            progress {\n",
       "                /* gets rid of default border in Firefox and Opera. */\n",
       "                border: none;\n",
       "                /* Needs to be in here for Safari polyfill so background images work as expected. */\n",
       "                background-size: auto;\n",
       "            }\n",
       "            .progress-bar-interrupted, .progress-bar-interrupted::-webkit-progress-bar {\n",
       "                background: #F44336;\n",
       "            }\n",
       "        </style>\n",
       "      <progress value='20' class='' max='20' style='width:300px; height:20px; vertical-align: middle;'></progress>\n",
       "      100.00% [20/20 00:02<00:00]\n",
       "    </div>\n",
       "    "
      ],
      "text/plain": [
       "<IPython.core.display.HTML object>"
      ]
     },
     "metadata": {},
     "output_type": "display_data"
    },
    {
     "name": "stdout",
     "output_type": "stream",
     "text": [
      "CPU times: user 559 ms, sys: 1.54 s, total: 2.1 s\n",
      "Wall time: 11.6 s\n"
     ]
    }
   ],
   "source": [
    "%%time\n",
    "x_preds_mean = np.zeros(len(df_test))\n",
    "y_preds_mean = np.zeros(len(df_test))\n",
    "\n",
    "for fold in range(config['globals']['n_splits']):\n",
    "\n",
    "    x_preds = np.array([])\n",
    "    y_preds = np.array([])\n",
    "\n",
    "    net = IndoorWiFiNet(wifi_bssids_size, site_count, config['globals']['num_feats'])\n",
    "    net.to(device)\n",
    "#     print(ROOT_DIR / Path('output') / f'load checkpoint_{NB}_{fold}.pt')\n",
    "#     net.load_state_dict(torch.load(ROOT_DIR / Path('output') / f'checkpoint_{NB}_{fold}.pt'))\n",
    "    net.load_state_dict(torch.load(f'{DIR_SAVE_IGNORE}checkpoint_{NB}_{fold + 1}.pt'))\n",
    "\n",
    "    test_dataset = IndoorWiFiDataSet(df_test, bssid_feats, rssi_feats, data_type='test')\n",
    "#     valid_dataset = IndoorWiFiDataSet(valid.reset_index(drop=True), bssid_feats, rssi_feats, data_type='valid')\n",
    "    testloader = DataLoader(test_dataset, batch_size=config['globals']['batch_size'], num_workers=4)\n",
    "    \n",
    "    test_preds = []\n",
    "    for i, (bssid, rssi, site_id) in enumerate(progress_bar(testloader)):\n",
    "        net.eval()\n",
    "\n",
    "        with torch.no_grad():\n",
    "\n",
    "            bssid, rssi, site_id = bssid.to(device).long(), rssi.to(device).float(), site_id.to(device).long()\n",
    "\n",
    "            xy_pred, floor_pred = net(bssid, rssi, site_id)\n",
    "            xy_pred = xy_pred.to('cpu').detach().numpy().copy()\n",
    "\n",
    "            x_pred, y_pred = np.hsplit(xy_pred, 2)\n",
    "            x_preds = np.concatenate([x_preds, x_pred.reshape(-1)])\n",
    "            y_preds = np.concatenate([y_preds, y_pred.reshape(-1)])\n",
    "\n",
    "    x_preds_mean += x_preds / config['globals']['n_splits']\n",
    "    y_preds_mean += y_preds / config['globals']['n_splits']"
   ]
  },
  {
   "cell_type": "code",
   "execution_count": 23,
   "metadata": {},
   "outputs": [
    {
     "data": {
      "text/plain": [
       "array([ 86.4803299 ,  78.9365448 ,  78.03311462, ..., 204.62711792,\n",
       "       202.65791626, 202.10221863])"
      ]
     },
     "execution_count": 23,
     "metadata": {},
     "output_type": "execute_result"
    }
   ],
   "source": [
    "x_preds_mean"
   ]
  },
  {
   "cell_type": "code",
   "execution_count": 24,
   "metadata": {},
   "outputs": [],
   "source": [
    "df_xy_oof = pd.DataFrame()\n",
    "df_xy_oof['oof_x'] = oof_x\n",
    "df_xy_oof['oof_y'] = oof_y\n",
    "df_xy_oof.to_csv(f'{DIR_SAVE}nb{NB}_oof_xy.csv', index=False)"
   ]
  },
  {
   "cell_type": "raw",
   "metadata": {
    "executionInfo": {
     "elapsed": 860,
     "status": "ok",
     "timestamp": 1616481374869,
     "user": {
      "displayName": "ユウキハヤカワ",
      "photoUrl": "https://lh3.googleusercontent.com/a-/AOh14GjfXu9o7zmAYL24s4P8H7I0lvSgQUaSfrXi7qemvQ=s64",
      "userId": "00286900621093795459"
     },
     "user_tz": -540
    },
    "id": "iACJhcvEiR_Z"
   },
   "source": [
    "np.save(ROOT_DIR / Path('output') / f'oof_x_{NB}', oof_x)\n",
    "np.save(ROOT_DIR / Path('output') / f'oof_y_{NB}', oof_y)"
   ]
  },
  {
   "cell_type": "code",
   "execution_count": 25,
   "metadata": {
    "executionInfo": {
     "elapsed": 1689,
     "status": "ok",
     "timestamp": 1616481376074,
     "user": {
      "displayName": "ユウキハヤカワ",
      "photoUrl": "https://lh3.googleusercontent.com/a-/AOh14GjfXu9o7zmAYL24s4P8H7I0lvSgQUaSfrXi7qemvQ=s64",
      "userId": "00286900621093795459"
     },
     "user_tz": -540
    },
    "id": "nLIi69kGdV5B"
   },
   "outputs": [],
   "source": [
    "sample_submission = pd.read_csv(PATH_SUB)\n",
    "submission_99per_acc = pd.read_csv(PATH_99_SUB)\n",
    "\n",
    "pred_df = df_test[['site_path_timestamp']].copy()\n",
    "pred_df['x'] = x_preds_mean\n",
    "pred_df['y'] = y_preds_mean\n",
    "sub = pred_df.merge(submission_99per_acc[['site_path_timestamp', 'floor']], how='left', on='site_path_timestamp')[['site_path_timestamp', 'floor', 'x', 'y']]"
   ]
  },
  {
   "cell_type": "code",
   "execution_count": 26,
   "metadata": {
    "executionInfo": {
     "elapsed": 1423,
     "status": "ok",
     "timestamp": 1616481376078,
     "user": {
      "displayName": "ユウキハヤカワ",
      "photoUrl": "https://lh3.googleusercontent.com/a-/AOh14GjfXu9o7zmAYL24s4P8H7I0lvSgQUaSfrXi7qemvQ=s64",
      "userId": "00286900621093795459"
     },
     "user_tz": -540
    },
    "id": "2gtvd6JQZQ1_"
   },
   "outputs": [],
   "source": [
    "assert len(sample_submission.merge(sub, how='inner', on='site_path_timestamp')) == len(sample_submission)"
   ]
  },
  {
   "cell_type": "code",
   "execution_count": 27,
   "metadata": {
    "executionInfo": {
     "elapsed": 929,
     "status": "ok",
     "timestamp": 1616481376081,
     "user": {
      "displayName": "ユウキハヤカワ",
      "photoUrl": "https://lh3.googleusercontent.com/a-/AOh14GjfXu9o7zmAYL24s4P8H7I0lvSgQUaSfrXi7qemvQ=s64",
      "userId": "00286900621093795459"
     },
     "user_tz": -540
    },
    "id": "VpCo-uT_NOCh"
   },
   "outputs": [],
   "source": [
    "sub_file_path = f'{DIR_SAVE}nb{NB}_sub.csv'\n",
    "sub.to_csv(sub_file_path, index=False)"
   ]
  },
  {
   "cell_type": "markdown",
   "metadata": {},
   "source": [
    "# Analysis"
   ]
  },
  {
   "cell_type": "code",
   "execution_count": 28,
   "metadata": {},
   "outputs": [
    {
     "name": "stdout",
     "output_type": "stream",
     "text": [
      "|No |          site          |n_sample|score|\n",
      "|--:|------------------------|-------:|----:|\n",
      "|  0|5a0546857ecc773753327266|    9296|5.532|\n",
      "|  1|5c3c44b80379370013e0fd2b|    9737|7.422|\n",
      "|  2|5d27075f03f801723c2e360f|   23666|5.832|\n",
      "|  3|5d27096c03f801723c31e5e0|    9100|4.452|\n",
      "|  4|5d27097f03f801723c320d97|   10507|7.720|\n",
      "|  5|5d27099f03f801723c32511d|    4251|5.136|\n",
      "|  6|5d2709a003f801723c3251bf|    3940|4.584|\n",
      "|  7|5d2709b303f801723c327472|   15358|5.497|\n",
      "|  8|5d2709bb03f801723c32852c|   17203|6.578|\n",
      "|  9|5d2709c303f801723c3299ee|   10083|5.469|\n",
      "| 10|5d2709d403f801723c32bd39|   10027|5.558|\n",
      "| 11|5d2709e003f801723c32d896|   11042|6.515|\n",
      "| 12|5da138274db8ce0c98bbd3d2|    2662|5.101|\n",
      "| 13|5da1382d4db8ce0c98bbe92e|    8999|6.456|\n",
      "| 14|5da138314db8ce0c98bbf3a0|    9012|4.372|\n",
      "| 15|5da138364db8ce0c98bc00f1|    2767|3.919|\n",
      "| 16|5da1383b4db8ce0c98bc11ab|   13196|6.497|\n",
      "| 17|5da138754db8ce0c98bca82f|    7188|5.655|\n",
      "| 18|5da138764db8ce0c98bcaa46|    9420|5.485|\n",
      "| 19|5da1389e4db8ce0c98bd0547|    6312|6.260|\n",
      "| 20|5da138b74db8ce0c98bd4774|   17382|6.926|\n",
      "| 21|5da958dd46f8266d0737457b|   15148|5.796|\n",
      "| 22|5dbc1d84c1eb61796cf7c010|   16174|6.683|\n",
      "| 23|5dc8cea7659e181adb076a3f|   15655|5.939|\n"
     ]
    }
   ],
   "source": [
    "site_arr = le_site.inverse_transform(df_train.site_id)\n",
    "df_result_site = calc_metrics_site(oof_x, oof_y, np.zeros(len(df_train)), df_train['x'], df_train['y'], np.zeros(len(df_train)), site_arr)\n",
    "site_eval_report(df_result_site)"
   ]
  },
  {
   "cell_type": "code",
   "execution_count": null,
   "metadata": {},
   "outputs": [],
   "source": []
  },
  {
   "cell_type": "raw",
   "metadata": {},
   "source": [
    "\n",
    "\n",
    "\n",
    "\n",
    "\n",
    "\n",
    "\n",
    "\n",
    "\n",
    "\n",
    "\n",
    "\n",
    "\n",
    "\n",
    "\n",
    "\n",
    "\n",
    "\n",
    "\n",
    "\n",
    "\n",
    "\n",
    "\n",
    "\n",
    "\n",
    "\n",
    "\n",
    "\n"
   ]
  }
 ],
 "metadata": {
  "accelerator": "GPU",
  "colab": {
   "collapsed_sections": [],
   "machine_shape": "hm",
   "name": "exp003-0.ipynb",
   "provenance": [
    {
     "file_id": "https://github.com/yuki-a4/Indoor/blob/main/COLAB/notebook/exp003.ipynb",
     "timestamp": 1616255627299
    }
   ]
  },
  "kernelspec": {
   "display_name": "Python 3",
   "language": "python",
   "name": "python3"
  },
  "language_info": {
   "codemirror_mode": {
    "name": "ipython",
    "version": 3
   },
   "file_extension": ".py",
   "mimetype": "text/x-python",
   "name": "python",
   "nbconvert_exporter": "python",
   "pygments_lexer": "ipython3",
   "version": "3.8.5"
  }
 },
 "nbformat": 4,
 "nbformat_minor": 4
}
