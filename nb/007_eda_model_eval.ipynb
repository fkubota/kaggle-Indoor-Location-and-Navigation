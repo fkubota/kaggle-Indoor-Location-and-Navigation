{
 "cells": [
  {
   "cell_type": "markdown",
   "id": "included-payment",
   "metadata": {},
   "source": [
    "# Overview\n",
    "- モデルの評価の仕方を考える"
   ]
  },
  {
   "cell_type": "code",
   "execution_count": 1,
   "id": "bigger-railway",
   "metadata": {},
   "outputs": [
    {
     "name": "stdout",
     "output_type": "stream",
     "text": [
      "d05fe60\n"
     ]
    }
   ],
   "source": [
    "import subprocess\n",
    "cmd = \"git rev-parse --short HEAD\"\n",
    "hash = subprocess.check_output(cmd.split()).strip().decode('utf-8')\n",
    "print(hash)"
   ]
  },
  {
   "cell_type": "markdown",
   "id": "classified-entrance",
   "metadata": {},
   "source": [
    "# Const"
   ]
  },
  {
   "cell_type": "code",
   "execution_count": 2,
   "id": "prescription-affair",
   "metadata": {},
   "outputs": [],
   "source": [
    "NB = '007'\n",
    "DIR_TRAIN = './../data_ignore/input/train/'\n",
    "DIR_TEST = './../data_ignore/input/test/'\n",
    "DIR_WIFI = './../data_ignore/input/wifi/'\n",
    "PATH_SUB = './../data_ignore/input/sample_submission.csv'\n",
    "PATH_99_SUB = './../data/input/floor_99per_acc_sub.csv'\n",
    "DIR_SAVE_IGNORE = f'./../data_ignore/nb/{NB}/'\n",
    "DIR_SAVE = f'./../data/nb/{NB}/'"
   ]
  },
  {
   "cell_type": "code",
   "execution_count": 3,
   "id": "static-record",
   "metadata": {},
   "outputs": [],
   "source": [
    "config_str = '''\n",
    "globals:\n",
    "    seed: 5713\n",
    "    device: cuda\n",
    "    n_label: 24\n",
    "    n_splits: 5\n",
    "    random_sate: 42\n",
    "    lr: 0.001\n",
    "    patience: 10\n",
    "    epoch: 100\n",
    "    batch_size: 512\n",
    "    skip_evaluate_num: 5\n",
    "    num_feats: 20\n",
    "    t_mux: 10\n",
    "'''"
   ]
  },
  {
   "cell_type": "markdown",
   "id": "stupid-culture",
   "metadata": {},
   "source": [
    "# Import everything I need:)"
   ]
  },
  {
   "cell_type": "code",
   "execution_count": 4,
   "id": "typical-adams",
   "metadata": {},
   "outputs": [],
   "source": [
    "import os\n",
    "import time\n",
    "import yaml\n",
    "import types\n",
    "import random\n",
    "import pickle\n",
    "import builtins\n",
    "import numpy as np\n",
    "import pandas as pd\n",
    "import seaborn as sns\n",
    "from icecream import ic\n",
    "import matplotlib.pyplot as plt\n",
    "from dataclasses import dataclass\n",
    "# from tqdm import tqdm\n",
    "from fastprogress import progress_bar, master_bar\n",
    "from glob import glob\n",
    "from loguru import logger\n",
    "from collections import OrderedDict\n",
    "\n",
    "# sklearn\n",
    "from sklearn.preprocessing import LabelEncoder, StandardScaler\n",
    "from sklearn.model_selection import KFold\n",
    "\n",
    "# pytorch\n",
    "import torch\n",
    "from torch import nn\n",
    "from torch.utils.data import Dataset, DataLoader\n",
    "import torch.optim as optim\n",
    "import torch.nn.functional as F"
   ]
  },
  {
   "cell_type": "markdown",
   "id": "encouraging-mediterranean",
   "metadata": {},
   "source": [
    "# Function"
   ]
  },
  {
   "cell_type": "code",
   "execution_count": 5,
   "id": "fundamental-globe",
   "metadata": {
    "executionInfo": {
     "elapsed": 4655,
     "status": "ok",
     "timestamp": 1616479151188,
     "user": {
      "displayName": "ユウキハヤカワ",
      "photoUrl": "https://lh3.googleusercontent.com/a-/AOh14GjfXu9o7zmAYL24s4P8H7I0lvSgQUaSfrXi7qemvQ=s64",
      "userId": "00286900621093795459"
     },
     "user_tz": -540
    },
    "id": "7SxgGjwA5Rty"
   },
   "outputs": [],
   "source": [
    "def imports():\n",
    "    for name, val in globals().items():\n",
    "        # module imports\n",
    "        if isinstance(val, types.ModuleType):\n",
    "            yield name, val\n",
    "\n",
    "            # functions / callables\n",
    "        if hasattr(val, '__call__'):\n",
    "            yield name, val\n",
    "\n",
    "\n",
    "def noglobal(f):\n",
    "    '''\n",
    "    ref: https://gist.github.com/raven38/4e4c3c7a179283c441f575d6e375510c\n",
    "    '''\n",
    "    return types.FunctionType(f.__code__,\n",
    "                              dict(imports()),\n",
    "                              f.__name__,\n",
    "                              f.__defaults__,\n",
    "                              f.__closure__\n",
    "                              )\n",
    "\n",
    "\n",
    "def comp_metric(xhat, yhat, fhat, x, y, f):\n",
    "    intermediate = np.sqrt(np.power(xhat-x, 2) + np.power(yhat-y, 2)) + 15 * np.abs(fhat-f)\n",
    "    return intermediate.sum()/xhat.shape[0]\n",
    "\n",
    "def seed_everything(seed=42):\n",
    "    random.seed(seed)\n",
    "    os.environ['PYTHONHASHSEED'] = str(seed)\n",
    "    np.random.seed(seed)\n",
    "    torch.manual_seed(seed)\n",
    "    torch.cuda.manual_seed(seed)\n",
    "    torch.backends.cudnn.deterministic = True\n",
    "    torch.backends.cudnn.benchmark = True"
   ]
  },
  {
   "cell_type": "code",
   "execution_count": 6,
   "id": "important-asbestos",
   "metadata": {},
   "outputs": [],
   "source": [
    "@dataclass\n",
    "class ReadData:\n",
    "    acce: np.ndarray\n",
    "    acce_uncali: np.ndarray\n",
    "    gyro: np.ndarray\n",
    "    gyro_uncali: np.ndarray\n",
    "    magn: np.ndarray\n",
    "    magn_uncali: np.ndarray\n",
    "    ahrs: np.ndarray\n",
    "    wifi: np.ndarray\n",
    "    ibeacon: np.ndarray\n",
    "    waypoint: np.ndarray\n",
    "\n",
    "\n",
    "def read_data_file(data_filename):\n",
    "    acce = []\n",
    "    acce_uncali = []\n",
    "    gyro = []\n",
    "    gyro_uncali = []\n",
    "    magn = []\n",
    "    magn_uncali = []\n",
    "    ahrs = []\n",
    "    wifi = []\n",
    "    ibeacon = []\n",
    "    waypoint = []\n",
    "\n",
    "    with open(data_filename, 'r', encoding='utf-8') as file:\n",
    "        lines = file.readlines()\n",
    "\n",
    "    for line_data in lines:\n",
    "        line_data = line_data.strip()\n",
    "        if not line_data or line_data[0] == '#':\n",
    "            continue\n",
    "\n",
    "        line_data = line_data.split('\\t')\n",
    "\n",
    "        if line_data[1] == 'TYPE_ACCELEROMETER':\n",
    "            acce.append([int(line_data[0]), float(line_data[2]), float(line_data[3]), float(line_data[4])])\n",
    "            continue\n",
    "\n",
    "        if line_data[1] == 'TYPE_ACCELEROMETER_UNCALIBRATED':\n",
    "            acce_uncali.append([int(line_data[0]), float(line_data[2]), float(line_data[3]), float(line_data[4])])\n",
    "            continue\n",
    "\n",
    "        if line_data[1] == 'TYPE_GYROSCOPE':\n",
    "            gyro.append([int(line_data[0]), float(line_data[2]), float(line_data[3]), float(line_data[4])])\n",
    "            continue\n",
    "\n",
    "        if line_data[1] == 'TYPE_GYROSCOPE_UNCALIBRATED':\n",
    "            gyro_uncali.append([int(line_data[0]), float(line_data[2]), float(line_data[3]), float(line_data[4])])\n",
    "            continue\n",
    "\n",
    "        if line_data[1] == 'TYPE_MAGNETIC_FIELD':\n",
    "            magn.append([int(line_data[0]), float(line_data[2]), float(line_data[3]), float(line_data[4])])\n",
    "            continue\n",
    "\n",
    "        if line_data[1] == 'TYPE_MAGNETIC_FIELD_UNCALIBRATED':\n",
    "            magn_uncali.append([int(line_data[0]), float(line_data[2]), float(line_data[3]), float(line_data[4])])\n",
    "            continue\n",
    "\n",
    "        if line_data[1] == 'TYPE_ROTATION_VECTOR':\n",
    "            ahrs.append([int(line_data[0]), float(line_data[2]), float(line_data[3]), float(line_data[4])])\n",
    "            continue\n",
    "\n",
    "        if line_data[1] == 'TYPE_WIFI':\n",
    "            sys_ts = line_data[0]\n",
    "            ssid = line_data[2]\n",
    "            bssid = line_data[3]\n",
    "            rssi = line_data[4]\n",
    "            lastseen_ts = line_data[6]\n",
    "            wifi_data = [sys_ts, ssid, bssid, rssi, lastseen_ts]\n",
    "            wifi.append(wifi_data)\n",
    "            continue\n",
    "\n",
    "        if line_data[1] == 'TYPE_BEACON':\n",
    "            ts = line_data[0]\n",
    "            uuid = line_data[2]\n",
    "            major = line_data[3]\n",
    "            minor = line_data[4]\n",
    "            rssi = line_data[6]\n",
    "            ibeacon_data = [ts, '_'.join([uuid, major, minor]), rssi]\n",
    "            ibeacon.append(ibeacon_data)\n",
    "            continue\n",
    "\n",
    "        if line_data[1] == 'TYPE_WAYPOINT':\n",
    "            waypoint.append([int(line_data[0]), float(line_data[2]), float(line_data[3])])\n",
    "\n",
    "    acce = np.array(acce)\n",
    "    acce_uncali = np.array(acce_uncali)\n",
    "    gyro = np.array(gyro)\n",
    "    gyro_uncali = np.array(gyro_uncali)\n",
    "    magn = np.array(magn)\n",
    "    magn_uncali = np.array(magn_uncali)\n",
    "    ahrs = np.array(ahrs)\n",
    "    wifi = np.array(wifi)\n",
    "    ibeacon = np.array(ibeacon)\n",
    "    waypoint = np.array(waypoint)\n",
    "\n",
    "    return ReadData(acce, acce_uncali, gyro, gyro_uncali, magn, magn_uncali, ahrs, wifi, ibeacon, waypoint)"
   ]
  },
  {
   "cell_type": "code",
   "execution_count": 7,
   "id": "synthetic-charter",
   "metadata": {
    "executionInfo": {
     "elapsed": 41385,
     "status": "ok",
     "timestamp": 1616479188169,
     "user": {
      "displayName": "ユウキハヤカワ",
      "photoUrl": "https://lh3.googleusercontent.com/a-/AOh14GjfXu9o7zmAYL24s4P8H7I0lvSgQUaSfrXi7qemvQ=s64",
      "userId": "00286900621093795459"
     },
     "user_tz": -540
    },
    "id": "7tycasUwdySR"
   },
   "outputs": [],
   "source": [
    "class IndoorWiFiNet(nn.Module):\n",
    "    def __init__(self, bssid_size, site_size, num_feats):\n",
    "        super(IndoorWiFiNet, self).__init__()\n",
    "        self.bssid_embedding = nn.Embedding(bssid_size, 64, max_norm=True)\n",
    "        self.site_embedding = nn.Embedding(site_size, 64, max_norm=True)\n",
    "\n",
    "        self.rssi = nn.Sequential(\n",
    "            nn.BatchNorm1d(20),\n",
    "            nn.Linear(20, num_feats * 64)\n",
    "        )\n",
    "\n",
    "        concat_size = 64 + (num_feats * 64) + (num_feats * 64)\n",
    "        self.bn1 = nn.BatchNorm1d(concat_size)\n",
    "\n",
    "        self.flatten = nn.Flatten()\n",
    "\n",
    "        self.dropout1 = nn.Dropout(0.3)\n",
    "        self.linear1 = nn.Linear(in_features=concat_size, out_features=256)#, bias=False)\n",
    "        self.bn2 = nn.BatchNorm1d(256)\n",
    "\n",
    "        self.linear2 = nn.Linear(in_features=256, out_features=128)#, bias=False)\n",
    "        self.linear3 = nn.Linear(in_features=128, out_features=16)#, bias=False)\n",
    "\n",
    "        self.bn3 = nn.BatchNorm1d(128)\n",
    "        self.bn4 = nn.BatchNorm1d(16)\n",
    "\n",
    "\n",
    "        self.xy = nn.Linear(in_features=16, out_features=2)#, bias=False)\n",
    "        self.floor = nn.Linear(in_features=16, out_features=1)#, bias=False)\n",
    "        \n",
    "\n",
    "    def forward(self, bssid, rssi, site):\n",
    "\n",
    "        site = torch.reshape(site, (-1, 1))\n",
    "\n",
    "        bssid_out = self.bssid_embedding(bssid)\n",
    "        site_out = self.site_embedding(site)\n",
    "\n",
    "        rssi_out = self.rssi(rssi)\n",
    "\n",
    "        bssid_out = self.flatten(bssid_out)\n",
    "        site_out = self.flatten(site_out)\n",
    "\n",
    "        x = torch.cat([bssid_out, rssi_out, site_out], dim=1)\n",
    "        x = self.bn1(x)\n",
    "        x = self.dropout1(x)\n",
    "        x = F.relu(self.linear1(x))\n",
    "        x = self.bn2(x)\n",
    "\n",
    "        x = F.relu(self.linear2(x))\n",
    "        x = self.bn3(x)\n",
    "\n",
    "        x = F.relu(self.linear3(x))\n",
    "        x = self.bn4(x)\n",
    "\n",
    "        #x = self.lstm(x)\n",
    "\n",
    "        xy = self.xy(x)\n",
    "        floor = self.floor(x)\n",
    "\n",
    "        return xy, floor"
   ]
  },
  {
   "cell_type": "code",
   "execution_count": 8,
   "id": "atmospheric-campaign",
   "metadata": {
    "executionInfo": {
     "elapsed": 1376,
     "status": "ok",
     "timestamp": 1616481355217,
     "user": {
      "displayName": "ユウキハヤカワ",
      "photoUrl": "https://lh3.googleusercontent.com/a-/AOh14GjfXu9o7zmAYL24s4P8H7I0lvSgQUaSfrXi7qemvQ=s64",
      "userId": "00286900621093795459"
     },
     "user_tz": -540
    },
    "id": "uNYZS-avjuD-"
   },
   "outputs": [],
   "source": [
    "class IndoorWiFiDataSet(Dataset):\n",
    "    def __init__(self, wifi_df, bssid_feats_, rssi_feats_, data_type='test'):\n",
    "        self.wifi_df = wifi_df\n",
    "        self.data_type = data_type\n",
    "        self.bssids = wifi_df[bssid_feats_].to_numpy().astype(np.int)    # <----- リファクタ\n",
    "        self.rssis = wifi_df[rssi_feats_].to_numpy().astype(np.float)    # <----- リファクタ\n",
    "        self.site_ids = wifi_df['site_id'].to_numpy()\n",
    "        if data_type in ['train', 'valid']:\n",
    "            self.floors = wifi_df['floor'].to_numpy().astype(np.int)\n",
    "            self.xs = wifi_df['x'].to_numpy()\n",
    "            self.ys = wifi_df['y'].to_numpy()\n",
    "        \n",
    "    def __len__(self):\n",
    "        return len(self.wifi_df)\n",
    "\n",
    "    def __getitem__(self, idx):\n",
    "\n",
    "        #wifi_row = self.wifi_df.iloc[idx]\n",
    "\n",
    "        bssid = self.bssids[idx,:]\n",
    "        rssi = self.rssis[idx,:]\n",
    "        site_id = self.site_ids[idx]\n",
    "\n",
    "        if self.data_type in ['test', 'valid']:\n",
    "            return bssid, rssi, site_id\n",
    "\n",
    "        elif self.data_type == 'train':\n",
    "            x = self.xs[idx]\n",
    "            y = self.ys[idx]\n",
    "            floor = self.floors[idx]\n",
    "\n",
    "            return bssid, rssi, site_id, x, y, floor\n"
   ]
  },
  {
   "cell_type": "markdown",
   "id": "modular-financing",
   "metadata": {},
   "source": [
    "# Preparation"
   ]
  },
  {
   "cell_type": "markdown",
   "id": "younger-confidentiality",
   "metadata": {},
   "source": [
    "load config"
   ]
  },
  {
   "cell_type": "code",
   "execution_count": 9,
   "id": "endless-therapy",
   "metadata": {},
   "outputs": [
    {
     "data": {
      "text/plain": [
       "{'globals': {'seed': 5713,\n",
       "  'device': 'cuda',\n",
       "  'n_label': 24,\n",
       "  'n_splits': 5,\n",
       "  'random_sate': 42,\n",
       "  'lr': 0.001,\n",
       "  'patience': 10,\n",
       "  'epoch': 100,\n",
       "  'batch_size': 512,\n",
       "  'skip_evaluate_num': 5,\n",
       "  'num_feats': 20,\n",
       "  't_mux': 10}}"
      ]
     },
     "execution_count": 9,
     "metadata": {},
     "output_type": "execute_result"
    }
   ],
   "source": [
    "config = yaml.safe_load(config_str)\n",
    "config"
   ]
  },
  {
   "cell_type": "markdown",
   "id": "bigger-chicago",
   "metadata": {},
   "source": [
    "<br>\n",
    "\n",
    "set"
   ]
  },
  {
   "cell_type": "code",
   "execution_count": 10,
   "id": "affected-williams",
   "metadata": {},
   "outputs": [],
   "source": [
    "seed_everything(config['globals']['seed'])\n",
    "pd.set_option('display.max_rows', 500)\n",
    "\n",
    "if not os.path.exists(DIR_SAVE_IGNORE):\n",
    "    os.makedirs(DIR_SAVE_IGNORE)\n",
    "if not os.path.exists(DIR_SAVE):\n",
    "    os.makedirs(DIR_SAVE)"
   ]
  },
  {
   "cell_type": "markdown",
   "id": "front-adventure",
   "metadata": {},
   "source": [
    "<br>\n",
    "\n",
    "load dataset"
   ]
  },
  {
   "cell_type": "code",
   "execution_count": 11,
   "id": "earned-karma",
   "metadata": {
    "executionInfo": {
     "elapsed": 12440,
     "status": "ok",
     "timestamp": 1616479159010,
     "user": {
      "displayName": "ユウキハヤカワ",
      "photoUrl": "https://lh3.googleusercontent.com/a-/AOh14GjfXu9o7zmAYL24s4P8H7I0lvSgQUaSfrXi7qemvQ=s64",
      "userId": "00286900621093795459"
     },
     "user_tz": -540
    },
    "id": "g0ytMb1aSnv0"
   },
   "outputs": [],
   "source": [
    "with open(f'{DIR_WIFI}train_all.pkl', 'rb') as f:\n",
    "    df_train = pickle.load( f)\n",
    "with open(f'{DIR_WIFI}test_all.pkl', 'rb') as f:\n",
    "    df_test = pickle.load( f)\n",
    "\n",
    "sample_submission = pd.read_csv(PATH_SUB)"
   ]
  },
  {
   "cell_type": "markdown",
   "id": "solid-birmingham",
   "metadata": {},
   "source": [
    "<br>\n",
    "\n",
    "preprocessing"
   ]
  },
  {
   "cell_type": "code",
   "execution_count": 12,
   "id": "satisfactory-mirror",
   "metadata": {
    "executionInfo": {
     "elapsed": 12395,
     "status": "ok",
     "timestamp": 1616479159023,
     "user": {
      "displayName": "ユウキハヤカワ",
      "photoUrl": "https://lh3.googleusercontent.com/a-/AOh14GjfXu9o7zmAYL24s4P8H7I0lvSgQUaSfrXi7qemvQ=s64",
      "userId": "00286900621093795459"
     },
     "user_tz": -540
    },
    "id": "6wFlN2I2NL3z"
   },
   "outputs": [],
   "source": [
    "bssid_feats = [f'bssid_{i}' for i in range(config['globals']['num_feats'])]\n",
    "rssi_feats  = [f'rssi_{i}' for i in range(config['globals']['num_feats'])]"
   ]
  },
  {
   "cell_type": "code",
   "execution_count": 13,
   "id": "daily-plane",
   "metadata": {
    "colab": {
     "base_uri": "https://localhost:8080/"
    },
    "executionInfo": {
     "elapsed": 16854,
     "status": "ok",
     "timestamp": 1616479163506,
     "user": {
      "displayName": "ユウキハヤカワ",
      "photoUrl": "https://lh3.googleusercontent.com/a-/AOh14GjfXu9o7zmAYL24s4P8H7I0lvSgQUaSfrXi7qemvQ=s64",
      "userId": "00286900621093795459"
     },
     "user_tz": -540
    },
    "id": "hfyRDfw3Xbov",
    "outputId": "196b63bf-9e51-4a08-8fd5-9b04139c3d4b"
   },
   "outputs": [
    {
     "name": "stdout",
     "output_type": "stream",
     "text": [
      "BSSID TYPES: 61206\n",
      "BSSID TYPES: 33042\n",
      "BSSID TYPES: 94248\n"
     ]
    }
   ],
   "source": [
    "# bssidの一覧作成\n",
    "# wifi_bassidにはtrainとtest両方のbssidの一覧が含まれる\n",
    "\n",
    "wifi_bssids = []\n",
    "for i in range(100):\n",
    "    wifi_bssids.extend(df_train.iloc[:,i].values.tolist())\n",
    "wifi_bssids = list(set(wifi_bssids))\n",
    "\n",
    "wifi_bssids_size = len(wifi_bssids)\n",
    "print(f'BSSID TYPES: {wifi_bssids_size}')\n",
    "\n",
    "wifi_bssids_test = []\n",
    "for i in range(100):\n",
    "    wifi_bssids_test.extend(df_test.iloc[:,i].values.tolist())\n",
    "wifi_bssids_test = list(set(wifi_bssids_test))\n",
    "\n",
    "wifi_bssids_size = len(wifi_bssids_test)\n",
    "print(f'BSSID TYPES: {wifi_bssids_size}')\n",
    "\n",
    "wifi_bssids.extend(wifi_bssids_test)\n",
    "wifi_bssids_size = len(wifi_bssids)\n",
    "print(f'BSSID TYPES: {wifi_bssids_size}')"
   ]
  },
  {
   "cell_type": "raw",
   "id": "young-chosen",
   "metadata": {
    "colab": {
     "base_uri": "https://localhost:8080/"
    },
    "executionInfo": {
     "elapsed": 16854,
     "status": "ok",
     "timestamp": 1616479163506,
     "user": {
      "displayName": "ユウキハヤカワ",
      "photoUrl": "https://lh3.googleusercontent.com/a-/AOh14GjfXu9o7zmAYL24s4P8H7I0lvSgQUaSfrXi7qemvQ=s64",
      "userId": "00286900621093795459"
     },
     "user_tz": -540
    },
    "id": "hfyRDfw3Xbov",
    "outputId": "196b63bf-9e51-4a08-8fd5-9b04139c3d4b"
   },
   "source": [
    "# bssidの一覧作成\n",
    "# wifi_bassidにはtrainとtest両方のbssidの一覧が含まれる\n",
    "\n",
    "wifi_bssids = []\n",
    "for i in range(100):\n",
    "    wifi_bssids.extend(df_train.iloc[:, i].values.tolist())\n",
    "    wifi_bssids.extend(df_test.iloc[:, i].values.tolist())\n",
    "\n",
    "wifi_bssids = list(set(wifi_bssids))\n",
    "print(f'BSSID TYPES: {len(wifi_bssids)}')"
   ]
  },
  {
   "cell_type": "code",
   "execution_count": 14,
   "id": "traditional-rachel",
   "metadata": {
    "colab": {
     "base_uri": "https://localhost:8080/"
    },
    "executionInfo": {
     "elapsed": 18605,
     "status": "ok",
     "timestamp": 1616479165294,
     "user": {
      "displayName": "ユウキハヤカワ",
      "photoUrl": "https://lh3.googleusercontent.com/a-/AOh14GjfXu9o7zmAYL24s4P8H7I0lvSgQUaSfrXi7qemvQ=s64",
      "userId": "00286900621093795459"
     },
     "user_tz": -540
    },
    "id": "eBhOfx-CdxJB",
    "outputId": "74a3e5ac-a638-41eb-b228-5d6c6cd9c0df"
   },
   "outputs": [
    {
     "data": {
      "text/plain": [
       "StandardScaler()"
      ]
     },
     "execution_count": 14,
     "metadata": {},
     "output_type": "execute_result"
    }
   ],
   "source": [
    "# LabelEncoding & StandardScaler\n",
    "\n",
    "le = LabelEncoder()\n",
    "le.fit(wifi_bssids)\n",
    "le_site = LabelEncoder()\n",
    "le_site.fit(df_train['site_id'])\n",
    "\n",
    "ss = StandardScaler()\n",
    "ss.fit(df_train.loc[:, rssi_feats])"
   ]
  },
  {
   "cell_type": "code",
   "execution_count": 15,
   "id": "forbidden-gentleman",
   "metadata": {
    "executionInfo": {
     "elapsed": 39684,
     "status": "ok",
     "timestamp": 1616479186398,
     "user": {
      "displayName": "ユウキハヤカワ",
      "photoUrl": "https://lh3.googleusercontent.com/a-/AOh14GjfXu9o7zmAYL24s4P8H7I0lvSgQUaSfrXi7qemvQ=s64",
      "userId": "00286900621093795459"
     },
     "user_tz": -540
    },
    "id": "ICMler34Xbt-"
   },
   "outputs": [],
   "source": [
    "df_train.loc[:, rssi_feats] = ss.transform(df_train.loc[:, rssi_feats])\n",
    "df_test.loc[:, rssi_feats] = ss.transform(df_test.loc[:, rssi_feats])\n",
    "for feat in bssid_feats:\n",
    "    df_train.loc[:, feat] = le.transform(df_train.loc[:, feat])\n",
    "    df_test.loc[:, feat] = le.transform(df_test.loc[:, feat])\n",
    "    \n",
    "    df_train.loc[:, feat] = df_train.loc[:, feat] + 1\n",
    "    df_test.loc[:, feat] = df_test.loc[:, feat] + 1\n",
    "    \n",
    "df_train.loc[:, 'site_id'] = le_site.transform(df_train.loc[:, 'site_id'])\n",
    "df_test.loc[:, 'site_id'] = le_site.transform(df_test.loc[:, 'site_id'])\n",
    "\n",
    "df_train.loc[:, rssi_feats] = ss.transform(df_train.loc[:, rssi_feats])\n",
    "df_test.loc[:, rssi_feats] = ss.transform(df_test.loc[:, rssi_feats])"
   ]
  },
  {
   "cell_type": "code",
   "execution_count": 16,
   "id": "seasonal-investigation",
   "metadata": {
    "executionInfo": {
     "elapsed": 41413,
     "status": "ok",
     "timestamp": 1616479188164,
     "user": {
      "displayName": "ユウキハヤカワ",
      "photoUrl": "https://lh3.googleusercontent.com/a-/AOh14GjfXu9o7zmAYL24s4P8H7I0lvSgQUaSfrXi7qemvQ=s64",
      "userId": "00286900621093795459"
     },
     "user_tz": -540
    },
    "id": "fhagm8JcdyPI"
   },
   "outputs": [],
   "source": [
    "site_count = len(df_train['site_id'].unique())\n",
    "df_train.reset_index(drop=True, inplace=True)"
   ]
  },
  {
   "cell_type": "code",
   "execution_count": 17,
   "id": "conditional-surgeon",
   "metadata": {},
   "outputs": [
    {
     "data": {
      "text/html": [
       "<div>\n",
       "<style scoped>\n",
       "    .dataframe tbody tr th:only-of-type {\n",
       "        vertical-align: middle;\n",
       "    }\n",
       "\n",
       "    .dataframe tbody tr th {\n",
       "        vertical-align: top;\n",
       "    }\n",
       "\n",
       "    .dataframe thead th {\n",
       "        text-align: right;\n",
       "    }\n",
       "</style>\n",
       "<table border=\"1\" class=\"dataframe\">\n",
       "  <thead>\n",
       "    <tr style=\"text-align: right;\">\n",
       "      <th></th>\n",
       "      <th>bssid_0</th>\n",
       "      <th>bssid_1</th>\n",
       "      <th>bssid_2</th>\n",
       "      <th>bssid_3</th>\n",
       "      <th>bssid_4</th>\n",
       "      <th>bssid_5</th>\n",
       "      <th>bssid_6</th>\n",
       "      <th>bssid_7</th>\n",
       "      <th>bssid_8</th>\n",
       "      <th>bssid_9</th>\n",
       "      <th>...</th>\n",
       "      <th>rssi_95</th>\n",
       "      <th>rssi_96</th>\n",
       "      <th>rssi_97</th>\n",
       "      <th>rssi_98</th>\n",
       "      <th>rssi_99</th>\n",
       "      <th>x</th>\n",
       "      <th>y</th>\n",
       "      <th>floor</th>\n",
       "      <th>path</th>\n",
       "      <th>site_id</th>\n",
       "    </tr>\n",
       "  </thead>\n",
       "  <tbody>\n",
       "    <tr>\n",
       "      <th>0</th>\n",
       "      <td>52393</td>\n",
       "      <td>35871</td>\n",
       "      <td>2765</td>\n",
       "      <td>34898</td>\n",
       "      <td>52710</td>\n",
       "      <td>35260</td>\n",
       "      <td>42720</td>\n",
       "      <td>33510</td>\n",
       "      <td>23417</td>\n",
       "      <td>15249</td>\n",
       "      <td>...</td>\n",
       "      <td>-79</td>\n",
       "      <td>-79</td>\n",
       "      <td>-79</td>\n",
       "      <td>-79</td>\n",
       "      <td>-79</td>\n",
       "      <td>107.85044</td>\n",
       "      <td>161.89262</td>\n",
       "      <td>-1</td>\n",
       "      <td>5e1580adf4c3420006d520d4</td>\n",
       "      <td>0</td>\n",
       "    </tr>\n",
       "    <tr>\n",
       "      <th>1</th>\n",
       "      <td>35871</td>\n",
       "      <td>52393</td>\n",
       "      <td>7487</td>\n",
       "      <td>34898</td>\n",
       "      <td>52710</td>\n",
       "      <td>35260</td>\n",
       "      <td>21971</td>\n",
       "      <td>15249</td>\n",
       "      <td>17025</td>\n",
       "      <td>5351</td>\n",
       "      <td>...</td>\n",
       "      <td>-79</td>\n",
       "      <td>-79</td>\n",
       "      <td>-79</td>\n",
       "      <td>-80</td>\n",
       "      <td>-80</td>\n",
       "      <td>107.85044</td>\n",
       "      <td>161.89262</td>\n",
       "      <td>-1</td>\n",
       "      <td>5e1580adf4c3420006d520d4</td>\n",
       "      <td>0</td>\n",
       "    </tr>\n",
       "    <tr>\n",
       "      <th>2</th>\n",
       "      <td>35871</td>\n",
       "      <td>52393</td>\n",
       "      <td>52710</td>\n",
       "      <td>34898</td>\n",
       "      <td>35260</td>\n",
       "      <td>23417</td>\n",
       "      <td>49408</td>\n",
       "      <td>6673</td>\n",
       "      <td>7487</td>\n",
       "      <td>48501</td>\n",
       "      <td>...</td>\n",
       "      <td>-77</td>\n",
       "      <td>-78</td>\n",
       "      <td>-78</td>\n",
       "      <td>-78</td>\n",
       "      <td>-78</td>\n",
       "      <td>98.33065</td>\n",
       "      <td>163.34334</td>\n",
       "      <td>-1</td>\n",
       "      <td>5e1580adf4c3420006d520d4</td>\n",
       "      <td>0</td>\n",
       "    </tr>\n",
       "    <tr>\n",
       "      <th>3</th>\n",
       "      <td>23417</td>\n",
       "      <td>34898</td>\n",
       "      <td>35260</td>\n",
       "      <td>52393</td>\n",
       "      <td>35871</td>\n",
       "      <td>3707</td>\n",
       "      <td>49408</td>\n",
       "      <td>15613</td>\n",
       "      <td>10167</td>\n",
       "      <td>4978</td>\n",
       "      <td>...</td>\n",
       "      <td>-75</td>\n",
       "      <td>-76</td>\n",
       "      <td>-76</td>\n",
       "      <td>-77</td>\n",
       "      <td>-77</td>\n",
       "      <td>98.33065</td>\n",
       "      <td>163.34334</td>\n",
       "      <td>-1</td>\n",
       "      <td>5e1580adf4c3420006d520d4</td>\n",
       "      <td>0</td>\n",
       "    </tr>\n",
       "    <tr>\n",
       "      <th>4</th>\n",
       "      <td>35871</td>\n",
       "      <td>35260</td>\n",
       "      <td>23417</td>\n",
       "      <td>19473</td>\n",
       "      <td>52393</td>\n",
       "      <td>3707</td>\n",
       "      <td>49408</td>\n",
       "      <td>18306</td>\n",
       "      <td>21410</td>\n",
       "      <td>52795</td>\n",
       "      <td>...</td>\n",
       "      <td>-75</td>\n",
       "      <td>-76</td>\n",
       "      <td>-76</td>\n",
       "      <td>-77</td>\n",
       "      <td>-77</td>\n",
       "      <td>98.33065</td>\n",
       "      <td>163.34334</td>\n",
       "      <td>-1</td>\n",
       "      <td>5e1580adf4c3420006d520d4</td>\n",
       "      <td>0</td>\n",
       "    </tr>\n",
       "  </tbody>\n",
       "</table>\n",
       "<p>5 rows × 205 columns</p>\n",
       "</div>"
      ],
      "text/plain": [
       "   bssid_0  bssid_1  bssid_2  bssid_3  bssid_4  bssid_5  bssid_6  bssid_7  \\\n",
       "0    52393    35871     2765    34898    52710    35260    42720    33510   \n",
       "1    35871    52393     7487    34898    52710    35260    21971    15249   \n",
       "2    35871    52393    52710    34898    35260    23417    49408     6673   \n",
       "3    23417    34898    35260    52393    35871     3707    49408    15613   \n",
       "4    35871    35260    23417    19473    52393     3707    49408    18306   \n",
       "\n",
       "   bssid_8  bssid_9  ...  rssi_95  rssi_96  rssi_97  rssi_98  rssi_99  \\\n",
       "0    23417    15249  ...      -79      -79      -79      -79      -79   \n",
       "1    17025     5351  ...      -79      -79      -79      -80      -80   \n",
       "2     7487    48501  ...      -77      -78      -78      -78      -78   \n",
       "3    10167     4978  ...      -75      -76      -76      -77      -77   \n",
       "4    21410    52795  ...      -75      -76      -76      -77      -77   \n",
       "\n",
       "           x          y  floor                      path  site_id  \n",
       "0  107.85044  161.89262     -1  5e1580adf4c3420006d520d4        0  \n",
       "1  107.85044  161.89262     -1  5e1580adf4c3420006d520d4        0  \n",
       "2   98.33065  163.34334     -1  5e1580adf4c3420006d520d4        0  \n",
       "3   98.33065  163.34334     -1  5e1580adf4c3420006d520d4        0  \n",
       "4   98.33065  163.34334     -1  5e1580adf4c3420006d520d4        0  \n",
       "\n",
       "[5 rows x 205 columns]"
      ]
     },
     "execution_count": 17,
     "metadata": {},
     "output_type": "execute_result"
    }
   ],
   "source": [
    "df_train.head()"
   ]
  },
  {
   "cell_type": "markdown",
   "id": "welsh-legend",
   "metadata": {},
   "source": [
    "# Calc oof"
   ]
  },
  {
   "cell_type": "code",
   "execution_count": 18,
   "id": "honest-shaft",
   "metadata": {
    "colab": {
     "base_uri": "https://localhost:8080/"
    },
    "executionInfo": {
     "elapsed": 41347,
     "status": "ok",
     "timestamp": 1616479188173,
     "user": {
      "displayName": "ユウキハヤカワ",
      "photoUrl": "https://lh3.googleusercontent.com/a-/AOh14GjfXu9o7zmAYL24s4P8H7I0lvSgQUaSfrXi7qemvQ=s64",
      "userId": "00286900621093795459"
     },
     "user_tz": -540
    },
    "id": "_Diyk0TFZBiQ",
    "outputId": "f5a01157-c5f0-448a-ca29-9380a573e4b1"
   },
   "outputs": [],
   "source": [
    "# device = torch.device(\"cuda\" if torch.cuda.is_available() else \"cpu\")\n",
    "device = torch.device(config['globals']['device'])"
   ]
  },
  {
   "cell_type": "code",
   "execution_count": 19,
   "id": "czech-gates",
   "metadata": {},
   "outputs": [
    {
     "name": "stdout",
     "output_type": "stream",
     "text": [
      "\n",
      "====== 1 ======\n"
     ]
    },
    {
     "data": {
      "text/html": [
       "\n",
       "    <div>\n",
       "        <style>\n",
       "            /* Turns off some styling */\n",
       "            progress {\n",
       "                /* gets rid of default border in Firefox and Opera. */\n",
       "                border: none;\n",
       "                /* Needs to be in here for Safari polyfill so background images work as expected. */\n",
       "                background-size: auto;\n",
       "            }\n",
       "            .progress-bar-interrupted, .progress-bar-interrupted::-webkit-progress-bar {\n",
       "                background: #F44336;\n",
       "            }\n",
       "        </style>\n",
       "      <progress value='101' class='' max='101' style='width:300px; height:20px; vertical-align: middle;'></progress>\n",
       "      100.00% [101/101 00:01<00:00]\n",
       "    </div>\n",
       "    "
      ],
      "text/plain": [
       "<IPython.core.display.HTML object>"
      ]
     },
     "metadata": {},
     "output_type": "display_data"
    },
    {
     "name": "stdout",
     "output_type": "stream",
     "text": [
      "5.955860050909875\n",
      "\n",
      "====== 2 ======\n"
     ]
    },
    {
     "data": {
      "text/html": [
       "\n",
       "    <div>\n",
       "        <style>\n",
       "            /* Turns off some styling */\n",
       "            progress {\n",
       "                /* gets rid of default border in Firefox and Opera. */\n",
       "                border: none;\n",
       "                /* Needs to be in here for Safari polyfill so background images work as expected. */\n",
       "                background-size: auto;\n",
       "            }\n",
       "            .progress-bar-interrupted, .progress-bar-interrupted::-webkit-progress-bar {\n",
       "                background: #F44336;\n",
       "            }\n",
       "        </style>\n",
       "      <progress value='101' class='' max='101' style='width:300px; height:20px; vertical-align: middle;'></progress>\n",
       "      100.00% [101/101 00:01<00:00]\n",
       "    </div>\n",
       "    "
      ],
      "text/plain": [
       "<IPython.core.display.HTML object>"
      ]
     },
     "metadata": {},
     "output_type": "display_data"
    },
    {
     "name": "stdout",
     "output_type": "stream",
     "text": [
      "3.214141322386826\n",
      "\n",
      "====== 3 ======\n"
     ]
    },
    {
     "data": {
      "text/html": [
       "\n",
       "    <div>\n",
       "        <style>\n",
       "            /* Turns off some styling */\n",
       "            progress {\n",
       "                /* gets rid of default border in Firefox and Opera. */\n",
       "                border: none;\n",
       "                /* Needs to be in here for Safari polyfill so background images work as expected. */\n",
       "                background-size: auto;\n",
       "            }\n",
       "            .progress-bar-interrupted, .progress-bar-interrupted::-webkit-progress-bar {\n",
       "                background: #F44336;\n",
       "            }\n",
       "        </style>\n",
       "      <progress value='101' class='' max='101' style='width:300px; height:20px; vertical-align: middle;'></progress>\n",
       "      100.00% [101/101 00:01<00:00]\n",
       "    </div>\n",
       "    "
      ],
      "text/plain": [
       "<IPython.core.display.HTML object>"
      ]
     },
     "metadata": {},
     "output_type": "display_data"
    },
    {
     "name": "stdout",
     "output_type": "stream",
     "text": [
      "3.219628211192409\n",
      "\n",
      "====== 4 ======\n"
     ]
    },
    {
     "data": {
      "text/html": [
       "\n",
       "    <div>\n",
       "        <style>\n",
       "            /* Turns off some styling */\n",
       "            progress {\n",
       "                /* gets rid of default border in Firefox and Opera. */\n",
       "                border: none;\n",
       "                /* Needs to be in here for Safari polyfill so background images work as expected. */\n",
       "                background-size: auto;\n",
       "            }\n",
       "            .progress-bar-interrupted, .progress-bar-interrupted::-webkit-progress-bar {\n",
       "                background: #F44336;\n",
       "            }\n",
       "        </style>\n",
       "      <progress value='101' class='' max='101' style='width:300px; height:20px; vertical-align: middle;'></progress>\n",
       "      100.00% [101/101 00:01<00:00]\n",
       "    </div>\n",
       "    "
      ],
      "text/plain": [
       "<IPython.core.display.HTML object>"
      ]
     },
     "metadata": {},
     "output_type": "display_data"
    },
    {
     "name": "stdout",
     "output_type": "stream",
     "text": [
      "3.4373148713145043\n",
      "\n",
      "====== 5 ======\n"
     ]
    },
    {
     "data": {
      "text/html": [
       "\n",
       "    <div>\n",
       "        <style>\n",
       "            /* Turns off some styling */\n",
       "            progress {\n",
       "                /* gets rid of default border in Firefox and Opera. */\n",
       "                border: none;\n",
       "                /* Needs to be in here for Safari polyfill so background images work as expected. */\n",
       "                background-size: auto;\n",
       "            }\n",
       "            .progress-bar-interrupted, .progress-bar-interrupted::-webkit-progress-bar {\n",
       "                background: #F44336;\n",
       "            }\n",
       "        </style>\n",
       "      <progress value='101' class='' max='101' style='width:300px; height:20px; vertical-align: middle;'></progress>\n",
       "      100.00% [101/101 00:01<00:00]\n",
       "    </div>\n",
       "    "
      ],
      "text/plain": [
       "<IPython.core.display.HTML object>"
      ]
     },
     "metadata": {},
     "output_type": "display_data"
    },
    {
     "name": "stdout",
     "output_type": "stream",
     "text": [
      "3.3353853470102064\n",
      "CPU times: user 7.07 s, sys: 4.97 s, total: 12 s\n",
      "Wall time: 12.9 s\n"
     ]
    }
   ],
   "source": [
    "%%time\n",
    "\n",
    "oof_x = np.zeros((len(df_train)))\n",
    "oof_y = np.zeros((len(df_train)))\n",
    "oof_floor = np.zeros((len(df_train)))\n",
    "cv_scores = {}\n",
    "\n",
    "kf = KFold(n_splits=config['globals']['n_splits'], random_state=42, shuffle=True)\n",
    "for fold, (_, valid_index) in enumerate(kf.split(df_train)):\n",
    "    print(f'\\r\\n====== {fold + 1} ======')\n",
    "    net = IndoorWiFiNet(wifi_bssids_size, site_count, config['globals']['num_feats'])\n",
    "    net = net.to(device)\n",
    "\n",
    "    valid = df_train.iloc[valid_index]\n",
    "\n",
    "    # TODO oof用のdataloaderはいらないはず\n",
    "    valid_dataset = IndoorWiFiDataSet(valid.reset_index(drop=True), bssid_feats, rssi_feats, data_type='valid')\n",
    "    validloader = DataLoader(valid_dataset, batch_size=config['globals']['batch_size'], num_workers=4)\n",
    "\n",
    "    _x_oof = np.array([])\n",
    "    _y_oof = np.array([])\n",
    "    ############# OOF #############\n",
    "    oof_preds = []\n",
    "#     for i, (bssid, rssi, site_id) in tqdm(enumerate(validloader), total=len(validloader)):\n",
    "    for i, (bssid, rssi, site_id) in enumerate(progress_bar(validloader)):\n",
    "#         net.load_state_dict(torch.load(ROOT_DIR / Path('output') / f'checkpoint_{NB}_{fold}.pt'))\n",
    "#         net.load_state_dict(torch.load(f'{DIR_SAVE_IGNORE}checkpoint_{NB}_{fold + 1}.pt'))\n",
    "        net.load_state_dict(torch.load(f'./../data_ignore/nb/002/checkpoint_002_{fold}.pt'))\n",
    "        net.eval()\n",
    "\n",
    "        with torch.no_grad():\n",
    "\n",
    "            bssid, rssi, site_id = bssid.to(device).long(), rssi.to(device).float(), site_id.to(device).long()\n",
    "\n",
    "            xy_pred, floor_pred = net(bssid, rssi, site_id)\n",
    "\n",
    "            xy_pred = xy_pred.to('cpu').detach().numpy().copy()\n",
    "            x_pred, y_pred = np.hsplit(xy_pred, 2)\n",
    "            _x_oof = np.concatenate([_x_oof, x_pred.reshape(-1)])\n",
    "            _y_oof = np.concatenate([_y_oof, y_pred.reshape(-1)])\n",
    "\n",
    "    print(comp_metric(_x_oof, _y_oof, 0, valid['x'], valid['y'], 0))\n",
    "\n",
    "    oof_x[valid_index] = _x_oof\n",
    "    oof_y[valid_index] = _y_oof\n",
    "\n",
    "    del net\n",
    "    torch.cuda.empty_cache()"
   ]
  },
  {
   "cell_type": "code",
   "execution_count": 23,
   "id": "amber-carry",
   "metadata": {
    "colab": {
     "base_uri": "https://localhost:8080/"
    },
    "executionInfo": {
     "elapsed": 501,
     "status": "ok",
     "timestamp": 1616481371504,
     "user": {
      "displayName": "ユウキハヤカワ",
      "photoUrl": "https://lh3.googleusercontent.com/a-/AOh14GjfXu9o7zmAYL24s4P8H7I0lvSgQUaSfrXi7qemvQ=s64",
      "userId": "00286900621093795459"
     },
     "user_tz": -540
    },
    "id": "VEdEjVItESKZ",
    "outputId": "8e4be26a-5aa1-4afa-eb4b-336380550dbb"
   },
   "outputs": [
    {
     "name": "stdout",
     "output_type": "stream",
     "text": [
      "258125 258125\n"
     ]
    },
    {
     "data": {
      "text/plain": [
       "3.8324659605627645"
      ]
     },
     "execution_count": 23,
     "metadata": {},
     "output_type": "execute_result"
    }
   ],
   "source": [
    "oof_score = comp_metric(oof_x, oof_y, np.zeros(len(df_train)), df_train['x'], df_train['y'], np.zeros(len(df_train)))\n",
    "oof_score"
   ]
  },
  {
   "cell_type": "markdown",
   "id": "precious-bermuda",
   "metadata": {},
   "source": [
    "# Evaluate"
   ]
  },
  {
   "cell_type": "code",
   "execution_count": 21,
   "id": "pursuant-vector",
   "metadata": {},
   "outputs": [
    {
     "data": {
      "text/html": [
       "<div>\n",
       "<style scoped>\n",
       "    .dataframe tbody tr th:only-of-type {\n",
       "        vertical-align: middle;\n",
       "    }\n",
       "\n",
       "    .dataframe tbody tr th {\n",
       "        vertical-align: top;\n",
       "    }\n",
       "\n",
       "    .dataframe thead th {\n",
       "        text-align: right;\n",
       "    }\n",
       "</style>\n",
       "<table border=\"1\" class=\"dataframe\">\n",
       "  <thead>\n",
       "    <tr style=\"text-align: right;\">\n",
       "      <th></th>\n",
       "      <th>bssid_0</th>\n",
       "      <th>bssid_1</th>\n",
       "      <th>bssid_2</th>\n",
       "      <th>bssid_3</th>\n",
       "      <th>bssid_4</th>\n",
       "      <th>bssid_5</th>\n",
       "      <th>bssid_6</th>\n",
       "      <th>bssid_7</th>\n",
       "      <th>bssid_8</th>\n",
       "      <th>bssid_9</th>\n",
       "      <th>...</th>\n",
       "      <th>rssi_95</th>\n",
       "      <th>rssi_96</th>\n",
       "      <th>rssi_97</th>\n",
       "      <th>rssi_98</th>\n",
       "      <th>rssi_99</th>\n",
       "      <th>x</th>\n",
       "      <th>y</th>\n",
       "      <th>floor</th>\n",
       "      <th>path</th>\n",
       "      <th>site_id</th>\n",
       "    </tr>\n",
       "  </thead>\n",
       "  <tbody>\n",
       "    <tr>\n",
       "      <th>0</th>\n",
       "      <td>52393</td>\n",
       "      <td>35871</td>\n",
       "      <td>2765</td>\n",
       "      <td>34898</td>\n",
       "      <td>52710</td>\n",
       "      <td>35260</td>\n",
       "      <td>42720</td>\n",
       "      <td>33510</td>\n",
       "      <td>23417</td>\n",
       "      <td>15249</td>\n",
       "      <td>...</td>\n",
       "      <td>-79</td>\n",
       "      <td>-79</td>\n",
       "      <td>-79</td>\n",
       "      <td>-79</td>\n",
       "      <td>-79</td>\n",
       "      <td>107.85044</td>\n",
       "      <td>161.89262</td>\n",
       "      <td>-1</td>\n",
       "      <td>5e1580adf4c3420006d520d4</td>\n",
       "      <td>0</td>\n",
       "    </tr>\n",
       "    <tr>\n",
       "      <th>1</th>\n",
       "      <td>35871</td>\n",
       "      <td>52393</td>\n",
       "      <td>7487</td>\n",
       "      <td>34898</td>\n",
       "      <td>52710</td>\n",
       "      <td>35260</td>\n",
       "      <td>21971</td>\n",
       "      <td>15249</td>\n",
       "      <td>17025</td>\n",
       "      <td>5351</td>\n",
       "      <td>...</td>\n",
       "      <td>-79</td>\n",
       "      <td>-79</td>\n",
       "      <td>-79</td>\n",
       "      <td>-80</td>\n",
       "      <td>-80</td>\n",
       "      <td>107.85044</td>\n",
       "      <td>161.89262</td>\n",
       "      <td>-1</td>\n",
       "      <td>5e1580adf4c3420006d520d4</td>\n",
       "      <td>0</td>\n",
       "    </tr>\n",
       "    <tr>\n",
       "      <th>2</th>\n",
       "      <td>35871</td>\n",
       "      <td>52393</td>\n",
       "      <td>52710</td>\n",
       "      <td>34898</td>\n",
       "      <td>35260</td>\n",
       "      <td>23417</td>\n",
       "      <td>49408</td>\n",
       "      <td>6673</td>\n",
       "      <td>7487</td>\n",
       "      <td>48501</td>\n",
       "      <td>...</td>\n",
       "      <td>-77</td>\n",
       "      <td>-78</td>\n",
       "      <td>-78</td>\n",
       "      <td>-78</td>\n",
       "      <td>-78</td>\n",
       "      <td>98.33065</td>\n",
       "      <td>163.34334</td>\n",
       "      <td>-1</td>\n",
       "      <td>5e1580adf4c3420006d520d4</td>\n",
       "      <td>0</td>\n",
       "    </tr>\n",
       "    <tr>\n",
       "      <th>3</th>\n",
       "      <td>23417</td>\n",
       "      <td>34898</td>\n",
       "      <td>35260</td>\n",
       "      <td>52393</td>\n",
       "      <td>35871</td>\n",
       "      <td>3707</td>\n",
       "      <td>49408</td>\n",
       "      <td>15613</td>\n",
       "      <td>10167</td>\n",
       "      <td>4978</td>\n",
       "      <td>...</td>\n",
       "      <td>-75</td>\n",
       "      <td>-76</td>\n",
       "      <td>-76</td>\n",
       "      <td>-77</td>\n",
       "      <td>-77</td>\n",
       "      <td>98.33065</td>\n",
       "      <td>163.34334</td>\n",
       "      <td>-1</td>\n",
       "      <td>5e1580adf4c3420006d520d4</td>\n",
       "      <td>0</td>\n",
       "    </tr>\n",
       "    <tr>\n",
       "      <th>4</th>\n",
       "      <td>35871</td>\n",
       "      <td>35260</td>\n",
       "      <td>23417</td>\n",
       "      <td>19473</td>\n",
       "      <td>52393</td>\n",
       "      <td>3707</td>\n",
       "      <td>49408</td>\n",
       "      <td>18306</td>\n",
       "      <td>21410</td>\n",
       "      <td>52795</td>\n",
       "      <td>...</td>\n",
       "      <td>-75</td>\n",
       "      <td>-76</td>\n",
       "      <td>-76</td>\n",
       "      <td>-77</td>\n",
       "      <td>-77</td>\n",
       "      <td>98.33065</td>\n",
       "      <td>163.34334</td>\n",
       "      <td>-1</td>\n",
       "      <td>5e1580adf4c3420006d520d4</td>\n",
       "      <td>0</td>\n",
       "    </tr>\n",
       "  </tbody>\n",
       "</table>\n",
       "<p>5 rows × 205 columns</p>\n",
       "</div>"
      ],
      "text/plain": [
       "   bssid_0  bssid_1  bssid_2  bssid_3  bssid_4  bssid_5  bssid_6  bssid_7  \\\n",
       "0    52393    35871     2765    34898    52710    35260    42720    33510   \n",
       "1    35871    52393     7487    34898    52710    35260    21971    15249   \n",
       "2    35871    52393    52710    34898    35260    23417    49408     6673   \n",
       "3    23417    34898    35260    52393    35871     3707    49408    15613   \n",
       "4    35871    35260    23417    19473    52393     3707    49408    18306   \n",
       "\n",
       "   bssid_8  bssid_9  ...  rssi_95  rssi_96  rssi_97  rssi_98  rssi_99  \\\n",
       "0    23417    15249  ...      -79      -79      -79      -79      -79   \n",
       "1    17025     5351  ...      -79      -79      -79      -80      -80   \n",
       "2     7487    48501  ...      -77      -78      -78      -78      -78   \n",
       "3    10167     4978  ...      -75      -76      -76      -77      -77   \n",
       "4    21410    52795  ...      -75      -76      -76      -77      -77   \n",
       "\n",
       "           x          y  floor                      path  site_id  \n",
       "0  107.85044  161.89262     -1  5e1580adf4c3420006d520d4        0  \n",
       "1  107.85044  161.89262     -1  5e1580adf4c3420006d520d4        0  \n",
       "2   98.33065  163.34334     -1  5e1580adf4c3420006d520d4        0  \n",
       "3   98.33065  163.34334     -1  5e1580adf4c3420006d520d4        0  \n",
       "4   98.33065  163.34334     -1  5e1580adf4c3420006d520d4        0  \n",
       "\n",
       "[5 rows x 205 columns]"
      ]
     },
     "execution_count": 21,
     "metadata": {},
     "output_type": "execute_result"
    }
   ],
   "source": [
    "df_train.head()"
   ]
  },
  {
   "cell_type": "markdown",
   "id": "smart-blink",
   "metadata": {},
   "source": [
    "<br>\n",
    "\n",
    "xyf毎"
   ]
  },
  {
   "cell_type": "code",
   "execution_count": 108,
   "id": "strong-blackjack",
   "metadata": {},
   "outputs": [],
   "source": [
    "def calc_metrics_xyf(xhat, yhat, fhat, x, y, f):\n",
    "    len_x = len(xhat)\n",
    "    intermediate = np.sqrt(np.power(xhat-x, 2) + np.power(yhat-y, 2)) + 15 * np.abs(fhat-f)\n",
    "    x_score = np.sqrt(np.power(xhat - x, 2)).sum() / len_x\n",
    "    y_score = np.sqrt(np.power(yhat - y, 2)).sum() / len_x\n",
    "    f_score = (15 * np.abs(fhat - f)).sum() / len_x\n",
    "    \n",
    "    df_result = pd.DataFrame({\n",
    "        'name': ['all', 'x', 'y', 'f'],\n",
    "        'score': [intermediate.sum()/len_x, x_score, y_score, f_score]\n",
    "    })\n",
    "    return df_result"
   ]
  },
  {
   "cell_type": "code",
   "execution_count": 109,
   "id": "incident-abortion",
   "metadata": {},
   "outputs": [
    {
     "data": {
      "text/html": [
       "<style  type=\"text/css\" >\n",
       "#T_c717a_row0_col1{\n",
       "            width:  10em;\n",
       "             height:  80%;\n",
       "            background:  linear-gradient(90deg,teal 100.0%, transparent 100.0%);\n",
       "        }#T_c717a_row1_col1{\n",
       "            width:  10em;\n",
       "             height:  80%;\n",
       "            background:  linear-gradient(90deg,teal 63.7%, transparent 63.7%);\n",
       "        }#T_c717a_row2_col1{\n",
       "            width:  10em;\n",
       "             height:  80%;\n",
       "            background:  linear-gradient(90deg,teal 63.5%, transparent 63.5%);\n",
       "        }#T_c717a_row3_col1{\n",
       "            width:  10em;\n",
       "             height:  80%;\n",
       "        }</style><table id=\"T_c717a_\" ><thead>    <tr>        <th class=\"blank level0\" ></th>        <th class=\"col_heading level0 col0\" >name</th>        <th class=\"col_heading level0 col1\" >score</th>    </tr></thead><tbody>\n",
       "                <tr>\n",
       "                        <th id=\"T_c717a_level0_row0\" class=\"row_heading level0 row0\" >0</th>\n",
       "                        <td id=\"T_c717a_row0_col0\" class=\"data row0 col0\" >all</td>\n",
       "                        <td id=\"T_c717a_row0_col1\" class=\"data row0 col1\" >3.832466</td>\n",
       "            </tr>\n",
       "            <tr>\n",
       "                        <th id=\"T_c717a_level0_row1\" class=\"row_heading level0 row1\" >1</th>\n",
       "                        <td id=\"T_c717a_row1_col0\" class=\"data row1 col0\" >x</td>\n",
       "                        <td id=\"T_c717a_row1_col1\" class=\"data row1 col1\" >2.443112</td>\n",
       "            </tr>\n",
       "            <tr>\n",
       "                        <th id=\"T_c717a_level0_row2\" class=\"row_heading level0 row2\" >2</th>\n",
       "                        <td id=\"T_c717a_row2_col0\" class=\"data row2 col0\" >y</td>\n",
       "                        <td id=\"T_c717a_row2_col1\" class=\"data row2 col1\" >2.434019</td>\n",
       "            </tr>\n",
       "            <tr>\n",
       "                        <th id=\"T_c717a_level0_row3\" class=\"row_heading level0 row3\" >3</th>\n",
       "                        <td id=\"T_c717a_row3_col0\" class=\"data row3 col0\" >f</td>\n",
       "                        <td id=\"T_c717a_row3_col1\" class=\"data row3 col1\" >0.000000</td>\n",
       "            </tr>\n",
       "    </tbody></table>"
      ],
      "text/plain": [
       "<pandas.io.formats.style.Styler at 0x7fc7bde8da60>"
      ]
     },
     "execution_count": 109,
     "metadata": {},
     "output_type": "execute_result"
    }
   ],
   "source": [
    "df_result_xyf = calc_metrics_xyf(oof_x, oof_y, np.zeros(len(df_train)), df_train['x'], df_train['y'], np.zeros(len(df_train)))\n",
    "df_result_xyf.style.bar(subset=['score'], color=['teal'])"
   ]
  },
  {
   "cell_type": "code",
   "execution_count": 135,
   "id": "historic-webcam",
   "metadata": {},
   "outputs": [
    {
     "data": {
      "image/png": "[encoded data removed]",
      "text/plain": [
       "<Figure size 720x360 with 1 Axes>"
      ]
     },
     "metadata": {
      "needs_background": "light"
     },
     "output_type": "display_data"
    }
   ],
   "source": [
    "plt.rcParams['font.size'] = 15\n",
    "fig, ax = plt.subplots(1, 1, figsize=(10, 5))\n",
    "bar = sns.barplot(data=df_result_xyf, x='name', y='score', ax=ax, palette=['#f8b195', '#f67280', '#c06c84', '#6c5b7b', '#355c7d'])\n",
    "for index, row in df_result_xyf.iterrows():\n",
    "    bar.text(row.name, row.score, round(row.score, 2), color='black', ha=\"center\")"
   ]
  },
  {
   "cell_type": "markdown",
   "id": "standard-thanks",
   "metadata": {},
   "source": [
    "<br>\n",
    "\n",
    "site毎"
   ]
  },
  {
   "cell_type": "code",
   "execution_count": 76,
   "id": "finnish-retro",
   "metadata": {},
   "outputs": [],
   "source": [
    "site_arr = le_site.inverse_transform(df_train.site_id)"
   ]
  },
  {
   "cell_type": "code",
   "execution_count": 73,
   "id": "little-justice",
   "metadata": {},
   "outputs": [],
   "source": [
    "def calc_metrics_site(xhat, yhat, fhat, x, y, f, site_arr):\n",
    "    site_unique = sorted(np.unique(site_arr))\n",
    "    score_list = []\n",
    "    n_sample = []\n",
    "    for site in site_unique:\n",
    "        logics = site_arr == site\n",
    "        xhat_, yhat_, fhat_ = xhat[logics], yhat[logics], fhat[logics]\n",
    "        x_, y_, f_, = x[logics], y[logics], f[logics]\n",
    "        len_x = len(xhat_)\n",
    "        \n",
    "        intermediate = np.sqrt(np.power(xhat_-x_, 2) + np.power(yhat_-y_, 2)) + 15 * np.abs(fhat_-f_)\n",
    "        \n",
    "        score_list.append(intermediate.sum()/len_x)\n",
    "        n_sample.append(len_x)\n",
    "    \n",
    "    df_result = pd.DataFrame({\n",
    "        'site': site_unique,\n",
    "        'n_sample': n_sample,\n",
    "        'score': score_list,\n",
    "    })\n",
    "    return df_result"
   ]
  },
  {
   "cell_type": "code",
   "execution_count": 110,
   "id": "congressional-eating",
   "metadata": {},
   "outputs": [
    {
     "data": {
      "text/html": [
       "<style  type=\"text/css\" >\n",
       "#T_6d536_row0_col1{\n",
       "            width:  10em;\n",
       "             height:  80%;\n",
       "            background:  linear-gradient(90deg,teal 31.6%, transparent 31.6%);\n",
       "        }#T_6d536_row0_col2{\n",
       "            width:  10em;\n",
       "             height:  80%;\n",
       "            background:  linear-gradient(90deg,teal 22.0%, transparent 22.0%);\n",
       "        }#T_6d536_row1_col1{\n",
       "            width:  10em;\n",
       "             height:  80%;\n",
       "            background:  linear-gradient(90deg,teal 33.7%, transparent 33.7%);\n",
       "        }#T_6d536_row1_col2{\n",
       "            width:  10em;\n",
       "             height:  80%;\n",
       "            background:  linear-gradient(90deg,teal 69.8%, transparent 69.8%);\n",
       "        }#T_6d536_row2_col1,#T_6d536_row4_col2{\n",
       "            width:  10em;\n",
       "             height:  80%;\n",
       "            background:  linear-gradient(90deg,teal 100.0%, transparent 100.0%);\n",
       "        }#T_6d536_row2_col2{\n",
       "            width:  10em;\n",
       "             height:  80%;\n",
       "            background:  linear-gradient(90deg,teal 36.5%, transparent 36.5%);\n",
       "        }#T_6d536_row3_col1{\n",
       "            width:  10em;\n",
       "             height:  80%;\n",
       "            background:  linear-gradient(90deg,teal 30.7%, transparent 30.7%);\n",
       "        }#T_6d536_row3_col2{\n",
       "            width:  10em;\n",
       "             height:  80%;\n",
       "            background:  linear-gradient(90deg,teal 24.6%, transparent 24.6%);\n",
       "        }#T_6d536_row4_col1{\n",
       "            width:  10em;\n",
       "             height:  80%;\n",
       "            background:  linear-gradient(90deg,teal 37.4%, transparent 37.4%);\n",
       "        }#T_6d536_row5_col1{\n",
       "            width:  10em;\n",
       "             height:  80%;\n",
       "            background:  linear-gradient(90deg,teal 7.6%, transparent 7.6%);\n",
       "        }#T_6d536_row5_col2{\n",
       "            width:  10em;\n",
       "             height:  80%;\n",
       "            background:  linear-gradient(90deg,teal 42.2%, transparent 42.2%);\n",
       "        }#T_6d536_row6_col1{\n",
       "            width:  10em;\n",
       "             height:  80%;\n",
       "            background:  linear-gradient(90deg,teal 6.1%, transparent 6.1%);\n",
       "        }#T_6d536_row6_col2{\n",
       "            width:  10em;\n",
       "             height:  80%;\n",
       "            background:  linear-gradient(90deg,teal 13.9%, transparent 13.9%);\n",
       "        }#T_6d536_row7_col1{\n",
       "            width:  10em;\n",
       "             height:  80%;\n",
       "            background:  linear-gradient(90deg,teal 60.4%, transparent 60.4%);\n",
       "        }#T_6d536_row7_col2{\n",
       "            width:  10em;\n",
       "             height:  80%;\n",
       "            background:  linear-gradient(90deg,teal 53.9%, transparent 53.9%);\n",
       "        }#T_6d536_row8_col1{\n",
       "            width:  10em;\n",
       "             height:  80%;\n",
       "            background:  linear-gradient(90deg,teal 69.2%, transparent 69.2%);\n",
       "        }#T_6d536_row8_col2{\n",
       "            width:  10em;\n",
       "             height:  80%;\n",
       "            background:  linear-gradient(90deg,teal 78.7%, transparent 78.7%);\n",
       "        }#T_6d536_row9_col1{\n",
       "            width:  10em;\n",
       "             height:  80%;\n",
       "            background:  linear-gradient(90deg,teal 35.3%, transparent 35.3%);\n",
       "        }#T_6d536_row9_col2{\n",
       "            width:  10em;\n",
       "             height:  80%;\n",
       "            background:  linear-gradient(90deg,teal 12.2%, transparent 12.2%);\n",
       "        }#T_6d536_row10_col1{\n",
       "            width:  10em;\n",
       "             height:  80%;\n",
       "            background:  linear-gradient(90deg,teal 35.1%, transparent 35.1%);\n",
       "        }#T_6d536_row10_col2{\n",
       "            width:  10em;\n",
       "             height:  80%;\n",
       "            background:  linear-gradient(90deg,teal 48.5%, transparent 48.5%);\n",
       "        }#T_6d536_row11_col1{\n",
       "            width:  10em;\n",
       "             height:  80%;\n",
       "            background:  linear-gradient(90deg,teal 39.9%, transparent 39.9%);\n",
       "        }#T_6d536_row11_col2{\n",
       "            width:  10em;\n",
       "             height:  80%;\n",
       "            background:  linear-gradient(90deg,teal 75.9%, transparent 75.9%);\n",
       "        }#T_6d536_row12_col1,#T_6d536_row15_col2{\n",
       "            width:  10em;\n",
       "             height:  80%;\n",
       "        }#T_6d536_row12_col2{\n",
       "            width:  10em;\n",
       "             height:  80%;\n",
       "            background:  linear-gradient(90deg,teal 31.5%, transparent 31.5%);\n",
       "        }#T_6d536_row13_col1,#T_6d536_row14_col1{\n",
       "            width:  10em;\n",
       "             height:  80%;\n",
       "            background:  linear-gradient(90deg,teal 30.2%, transparent 30.2%);\n",
       "        }#T_6d536_row13_col2{\n",
       "            width:  10em;\n",
       "             height:  80%;\n",
       "            background:  linear-gradient(90deg,teal 46.2%, transparent 46.2%);\n",
       "        }#T_6d536_row14_col2{\n",
       "            width:  10em;\n",
       "             height:  80%;\n",
       "            background:  linear-gradient(90deg,teal 25.1%, transparent 25.1%);\n",
       "        }#T_6d536_row15_col1{\n",
       "            width:  10em;\n",
       "             height:  80%;\n",
       "            background:  linear-gradient(90deg,teal 0.5%, transparent 0.5%);\n",
       "        }#T_6d536_row16_col1{\n",
       "            width:  10em;\n",
       "             height:  80%;\n",
       "            background:  linear-gradient(90deg,teal 50.2%, transparent 50.2%);\n",
       "        }#T_6d536_row16_col2{\n",
       "            width:  10em;\n",
       "             height:  80%;\n",
       "            background:  linear-gradient(90deg,teal 79.5%, transparent 79.5%);\n",
       "        }#T_6d536_row17_col1{\n",
       "            width:  10em;\n",
       "             height:  80%;\n",
       "            background:  linear-gradient(90deg,teal 21.5%, transparent 21.5%);\n",
       "        }#T_6d536_row17_col2{\n",
       "            width:  10em;\n",
       "             height:  80%;\n",
       "            background:  linear-gradient(90deg,teal 56.0%, transparent 56.0%);\n",
       "        }#T_6d536_row18_col1{\n",
       "            width:  10em;\n",
       "             height:  80%;\n",
       "            background:  linear-gradient(90deg,teal 32.2%, transparent 32.2%);\n",
       "        }#T_6d536_row18_col2{\n",
       "            width:  10em;\n",
       "             height:  80%;\n",
       "            background:  linear-gradient(90deg,teal 42.5%, transparent 42.5%);\n",
       "        }#T_6d536_row19_col1{\n",
       "            width:  10em;\n",
       "             height:  80%;\n",
       "            background:  linear-gradient(90deg,teal 17.4%, transparent 17.4%);\n",
       "        }#T_6d536_row19_col2{\n",
       "            width:  10em;\n",
       "             height:  80%;\n",
       "            background:  linear-gradient(90deg,teal 75.6%, transparent 75.6%);\n",
       "        }#T_6d536_row20_col1{\n",
       "            width:  10em;\n",
       "             height:  80%;\n",
       "            background:  linear-gradient(90deg,teal 70.1%, transparent 70.1%);\n",
       "        }#T_6d536_row20_col2{\n",
       "            width:  10em;\n",
       "             height:  80%;\n",
       "            background:  linear-gradient(90deg,teal 73.0%, transparent 73.0%);\n",
       "        }#T_6d536_row21_col1{\n",
       "            width:  10em;\n",
       "             height:  80%;\n",
       "            background:  linear-gradient(90deg,teal 59.4%, transparent 59.4%);\n",
       "        }#T_6d536_row21_col2{\n",
       "            width:  10em;\n",
       "             height:  80%;\n",
       "            background:  linear-gradient(90deg,teal 43.1%, transparent 43.1%);\n",
       "        }#T_6d536_row22_col1{\n",
       "            width:  10em;\n",
       "             height:  80%;\n",
       "            background:  linear-gradient(90deg,teal 64.3%, transparent 64.3%);\n",
       "        }#T_6d536_row22_col2{\n",
       "            width:  10em;\n",
       "             height:  80%;\n",
       "            background:  linear-gradient(90deg,teal 52.4%, transparent 52.4%);\n",
       "        }#T_6d536_row23_col1{\n",
       "            width:  10em;\n",
       "             height:  80%;\n",
       "            background:  linear-gradient(90deg,teal 61.9%, transparent 61.9%);\n",
       "        }#T_6d536_row23_col2{\n",
       "            width:  10em;\n",
       "             height:  80%;\n",
       "            background:  linear-gradient(90deg,teal 39.2%, transparent 39.2%);\n",
       "        }</style><table id=\"T_6d536_\" ><thead>    <tr>        <th class=\"blank level0\" ></th>        <th class=\"col_heading level0 col0\" >site</th>        <th class=\"col_heading level0 col1\" >n_sample</th>        <th class=\"col_heading level0 col2\" >score</th>    </tr></thead><tbody>\n",
       "                <tr>\n",
       "                        <th id=\"T_6d536_level0_row0\" class=\"row_heading level0 row0\" >0</th>\n",
       "                        <td id=\"T_6d536_row0_col0\" class=\"data row0 col0\" >5a0546857ecc773753327266</td>\n",
       "                        <td id=\"T_6d536_row0_col1\" class=\"data row0 col1\" >9296</td>\n",
       "                        <td id=\"T_6d536_row0_col2\" class=\"data row0 col2\" >3.005664</td>\n",
       "            </tr>\n",
       "            <tr>\n",
       "                        <th id=\"T_6d536_level0_row1\" class=\"row_heading level0 row1\" >1</th>\n",
       "                        <td id=\"T_6d536_row1_col0\" class=\"data row1 col0\" >5c3c44b80379370013e0fd2b</td>\n",
       "                        <td id=\"T_6d536_row1_col1\" class=\"data row1 col1\" >9737</td>\n",
       "                        <td id=\"T_6d536_row1_col2\" class=\"data row1 col2\" >4.339122</td>\n",
       "            </tr>\n",
       "            <tr>\n",
       "                        <th id=\"T_6d536_level0_row2\" class=\"row_heading level0 row2\" >2</th>\n",
       "                        <td id=\"T_6d536_row2_col0\" class=\"data row2 col0\" >5d27075f03f801723c2e360f</td>\n",
       "                        <td id=\"T_6d536_row2_col1\" class=\"data row2 col1\" >23666</td>\n",
       "                        <td id=\"T_6d536_row2_col2\" class=\"data row2 col2\" >3.411062</td>\n",
       "            </tr>\n",
       "            <tr>\n",
       "                        <th id=\"T_6d536_level0_row3\" class=\"row_heading level0 row3\" >3</th>\n",
       "                        <td id=\"T_6d536_row3_col0\" class=\"data row3 col0\" >5d27096c03f801723c31e5e0</td>\n",
       "                        <td id=\"T_6d536_row3_col1\" class=\"data row3 col1\" >9100</td>\n",
       "                        <td id=\"T_6d536_row3_col2\" class=\"data row3 col2\" >3.077105</td>\n",
       "            </tr>\n",
       "            <tr>\n",
       "                        <th id=\"T_6d536_level0_row4\" class=\"row_heading level0 row4\" >4</th>\n",
       "                        <td id=\"T_6d536_row4_col0\" class=\"data row4 col0\" >5d27097f03f801723c320d97</td>\n",
       "                        <td id=\"T_6d536_row4_col1\" class=\"data row4 col1\" >10507</td>\n",
       "                        <td id=\"T_6d536_row4_col2\" class=\"data row4 col2\" >5.182976</td>\n",
       "            </tr>\n",
       "            <tr>\n",
       "                        <th id=\"T_6d536_level0_row5\" class=\"row_heading level0 row5\" >5</th>\n",
       "                        <td id=\"T_6d536_row5_col0\" class=\"data row5 col0\" >5d27099f03f801723c32511d</td>\n",
       "                        <td id=\"T_6d536_row5_col1\" class=\"data row5 col1\" >4251</td>\n",
       "                        <td id=\"T_6d536_row5_col2\" class=\"data row5 col2\" >3.569656</td>\n",
       "            </tr>\n",
       "            <tr>\n",
       "                        <th id=\"T_6d536_level0_row6\" class=\"row_heading level0 row6\" >6</th>\n",
       "                        <td id=\"T_6d536_row6_col0\" class=\"data row6 col0\" >5d2709a003f801723c3251bf</td>\n",
       "                        <td id=\"T_6d536_row6_col1\" class=\"data row6 col1\" >3940</td>\n",
       "                        <td id=\"T_6d536_row6_col2\" class=\"data row6 col2\" >2.778711</td>\n",
       "            </tr>\n",
       "            <tr>\n",
       "                        <th id=\"T_6d536_level0_row7\" class=\"row_heading level0 row7\" >7</th>\n",
       "                        <td id=\"T_6d536_row7_col0\" class=\"data row7 col0\" >5d2709b303f801723c327472</td>\n",
       "                        <td id=\"T_6d536_row7_col1\" class=\"data row7 col1\" >15358</td>\n",
       "                        <td id=\"T_6d536_row7_col2\" class=\"data row7 col2\" >3.894781</td>\n",
       "            </tr>\n",
       "            <tr>\n",
       "                        <th id=\"T_6d536_level0_row8\" class=\"row_heading level0 row8\" >8</th>\n",
       "                        <td id=\"T_6d536_row8_col0\" class=\"data row8 col0\" >5d2709bb03f801723c32852c</td>\n",
       "                        <td id=\"T_6d536_row8_col1\" class=\"data row8 col1\" >17203</td>\n",
       "                        <td id=\"T_6d536_row8_col2\" class=\"data row8 col2\" >4.589533</td>\n",
       "            </tr>\n",
       "            <tr>\n",
       "                        <th id=\"T_6d536_level0_row9\" class=\"row_heading level0 row9\" >9</th>\n",
       "                        <td id=\"T_6d536_row9_col0\" class=\"data row9 col0\" >5d2709c303f801723c3299ee</td>\n",
       "                        <td id=\"T_6d536_row9_col1\" class=\"data row9 col1\" >10083</td>\n",
       "                        <td id=\"T_6d536_row9_col2\" class=\"data row9 col2\" >2.730841</td>\n",
       "            </tr>\n",
       "            <tr>\n",
       "                        <th id=\"T_6d536_level0_row10\" class=\"row_heading level0 row10\" >10</th>\n",
       "                        <td id=\"T_6d536_row10_col0\" class=\"data row10 col0\" >5d2709d403f801723c32bd39</td>\n",
       "                        <td id=\"T_6d536_row10_col1\" class=\"data row10 col1\" >10027</td>\n",
       "                        <td id=\"T_6d536_row10_col2\" class=\"data row10 col2\" >3.746045</td>\n",
       "            </tr>\n",
       "            <tr>\n",
       "                        <th id=\"T_6d536_level0_row11\" class=\"row_heading level0 row11\" >11</th>\n",
       "                        <td id=\"T_6d536_row11_col0\" class=\"data row11 col0\" >5d2709e003f801723c32d896</td>\n",
       "                        <td id=\"T_6d536_row11_col1\" class=\"data row11 col1\" >11042</td>\n",
       "                        <td id=\"T_6d536_row11_col2\" class=\"data row11 col2\" >4.509823</td>\n",
       "            </tr>\n",
       "            <tr>\n",
       "                        <th id=\"T_6d536_level0_row12\" class=\"row_heading level0 row12\" >12</th>\n",
       "                        <td id=\"T_6d536_row12_col0\" class=\"data row12 col0\" >5da138274db8ce0c98bbd3d2</td>\n",
       "                        <td id=\"T_6d536_row12_col1\" class=\"data row12 col1\" >2662</td>\n",
       "                        <td id=\"T_6d536_row12_col2\" class=\"data row12 col2\" >3.270925</td>\n",
       "            </tr>\n",
       "            <tr>\n",
       "                        <th id=\"T_6d536_level0_row13\" class=\"row_heading level0 row13\" >13</th>\n",
       "                        <td id=\"T_6d536_row13_col0\" class=\"data row13 col0\" >5da1382d4db8ce0c98bbe92e</td>\n",
       "                        <td id=\"T_6d536_row13_col1\" class=\"data row13 col1\" >8999</td>\n",
       "                        <td id=\"T_6d536_row13_col2\" class=\"data row13 col2\" >3.679852</td>\n",
       "            </tr>\n",
       "            <tr>\n",
       "                        <th id=\"T_6d536_level0_row14\" class=\"row_heading level0 row14\" >14</th>\n",
       "                        <td id=\"T_6d536_row14_col0\" class=\"data row14 col0\" >5da138314db8ce0c98bbf3a0</td>\n",
       "                        <td id=\"T_6d536_row14_col1\" class=\"data row14 col1\" >9012</td>\n",
       "                        <td id=\"T_6d536_row14_col2\" class=\"data row14 col2\" >3.093123</td>\n",
       "            </tr>\n",
       "            <tr>\n",
       "                        <th id=\"T_6d536_level0_row15\" class=\"row_heading level0 row15\" >15</th>\n",
       "                        <td id=\"T_6d536_row15_col0\" class=\"data row15 col0\" >5da138364db8ce0c98bc00f1</td>\n",
       "                        <td id=\"T_6d536_row15_col1\" class=\"data row15 col1\" >2767</td>\n",
       "                        <td id=\"T_6d536_row15_col2\" class=\"data row15 col2\" >2.391563</td>\n",
       "            </tr>\n",
       "            <tr>\n",
       "                        <th id=\"T_6d536_level0_row16\" class=\"row_heading level0 row16\" >16</th>\n",
       "                        <td id=\"T_6d536_row16_col0\" class=\"data row16 col0\" >5da1383b4db8ce0c98bc11ab</td>\n",
       "                        <td id=\"T_6d536_row16_col1\" class=\"data row16 col1\" >13196</td>\n",
       "                        <td id=\"T_6d536_row16_col2\" class=\"data row16 col2\" >4.611422</td>\n",
       "            </tr>\n",
       "            <tr>\n",
       "                        <th id=\"T_6d536_level0_row17\" class=\"row_heading level0 row17\" >17</th>\n",
       "                        <td id=\"T_6d536_row17_col0\" class=\"data row17 col0\" >5da138754db8ce0c98bca82f</td>\n",
       "                        <td id=\"T_6d536_row17_col1\" class=\"data row17 col1\" >7188</td>\n",
       "                        <td id=\"T_6d536_row17_col2\" class=\"data row17 col2\" >3.956039</td>\n",
       "            </tr>\n",
       "            <tr>\n",
       "                        <th id=\"T_6d536_level0_row18\" class=\"row_heading level0 row18\" >18</th>\n",
       "                        <td id=\"T_6d536_row18_col0\" class=\"data row18 col0\" >5da138764db8ce0c98bcaa46</td>\n",
       "                        <td id=\"T_6d536_row18_col1\" class=\"data row18 col1\" >9420</td>\n",
       "                        <td id=\"T_6d536_row18_col2\" class=\"data row18 col2\" >3.577516</td>\n",
       "            </tr>\n",
       "            <tr>\n",
       "                        <th id=\"T_6d536_level0_row19\" class=\"row_heading level0 row19\" >19</th>\n",
       "                        <td id=\"T_6d536_row19_col0\" class=\"data row19 col0\" >5da1389e4db8ce0c98bd0547</td>\n",
       "                        <td id=\"T_6d536_row19_col1\" class=\"data row19 col1\" >6312</td>\n",
       "                        <td id=\"T_6d536_row19_col2\" class=\"data row19 col2\" >4.501335</td>\n",
       "            </tr>\n",
       "            <tr>\n",
       "                        <th id=\"T_6d536_level0_row20\" class=\"row_heading level0 row20\" >20</th>\n",
       "                        <td id=\"T_6d536_row20_col0\" class=\"data row20 col0\" >5da138b74db8ce0c98bd4774</td>\n",
       "                        <td id=\"T_6d536_row20_col1\" class=\"data row20 col1\" >17382</td>\n",
       "                        <td id=\"T_6d536_row20_col2\" class=\"data row20 col2\" >4.428521</td>\n",
       "            </tr>\n",
       "            <tr>\n",
       "                        <th id=\"T_6d536_level0_row21\" class=\"row_heading level0 row21\" >21</th>\n",
       "                        <td id=\"T_6d536_row21_col0\" class=\"data row21 col0\" >5da958dd46f8266d0737457b</td>\n",
       "                        <td id=\"T_6d536_row21_col1\" class=\"data row21 col1\" >15148</td>\n",
       "                        <td id=\"T_6d536_row21_col2\" class=\"data row21 col2\" >3.595924</td>\n",
       "            </tr>\n",
       "            <tr>\n",
       "                        <th id=\"T_6d536_level0_row22\" class=\"row_heading level0 row22\" >22</th>\n",
       "                        <td id=\"T_6d536_row22_col0\" class=\"data row22 col0\" >5dbc1d84c1eb61796cf7c010</td>\n",
       "                        <td id=\"T_6d536_row22_col1\" class=\"data row22 col1\" >16174</td>\n",
       "                        <td id=\"T_6d536_row22_col2\" class=\"data row22 col2\" >3.854570</td>\n",
       "            </tr>\n",
       "            <tr>\n",
       "                        <th id=\"T_6d536_level0_row23\" class=\"row_heading level0 row23\" >23</th>\n",
       "                        <td id=\"T_6d536_row23_col0\" class=\"data row23 col0\" >5dc8cea7659e181adb076a3f</td>\n",
       "                        <td id=\"T_6d536_row23_col1\" class=\"data row23 col1\" >15655</td>\n",
       "                        <td id=\"T_6d536_row23_col2\" class=\"data row23 col2\" >3.486765</td>\n",
       "            </tr>\n",
       "    </tbody></table>"
      ],
      "text/plain": [
       "<pandas.io.formats.style.Styler at 0x7fc7bde8dac0>"
      ]
     },
     "execution_count": 110,
     "metadata": {},
     "output_type": "execute_result"
    }
   ],
   "source": [
    "df_result_site = calc_metrics_site(oof_x, oof_y, np.zeros(len(df_train)), df_train['x'], df_train['y'], np.zeros(len(df_train)), site_arr)\n",
    "df_result_site.style.bar(subset=['n_sample', 'score'], color=['teal'])"
   ]
  },
  {
   "cell_type": "code",
   "execution_count": 151,
   "id": "clinical-residence",
   "metadata": {},
   "outputs": [
    {
     "data": {
      "image/png": "[encoded data removed]",
      "text/plain": [
       "<Figure size 1440x720 with 2 Axes>"
      ]
     },
     "metadata": {
      "needs_background": "light"
     },
     "output_type": "display_data"
    }
   ],
   "source": [
    "plt.rcParams['font.size'] = 15\n",
    "fig, axs = plt.subplots(1, 2, figsize=(20, 10), sharey=True)\n",
    "axs = axs.ravel()\n",
    "\n",
    "bar = sns.barplot(data=df_result_site, x='score', y='site', orient='h', ax=axs[0])\n",
    "bar2 = sns.barplot(data=df_result_site, x='n_sample', y='site', orient='h', ax=axs[1])\n",
    "axs[1].set_ylabel(None)\n",
    "for index, row in df_result_site.iterrows():\n",
    "    bar.text(row.score, row.name, round(row.score, 2), color='black', ha=\"center\")\n",
    "    bar2.text(row.n_sample, row.name, round(row.n_sample, 2), color='black', ha=\"center\")"
   ]
  },
  {
   "cell_type": "code",
   "execution_count": null,
   "id": "vertical-doctor",
   "metadata": {},
   "outputs": [],
   "source": []
  },
  {
   "cell_type": "raw",
   "id": "streaming-option",
   "metadata": {},
   "source": [
    "\n",
    "\n",
    "\n",
    "\n",
    "\n",
    "\n",
    "\n",
    "\n",
    "\n",
    "\n",
    "\n",
    "\n",
    "\n",
    "\n",
    "\n",
    "\n",
    "\n",
    "\n",
    "\n",
    "\n",
    "\n",
    "\n",
    "\n",
    "\n",
    "\n",
    "\n",
    "\n",
    "\n",
    "\n"
   ]
  }
 ],
 "metadata": {
  "kernelspec": {
   "display_name": "Python 3",
   "language": "python",
   "name": "python3"
  },
  "language_info": {
   "codemirror_mode": {
    "name": "ipython",
    "version": 3
   },
   "file_extension": ".py",
   "mimetype": "text/x-python",
   "name": "python",
   "nbconvert_exporter": "python",
   "pygments_lexer": "ipython3",
   "version": "3.8.5"
  }
 },
 "nbformat": 4,
 "nbformat_minor": 5
}
