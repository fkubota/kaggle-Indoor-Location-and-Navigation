{
 "cells": [
  {
   "cell_type": "markdown",
   "id": "passing-combat",
   "metadata": {},
   "source": [
    "# Overview\n",
    "- 画像で遊ぶ"
   ]
  },
  {
   "cell_type": "code",
   "execution_count": 1,
   "id": "popular-mineral",
   "metadata": {},
   "outputs": [
    {
     "name": "stdout",
     "output_type": "stream",
     "text": [
      "3bc5895\n"
     ]
    }
   ],
   "source": [
    "import subprocess\n",
    "cmd = \"git rev-parse --short HEAD\"\n",
    "hash = subprocess.check_output(cmd.split()).strip().decode('utf-8')\n",
    "print(hash)"
   ]
  },
  {
   "cell_type": "markdown",
   "id": "convinced-omega",
   "metadata": {},
   "source": [
    "# Const"
   ]
  },
  {
   "cell_type": "code",
   "execution_count": 2,
   "id": "informed-edinburgh",
   "metadata": {},
   "outputs": [],
   "source": [
    "NB = '009'\n",
    "DIR_TRAIN = './../data_ignore/input/train/'\n",
    "DIR_TEST = './../data_ignore/input/test/'\n",
    "DIR_WIFI = './../data_ignore/input/wifi/'\n",
    "PATH_SUB = './../data_ignore/input/sample_submission.csv'\n",
    "PATH_99_SUB = './../data/input/floor_99per_acc_sub.csv'\n",
    "DIR_SAVE_IGNORE = f'./../data_ignore/nb/{NB}/'\n",
    "DIR_SAVE = f'./../data/nb/{NB}/'"
   ]
  },
  {
   "cell_type": "code",
   "execution_count": 3,
   "id": "recent-conflict",
   "metadata": {},
   "outputs": [],
   "source": [
    "config_str = '''\n",
    "globals:\n",
    "    seed: 5713\n",
    "    device: cuda\n",
    "    n_label: 24\n",
    "    n_splits: 5\n",
    "    random_sate: 42\n",
    "    lr: 0.001\n",
    "    patience: 10\n",
    "    epoch: 100\n",
    "    batch_size: 512\n",
    "    skip_evaluate_num: 5\n",
    "    num_feats: 20\n",
    "    t_mux: 10\n",
    "'''"
   ]
  },
  {
   "cell_type": "markdown",
   "id": "extraordinary-batch",
   "metadata": {},
   "source": [
    "# Import everything I need:)"
   ]
  },
  {
   "cell_type": "code",
   "execution_count": 4,
   "id": "touched-necklace",
   "metadata": {},
   "outputs": [],
   "source": [
    "import os\n",
    "import time\n",
    "import yaml\n",
    "import json\n",
    "import types\n",
    "import random\n",
    "import pickle\n",
    "import builtins\n",
    "import numpy as np\n",
    "import pandas as pd\n",
    "import seaborn as sns\n",
    "from PIL import Image\n",
    "from icecream import ic\n",
    "import matplotlib.pyplot as plt\n",
    "from dataclasses import dataclass\n",
    "# from tqdm import tqdm\n",
    "from fastprogress import progress_bar, master_bar\n",
    "from glob import glob\n",
    "from loguru import logger\n",
    "from collections import OrderedDict\n",
    "\n",
    "# sklearn\n",
    "from sklearn.preprocessing import LabelEncoder, StandardScaler\n",
    "from sklearn.model_selection import KFold\n",
    "\n",
    "# pytorch\n",
    "import torch\n",
    "from torch import nn\n",
    "from torch.utils.data import Dataset, DataLoader\n",
    "import torch.optim as optim\n",
    "import torch.nn.functional as F"
   ]
  },
  {
   "cell_type": "markdown",
   "id": "fundamental-details",
   "metadata": {},
   "source": [
    "# Function"
   ]
  },
  {
   "cell_type": "code",
   "execution_count": 5,
   "id": "fabulous-childhood",
   "metadata": {
    "executionInfo": {
     "elapsed": 4655,
     "status": "ok",
     "timestamp": 1616479151188,
     "user": {
      "displayName": "ユウキハヤカワ",
      "photoUrl": "https://lh3.googleusercontent.com/a-/AOh14GjfXu9o7zmAYL24s4P8H7I0lvSgQUaSfrXi7qemvQ=s64",
      "userId": "00286900621093795459"
     },
     "user_tz": -540
    },
    "id": "7SxgGjwA5Rty"
   },
   "outputs": [],
   "source": [
    "def imports():\n",
    "    for name, val in globals().items():\n",
    "        # module imports\n",
    "        if isinstance(val, types.ModuleType):\n",
    "            yield name, val\n",
    "\n",
    "            # functions / callables\n",
    "        if hasattr(val, '__call__'):\n",
    "            yield name, val\n",
    "\n",
    "\n",
    "def noglobal(f):\n",
    "    '''\n",
    "    ref: https://gist.github.com/raven38/4e4c3c7a179283c441f575d6e375510c\n",
    "    '''\n",
    "    return types.FunctionType(f.__code__,\n",
    "                              dict(imports()),\n",
    "                              f.__name__,\n",
    "                              f.__defaults__,\n",
    "                              f.__closure__\n",
    "                              )\n",
    "\n",
    "\n",
    "def comp_metric(xhat, yhat, fhat, x, y, f):\n",
    "    intermediate = np.sqrt(np.power(xhat-x, 2) + np.power(yhat-y, 2)) + 15 * np.abs(fhat-f)\n",
    "    return intermediate.sum()/xhat.shape[0]\n",
    "\n",
    "def seed_everything(seed=42):\n",
    "    random.seed(seed)\n",
    "    os.environ['PYTHONHASHSEED'] = str(seed)\n",
    "    np.random.seed(seed)\n",
    "    torch.manual_seed(seed)\n",
    "    torch.cuda.manual_seed(seed)\n",
    "    torch.backends.cudnn.deterministic = True\n",
    "    torch.backends.cudnn.benchmark = True"
   ]
  },
  {
   "cell_type": "code",
   "execution_count": 6,
   "id": "hungarian-pledge",
   "metadata": {},
   "outputs": [],
   "source": [
    "@dataclass\n",
    "class ReadData:\n",
    "    acce: np.ndarray\n",
    "    acce_uncali: np.ndarray\n",
    "    gyro: np.ndarray\n",
    "    gyro_uncali: np.ndarray\n",
    "    magn: np.ndarray\n",
    "    magn_uncali: np.ndarray\n",
    "    ahrs: np.ndarray\n",
    "    wifi: np.ndarray\n",
    "    ibeacon: np.ndarray\n",
    "    waypoint: np.ndarray\n",
    "\n",
    "\n",
    "def read_data_file(data_filename):\n",
    "    acce = []\n",
    "    acce_uncali = []\n",
    "    gyro = []\n",
    "    gyro_uncali = []\n",
    "    magn = []\n",
    "    magn_uncali = []\n",
    "    ahrs = []\n",
    "    wifi = []\n",
    "    ibeacon = []\n",
    "    waypoint = []\n",
    "\n",
    "    with open(data_filename, 'r', encoding='utf-8') as file:\n",
    "        lines = file.readlines()\n",
    "\n",
    "    for line_data in lines:\n",
    "        line_data = line_data.strip()\n",
    "        if not line_data or line_data[0] == '#':\n",
    "            continue\n",
    "\n",
    "        line_data = line_data.split('\\t')\n",
    "\n",
    "        if line_data[1] == 'TYPE_ACCELEROMETER':\n",
    "            acce.append([int(line_data[0]), float(line_data[2]), float(line_data[3]), float(line_data[4])])\n",
    "            continue\n",
    "\n",
    "        if line_data[1] == 'TYPE_ACCELEROMETER_UNCALIBRATED':\n",
    "            acce_uncali.append([int(line_data[0]), float(line_data[2]), float(line_data[3]), float(line_data[4])])\n",
    "            continue\n",
    "\n",
    "        if line_data[1] == 'TYPE_GYROSCOPE':\n",
    "            gyro.append([int(line_data[0]), float(line_data[2]), float(line_data[3]), float(line_data[4])])\n",
    "            continue\n",
    "\n",
    "        if line_data[1] == 'TYPE_GYROSCOPE_UNCALIBRATED':\n",
    "            gyro_uncali.append([int(line_data[0]), float(line_data[2]), float(line_data[3]), float(line_data[4])])\n",
    "            continue\n",
    "\n",
    "        if line_data[1] == 'TYPE_MAGNETIC_FIELD':\n",
    "            magn.append([int(line_data[0]), float(line_data[2]), float(line_data[3]), float(line_data[4])])\n",
    "            continue\n",
    "\n",
    "        if line_data[1] == 'TYPE_MAGNETIC_FIELD_UNCALIBRATED':\n",
    "            magn_uncali.append([int(line_data[0]), float(line_data[2]), float(line_data[3]), float(line_data[4])])\n",
    "            continue\n",
    "\n",
    "        if line_data[1] == 'TYPE_ROTATION_VECTOR':\n",
    "            ahrs.append([int(line_data[0]), float(line_data[2]), float(line_data[3]), float(line_data[4])])\n",
    "            continue\n",
    "\n",
    "        if line_data[1] == 'TYPE_WIFI':\n",
    "            sys_ts = line_data[0]\n",
    "            ssid = line_data[2]\n",
    "            bssid = line_data[3]\n",
    "            rssi = line_data[4]\n",
    "            lastseen_ts = line_data[6]\n",
    "            wifi_data = [sys_ts, ssid, bssid, rssi, lastseen_ts]\n",
    "            wifi.append(wifi_data)\n",
    "            continue\n",
    "\n",
    "        if line_data[1] == 'TYPE_BEACON':\n",
    "            ts = line_data[0]\n",
    "            uuid = line_data[2]\n",
    "            major = line_data[3]\n",
    "            minor = line_data[4]\n",
    "            rssi = line_data[6]\n",
    "            ibeacon_data = [ts, '_'.join([uuid, major, minor]), rssi]\n",
    "            ibeacon.append(ibeacon_data)\n",
    "            continue\n",
    "\n",
    "        if line_data[1] == 'TYPE_WAYPOINT':\n",
    "            waypoint.append([int(line_data[0]), float(line_data[2]), float(line_data[3])])\n",
    "\n",
    "    acce = np.array(acce)\n",
    "    acce_uncali = np.array(acce_uncali)\n",
    "    gyro = np.array(gyro)\n",
    "    gyro_uncali = np.array(gyro_uncali)\n",
    "    magn = np.array(magn)\n",
    "    magn_uncali = np.array(magn_uncali)\n",
    "    ahrs = np.array(ahrs)\n",
    "    wifi = np.array(wifi)\n",
    "    ibeacon = np.array(ibeacon)\n",
    "    waypoint = np.array(waypoint)\n",
    "\n",
    "    return ReadData(acce, acce_uncali, gyro, gyro_uncali, magn, magn_uncali, ahrs, wifi, ibeacon, waypoint)"
   ]
  },
  {
   "cell_type": "markdown",
   "id": "native-effects",
   "metadata": {},
   "source": [
    "# Preparation"
   ]
  },
  {
   "cell_type": "markdown",
   "id": "knowing-making",
   "metadata": {},
   "source": [
    "load config"
   ]
  },
  {
   "cell_type": "code",
   "execution_count": 7,
   "id": "chicken-communications",
   "metadata": {},
   "outputs": [
    {
     "data": {
      "text/plain": [
       "{'globals': {'seed': 5713,\n",
       "  'device': 'cuda',\n",
       "  'n_label': 24,\n",
       "  'n_splits': 5,\n",
       "  'random_sate': 42,\n",
       "  'lr': 0.001,\n",
       "  'patience': 10,\n",
       "  'epoch': 100,\n",
       "  'batch_size': 512,\n",
       "  'skip_evaluate_num': 5,\n",
       "  'num_feats': 20,\n",
       "  't_mux': 10}}"
      ]
     },
     "execution_count": 7,
     "metadata": {},
     "output_type": "execute_result"
    }
   ],
   "source": [
    "config = yaml.safe_load(config_str)\n",
    "config"
   ]
  },
  {
   "cell_type": "markdown",
   "id": "blond-medicaid",
   "metadata": {},
   "source": [
    "<br>\n",
    "\n",
    "set"
   ]
  },
  {
   "cell_type": "code",
   "execution_count": 8,
   "id": "encouraging-quebec",
   "metadata": {},
   "outputs": [],
   "source": [
    "seed_everything(config['globals']['seed'])\n",
    "pd.set_option('display.max_rows', 500)\n",
    "\n",
    "if not os.path.exists(DIR_SAVE_IGNORE):\n",
    "    os.makedirs(DIR_SAVE_IGNORE)\n",
    "if not os.path.exists(DIR_SAVE):\n",
    "    os.makedirs(DIR_SAVE)"
   ]
  },
  {
   "cell_type": "markdown",
   "id": "patient-lucas",
   "metadata": {},
   "source": [
    "<br>\n",
    "\n",
    "load dataset"
   ]
  },
  {
   "cell_type": "code",
   "execution_count": 9,
   "id": "falling-makeup",
   "metadata": {},
   "outputs": [],
   "source": [
    "sample_submission = pd.read_csv(PATH_SUB)\n",
    "sub = pd.read_csv('./../data/nb/002/nb002_sub.csv')"
   ]
  },
  {
   "cell_type": "markdown",
   "id": "special-empire",
   "metadata": {},
   "source": [
    "# EDA"
   ]
  },
  {
   "cell_type": "code",
   "execution_count": 11,
   "id": "greatest-amber",
   "metadata": {},
   "outputs": [
    {
     "data": {
      "text/html": [
       "<div>\n",
       "<style scoped>\n",
       "    .dataframe tbody tr th:only-of-type {\n",
       "        vertical-align: middle;\n",
       "    }\n",
       "\n",
       "    .dataframe tbody tr th {\n",
       "        vertical-align: top;\n",
       "    }\n",
       "\n",
       "    .dataframe thead th {\n",
       "        text-align: right;\n",
       "    }\n",
       "</style>\n",
       "<table border=\"1\" class=\"dataframe\">\n",
       "  <thead>\n",
       "    <tr style=\"text-align: right;\">\n",
       "      <th></th>\n",
       "      <th>site_path_timestamp</th>\n",
       "      <th>floor</th>\n",
       "      <th>x</th>\n",
       "      <th>y</th>\n",
       "    </tr>\n",
       "  </thead>\n",
       "  <tbody>\n",
       "    <tr>\n",
       "      <th>0</th>\n",
       "      <td>5a0546857ecc773753327266_046cfa46be49fc1083481...</td>\n",
       "      <td>0</td>\n",
       "      <td>86.470265</td>\n",
       "      <td>101.522876</td>\n",
       "    </tr>\n",
       "    <tr>\n",
       "      <th>1</th>\n",
       "      <td>5a0546857ecc773753327266_046cfa46be49fc1083481...</td>\n",
       "      <td>0</td>\n",
       "      <td>78.126546</td>\n",
       "      <td>102.266641</td>\n",
       "    </tr>\n",
       "    <tr>\n",
       "      <th>2</th>\n",
       "      <td>5a0546857ecc773753327266_046cfa46be49fc1083481...</td>\n",
       "      <td>0</td>\n",
       "      <td>79.247433</td>\n",
       "      <td>103.743515</td>\n",
       "    </tr>\n",
       "    <tr>\n",
       "      <th>3</th>\n",
       "      <td>5a0546857ecc773753327266_046cfa46be49fc1083481...</td>\n",
       "      <td>0</td>\n",
       "      <td>85.940889</td>\n",
       "      <td>106.885060</td>\n",
       "    </tr>\n",
       "    <tr>\n",
       "      <th>4</th>\n",
       "      <td>5a0546857ecc773753327266_046cfa46be49fc1083481...</td>\n",
       "      <td>0</td>\n",
       "      <td>88.091051</td>\n",
       "      <td>109.489136</td>\n",
       "    </tr>\n",
       "    <tr>\n",
       "      <th>...</th>\n",
       "      <td>...</td>\n",
       "      <td>...</td>\n",
       "      <td>...</td>\n",
       "      <td>...</td>\n",
       "    </tr>\n",
       "    <tr>\n",
       "      <th>10128</th>\n",
       "      <td>5dc8cea7659e181adb076a3f_fd64de8c4a2fc5ebb0e9f...</td>\n",
       "      <td>5</td>\n",
       "      <td>214.266605</td>\n",
       "      <td>97.276553</td>\n",
       "    </tr>\n",
       "    <tr>\n",
       "      <th>10129</th>\n",
       "      <td>5dc8cea7659e181adb076a3f_fd64de8c4a2fc5ebb0e9f...</td>\n",
       "      <td>5</td>\n",
       "      <td>210.642874</td>\n",
       "      <td>100.131723</td>\n",
       "    </tr>\n",
       "    <tr>\n",
       "      <th>10130</th>\n",
       "      <td>5dc8cea7659e181adb076a3f_fd64de8c4a2fc5ebb0e9f...</td>\n",
       "      <td>5</td>\n",
       "      <td>204.117545</td>\n",
       "      <td>105.498964</td>\n",
       "    </tr>\n",
       "    <tr>\n",
       "      <th>10131</th>\n",
       "      <td>5dc8cea7659e181adb076a3f_fd64de8c4a2fc5ebb0e9f...</td>\n",
       "      <td>5</td>\n",
       "      <td>202.371286</td>\n",
       "      <td>109.439828</td>\n",
       "    </tr>\n",
       "    <tr>\n",
       "      <th>10132</th>\n",
       "      <td>5dc8cea7659e181adb076a3f_fd64de8c4a2fc5ebb0e9f...</td>\n",
       "      <td>5</td>\n",
       "      <td>200.596353</td>\n",
       "      <td>107.554456</td>\n",
       "    </tr>\n",
       "  </tbody>\n",
       "</table>\n",
       "<p>10133 rows × 4 columns</p>\n",
       "</div>"
      ],
      "text/plain": [
       "                                     site_path_timestamp  floor           x  \\\n",
       "0      5a0546857ecc773753327266_046cfa46be49fc1083481...      0   86.470265   \n",
       "1      5a0546857ecc773753327266_046cfa46be49fc1083481...      0   78.126546   \n",
       "2      5a0546857ecc773753327266_046cfa46be49fc1083481...      0   79.247433   \n",
       "3      5a0546857ecc773753327266_046cfa46be49fc1083481...      0   85.940889   \n",
       "4      5a0546857ecc773753327266_046cfa46be49fc1083481...      0   88.091051   \n",
       "...                                                  ...    ...         ...   \n",
       "10128  5dc8cea7659e181adb076a3f_fd64de8c4a2fc5ebb0e9f...      5  214.266605   \n",
       "10129  5dc8cea7659e181adb076a3f_fd64de8c4a2fc5ebb0e9f...      5  210.642874   \n",
       "10130  5dc8cea7659e181adb076a3f_fd64de8c4a2fc5ebb0e9f...      5  204.117545   \n",
       "10131  5dc8cea7659e181adb076a3f_fd64de8c4a2fc5ebb0e9f...      5  202.371286   \n",
       "10132  5dc8cea7659e181adb076a3f_fd64de8c4a2fc5ebb0e9f...      5  200.596353   \n",
       "\n",
       "                y  \n",
       "0      101.522876  \n",
       "1      102.266641  \n",
       "2      103.743515  \n",
       "3      106.885060  \n",
       "4      109.489136  \n",
       "...           ...  \n",
       "10128   97.276553  \n",
       "10129  100.131723  \n",
       "10130  105.498964  \n",
       "10131  109.439828  \n",
       "10132  107.554456  \n",
       "\n",
       "[10133 rows x 4 columns]"
      ]
     },
     "execution_count": 11,
     "metadata": {},
     "output_type": "execute_result"
    }
   ],
   "source": [
    "sub"
   ]
  },
  {
   "cell_type": "code",
   "execution_count": 12,
   "id": "acquired-lover",
   "metadata": {},
   "outputs": [],
   "source": [
    "site_path_timestamp = sub.site_path_timestamp.values"
   ]
  },
  {
   "cell_type": "code",
   "execution_count": 39,
   "id": "celtic-kennedy",
   "metadata": {},
   "outputs": [],
   "source": [
    "site_arr = []\n",
    "path_arr = []\n",
    "for val in site_path_timestamp:\n",
    "    site, path, _ = val.split('_')\n",
    "    site_arr.append(site)\n",
    "    path_arr.append(path)\n",
    "site_arr = np.array(site_arr)\n",
    "path_arr = np.array(path_arr)"
   ]
  },
  {
   "cell_type": "code",
   "execution_count": 36,
   "id": "voluntary-updating",
   "metadata": {},
   "outputs": [],
   "source": [
    "x_arr = sub.x.values\n",
    "y_arr = sub.y.values"
   ]
  },
  {
   "cell_type": "code",
   "execution_count": 47,
   "id": "finnish-cambridge",
   "metadata": {},
   "outputs": [],
   "source": [
    "dir_image = './../data/nb/008/floor_images_with_trace/'"
   ]
  },
  {
   "cell_type": "code",
   "execution_count": 51,
   "id": "confidential-panel",
   "metadata": {},
   "outputs": [
    {
     "data": {
      "text/plain": [
       "['B1', 'F1', 'F2', 'F3', 'F4']"
      ]
     },
     "execution_count": 51,
     "metadata": {},
     "output_type": "execute_result"
    }
   ],
   "source": [
    "site_idx = 5\n",
    "\n",
    "site_unique = sorted(np.unique(site_arr))\n",
    "site = site_unique[site_idx]\n",
    "\n",
    "floor_list = sorted(glob(f'{dir_image}{site}/*'))\n",
    "floor_list = [text.split('/')[-1] for text in floor_list]\n",
    "floor_list"
   ]
  },
  {
   "cell_type": "code",
   "execution_count": null,
   "id": "interpreted-bible",
   "metadata": {},
   "outputs": [],
   "source": []
  },
  {
   "cell_type": "code",
   "execution_count": 54,
   "id": "painful-resort",
   "metadata": {},
   "outputs": [],
   "source": [
    "for i_floor, floor in enumerate(floor_list):\n",
    "    path_img = f'{dir_image}{site}/{floor}/floor_image_with_trace.png'\n",
    "    im = Image.open(path_img)"
   ]
  },
  {
   "cell_type": "code",
   "execution_count": null,
   "id": "handy-offset",
   "metadata": {},
   "outputs": [],
   "source": []
  },
  {
   "cell_type": "code",
   "execution_count": null,
   "id": "critical-knitting",
   "metadata": {},
   "outputs": [],
   "source": []
  },
  {
   "cell_type": "code",
   "execution_count": 157,
   "id": "stone-width",
   "metadata": {},
   "outputs": [
    {
     "data": {
      "image/png": "[encoded data removed]",
      "text/plain": [
       "<Figure size 600x400 with 1 Axes>"
      ]
     },
     "metadata": {},
     "output_type": "display_data"
    }
   ],
   "source": [
    "site_idx = 13\n",
    "floor_idx = 2\n",
    "dpi = 200\n",
    "\n",
    "site = site_list[site_idx]\n",
    "floor_list = sorted(glob(f'./../data_ignore/input/train/{site_list[site_idx]}/*'))\n",
    "floor = [text.split('/')[-1] for text in floor_list][floor_idx]\n",
    "\n",
    "# json\n",
    "path_json = f'./../data_ignore/input/metadata/{site}/{floor}/floor_info.json'\n",
    "with open(path_json) as json_file:\n",
    "    json_data = json.load(json_file)\n",
    "width_meter = json_data[\"map_info\"][\"width\"]\n",
    "height_meter = json_data[\"map_info\"][\"height\"]\n",
    "\n",
    "# show image\n",
    "# title = f'site: {site}\\nfloor: {floor}'\n",
    "path_img = f'./../data_ignore/input/metadata/{site}/{floor}/floor_image.png'\n",
    "im = Image.open(path_img)\n",
    "\n",
    "fig, ax = plt.subplots(1, 1, dpi=dpi)\n",
    "fig.patch.set_facecolor('white')\n",
    "fig.subplots_adjust(left=0, right=1, bottom=0, top=1, hspace = 0, wspace = 0)\n",
    "ax.tick_params(\n",
    "    axis='both',      \n",
    "    which='both',   \n",
    "    bottom=False,   \n",
    "    left=False,    \n",
    "    labelleft=False, \n",
    "    labelbottom=False) \n",
    "ax.imshow(np.asarray(im), extent=(0, width_meter, 0, height_meter))\n",
    "\n",
    "path_trace_list = sorted(glob(f'./../data_ignore/input/train/{site}/{floor}/*'))\n",
    "for i_trace in range(len(path_trace_list)):\n",
    "    data = read_data_file(path_trace_list[i_trace])\n",
    "    waypoints = data.waypoint\n",
    "    x_arr = waypoints[:, 1]\n",
    "    y_arr = waypoints[:, 2]\n",
    "\n",
    "    ax.plot(x_arr, y_arr, linewidth=2, alpha=0.3, color='orange')\n",
    "fig.savefig('image.png', bbox_inches = 'tight', pad_inches = 0)"
   ]
  },
  {
   "cell_type": "code",
   "execution_count": null,
   "id": "mediterranean-daughter",
   "metadata": {},
   "outputs": [],
   "source": []
  },
  {
   "cell_type": "code",
   "execution_count": null,
   "id": "exposed-bloom",
   "metadata": {},
   "outputs": [],
   "source": []
  },
  {
   "cell_type": "raw",
   "id": "wicked-washer",
   "metadata": {},
   "source": [
    "\n",
    "\n",
    "\n",
    "\n",
    "\n",
    "\n",
    "\n",
    "\n",
    "\n",
    "\n",
    "\n",
    "\n",
    "\n",
    "\n",
    "\n",
    "\n",
    "\n",
    "\n",
    "\n",
    "\n",
    "\n",
    "\n",
    "\n",
    "\n",
    "\n",
    "\n",
    "\n",
    "\n",
    "\n"
   ]
  }
 ],
 "metadata": {
  "kernelspec": {
   "display_name": "Python 3",
   "language": "python",
   "name": "python3"
  },
  "language_info": {
   "codemirror_mode": {
    "name": "ipython",
    "version": 3
   },
   "file_extension": ".py",
   "mimetype": "text/x-python",
   "name": "python",
   "nbconvert_exporter": "python",
   "pygments_lexer": "ipython3",
   "version": "3.8.5"
  }
 },
 "nbformat": 4,
 "nbformat_minor": 5
}
