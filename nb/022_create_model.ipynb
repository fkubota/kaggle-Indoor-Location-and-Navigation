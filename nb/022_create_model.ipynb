{
 "cells": [
  {
   "cell_type": "markdown",
   "metadata": {},
   "source": [
    "# Overview\n",
    "- nb002を1つのサイトだけで学習してみる"
   ]
  },
  {
   "cell_type": "code",
   "execution_count": 1,
   "metadata": {},
   "outputs": [
    {
     "name": "stdout",
     "output_type": "stream",
     "text": [
      "1c30b36\n"
     ]
    }
   ],
   "source": [
    "import subprocess\n",
    "cmd = \"git rev-parse --short HEAD\"\n",
    "hash = subprocess.check_output(cmd.split()).strip().decode('utf-8')\n",
    "print(hash)"
   ]
  },
  {
   "cell_type": "markdown",
   "metadata": {},
   "source": [
    "# Const"
   ]
  },
  {
   "cell_type": "code",
   "execution_count": 2,
   "metadata": {},
   "outputs": [],
   "source": [
    "NB = '022'\n",
    "SITE = '5d27075f03f801723c2e360f'\n",
    "DIR_TRAIN = './../data_ignore/input/train/'\n",
    "DIR_TEST = './../data_ignore/input/test/'\n",
    "DIR_WIFI = './../data_ignore/input/wifi/'\n",
    "PATH_SUB = './../data_ignore/input/sample_submission.csv'\n",
    "PATH_99_SUB = './../data/input/floor_99per_acc_sub.csv'\n",
    "DIR_SAVE_IGNORE = f'./../data_ignore/nb/{NB}/'\n",
    "DIR_SAVE = f'./../data/nb/{NB}/'"
   ]
  },
  {
   "cell_type": "code",
   "execution_count": 3,
   "metadata": {},
   "outputs": [],
   "source": [
    "config_str = '''\n",
    "globals:\n",
    "    seed: 5713\n",
    "    device: cuda\n",
    "    n_label: 24\n",
    "    n_splits: 5\n",
    "    random_sate: 42\n",
    "    lr: 0.005\n",
    "    patience: 10\n",
    "    epoch: 100\n",
    "    batch_size: 512\n",
    "    skip_evaluate_num: 5\n",
    "    num_feats: 20\n",
    "    t_mux: 10\n",
    "'''"
   ]
  },
  {
   "cell_type": "markdown",
   "metadata": {},
   "source": [
    "# Import everything I need:)"
   ]
  },
  {
   "cell_type": "code",
   "execution_count": 4,
   "metadata": {},
   "outputs": [],
   "source": [
    "import os\n",
    "import yaml\n",
    "import types\n",
    "import random\n",
    "import pickle\n",
    "import builtins\n",
    "import numpy as np\n",
    "import pandas as pd\n",
    "from icecream import ic\n",
    "# from tqdm import tqdm\n",
    "from fastprogress import progress_bar, master_bar\n",
    "from glob import glob\n",
    "from loguru import logger\n",
    "from collections import OrderedDict\n",
    "\n",
    "# sklearn\n",
    "from sklearn.preprocessing import LabelEncoder, StandardScaler\n",
    "from sklearn.model_selection import KFold\n",
    "\n",
    "# pytorch\n",
    "import torch\n",
    "from torch import nn\n",
    "from torch.utils.data import Dataset, DataLoader\n",
    "import torch.optim as optim\n",
    "import torch.nn.functional as F"
   ]
  },
  {
   "cell_type": "markdown",
   "metadata": {},
   "source": [
    "# Function"
   ]
  },
  {
   "cell_type": "code",
   "execution_count": 5,
   "metadata": {
    "executionInfo": {
     "elapsed": 4655,
     "status": "ok",
     "timestamp": 1616479151188,
     "user": {
      "displayName": "ユウキハヤカワ",
      "photoUrl": "https://lh3.googleusercontent.com/a-/AOh14GjfXu9o7zmAYL24s4P8H7I0lvSgQUaSfrXi7qemvQ=s64",
      "userId": "00286900621093795459"
     },
     "user_tz": -540
    },
    "id": "7SxgGjwA5Rty"
   },
   "outputs": [],
   "source": [
    "def imports():\n",
    "    for name, val in globals().items():\n",
    "        # module imports\n",
    "        if isinstance(val, types.ModuleType):\n",
    "            yield name, val\n",
    "\n",
    "            # functions / callables\n",
    "        if hasattr(val, '__call__'):\n",
    "            yield name, val\n",
    "\n",
    "\n",
    "def noglobal(f):\n",
    "    '''\n",
    "    ref: https://gist.github.com/raven38/4e4c3c7a179283c441f575d6e375510c\n",
    "    '''\n",
    "    return types.FunctionType(f.__code__,\n",
    "                              dict(imports()),\n",
    "                              f.__name__,\n",
    "                              f.__defaults__,\n",
    "                              f.__closure__\n",
    "                              )\n",
    "\n",
    "\n",
    "def comp_metric(xhat, yhat, fhat, x, y, f):\n",
    "    intermediate = np.sqrt(np.power(xhat-x, 2) + np.power(yhat-y, 2)) + 15 * np.abs(fhat-f)\n",
    "    return intermediate.sum()/xhat.shape[0]\n",
    "\n",
    "def seed_everything(seed=42):\n",
    "    random.seed(seed)\n",
    "    os.environ['PYTHONHASHSEED'] = str(seed)\n",
    "    np.random.seed(seed)\n",
    "    torch.manual_seed(seed)\n",
    "    torch.cuda.manual_seed(seed)\n",
    "    torch.backends.cudnn.deterministic = True\n",
    "    torch.backends.cudnn.benchmark = True"
   ]
  },
  {
   "cell_type": "markdown",
   "metadata": {},
   "source": [
    "# Preparation"
   ]
  },
  {
   "cell_type": "markdown",
   "metadata": {},
   "source": [
    "load config"
   ]
  },
  {
   "cell_type": "code",
   "execution_count": 6,
   "metadata": {},
   "outputs": [
    {
     "data": {
      "text/plain": [
       "{'globals': {'seed': 5713,\n",
       "  'device': 'cuda',\n",
       "  'n_label': 24,\n",
       "  'n_splits': 5,\n",
       "  'random_sate': 42,\n",
       "  'lr': 0.005,\n",
       "  'patience': 10,\n",
       "  'epoch': 100,\n",
       "  'batch_size': 512,\n",
       "  'skip_evaluate_num': 5,\n",
       "  'num_feats': 20,\n",
       "  't_mux': 10}}"
      ]
     },
     "execution_count": 6,
     "metadata": {},
     "output_type": "execute_result"
    }
   ],
   "source": [
    "config = yaml.safe_load(config_str)\n",
    "config"
   ]
  },
  {
   "cell_type": "markdown",
   "metadata": {},
   "source": [
    "<br>\n",
    "\n",
    "set"
   ]
  },
  {
   "cell_type": "code",
   "execution_count": 7,
   "metadata": {},
   "outputs": [],
   "source": [
    "seed_everything(config['globals']['seed'])\n",
    "\n",
    "if not os.path.exists(DIR_SAVE_IGNORE):\n",
    "    os.makedirs(DIR_SAVE_IGNORE)\n",
    "if not os.path.exists(DIR_SAVE):\n",
    "    os.makedirs(DIR_SAVE)"
   ]
  },
  {
   "cell_type": "markdown",
   "metadata": {},
   "source": [
    "<br>\n",
    "\n",
    "load dataset"
   ]
  },
  {
   "cell_type": "raw",
   "metadata": {},
   "source": [
    "train_files = sorted(glob(f'{DIR_WIFI}*_train.csv'))\n",
    "test_files = sorted(glob(f'{DIR_WIFI}*_test.csv'))\n",
    "sample_sub = pd.read_csv(PATH_SUB)"
   ]
  },
  {
   "cell_type": "code",
   "execution_count": 8,
   "metadata": {
    "executionInfo": {
     "elapsed": 12440,
     "status": "ok",
     "timestamp": 1616479159010,
     "user": {
      "displayName": "ユウキハヤカワ",
      "photoUrl": "https://lh3.googleusercontent.com/a-/AOh14GjfXu9o7zmAYL24s4P8H7I0lvSgQUaSfrXi7qemvQ=s64",
      "userId": "00286900621093795459"
     },
     "user_tz": -540
    },
    "id": "g0ytMb1aSnv0"
   },
   "outputs": [],
   "source": [
    "with open(f'{DIR_WIFI}train_all.pkl', 'rb') as f:\n",
    "    df_train = pickle.load( f)\n",
    "with open(f'{DIR_WIFI}test_all.pkl', 'rb') as f:\n",
    "    df_test = pickle.load( f)"
   ]
  },
  {
   "cell_type": "markdown",
   "metadata": {},
   "source": [
    "<br>\n",
    "\n",
    "site絞る"
   ]
  },
  {
   "cell_type": "code",
   "execution_count": 9,
   "metadata": {},
   "outputs": [],
   "source": [
    "df_train = df_train[df_train.site_id == SITE]\n",
    "df_test = df_test[df_test.site_id == SITE]"
   ]
  },
  {
   "cell_type": "markdown",
   "metadata": {},
   "source": [
    "<br>\n",
    "\n",
    "preprocessing"
   ]
  },
  {
   "cell_type": "code",
   "execution_count": 10,
   "metadata": {
    "executionInfo": {
     "elapsed": 12395,
     "status": "ok",
     "timestamp": 1616479159023,
     "user": {
      "displayName": "ユウキハヤカワ",
      "photoUrl": "https://lh3.googleusercontent.com/a-/AOh14GjfXu9o7zmAYL24s4P8H7I0lvSgQUaSfrXi7qemvQ=s64",
      "userId": "00286900621093795459"
     },
     "user_tz": -540
    },
    "id": "6wFlN2I2NL3z"
   },
   "outputs": [],
   "source": [
    "bssid_feats = [f'bssid_{i}' for i in range(config['globals']['num_feats'])]\n",
    "rssi_feats  = [f'rssi_{i}' for i in range(config['globals']['num_feats'])]"
   ]
  },
  {
   "cell_type": "code",
   "execution_count": 11,
   "metadata": {
    "colab": {
     "base_uri": "https://localhost:8080/"
    },
    "executionInfo": {
     "elapsed": 16854,
     "status": "ok",
     "timestamp": 1616479163506,
     "user": {
      "displayName": "ユウキハヤカワ",
      "photoUrl": "https://lh3.googleusercontent.com/a-/AOh14GjfXu9o7zmAYL24s4P8H7I0lvSgQUaSfrXi7qemvQ=s64",
      "userId": "00286900621093795459"
     },
     "user_tz": -540
    },
    "id": "hfyRDfw3Xbov",
    "outputId": "196b63bf-9e51-4a08-8fd5-9b04139c3d4b"
   },
   "outputs": [
    {
     "name": "stdout",
     "output_type": "stream",
     "text": [
      "BSSID TYPES: 6582\n",
      "BSSID TYPES: 659\n",
      "BSSID TYPES: 7241\n"
     ]
    }
   ],
   "source": [
    "# bssidの一覧作成\n",
    "# wifi_bassidにはtrainとtest両方のbssidの一覧が含まれる\n",
    "\n",
    "wifi_bssids = []\n",
    "for i in range(100):\n",
    "    wifi_bssids.extend(df_train.iloc[:,i].values.tolist())\n",
    "wifi_bssids = list(set(wifi_bssids))\n",
    "\n",
    "wifi_bssids_size = len(wifi_bssids)\n",
    "print(f'BSSID TYPES: {wifi_bssids_size}')\n",
    "\n",
    "wifi_bssids_test = []\n",
    "for i in range(100):\n",
    "    wifi_bssids_test.extend(df_test.iloc[:,i].values.tolist())\n",
    "wifi_bssids_test = list(set(wifi_bssids_test))\n",
    "\n",
    "wifi_bssids_size = len(wifi_bssids_test)\n",
    "print(f'BSSID TYPES: {wifi_bssids_size}')\n",
    "\n",
    "wifi_bssids.extend(wifi_bssids_test)\n",
    "wifi_bssids_size = len(wifi_bssids)\n",
    "print(f'BSSID TYPES: {wifi_bssids_size}')"
   ]
  },
  {
   "cell_type": "raw",
   "metadata": {
    "colab": {
     "base_uri": "https://localhost:8080/"
    },
    "executionInfo": {
     "elapsed": 16854,
     "status": "ok",
     "timestamp": 1616479163506,
     "user": {
      "displayName": "ユウキハヤカワ",
      "photoUrl": "https://lh3.googleusercontent.com/a-/AOh14GjfXu9o7zmAYL24s4P8H7I0lvSgQUaSfrXi7qemvQ=s64",
      "userId": "00286900621093795459"
     },
     "user_tz": -540
    },
    "id": "hfyRDfw3Xbov",
    "outputId": "196b63bf-9e51-4a08-8fd5-9b04139c3d4b"
   },
   "source": [
    "# bssidの一覧作成\n",
    "# wifi_bassidにはtrainとtest両方のbssidの一覧が含まれる\n",
    "\n",
    "wifi_bssids = []\n",
    "for i in range(100):\n",
    "    wifi_bssids.extend(df_train.iloc[:, i].values.tolist())\n",
    "    wifi_bssids.extend(df_test.iloc[:, i].values.tolist())\n",
    "\n",
    "wifi_bssids = list(set(wifi_bssids))\n",
    "print(f'BSSID TYPES: {len(wifi_bssids)}')"
   ]
  },
  {
   "cell_type": "code",
   "execution_count": 12,
   "metadata": {
    "colab": {
     "base_uri": "https://localhost:8080/"
    },
    "executionInfo": {
     "elapsed": 18605,
     "status": "ok",
     "timestamp": 1616479165294,
     "user": {
      "displayName": "ユウキハヤカワ",
      "photoUrl": "https://lh3.googleusercontent.com/a-/AOh14GjfXu9o7zmAYL24s4P8H7I0lvSgQUaSfrXi7qemvQ=s64",
      "userId": "00286900621093795459"
     },
     "user_tz": -540
    },
    "id": "eBhOfx-CdxJB",
    "outputId": "74a3e5ac-a638-41eb-b228-5d6c6cd9c0df"
   },
   "outputs": [
    {
     "data": {
      "text/plain": [
       "StandardScaler()"
      ]
     },
     "execution_count": 12,
     "metadata": {},
     "output_type": "execute_result"
    }
   ],
   "source": [
    "# LabelEncoding & StandardScaler\n",
    "\n",
    "le = LabelEncoder()\n",
    "le.fit(wifi_bssids)\n",
    "le_site = LabelEncoder()\n",
    "le_site.fit(df_train['site_id'])\n",
    "\n",
    "ss = StandardScaler()\n",
    "ss.fit(df_train.loc[:, rssi_feats])"
   ]
  },
  {
   "cell_type": "code",
   "execution_count": 13,
   "metadata": {
    "executionInfo": {
     "elapsed": 39684,
     "status": "ok",
     "timestamp": 1616479186398,
     "user": {
      "displayName": "ユウキハヤカワ",
      "photoUrl": "https://lh3.googleusercontent.com/a-/AOh14GjfXu9o7zmAYL24s4P8H7I0lvSgQUaSfrXi7qemvQ=s64",
      "userId": "00286900621093795459"
     },
     "user_tz": -540
    },
    "id": "ICMler34Xbt-"
   },
   "outputs": [],
   "source": [
    "df_train.loc[:, rssi_feats] = ss.transform(df_train.loc[:, rssi_feats])\n",
    "df_test.loc[:, rssi_feats] = ss.transform(df_test.loc[:, rssi_feats])\n",
    "for feat in bssid_feats:\n",
    "    df_train.loc[:, feat] = le.transform(df_train.loc[:, feat])\n",
    "    df_test.loc[:, feat] = le.transform(df_test.loc[:, feat])\n",
    "    \n",
    "    df_train.loc[:, feat] = df_train.loc[:, feat] + 1\n",
    "    df_test.loc[:, feat] = df_test.loc[:, feat] + 1\n",
    "    \n",
    "df_train.loc[:, 'site_id'] = le_site.transform(df_train.loc[:, 'site_id'])\n",
    "df_test.loc[:, 'site_id'] = le_site.transform(df_test.loc[:, 'site_id'])\n",
    "\n",
    "df_train.loc[:, rssi_feats] = ss.transform(df_train.loc[:, rssi_feats])\n",
    "df_test.loc[:, rssi_feats] = ss.transform(df_test.loc[:, rssi_feats])"
   ]
  },
  {
   "cell_type": "code",
   "execution_count": 14,
   "metadata": {
    "executionInfo": {
     "elapsed": 41413,
     "status": "ok",
     "timestamp": 1616479188164,
     "user": {
      "displayName": "ユウキハヤカワ",
      "photoUrl": "https://lh3.googleusercontent.com/a-/AOh14GjfXu9o7zmAYL24s4P8H7I0lvSgQUaSfrXi7qemvQ=s64",
      "userId": "00286900621093795459"
     },
     "user_tz": -540
    },
    "id": "fhagm8JcdyPI"
   },
   "outputs": [],
   "source": [
    "site_count = len(df_train['site_id'].unique())\n",
    "df_train.reset_index(drop=True, inplace=True)"
   ]
  },
  {
   "cell_type": "code",
   "execution_count": 15,
   "metadata": {},
   "outputs": [
    {
     "data": {
      "text/html": [
       "<div>\n",
       "<style scoped>\n",
       "    .dataframe tbody tr th:only-of-type {\n",
       "        vertical-align: middle;\n",
       "    }\n",
       "\n",
       "    .dataframe tbody tr th {\n",
       "        vertical-align: top;\n",
       "    }\n",
       "\n",
       "    .dataframe thead th {\n",
       "        text-align: right;\n",
       "    }\n",
       "</style>\n",
       "<table border=\"1\" class=\"dataframe\">\n",
       "  <thead>\n",
       "    <tr style=\"text-align: right;\">\n",
       "      <th></th>\n",
       "      <th>bssid_0</th>\n",
       "      <th>bssid_1</th>\n",
       "      <th>bssid_2</th>\n",
       "      <th>bssid_3</th>\n",
       "      <th>bssid_4</th>\n",
       "      <th>bssid_5</th>\n",
       "      <th>bssid_6</th>\n",
       "      <th>bssid_7</th>\n",
       "      <th>bssid_8</th>\n",
       "      <th>bssid_9</th>\n",
       "      <th>...</th>\n",
       "      <th>rssi_95</th>\n",
       "      <th>rssi_96</th>\n",
       "      <th>rssi_97</th>\n",
       "      <th>rssi_98</th>\n",
       "      <th>rssi_99</th>\n",
       "      <th>x</th>\n",
       "      <th>y</th>\n",
       "      <th>floor</th>\n",
       "      <th>path</th>\n",
       "      <th>site_id</th>\n",
       "    </tr>\n",
       "  </thead>\n",
       "  <tbody>\n",
       "    <tr>\n",
       "      <th>0</th>\n",
       "      <td>4453</td>\n",
       "      <td>3012</td>\n",
       "      <td>1433</td>\n",
       "      <td>3605</td>\n",
       "      <td>976</td>\n",
       "      <td>1757</td>\n",
       "      <td>6364</td>\n",
       "      <td>5080</td>\n",
       "      <td>5330</td>\n",
       "      <td>1760</td>\n",
       "      <td>...</td>\n",
       "      <td>-91</td>\n",
       "      <td>-91</td>\n",
       "      <td>-91</td>\n",
       "      <td>-92</td>\n",
       "      <td>-92</td>\n",
       "      <td>198.06085</td>\n",
       "      <td>130.18974</td>\n",
       "      <td>-1</td>\n",
       "      <td>5da9aaf618410e00067e6889</td>\n",
       "      <td>0</td>\n",
       "    </tr>\n",
       "    <tr>\n",
       "      <th>1</th>\n",
       "      <td>3012</td>\n",
       "      <td>4453</td>\n",
       "      <td>1433</td>\n",
       "      <td>1850</td>\n",
       "      <td>3605</td>\n",
       "      <td>1575</td>\n",
       "      <td>876</td>\n",
       "      <td>3913</td>\n",
       "      <td>1327</td>\n",
       "      <td>653</td>\n",
       "      <td>...</td>\n",
       "      <td>-999</td>\n",
       "      <td>-999</td>\n",
       "      <td>-999</td>\n",
       "      <td>-999</td>\n",
       "      <td>-999</td>\n",
       "      <td>200.18538</td>\n",
       "      <td>128.83790</td>\n",
       "      <td>-1</td>\n",
       "      <td>5da9aaf618410e00067e6889</td>\n",
       "      <td>0</td>\n",
       "    </tr>\n",
       "    <tr>\n",
       "      <th>2</th>\n",
       "      <td>6364</td>\n",
       "      <td>4453</td>\n",
       "      <td>1757</td>\n",
       "      <td>3012</td>\n",
       "      <td>1433</td>\n",
       "      <td>1575</td>\n",
       "      <td>1850</td>\n",
       "      <td>2563</td>\n",
       "      <td>653</td>\n",
       "      <td>1253</td>\n",
       "      <td>...</td>\n",
       "      <td>-91</td>\n",
       "      <td>-91</td>\n",
       "      <td>-91</td>\n",
       "      <td>-91</td>\n",
       "      <td>-91</td>\n",
       "      <td>200.18538</td>\n",
       "      <td>128.83790</td>\n",
       "      <td>-1</td>\n",
       "      <td>5da9aaf618410e00067e6889</td>\n",
       "      <td>0</td>\n",
       "    </tr>\n",
       "    <tr>\n",
       "      <th>3</th>\n",
       "      <td>1433</td>\n",
       "      <td>3012</td>\n",
       "      <td>1757</td>\n",
       "      <td>2407</td>\n",
       "      <td>6364</td>\n",
       "      <td>3945</td>\n",
       "      <td>976</td>\n",
       "      <td>4453</td>\n",
       "      <td>1850</td>\n",
       "      <td>1575</td>\n",
       "      <td>...</td>\n",
       "      <td>-90</td>\n",
       "      <td>-91</td>\n",
       "      <td>-91</td>\n",
       "      <td>-91</td>\n",
       "      <td>-91</td>\n",
       "      <td>200.18538</td>\n",
       "      <td>128.83790</td>\n",
       "      <td>-1</td>\n",
       "      <td>5da9aaf618410e00067e6889</td>\n",
       "      <td>0</td>\n",
       "    </tr>\n",
       "    <tr>\n",
       "      <th>4</th>\n",
       "      <td>6297</td>\n",
       "      <td>5485</td>\n",
       "      <td>5661</td>\n",
       "      <td>1169</td>\n",
       "      <td>4875</td>\n",
       "      <td>1064</td>\n",
       "      <td>5275</td>\n",
       "      <td>3857</td>\n",
       "      <td>3338</td>\n",
       "      <td>6081</td>\n",
       "      <td>...</td>\n",
       "      <td>-83</td>\n",
       "      <td>-83</td>\n",
       "      <td>-83</td>\n",
       "      <td>-83</td>\n",
       "      <td>-83</td>\n",
       "      <td>220.64734</td>\n",
       "      <td>187.48444</td>\n",
       "      <td>-1</td>\n",
       "      <td>5da9aa9118410e00067e680b</td>\n",
       "      <td>0</td>\n",
       "    </tr>\n",
       "  </tbody>\n",
       "</table>\n",
       "<p>5 rows × 205 columns</p>\n",
       "</div>"
      ],
      "text/plain": [
       "   bssid_0  bssid_1  bssid_2  bssid_3  bssid_4  bssid_5  bssid_6  bssid_7  \\\n",
       "0     4453     3012     1433     3605      976     1757     6364     5080   \n",
       "1     3012     4453     1433     1850     3605     1575      876     3913   \n",
       "2     6364     4453     1757     3012     1433     1575     1850     2563   \n",
       "3     1433     3012     1757     2407     6364     3945      976     4453   \n",
       "4     6297     5485     5661     1169     4875     1064     5275     3857   \n",
       "\n",
       "   bssid_8  bssid_9  ...  rssi_95  rssi_96  rssi_97  rssi_98  rssi_99  \\\n",
       "0     5330     1760  ...      -91      -91      -91      -92      -92   \n",
       "1     1327      653  ...     -999     -999     -999     -999     -999   \n",
       "2      653     1253  ...      -91      -91      -91      -91      -91   \n",
       "3     1850     1575  ...      -90      -91      -91      -91      -91   \n",
       "4     3338     6081  ...      -83      -83      -83      -83      -83   \n",
       "\n",
       "           x          y  floor                      path  site_id  \n",
       "0  198.06085  130.18974     -1  5da9aaf618410e00067e6889        0  \n",
       "1  200.18538  128.83790     -1  5da9aaf618410e00067e6889        0  \n",
       "2  200.18538  128.83790     -1  5da9aaf618410e00067e6889        0  \n",
       "3  200.18538  128.83790     -1  5da9aaf618410e00067e6889        0  \n",
       "4  220.64734  187.48444     -1  5da9aa9118410e00067e680b        0  \n",
       "\n",
       "[5 rows x 205 columns]"
      ]
     },
     "execution_count": 15,
     "metadata": {},
     "output_type": "execute_result"
    }
   ],
   "source": [
    "df_train.head()"
   ]
  },
  {
   "cell_type": "markdown",
   "metadata": {},
   "source": [
    "# Execute"
   ]
  },
  {
   "cell_type": "code",
   "execution_count": 16,
   "metadata": {
    "executionInfo": {
     "elapsed": 41390,
     "status": "ok",
     "timestamp": 1616479188168,
     "user": {
      "displayName": "ユウキハヤカワ",
      "photoUrl": "https://lh3.googleusercontent.com/a-/AOh14GjfXu9o7zmAYL24s4P8H7I0lvSgQUaSfrXi7qemvQ=s64",
      "userId": "00286900621093795459"
     },
     "user_tz": -540
    },
    "id": "pUh8IpBV8i8Z"
   },
   "outputs": [],
   "source": [
    "class EarlyStopping:\n",
    "    \"\"\"\n",
    "    Early stops the training if validation loss doesn't improve after a given patience.\n",
    "    based on: https://github.com/Bjarten/early-stopping-pytorch\n",
    "    \"\"\"\n",
    "    def __init__(self, save_name, fold, patience=7, verbose=False, delta=0):\n",
    "        \"\"\"\n",
    "        Args:\n",
    "            patience (int): How long to wait after last time validation loss improved.\n",
    "                            Default: 7\n",
    "            verbose (bool): If True, prints a message for each validation loss improvement. \n",
    "                            Default: False\n",
    "            delta (float): Minimum change in the monitored quantity to qualify as an improvement.\n",
    "                            Default: 0\n",
    "        \"\"\"\n",
    "        self.patience = patience\n",
    "        self.verbose = verbose\n",
    "        self.counter = 0\n",
    "        self.best_score = None\n",
    "        self.early_stop = False\n",
    "        self.val_loss_min = np.Inf\n",
    "        self.delta = delta\n",
    "        self.fold = fold\n",
    "        self.save_name = save_name\n",
    "\n",
    "    def __call__(self, val_loss, model):\n",
    "\n",
    "        score = -val_loss\n",
    "\n",
    "        if self.best_score is None:\n",
    "            self.best_score = score\n",
    "            self.save_checkpoint(val_loss, model)\n",
    "        elif score < self.best_score + self.delta:\n",
    "            self.counter += 1\n",
    "            logger.info(f'EarlyStopping counter: {self.counter} out of {self.patience}')\n",
    "            if self.counter >= self.patience:\n",
    "                self.early_stop = True\n",
    "        else:\n",
    "            self.best_score = score\n",
    "            self.save_checkpoint(val_loss, model)\n",
    "            self.counter = 0\n",
    "\n",
    "    def save_checkpoint(self, val_loss, model):\n",
    "        '''Saves model when validation loss decrease.'''\n",
    "        if self.verbose:\n",
    "            logger.info(f'Validation loss decreased ({self.val_loss_min:.6f} --> {val_loss:.6f}).  Saving model ...')\n",
    "            \n",
    "        torch.save(model.state_dict(),  f'{self.save_name}_{self.fold}.pt')\n",
    "        self.val_loss_min = val_loss"
   ]
  },
  {
   "cell_type": "code",
   "execution_count": 17,
   "metadata": {
    "executionInfo": {
     "elapsed": 41385,
     "status": "ok",
     "timestamp": 1616479188169,
     "user": {
      "displayName": "ユウキハヤカワ",
      "photoUrl": "https://lh3.googleusercontent.com/a-/AOh14GjfXu9o7zmAYL24s4P8H7I0lvSgQUaSfrXi7qemvQ=s64",
      "userId": "00286900621093795459"
     },
     "user_tz": -540
    },
    "id": "7tycasUwdySR"
   },
   "outputs": [],
   "source": [
    "class IndoorWiFiNet(nn.Module):\n",
    "    def __init__(self, bssid_size, site_size, num_feats):\n",
    "        super(IndoorWiFiNet, self).__init__()\n",
    "        self.bssid_embedding = nn.Embedding(bssid_size, 64, max_norm=True)\n",
    "        self.site_embedding = nn.Embedding(site_size, 64, max_norm=True)\n",
    "\n",
    "        self.rssi = nn.Sequential(\n",
    "            nn.BatchNorm1d(20),\n",
    "            nn.Linear(20, num_feats * 64)\n",
    "        )\n",
    "\n",
    "        concat_size = 64 + (num_feats * 64) + (num_feats * 64)\n",
    "        self.bn1 = nn.BatchNorm1d(concat_size)\n",
    "\n",
    "        self.flatten = nn.Flatten()\n",
    "\n",
    "        self.dropout1 = nn.Dropout(0.3)\n",
    "        self.linear1 = nn.Linear(in_features=concat_size, out_features=256)#, bias=False)\n",
    "        self.bn2 = nn.BatchNorm1d(256)\n",
    "\n",
    "        self.linear2 = nn.Linear(in_features=256, out_features=128)#, bias=False)\n",
    "        self.linear3 = nn.Linear(in_features=128, out_features=16)#, bias=False)\n",
    "\n",
    "        self.bn3 = nn.BatchNorm1d(128)\n",
    "        self.bn4 = nn.BatchNorm1d(16)\n",
    "\n",
    "\n",
    "        self.xy = nn.Linear(in_features=16, out_features=2)#, bias=False)\n",
    "        self.floor = nn.Linear(in_features=16, out_features=1)#, bias=False)\n",
    "        \n",
    "\n",
    "    def forward(self, bssid, rssi, site):\n",
    "\n",
    "        site = torch.reshape(site, (-1, 1))\n",
    "\n",
    "        bssid_out = self.bssid_embedding(bssid)\n",
    "        site_out = self.site_embedding(site)\n",
    "\n",
    "        rssi_out = self.rssi(rssi)\n",
    "\n",
    "        bssid_out = self.flatten(bssid_out)\n",
    "        site_out = self.flatten(site_out)\n",
    "\n",
    "        x = torch.cat([bssid_out, rssi_out, site_out], dim=1)\n",
    "        x = self.bn1(x)\n",
    "        x = self.dropout1(x)\n",
    "        x = F.relu(self.linear1(x))\n",
    "        x = self.bn2(x)\n",
    "\n",
    "        x = F.relu(self.linear2(x))\n",
    "        x = self.bn3(x)\n",
    "\n",
    "        x = F.relu(self.linear3(x))\n",
    "        x = self.bn4(x)\n",
    "\n",
    "        #x = self.lstm(x)\n",
    "\n",
    "        xy = self.xy(x)\n",
    "        floor = self.floor(x)\n",
    "\n",
    "        return xy, floor"
   ]
  },
  {
   "cell_type": "code",
   "execution_count": 18,
   "metadata": {
    "executionInfo": {
     "elapsed": 1376,
     "status": "ok",
     "timestamp": 1616481355217,
     "user": {
      "displayName": "ユウキハヤカワ",
      "photoUrl": "https://lh3.googleusercontent.com/a-/AOh14GjfXu9o7zmAYL24s4P8H7I0lvSgQUaSfrXi7qemvQ=s64",
      "userId": "00286900621093795459"
     },
     "user_tz": -540
    },
    "id": "uNYZS-avjuD-"
   },
   "outputs": [],
   "source": [
    "class IndoorWiFiDataSet(Dataset):\n",
    "    def __init__(self, wifi_df, bssid_feats_, rssi_feats_, data_type='test'):\n",
    "        self.wifi_df = wifi_df\n",
    "        self.data_type = data_type\n",
    "        self.bssids = wifi_df[bssid_feats_].to_numpy().astype(np.int)    # <----- リファクタ\n",
    "        self.rssis = wifi_df[rssi_feats_].to_numpy().astype(np.float)    # <----- リファクタ\n",
    "        self.site_ids = wifi_df['site_id'].to_numpy()\n",
    "        if data_type in ['train', 'valid']:\n",
    "            self.floors = wifi_df['floor'].to_numpy().astype(np.int)\n",
    "            self.xs = wifi_df['x'].to_numpy()\n",
    "            self.ys = wifi_df['y'].to_numpy()\n",
    "        \n",
    "    def __len__(self):\n",
    "        return len(self.wifi_df)\n",
    "\n",
    "    def __getitem__(self, idx):\n",
    "\n",
    "        #wifi_row = self.wifi_df.iloc[idx]\n",
    "\n",
    "        bssid = self.bssids[idx,:]\n",
    "        rssi = self.rssis[idx,:]\n",
    "        site_id = self.site_ids[idx]\n",
    "\n",
    "        if self.data_type in ['test', 'valid']:\n",
    "            return bssid, rssi, site_id\n",
    "\n",
    "        elif self.data_type == 'train':\n",
    "            x = self.xs[idx]\n",
    "            y = self.ys[idx]\n",
    "            floor = self.floors[idx]\n",
    "\n",
    "            return bssid, rssi, site_id, x, y, floor\n"
   ]
  },
  {
   "cell_type": "code",
   "execution_count": 19,
   "metadata": {
    "executionInfo": {
     "elapsed": 41354,
     "status": "ok",
     "timestamp": 1616479188173,
     "user": {
      "displayName": "ユウキハヤカワ",
      "photoUrl": "https://lh3.googleusercontent.com/a-/AOh14GjfXu9o7zmAYL24s4P8H7I0lvSgQUaSfrXi7qemvQ=s64",
      "userId": "00286900621093795459"
     },
     "user_tz": -540
    },
    "id": "F4Parwz4Xcrn"
   },
   "outputs": [],
   "source": [
    "class IndoorLoss(nn.Module):\n",
    "    def __init__(self):\n",
    "        super().__init__()\n",
    "\n",
    "        self.mse = nn.MSELoss()\n",
    "\n",
    "    def forward(self, x, y, floor, x_pred, y_pred, floor_pred):\n",
    "\n",
    "        x_loss = self.mse(x, x_pred)\n",
    "        y_loss = self.mse(y, y_pred)\n",
    "        floor_loss = self.mse(floor, floor_pred)\n",
    "\n",
    "        return x_loss + y_loss + floor_loss"
   ]
  },
  {
   "cell_type": "code",
   "execution_count": 20,
   "metadata": {
    "colab": {
     "base_uri": "https://localhost:8080/"
    },
    "executionInfo": {
     "elapsed": 41347,
     "status": "ok",
     "timestamp": 1616479188173,
     "user": {
      "displayName": "ユウキハヤカワ",
      "photoUrl": "https://lh3.googleusercontent.com/a-/AOh14GjfXu9o7zmAYL24s4P8H7I0lvSgQUaSfrXi7qemvQ=s64",
      "userId": "00286900621093795459"
     },
     "user_tz": -540
    },
    "id": "_Diyk0TFZBiQ",
    "outputId": "f5a01157-c5f0-448a-ca29-9380a573e4b1"
   },
   "outputs": [],
   "source": [
    "# device = torch.device(\"cuda\" if torch.cuda.is_available() else \"cpu\")\n",
    "device = torch.device(config['globals']['device'])"
   ]
  },
  {
   "cell_type": "code",
   "execution_count": 21,
   "metadata": {
    "colab": {
     "base_uri": "https://localhost:8080/"
    },
    "executionInfo": {
     "elapsed": 2141644,
     "status": "ok",
     "timestamp": 1616481288506,
     "user": {
      "displayName": "ユウキハヤカワ",
      "photoUrl": "https://lh3.googleusercontent.com/a-/AOh14GjfXu9o7zmAYL24s4P8H7I0lvSgQUaSfrXi7qemvQ=s64",
      "userId": "00286900621093795459"
     },
     "user_tz": -540
    },
    "id": "AdSYMcirdyXx",
    "outputId": "e1f840c9-d3af-4df7-b2fc-3f7f9735df4d"
   },
   "outputs": [
    {
     "name": "stdout",
     "output_type": "stream",
     "text": [
      "\n",
      "====== 1 ======\n"
     ]
    },
    {
     "data": {
      "text/html": [
       "\n",
       "    <div>\n",
       "        <style>\n",
       "            /* Turns off some styling */\n",
       "            progress {\n",
       "                /* gets rid of default border in Firefox and Opera. */\n",
       "                border: none;\n",
       "                /* Needs to be in here for Safari polyfill so background images work as expected. */\n",
       "                background-size: auto;\n",
       "            }\n",
       "            .progress-bar-interrupted, .progress-bar-interrupted::-webkit-progress-bar {\n",
       "                background: #F44336;\n",
       "            }\n",
       "        </style>\n",
       "      <progress value='62' class='' max='100' style='width:300px; height:20px; vertical-align: middle;'></progress>\n",
       "      62.00% [62/100 00:46<00:28 epoch = 62]\n",
       "    </div>\n",
       "    \n",
       "\n",
       "\n",
       "    <div>\n",
       "        <style>\n",
       "            /* Turns off some styling */\n",
       "            progress {\n",
       "                /* gets rid of default border in Firefox and Opera. */\n",
       "                border: none;\n",
       "                /* Needs to be in here for Safari polyfill so background images work as expected. */\n",
       "                background-size: auto;\n",
       "            }\n",
       "            .progress-bar-interrupted, .progress-bar-interrupted::-webkit-progress-bar {\n",
       "                background: #F44336;\n",
       "            }\n",
       "        </style>\n",
       "      <progress value='10' class='' max='10' style='width:300px; height:20px; vertical-align: middle;'></progress>\n",
       "      100.00% [10/10 00:00<00:00]\n",
       "    </div>\n",
       "    "
      ],
      "text/plain": [
       "<IPython.core.display.HTML object>"
      ]
     },
     "metadata": {},
     "output_type": "display_data"
    },
    {
     "name": "stderr",
     "output_type": "stream",
     "text": [
      "2021-04-08 22:26:42.872 | INFO     | __main__:save_checkpoint:46 - Validation loss decreased (inf --> 194.984798).  Saving model ...\n",
      "2021-04-08 22:26:43.634 | INFO     | __main__:save_checkpoint:46 - Validation loss decreased (194.984798 --> 192.322402).  Saving model ...\n",
      "2021-04-08 22:26:44.374 | INFO     | __main__:save_checkpoint:46 - Validation loss decreased (192.322402 --> 188.163011).  Saving model ...\n",
      "2021-04-08 22:26:45.114 | INFO     | __main__:save_checkpoint:46 - Validation loss decreased (188.163011 --> 170.491029).  Saving model ...\n",
      "2021-04-08 22:26:45.870 | INFO     | __main__:__call__:35 - EarlyStopping counter: 1 out of 10\n",
      "2021-04-08 22:26:46.620 | INFO     | __main__:save_checkpoint:46 - Validation loss decreased (170.491029 --> 166.245117).  Saving model ...\n",
      "2021-04-08 22:26:47.368 | INFO     | __main__:save_checkpoint:46 - Validation loss decreased (166.245117 --> 160.540901).  Saving model ...\n",
      "2021-04-08 22:26:48.121 | INFO     | __main__:save_checkpoint:46 - Validation loss decreased (160.540901 --> 158.676320).  Saving model ...\n",
      "2021-04-08 22:26:48.862 | INFO     | __main__:save_checkpoint:46 - Validation loss decreased (158.676320 --> 157.499569).  Saving model ...\n",
      "2021-04-08 22:26:49.621 | INFO     | __main__:save_checkpoint:46 - Validation loss decreased (157.499569 --> 156.932487).  Saving model ...\n",
      "2021-04-08 22:26:50.376 | INFO     | __main__:save_checkpoint:46 - Validation loss decreased (156.932487 --> 156.844995).  Saving model ...\n",
      "2021-04-08 22:26:51.133 | INFO     | __main__:save_checkpoint:46 - Validation loss decreased (156.844995 --> 156.360263).  Saving model ...\n",
      "2021-04-08 22:26:51.897 | INFO     | __main__:save_checkpoint:46 - Validation loss decreased (156.360263 --> 155.077498).  Saving model ...\n",
      "2021-04-08 22:26:52.635 | INFO     | __main__:save_checkpoint:46 - Validation loss decreased (155.077498 --> 153.339827).  Saving model ...\n",
      "2021-04-08 22:26:53.367 | INFO     | __main__:save_checkpoint:46 - Validation loss decreased (153.339827 --> 149.394560).  Saving model ...\n",
      "2021-04-08 22:26:54.117 | INFO     | __main__:save_checkpoint:46 - Validation loss decreased (149.394560 --> 141.072178).  Saving model ...\n",
      "2021-04-08 22:26:54.857 | INFO     | __main__:save_checkpoint:46 - Validation loss decreased (141.072178 --> 127.346431).  Saving model ...\n",
      "2021-04-08 22:26:55.619 | INFO     | __main__:save_checkpoint:46 - Validation loss decreased (127.346431 --> 123.492878).  Saving model ...\n",
      "2021-04-08 22:26:56.365 | INFO     | __main__:save_checkpoint:46 - Validation loss decreased (123.492878 --> 110.191627).  Saving model ...\n",
      "2021-04-08 22:26:57.121 | INFO     | __main__:save_checkpoint:46 - Validation loss decreased (110.191627 --> 93.177468).  Saving model ...\n",
      "2021-04-08 22:26:57.871 | INFO     | __main__:save_checkpoint:46 - Validation loss decreased (93.177468 --> 78.503538).  Saving model ...\n",
      "2021-04-08 22:26:58.613 | INFO     | __main__:__call__:35 - EarlyStopping counter: 1 out of 10\n",
      "2021-04-08 22:26:59.354 | INFO     | __main__:save_checkpoint:46 - Validation loss decreased (78.503538 --> 53.645808).  Saving model ...\n",
      "2021-04-08 22:27:00.115 | INFO     | __main__:save_checkpoint:46 - Validation loss decreased (53.645808 --> 44.212739).  Saving model ...\n",
      "2021-04-08 22:27:00.884 | INFO     | __main__:save_checkpoint:46 - Validation loss decreased (44.212739 --> 37.554748).  Saving model ...\n",
      "2021-04-08 22:27:01.628 | INFO     | __main__:save_checkpoint:46 - Validation loss decreased (37.554748 --> 33.115837).  Saving model ...\n",
      "2021-04-08 22:27:02.397 | INFO     | __main__:save_checkpoint:46 - Validation loss decreased (33.115837 --> 29.998371).  Saving model ...\n",
      "2021-04-08 22:27:03.147 | INFO     | __main__:save_checkpoint:46 - Validation loss decreased (29.998371 --> 27.955030).  Saving model ...\n",
      "2021-04-08 22:27:03.908 | INFO     | __main__:save_checkpoint:46 - Validation loss decreased (27.955030 --> 26.403013).  Saving model ...\n",
      "2021-04-08 22:27:04.647 | INFO     | __main__:__call__:35 - EarlyStopping counter: 1 out of 10\n",
      "2021-04-08 22:27:05.387 | INFO     | __main__:__call__:35 - EarlyStopping counter: 2 out of 10\n",
      "2021-04-08 22:27:06.133 | INFO     | __main__:__call__:35 - EarlyStopping counter: 3 out of 10\n",
      "2021-04-08 22:27:06.859 | INFO     | __main__:save_checkpoint:46 - Validation loss decreased (26.403013 --> 25.599388).  Saving model ...\n",
      "2021-04-08 22:27:07.608 | INFO     | __main__:save_checkpoint:46 - Validation loss decreased (25.599388 --> 24.319622).  Saving model ...\n",
      "2021-04-08 22:27:08.355 | INFO     | __main__:save_checkpoint:46 - Validation loss decreased (24.319622 --> 22.119466).  Saving model ...\n",
      "2021-04-08 22:27:09.077 | INFO     | __main__:save_checkpoint:46 - Validation loss decreased (22.119466 --> 19.509713).  Saving model ...\n",
      "2021-04-08 22:27:09.842 | INFO     | __main__:save_checkpoint:46 - Validation loss decreased (19.509713 --> 16.477967).  Saving model ...\n",
      "2021-04-08 22:27:10.585 | INFO     | __main__:save_checkpoint:46 - Validation loss decreased (16.477967 --> 14.296107).  Saving model ...\n",
      "2021-04-08 22:27:11.348 | INFO     | __main__:save_checkpoint:46 - Validation loss decreased (14.296107 --> 13.322338).  Saving model ...\n",
      "2021-04-08 22:27:12.118 | INFO     | __main__:save_checkpoint:46 - Validation loss decreased (13.322338 --> 8.688564).  Saving model ...\n",
      "2021-04-08 22:27:12.873 | INFO     | __main__:save_checkpoint:46 - Validation loss decreased (8.688564 --> 8.377400).  Saving model ...\n",
      "2021-04-08 22:27:13.632 | INFO     | __main__:save_checkpoint:46 - Validation loss decreased (8.377400 --> 7.871143).  Saving model ...\n",
      "2021-04-08 22:27:14.378 | INFO     | __main__:save_checkpoint:46 - Validation loss decreased (7.871143 --> 7.499500).  Saving model ...\n",
      "2021-04-08 22:27:15.121 | INFO     | __main__:save_checkpoint:46 - Validation loss decreased (7.499500 --> 6.875934).  Saving model ...\n",
      "2021-04-08 22:27:15.873 | INFO     | __main__:save_checkpoint:46 - Validation loss decreased (6.875934 --> 6.743207).  Saving model ...\n",
      "2021-04-08 22:27:16.624 | INFO     | __main__:__call__:35 - EarlyStopping counter: 1 out of 10\n",
      "2021-04-08 22:27:17.384 | INFO     | __main__:save_checkpoint:46 - Validation loss decreased (6.743207 --> 6.664454).  Saving model ...\n",
      "2021-04-08 22:27:18.139 | INFO     | __main__:save_checkpoint:46 - Validation loss decreased (6.664454 --> 6.321489).  Saving model ...\n",
      "2021-04-08 22:27:18.895 | INFO     | __main__:save_checkpoint:46 - Validation loss decreased (6.321489 --> 6.317515).  Saving model ...\n",
      "2021-04-08 22:27:19.643 | INFO     | __main__:save_checkpoint:46 - Validation loss decreased (6.317515 --> 6.277067).  Saving model ...\n",
      "2021-04-08 22:27:20.403 | INFO     | __main__:__call__:35 - EarlyStopping counter: 1 out of 10\n",
      "2021-04-08 22:27:21.157 | INFO     | __main__:save_checkpoint:46 - Validation loss decreased (6.277067 --> 6.228675).  Saving model ...\n",
      "2021-04-08 22:27:21.889 | INFO     | __main__:save_checkpoint:46 - Validation loss decreased (6.228675 --> 6.206790).  Saving model ...\n",
      "2021-04-08 22:27:22.642 | INFO     | __main__:__call__:35 - EarlyStopping counter: 1 out of 10\n",
      "2021-04-08 22:27:23.385 | INFO     | __main__:__call__:35 - EarlyStopping counter: 2 out of 10\n",
      "2021-04-08 22:27:24.120 | INFO     | __main__:__call__:35 - EarlyStopping counter: 3 out of 10\n",
      "2021-04-08 22:27:24.829 | INFO     | __main__:__call__:35 - EarlyStopping counter: 4 out of 10\n",
      "2021-04-08 22:27:25.552 | INFO     | __main__:__call__:35 - EarlyStopping counter: 5 out of 10\n",
      "2021-04-08 22:27:26.284 | INFO     | __main__:__call__:35 - EarlyStopping counter: 6 out of 10\n",
      "2021-04-08 22:27:27.034 | INFO     | __main__:__call__:35 - EarlyStopping counter: 7 out of 10\n",
      "2021-04-08 22:27:27.769 | INFO     | __main__:__call__:35 - EarlyStopping counter: 8 out of 10\n",
      "2021-04-08 22:27:28.524 | INFO     | __main__:__call__:35 - EarlyStopping counter: 9 out of 10\n",
      "2021-04-08 22:27:29.278 | INFO     | __main__:__call__:35 - EarlyStopping counter: 10 out of 10\n",
      "2021-04-08 22:27:29.278 | INFO     | __main__:<module>:94 - Early stopping\n"
     ]
    },
    {
     "name": "stdout",
     "output_type": "stream",
     "text": [
      "6.206790467547678\n",
      "\n",
      "====== 2 ======\n"
     ]
    },
    {
     "data": {
      "text/html": [
       "\n",
       "    <div>\n",
       "        <style>\n",
       "            /* Turns off some styling */\n",
       "            progress {\n",
       "                /* gets rid of default border in Firefox and Opera. */\n",
       "                border: none;\n",
       "                /* Needs to be in here for Safari polyfill so background images work as expected. */\n",
       "                background-size: auto;\n",
       "            }\n",
       "            .progress-bar-interrupted, .progress-bar-interrupted::-webkit-progress-bar {\n",
       "                background: #F44336;\n",
       "            }\n",
       "        </style>\n",
       "      <progress value='60' class='' max='100' style='width:300px; height:20px; vertical-align: middle;'></progress>\n",
       "      60.00% [60/100 00:54<00:36 epoch = 60]\n",
       "    </div>\n",
       "    \n",
       "\n",
       "\n",
       "    <div>\n",
       "        <style>\n",
       "            /* Turns off some styling */\n",
       "            progress {\n",
       "                /* gets rid of default border in Firefox and Opera. */\n",
       "                border: none;\n",
       "                /* Needs to be in here for Safari polyfill so background images work as expected. */\n",
       "                background-size: auto;\n",
       "            }\n",
       "            .progress-bar-interrupted, .progress-bar-interrupted::-webkit-progress-bar {\n",
       "                background: #F44336;\n",
       "            }\n",
       "        </style>\n",
       "      <progress value='10' class='' max='10' style='width:300px; height:20px; vertical-align: middle;'></progress>\n",
       "      100.00% [10/10 00:00<00:00]\n",
       "    </div>\n",
       "    "
      ],
      "text/plain": [
       "<IPython.core.display.HTML object>"
      ]
     },
     "metadata": {},
     "output_type": "display_data"
    },
    {
     "name": "stderr",
     "output_type": "stream",
     "text": [
      "2021-04-08 22:27:30.592 | INFO     | __main__:save_checkpoint:46 - Validation loss decreased (inf --> 194.431237).  Saving model ...\n",
      "2021-04-08 22:27:31.479 | INFO     | __main__:save_checkpoint:46 - Validation loss decreased (194.431237 --> 190.806728).  Saving model ...\n",
      "2021-04-08 22:27:32.361 | INFO     | __main__:save_checkpoint:46 - Validation loss decreased (190.806728 --> 184.430567).  Saving model ...\n",
      "2021-04-08 22:27:33.256 | INFO     | __main__:save_checkpoint:46 - Validation loss decreased (184.430567 --> 180.302375).  Saving model ...\n",
      "2021-04-08 22:27:34.135 | INFO     | __main__:save_checkpoint:46 - Validation loss decreased (180.302375 --> 174.352562).  Saving model ...\n",
      "2021-04-08 22:27:35.019 | INFO     | __main__:save_checkpoint:46 - Validation loss decreased (174.352562 --> 167.536880).  Saving model ...\n",
      "2021-04-08 22:27:35.898 | INFO     | __main__:save_checkpoint:46 - Validation loss decreased (167.536880 --> 161.394619).  Saving model ...\n",
      "2021-04-08 22:27:36.748 | INFO     | __main__:save_checkpoint:46 - Validation loss decreased (161.394619 --> 159.086461).  Saving model ...\n",
      "2021-04-08 22:27:37.614 | INFO     | __main__:save_checkpoint:46 - Validation loss decreased (159.086461 --> 157.595993).  Saving model ...\n",
      "2021-04-08 22:27:38.477 | INFO     | __main__:__call__:35 - EarlyStopping counter: 1 out of 10\n",
      "2021-04-08 22:27:39.350 | INFO     | __main__:__call__:35 - EarlyStopping counter: 2 out of 10\n",
      "2021-04-08 22:27:40.192 | INFO     | __main__:save_checkpoint:46 - Validation loss decreased (157.595993 --> 157.200941).  Saving model ...\n",
      "2021-04-08 22:27:41.041 | INFO     | __main__:save_checkpoint:46 - Validation loss decreased (157.200941 --> 155.977813).  Saving model ...\n",
      "2021-04-08 22:27:41.925 | INFO     | __main__:save_checkpoint:46 - Validation loss decreased (155.977813 --> 153.754758).  Saving model ...\n",
      "2021-04-08 22:27:42.803 | INFO     | __main__:save_checkpoint:46 - Validation loss decreased (153.754758 --> 149.428473).  Saving model ...\n",
      "2021-04-08 22:27:43.677 | INFO     | __main__:save_checkpoint:46 - Validation loss decreased (149.428473 --> 140.961468).  Saving model ...\n",
      "2021-04-08 22:27:44.543 | INFO     | __main__:save_checkpoint:46 - Validation loss decreased (140.961468 --> 132.897145).  Saving model ...\n",
      "2021-04-08 22:27:45.408 | INFO     | __main__:save_checkpoint:46 - Validation loss decreased (132.897145 --> 118.759586).  Saving model ...\n",
      "2021-04-08 22:27:46.288 | INFO     | __main__:save_checkpoint:46 - Validation loss decreased (118.759586 --> 104.842170).  Saving model ...\n",
      "2021-04-08 22:27:47.164 | INFO     | __main__:save_checkpoint:46 - Validation loss decreased (104.842170 --> 90.517976).  Saving model ...\n",
      "2021-04-08 22:27:48.025 | INFO     | __main__:save_checkpoint:46 - Validation loss decreased (90.517976 --> 73.753432).  Saving model ...\n",
      "2021-04-08 22:27:48.985 | INFO     | __main__:save_checkpoint:46 - Validation loss decreased (73.753432 --> 61.496762).  Saving model ...\n",
      "2021-04-08 22:27:49.874 | INFO     | __main__:save_checkpoint:46 - Validation loss decreased (61.496762 --> 47.706068).  Saving model ...\n",
      "2021-04-08 22:27:50.728 | INFO     | __main__:save_checkpoint:46 - Validation loss decreased (47.706068 --> 42.582401).  Saving model ...\n",
      "2021-04-08 22:27:51.603 | INFO     | __main__:save_checkpoint:46 - Validation loss decreased (42.582401 --> 34.072353).  Saving model ...\n",
      "2021-04-08 22:27:52.457 | INFO     | __main__:save_checkpoint:46 - Validation loss decreased (34.072353 --> 31.148394).  Saving model ...\n",
      "2021-04-08 22:27:53.337 | INFO     | __main__:save_checkpoint:46 - Validation loss decreased (31.148394 --> 28.753330).  Saving model ...\n",
      "2021-04-08 22:27:54.192 | INFO     | __main__:save_checkpoint:46 - Validation loss decreased (28.753330 --> 28.043862).  Saving model ...\n",
      "2021-04-08 22:27:55.054 | INFO     | __main__:save_checkpoint:46 - Validation loss decreased (28.043862 --> 27.113195).  Saving model ...\n",
      "2021-04-08 22:27:56.014 | INFO     | __main__:save_checkpoint:46 - Validation loss decreased (27.113195 --> 26.437641).  Saving model ...\n",
      "2021-04-08 22:27:56.896 | INFO     | __main__:__call__:35 - EarlyStopping counter: 1 out of 10\n",
      "2021-04-08 22:27:57.760 | INFO     | __main__:save_checkpoint:46 - Validation loss decreased (26.437641 --> 26.290750).  Saving model ...\n",
      "2021-04-08 22:27:58.620 | INFO     | __main__:save_checkpoint:46 - Validation loss decreased (26.290750 --> 25.996968).  Saving model ...\n",
      "2021-04-08 22:27:59.484 | INFO     | __main__:save_checkpoint:46 - Validation loss decreased (25.996968 --> 24.995715).  Saving model ...\n",
      "2021-04-08 22:28:00.362 | INFO     | __main__:save_checkpoint:46 - Validation loss decreased (24.995715 --> 21.618040).  Saving model ...\n",
      "2021-04-08 22:28:01.230 | INFO     | __main__:save_checkpoint:46 - Validation loss decreased (21.618040 --> 18.030068).  Saving model ...\n",
      "2021-04-08 22:28:02.112 | INFO     | __main__:save_checkpoint:46 - Validation loss decreased (18.030068 --> 14.237432).  Saving model ...\n",
      "2021-04-08 22:28:03.088 | INFO     | __main__:save_checkpoint:46 - Validation loss decreased (14.237432 --> 10.975137).  Saving model ...\n",
      "2021-04-08 22:28:04.050 | INFO     | __main__:save_checkpoint:46 - Validation loss decreased (10.975137 --> 8.779508).  Saving model ...\n",
      "2021-04-08 22:28:05.064 | INFO     | __main__:save_checkpoint:46 - Validation loss decreased (8.779508 --> 7.325075).  Saving model ...\n",
      "2021-04-08 22:28:06.033 | INFO     | __main__:__call__:35 - EarlyStopping counter: 1 out of 10\n",
      "2021-04-08 22:28:06.986 | INFO     | __main__:save_checkpoint:46 - Validation loss decreased (7.325075 --> 6.778869).  Saving model ...\n",
      "2021-04-08 22:28:08.026 | INFO     | __main__:__call__:35 - EarlyStopping counter: 1 out of 10\n",
      "2021-04-08 22:28:09.055 | INFO     | __main__:save_checkpoint:46 - Validation loss decreased (6.778869 --> 6.480650).  Saving model ...\n",
      "2021-04-08 22:28:10.067 | INFO     | __main__:save_checkpoint:46 - Validation loss decreased (6.480650 --> 6.345999).  Saving model ...\n",
      "2021-04-08 22:28:11.032 | INFO     | __main__:__call__:35 - EarlyStopping counter: 1 out of 10\n",
      "2021-04-08 22:28:12.004 | INFO     | __main__:save_checkpoint:46 - Validation loss decreased (6.345999 --> 6.204636).  Saving model ...\n",
      "2021-04-08 22:28:12.954 | INFO     | __main__:save_checkpoint:46 - Validation loss decreased (6.204636 --> 6.162339).  Saving model ...\n",
      "2021-04-08 22:28:13.933 | INFO     | __main__:save_checkpoint:46 - Validation loss decreased (6.162339 --> 6.125605).  Saving model ...\n",
      "2021-04-08 22:28:14.894 | INFO     | __main__:__call__:35 - EarlyStopping counter: 1 out of 10\n",
      "2021-04-08 22:28:15.888 | INFO     | __main__:save_checkpoint:46 - Validation loss decreased (6.125605 --> 6.122336).  Saving model ...\n",
      "2021-04-08 22:28:16.843 | INFO     | __main__:__call__:35 - EarlyStopping counter: 1 out of 10\n",
      "2021-04-08 22:28:17.852 | INFO     | __main__:__call__:35 - EarlyStopping counter: 2 out of 10\n",
      "2021-04-08 22:28:18.803 | INFO     | __main__:__call__:35 - EarlyStopping counter: 3 out of 10\n",
      "2021-04-08 22:28:19.834 | INFO     | __main__:__call__:35 - EarlyStopping counter: 4 out of 10\n",
      "2021-04-08 22:28:20.785 | INFO     | __main__:__call__:35 - EarlyStopping counter: 5 out of 10\n",
      "2021-04-08 22:28:21.734 | INFO     | __main__:__call__:35 - EarlyStopping counter: 6 out of 10\n",
      "2021-04-08 22:28:22.669 | INFO     | __main__:__call__:35 - EarlyStopping counter: 7 out of 10\n",
      "2021-04-08 22:28:23.701 | INFO     | __main__:__call__:35 - EarlyStopping counter: 8 out of 10\n",
      "2021-04-08 22:28:24.683 | INFO     | __main__:__call__:35 - EarlyStopping counter: 9 out of 10\n",
      "2021-04-08 22:28:25.654 | INFO     | __main__:__call__:35 - EarlyStopping counter: 10 out of 10\n",
      "2021-04-08 22:28:25.654 | INFO     | __main__:<module>:94 - Early stopping\n"
     ]
    },
    {
     "name": "stdout",
     "output_type": "stream",
     "text": [
      "6.1223357101858396\n",
      "\n",
      "====== 3 ======\n"
     ]
    },
    {
     "data": {
      "text/html": [
       "\n",
       "    <div>\n",
       "        <style>\n",
       "            /* Turns off some styling */\n",
       "            progress {\n",
       "                /* gets rid of default border in Firefox and Opera. */\n",
       "                border: none;\n",
       "                /* Needs to be in here for Safari polyfill so background images work as expected. */\n",
       "                background-size: auto;\n",
       "            }\n",
       "            .progress-bar-interrupted, .progress-bar-interrupted::-webkit-progress-bar {\n",
       "                background: #F44336;\n",
       "            }\n",
       "        </style>\n",
       "      <progress value='62' class='' max='100' style='width:300px; height:20px; vertical-align: middle;'></progress>\n",
       "      62.00% [62/100 01:04<00:39 epoch = 62]\n",
       "    </div>\n",
       "    \n",
       "\n",
       "\n",
       "    <div>\n",
       "        <style>\n",
       "            /* Turns off some styling */\n",
       "            progress {\n",
       "                /* gets rid of default border in Firefox and Opera. */\n",
       "                border: none;\n",
       "                /* Needs to be in here for Safari polyfill so background images work as expected. */\n",
       "                background-size: auto;\n",
       "            }\n",
       "            .progress-bar-interrupted, .progress-bar-interrupted::-webkit-progress-bar {\n",
       "                background: #F44336;\n",
       "            }\n",
       "        </style>\n",
       "      <progress value='10' class='' max='10' style='width:300px; height:20px; vertical-align: middle;'></progress>\n",
       "      100.00% [10/10 00:00<00:00]\n",
       "    </div>\n",
       "    "
      ],
      "text/plain": [
       "<IPython.core.display.HTML object>"
      ]
     },
     "metadata": {},
     "output_type": "display_data"
    },
    {
     "name": "stderr",
     "output_type": "stream",
     "text": [
      "2021-04-08 22:28:27.212 | INFO     | __main__:save_checkpoint:46 - Validation loss decreased (inf --> 197.391514).  Saving model ...\n",
      "2021-04-08 22:28:28.311 | INFO     | __main__:save_checkpoint:46 - Validation loss decreased (197.391514 --> 194.572019).  Saving model ...\n",
      "2021-04-08 22:28:29.349 | INFO     | __main__:save_checkpoint:46 - Validation loss decreased (194.572019 --> 187.853864).  Saving model ...\n",
      "2021-04-08 22:28:30.377 | INFO     | __main__:save_checkpoint:46 - Validation loss decreased (187.853864 --> 178.702037).  Saving model ...\n",
      "2021-04-08 22:28:31.421 | INFO     | __main__:save_checkpoint:46 - Validation loss decreased (178.702037 --> 170.942453).  Saving model ...\n",
      "2021-04-08 22:28:32.483 | INFO     | __main__:save_checkpoint:46 - Validation loss decreased (170.942453 --> 166.029287).  Saving model ...\n",
      "2021-04-08 22:28:33.494 | INFO     | __main__:save_checkpoint:46 - Validation loss decreased (166.029287 --> 160.569958).  Saving model ...\n",
      "2021-04-08 22:28:34.527 | INFO     | __main__:save_checkpoint:46 - Validation loss decreased (160.569958 --> 159.046214).  Saving model ...\n",
      "2021-04-08 22:28:35.562 | INFO     | __main__:save_checkpoint:46 - Validation loss decreased (159.046214 --> 157.502281).  Saving model ...\n",
      "2021-04-08 22:28:36.601 | INFO     | __main__:__call__:35 - EarlyStopping counter: 1 out of 10\n",
      "2021-04-08 22:28:37.642 | INFO     | __main__:save_checkpoint:46 - Validation loss decreased (157.502281 --> 157.047931).  Saving model ...\n",
      "2021-04-08 22:28:38.666 | INFO     | __main__:__call__:35 - EarlyStopping counter: 1 out of 10\n",
      "2021-04-08 22:28:39.677 | INFO     | __main__:save_checkpoint:46 - Validation loss decreased (157.047931 --> 155.678492).  Saving model ...\n",
      "2021-04-08 22:28:40.725 | INFO     | __main__:save_checkpoint:46 - Validation loss decreased (155.678492 --> 153.460014).  Saving model ...\n",
      "2021-04-08 22:28:41.772 | INFO     | __main__:save_checkpoint:46 - Validation loss decreased (153.460014 --> 147.713013).  Saving model ...\n",
      "2021-04-08 22:28:42.802 | INFO     | __main__:save_checkpoint:46 - Validation loss decreased (147.713013 --> 139.595129).  Saving model ...\n",
      "2021-04-08 22:28:43.855 | INFO     | __main__:save_checkpoint:46 - Validation loss decreased (139.595129 --> 131.395617).  Saving model ...\n",
      "2021-04-08 22:28:44.885 | INFO     | __main__:save_checkpoint:46 - Validation loss decreased (131.395617 --> 122.919094).  Saving model ...\n",
      "2021-04-08 22:28:45.949 | INFO     | __main__:save_checkpoint:46 - Validation loss decreased (122.919094 --> 108.260872).  Saving model ...\n",
      "2021-04-08 22:28:46.979 | INFO     | __main__:save_checkpoint:46 - Validation loss decreased (108.260872 --> 93.312303).  Saving model ...\n",
      "2021-04-08 22:28:48.006 | INFO     | __main__:save_checkpoint:46 - Validation loss decreased (93.312303 --> 77.386825).  Saving model ...\n",
      "2021-04-08 22:28:49.047 | INFO     | __main__:save_checkpoint:46 - Validation loss decreased (77.386825 --> 63.062091).  Saving model ...\n",
      "2021-04-08 22:28:50.100 | INFO     | __main__:save_checkpoint:46 - Validation loss decreased (63.062091 --> 50.062687).  Saving model ...\n",
      "2021-04-08 22:28:51.134 | INFO     | __main__:save_checkpoint:46 - Validation loss decreased (50.062687 --> 43.936408).  Saving model ...\n",
      "2021-04-08 22:28:52.195 | INFO     | __main__:save_checkpoint:46 - Validation loss decreased (43.936408 --> 37.370351).  Saving model ...\n",
      "2021-04-08 22:28:53.234 | INFO     | __main__:save_checkpoint:46 - Validation loss decreased (37.370351 --> 32.617697).  Saving model ...\n",
      "2021-04-08 22:28:54.297 | INFO     | __main__:save_checkpoint:46 - Validation loss decreased (32.617697 --> 30.016303).  Saving model ...\n",
      "2021-04-08 22:28:55.333 | INFO     | __main__:save_checkpoint:46 - Validation loss decreased (30.016303 --> 27.482527).  Saving model ...\n",
      "2021-04-08 22:28:56.379 | INFO     | __main__:save_checkpoint:46 - Validation loss decreased (27.482527 --> 27.351285).  Saving model ...\n",
      "2021-04-08 22:28:57.428 | INFO     | __main__:save_checkpoint:46 - Validation loss decreased (27.351285 --> 27.210990).  Saving model ...\n",
      "2021-04-08 22:28:58.490 | INFO     | __main__:__call__:35 - EarlyStopping counter: 1 out of 10\n",
      "2021-04-08 22:28:59.522 | INFO     | __main__:save_checkpoint:46 - Validation loss decreased (27.210990 --> 27.165568).  Saving model ...\n",
      "2021-04-08 22:29:00.560 | INFO     | __main__:save_checkpoint:46 - Validation loss decreased (27.165568 --> 25.990963).  Saving model ...\n",
      "2021-04-08 22:29:01.618 | INFO     | __main__:save_checkpoint:46 - Validation loss decreased (25.990963 --> 24.646836).  Saving model ...\n",
      "2021-04-08 22:29:02.682 | INFO     | __main__:save_checkpoint:46 - Validation loss decreased (24.646836 --> 23.833057).  Saving model ...\n",
      "2021-04-08 22:29:03.717 | INFO     | __main__:save_checkpoint:46 - Validation loss decreased (23.833057 --> 18.831510).  Saving model ...\n",
      "2021-04-08 22:29:04.754 | INFO     | __main__:save_checkpoint:46 - Validation loss decreased (18.831510 --> 15.145790).  Saving model ...\n",
      "2021-04-08 22:29:05.791 | INFO     | __main__:save_checkpoint:46 - Validation loss decreased (15.145790 --> 12.521067).  Saving model ...\n",
      "2021-04-08 22:29:06.838 | INFO     | __main__:save_checkpoint:46 - Validation loss decreased (12.521067 --> 9.903201).  Saving model ...\n",
      "2021-04-08 22:29:07.869 | INFO     | __main__:save_checkpoint:46 - Validation loss decreased (9.903201 --> 8.173306).  Saving model ...\n",
      "2021-04-08 22:29:08.880 | INFO     | __main__:__call__:35 - EarlyStopping counter: 1 out of 10\n",
      "2021-04-08 22:29:09.923 | INFO     | __main__:save_checkpoint:46 - Validation loss decreased (8.173306 --> 8.115000).  Saving model ...\n",
      "2021-04-08 22:29:10.957 | INFO     | __main__:save_checkpoint:46 - Validation loss decreased (8.115000 --> 7.231387).  Saving model ...\n",
      "2021-04-08 22:29:11.993 | INFO     | __main__:__call__:35 - EarlyStopping counter: 1 out of 10\n",
      "2021-04-08 22:29:13.007 | INFO     | __main__:save_checkpoint:46 - Validation loss decreased (7.231387 --> 6.258922).  Saving model ...\n",
      "2021-04-08 22:29:14.020 | INFO     | __main__:__call__:35 - EarlyStopping counter: 1 out of 10\n",
      "2021-04-08 22:29:15.053 | INFO     | __main__:save_checkpoint:46 - Validation loss decreased (6.258922 --> 6.210129).  Saving model ...\n",
      "2021-04-08 22:29:16.089 | INFO     | __main__:save_checkpoint:46 - Validation loss decreased (6.210129 --> 6.164081).  Saving model ...\n",
      "2021-04-08 22:29:17.116 | INFO     | __main__:save_checkpoint:46 - Validation loss decreased (6.164081 --> 6.043833).  Saving model ...\n",
      "2021-04-08 22:29:18.163 | INFO     | __main__:save_checkpoint:46 - Validation loss decreased (6.043833 --> 6.015482).  Saving model ...\n",
      "2021-04-08 22:29:19.202 | INFO     | __main__:__call__:35 - EarlyStopping counter: 1 out of 10\n",
      "2021-04-08 22:29:20.226 | INFO     | __main__:__call__:35 - EarlyStopping counter: 2 out of 10\n",
      "2021-04-08 22:29:21.270 | INFO     | __main__:save_checkpoint:46 - Validation loss decreased (6.015482 --> 5.967993).  Saving model ...\n",
      "2021-04-08 22:29:22.308 | INFO     | __main__:__call__:35 - EarlyStopping counter: 1 out of 10\n",
      "2021-04-08 22:29:23.351 | INFO     | __main__:__call__:35 - EarlyStopping counter: 2 out of 10\n",
      "2021-04-08 22:29:24.360 | INFO     | __main__:__call__:35 - EarlyStopping counter: 3 out of 10\n",
      "2021-04-08 22:29:25.394 | INFO     | __main__:__call__:35 - EarlyStopping counter: 4 out of 10\n",
      "2021-04-08 22:29:26.422 | INFO     | __main__:__call__:35 - EarlyStopping counter: 5 out of 10\n",
      "2021-04-08 22:29:27.429 | INFO     | __main__:__call__:35 - EarlyStopping counter: 6 out of 10\n",
      "2021-04-08 22:29:28.467 | INFO     | __main__:__call__:35 - EarlyStopping counter: 7 out of 10\n",
      "2021-04-08 22:29:29.509 | INFO     | __main__:__call__:35 - EarlyStopping counter: 8 out of 10\n",
      "2021-04-08 22:29:30.551 | INFO     | __main__:__call__:35 - EarlyStopping counter: 9 out of 10\n",
      "2021-04-08 22:29:31.567 | INFO     | __main__:__call__:35 - EarlyStopping counter: 10 out of 10\n",
      "2021-04-08 22:29:31.568 | INFO     | __main__:<module>:94 - Early stopping\n"
     ]
    },
    {
     "name": "stdout",
     "output_type": "stream",
     "text": [
      "5.967993374262132\n",
      "\n",
      "====== 4 ======\n"
     ]
    },
    {
     "data": {
      "text/html": [
       "\n",
       "    <div>\n",
       "        <style>\n",
       "            /* Turns off some styling */\n",
       "            progress {\n",
       "                /* gets rid of default border in Firefox and Opera. */\n",
       "                border: none;\n",
       "                /* Needs to be in here for Safari polyfill so background images work as expected. */\n",
       "                background-size: auto;\n",
       "            }\n",
       "            .progress-bar-interrupted, .progress-bar-interrupted::-webkit-progress-bar {\n",
       "                background: #F44336;\n",
       "            }\n",
       "        </style>\n",
       "      <progress value='58' class='' max='100' style='width:300px; height:20px; vertical-align: middle;'></progress>\n",
       "      58.00% [58/100 00:55<00:39 epoch = 58]\n",
       "    </div>\n",
       "    \n",
       "\n",
       "\n",
       "    <div>\n",
       "        <style>\n",
       "            /* Turns off some styling */\n",
       "            progress {\n",
       "                /* gets rid of default border in Firefox and Opera. */\n",
       "                border: none;\n",
       "                /* Needs to be in here for Safari polyfill so background images work as expected. */\n",
       "                background-size: auto;\n",
       "            }\n",
       "            .progress-bar-interrupted, .progress-bar-interrupted::-webkit-progress-bar {\n",
       "                background: #F44336;\n",
       "            }\n",
       "        </style>\n",
       "      <progress value='10' class='' max='10' style='width:300px; height:20px; vertical-align: middle;'></progress>\n",
       "      100.00% [10/10 00:00<00:00]\n",
       "    </div>\n",
       "    "
      ],
      "text/plain": [
       "<IPython.core.display.HTML object>"
      ]
     },
     "metadata": {},
     "output_type": "display_data"
    },
    {
     "name": "stderr",
     "output_type": "stream",
     "text": [
      "2021-04-08 22:29:33.229 | INFO     | __main__:save_checkpoint:46 - Validation loss decreased (inf --> 195.846042).  Saving model ...\n",
      "2021-04-08 22:29:34.300 | INFO     | __main__:save_checkpoint:46 - Validation loss decreased (195.846042 --> 192.292218).  Saving model ...\n",
      "2021-04-08 22:29:35.334 | INFO     | __main__:save_checkpoint:46 - Validation loss decreased (192.292218 --> 186.806425).  Saving model ...\n",
      "2021-04-08 22:29:36.393 | INFO     | __main__:save_checkpoint:46 - Validation loss decreased (186.806425 --> 176.356139).  Saving model ...\n",
      "2021-04-08 22:29:37.448 | INFO     | __main__:save_checkpoint:46 - Validation loss decreased (176.356139 --> 169.535115).  Saving model ...\n",
      "2021-04-08 22:29:38.515 | INFO     | __main__:save_checkpoint:46 - Validation loss decreased (169.535115 --> 165.684463).  Saving model ...\n",
      "2021-04-08 22:29:39.571 | INFO     | __main__:save_checkpoint:46 - Validation loss decreased (165.684463 --> 161.973855).  Saving model ...\n",
      "2021-04-08 22:29:40.635 | INFO     | __main__:save_checkpoint:46 - Validation loss decreased (161.973855 --> 158.738993).  Saving model ...\n",
      "2021-04-08 22:29:41.675 | INFO     | __main__:save_checkpoint:46 - Validation loss decreased (158.738993 --> 158.005415).  Saving model ...\n",
      "2021-04-08 22:29:42.731 | INFO     | __main__:save_checkpoint:46 - Validation loss decreased (158.005415 --> 156.605676).  Saving model ...\n",
      "2021-04-08 22:29:43.757 | INFO     | __main__:save_checkpoint:46 - Validation loss decreased (156.605676 --> 156.560503).  Saving model ...\n",
      "2021-04-08 22:29:44.808 | INFO     | __main__:__call__:35 - EarlyStopping counter: 1 out of 10\n",
      "2021-04-08 22:29:45.855 | INFO     | __main__:save_checkpoint:46 - Validation loss decreased (156.560503 --> 155.129578).  Saving model ...\n",
      "2021-04-08 22:29:46.891 | INFO     | __main__:save_checkpoint:46 - Validation loss decreased (155.129578 --> 152.785662).  Saving model ...\n",
      "2021-04-08 22:29:47.950 | INFO     | __main__:save_checkpoint:46 - Validation loss decreased (152.785662 --> 149.169172).  Saving model ...\n",
      "2021-04-08 22:29:48.998 | INFO     | __main__:save_checkpoint:46 - Validation loss decreased (149.169172 --> 141.940199).  Saving model ...\n",
      "2021-04-08 22:29:50.052 | INFO     | __main__:save_checkpoint:46 - Validation loss decreased (141.940199 --> 133.007522).  Saving model ...\n",
      "2021-04-08 22:29:51.117 | INFO     | __main__:save_checkpoint:46 - Validation loss decreased (133.007522 --> 111.212211).  Saving model ...\n",
      "2021-04-08 22:29:52.189 | INFO     | __main__:save_checkpoint:46 - Validation loss decreased (111.212211 --> 101.294981).  Saving model ...\n",
      "2021-04-08 22:29:53.265 | INFO     | __main__:save_checkpoint:46 - Validation loss decreased (101.294981 --> 91.399264).  Saving model ...\n",
      "2021-04-08 22:29:54.314 | INFO     | __main__:save_checkpoint:46 - Validation loss decreased (91.399264 --> 74.897177).  Saving model ...\n",
      "2021-04-08 22:29:55.385 | INFO     | __main__:save_checkpoint:46 - Validation loss decreased (74.897177 --> 63.776574).  Saving model ...\n",
      "2021-04-08 22:29:56.412 | INFO     | __main__:save_checkpoint:46 - Validation loss decreased (63.776574 --> 51.300301).  Saving model ...\n",
      "2021-04-08 22:29:57.488 | INFO     | __main__:save_checkpoint:46 - Validation loss decreased (51.300301 --> 42.993262).  Saving model ...\n",
      "2021-04-08 22:29:58.550 | INFO     | __main__:save_checkpoint:46 - Validation loss decreased (42.993262 --> 34.800800).  Saving model ...\n",
      "2021-04-08 22:29:59.602 | INFO     | __main__:save_checkpoint:46 - Validation loss decreased (34.800800 --> 31.876720).  Saving model ...\n",
      "2021-04-08 22:30:00.640 | INFO     | __main__:save_checkpoint:46 - Validation loss decreased (31.876720 --> 28.747529).  Saving model ...\n",
      "2021-04-08 22:30:01.709 | INFO     | __main__:save_checkpoint:46 - Validation loss decreased (28.747529 --> 27.082165).  Saving model ...\n",
      "2021-04-08 22:30:02.782 | INFO     | __main__:save_checkpoint:46 - Validation loss decreased (27.082165 --> 26.395473).  Saving model ...\n",
      "2021-04-08 22:30:03.871 | INFO     | __main__:__call__:35 - EarlyStopping counter: 1 out of 10\n",
      "2021-04-08 22:30:04.920 | INFO     | __main__:save_checkpoint:46 - Validation loss decreased (26.395473 --> 26.271331).  Saving model ...\n",
      "2021-04-08 22:30:05.982 | INFO     | __main__:save_checkpoint:46 - Validation loss decreased (26.271331 --> 25.547117).  Saving model ...\n",
      "2021-04-08 22:30:07.036 | INFO     | __main__:save_checkpoint:46 - Validation loss decreased (25.547117 --> 25.044041).  Saving model ...\n",
      "2021-04-08 22:30:08.110 | INFO     | __main__:save_checkpoint:46 - Validation loss decreased (25.044041 --> 23.579894).  Saving model ...\n",
      "2021-04-08 22:30:09.157 | INFO     | __main__:save_checkpoint:46 - Validation loss decreased (23.579894 --> 21.389890).  Saving model ...\n",
      "2021-04-08 22:30:10.217 | INFO     | __main__:save_checkpoint:46 - Validation loss decreased (21.389890 --> 18.274929).  Saving model ...\n",
      "2021-04-08 22:30:11.299 | INFO     | __main__:save_checkpoint:46 - Validation loss decreased (18.274929 --> 15.814875).  Saving model ...\n",
      "2021-04-08 22:30:12.268 | INFO     | __main__:save_checkpoint:46 - Validation loss decreased (15.814875 --> 12.231346).  Saving model ...\n",
      "2021-04-08 22:30:13.025 | INFO     | __main__:save_checkpoint:46 - Validation loss decreased (12.231346 --> 8.581935).  Saving model ...\n",
      "2021-04-08 22:30:13.792 | INFO     | __main__:__call__:35 - EarlyStopping counter: 1 out of 10\n",
      "2021-04-08 22:30:14.531 | INFO     | __main__:save_checkpoint:46 - Validation loss decreased (8.581935 --> 8.045554).  Saving model ...\n",
      "2021-04-08 22:30:15.279 | INFO     | __main__:save_checkpoint:46 - Validation loss decreased (8.045554 --> 6.900418).  Saving model ...\n",
      "2021-04-08 22:30:16.038 | INFO     | __main__:save_checkpoint:46 - Validation loss decreased (6.900418 --> 6.847243).  Saving model ...\n",
      "2021-04-08 22:30:16.804 | INFO     | __main__:save_checkpoint:46 - Validation loss decreased (6.847243 --> 6.621484).  Saving model ...\n",
      "2021-04-08 22:30:17.554 | INFO     | __main__:save_checkpoint:46 - Validation loss decreased (6.621484 --> 6.586916).  Saving model ...\n",
      "2021-04-08 22:30:18.340 | INFO     | __main__:save_checkpoint:46 - Validation loss decreased (6.586916 --> 6.248382).  Saving model ...\n",
      "2021-04-08 22:30:19.094 | INFO     | __main__:save_checkpoint:46 - Validation loss decreased (6.248382 --> 6.168952).  Saving model ...\n",
      "2021-04-08 22:30:19.847 | INFO     | __main__:__call__:35 - EarlyStopping counter: 1 out of 10\n",
      "2021-04-08 22:30:20.598 | INFO     | __main__:save_checkpoint:46 - Validation loss decreased (6.168952 --> 6.073817).  Saving model ...\n",
      "2021-04-08 22:30:21.385 | INFO     | __main__:__call__:35 - EarlyStopping counter: 1 out of 10\n",
      "2021-04-08 22:30:22.130 | INFO     | __main__:__call__:35 - EarlyStopping counter: 2 out of 10\n",
      "2021-04-08 22:30:22.877 | INFO     | __main__:__call__:35 - EarlyStopping counter: 3 out of 10\n",
      "2021-04-08 22:30:23.622 | INFO     | __main__:__call__:35 - EarlyStopping counter: 4 out of 10\n",
      "2021-04-08 22:30:24.365 | INFO     | __main__:__call__:35 - EarlyStopping counter: 5 out of 10\n",
      "2021-04-08 22:30:25.123 | INFO     | __main__:__call__:35 - EarlyStopping counter: 6 out of 10\n",
      "2021-04-08 22:30:25.867 | INFO     | __main__:__call__:35 - EarlyStopping counter: 7 out of 10\n",
      "2021-04-08 22:30:26.621 | INFO     | __main__:__call__:35 - EarlyStopping counter: 8 out of 10\n",
      "2021-04-08 22:30:27.376 | INFO     | __main__:__call__:35 - EarlyStopping counter: 9 out of 10\n",
      "2021-04-08 22:30:28.140 | INFO     | __main__:__call__:35 - EarlyStopping counter: 10 out of 10\n",
      "2021-04-08 22:30:28.141 | INFO     | __main__:<module>:94 - Early stopping\n"
     ]
    },
    {
     "name": "stdout",
     "output_type": "stream",
     "text": [
      "6.0738170434473515\n",
      "\n",
      "====== 5 ======\n"
     ]
    },
    {
     "data": {
      "text/html": [
       "\n",
       "    <div>\n",
       "        <style>\n",
       "            /* Turns off some styling */\n",
       "            progress {\n",
       "                /* gets rid of default border in Firefox and Opera. */\n",
       "                border: none;\n",
       "                /* Needs to be in here for Safari polyfill so background images work as expected. */\n",
       "                background-size: auto;\n",
       "            }\n",
       "            .progress-bar-interrupted, .progress-bar-interrupted::-webkit-progress-bar {\n",
       "                background: #F44336;\n",
       "            }\n",
       "        </style>\n",
       "      <progress value='60' class='' max='100' style='width:300px; height:20px; vertical-align: middle;'></progress>\n",
       "      60.00% [60/100 00:50<00:33 epoch = 60]\n",
       "    </div>\n",
       "    \n",
       "\n",
       "\n",
       "    <div>\n",
       "        <style>\n",
       "            /* Turns off some styling */\n",
       "            progress {\n",
       "                /* gets rid of default border in Firefox and Opera. */\n",
       "                border: none;\n",
       "                /* Needs to be in here for Safari polyfill so background images work as expected. */\n",
       "                background-size: auto;\n",
       "            }\n",
       "            .progress-bar-interrupted, .progress-bar-interrupted::-webkit-progress-bar {\n",
       "                background: #F44336;\n",
       "            }\n",
       "        </style>\n",
       "      <progress value='10' class='' max='10' style='width:300px; height:20px; vertical-align: middle;'></progress>\n",
       "      100.00% [10/10 00:00<00:00]\n",
       "    </div>\n",
       "    "
      ],
      "text/plain": [
       "<IPython.core.display.HTML object>"
      ]
     },
     "metadata": {},
     "output_type": "display_data"
    },
    {
     "name": "stderr",
     "output_type": "stream",
     "text": [
      "2021-04-08 22:30:29.356 | INFO     | __main__:save_checkpoint:46 - Validation loss decreased (inf --> 195.553367).  Saving model ...\n",
      "2021-04-08 22:30:30.118 | INFO     | __main__:save_checkpoint:46 - Validation loss decreased (195.553367 --> 191.748954).  Saving model ...\n",
      "2021-04-08 22:30:30.894 | INFO     | __main__:save_checkpoint:46 - Validation loss decreased (191.748954 --> 184.161492).  Saving model ...\n",
      "2021-04-08 22:30:31.665 | INFO     | __main__:save_checkpoint:46 - Validation loss decreased (184.161492 --> 177.480599).  Saving model ...\n",
      "2021-04-08 22:30:32.416 | INFO     | __main__:save_checkpoint:46 - Validation loss decreased (177.480599 --> 170.714219).  Saving model ...\n",
      "2021-04-08 22:30:33.192 | INFO     | __main__:save_checkpoint:46 - Validation loss decreased (170.714219 --> 165.985824).  Saving model ...\n",
      "2021-04-08 22:30:33.954 | INFO     | __main__:save_checkpoint:46 - Validation loss decreased (165.985824 --> 161.353177).  Saving model ...\n",
      "2021-04-08 22:30:34.720 | INFO     | __main__:save_checkpoint:46 - Validation loss decreased (161.353177 --> 158.539175).  Saving model ...\n",
      "2021-04-08 22:30:35.474 | INFO     | __main__:save_checkpoint:46 - Validation loss decreased (158.539175 --> 157.676847).  Saving model ...\n",
      "2021-04-08 22:30:36.229 | INFO     | __main__:__call__:35 - EarlyStopping counter: 1 out of 10\n",
      "2021-04-08 22:30:36.973 | INFO     | __main__:save_checkpoint:46 - Validation loss decreased (157.676847 --> 156.936115).  Saving model ...\n",
      "2021-04-08 22:30:37.750 | INFO     | __main__:__call__:35 - EarlyStopping counter: 1 out of 10\n",
      "2021-04-08 22:30:38.495 | INFO     | __main__:save_checkpoint:46 - Validation loss decreased (156.936115 --> 155.786307).  Saving model ...\n",
      "2021-04-08 22:30:39.254 | INFO     | __main__:save_checkpoint:46 - Validation loss decreased (155.786307 --> 152.207732).  Saving model ...\n",
      "2021-04-08 22:30:40.012 | INFO     | __main__:save_checkpoint:46 - Validation loss decreased (152.207732 --> 148.496480).  Saving model ...\n",
      "2021-04-08 22:30:40.773 | INFO     | __main__:save_checkpoint:46 - Validation loss decreased (148.496480 --> 142.700398).  Saving model ...\n",
      "2021-04-08 22:30:41.544 | INFO     | __main__:save_checkpoint:46 - Validation loss decreased (142.700398 --> 134.191333).  Saving model ...\n",
      "2021-04-08 22:30:42.327 | INFO     | __main__:save_checkpoint:46 - Validation loss decreased (134.191333 --> 120.598535).  Saving model ...\n",
      "2021-04-08 22:30:43.083 | INFO     | __main__:save_checkpoint:46 - Validation loss decreased (120.598535 --> 95.411643).  Saving model ...\n",
      "2021-04-08 22:30:43.839 | INFO     | __main__:save_checkpoint:46 - Validation loss decreased (95.411643 --> 90.425235).  Saving model ...\n",
      "2021-04-08 22:30:44.599 | INFO     | __main__:save_checkpoint:46 - Validation loss decreased (90.425235 --> 76.200724).  Saving model ...\n",
      "2021-04-08 22:30:45.373 | INFO     | __main__:save_checkpoint:46 - Validation loss decreased (76.200724 --> 59.711851).  Saving model ...\n",
      "2021-04-08 22:30:46.146 | INFO     | __main__:save_checkpoint:46 - Validation loss decreased (59.711851 --> 50.238173).  Saving model ...\n",
      "2021-04-08 22:30:46.928 | INFO     | __main__:save_checkpoint:46 - Validation loss decreased (50.238173 --> 41.177263).  Saving model ...\n",
      "2021-04-08 22:30:47.686 | INFO     | __main__:save_checkpoint:46 - Validation loss decreased (41.177263 --> 34.494939).  Saving model ...\n",
      "2021-04-08 22:30:48.446 | INFO     | __main__:save_checkpoint:46 - Validation loss decreased (34.494939 --> 29.507329).  Saving model ...\n",
      "2021-04-08 22:30:49.204 | INFO     | __main__:save_checkpoint:46 - Validation loss decreased (29.507329 --> 27.316501).  Saving model ...\n",
      "2021-04-08 22:30:49.975 | INFO     | __main__:save_checkpoint:46 - Validation loss decreased (27.316501 --> 25.689089).  Saving model ...\n",
      "2021-04-08 22:30:50.720 | INFO     | __main__:save_checkpoint:46 - Validation loss decreased (25.689089 --> 25.382068).  Saving model ...\n",
      "2021-04-08 22:30:51.481 | INFO     | __main__:save_checkpoint:46 - Validation loss decreased (25.382068 --> 24.811916).  Saving model ...\n",
      "2021-04-08 22:30:52.220 | INFO     | __main__:__call__:35 - EarlyStopping counter: 1 out of 10\n",
      "2021-04-08 22:30:52.975 | INFO     | __main__:__call__:35 - EarlyStopping counter: 2 out of 10\n",
      "2021-04-08 22:30:53.724 | INFO     | __main__:save_checkpoint:46 - Validation loss decreased (24.811916 --> 24.369719).  Saving model ...\n",
      "2021-04-08 22:30:54.490 | INFO     | __main__:save_checkpoint:46 - Validation loss decreased (24.369719 --> 22.908924).  Saving model ...\n",
      "2021-04-08 22:30:55.242 | INFO     | __main__:save_checkpoint:46 - Validation loss decreased (22.908924 --> 20.861051).  Saving model ...\n",
      "2021-04-08 22:30:56.212 | INFO     | __main__:save_checkpoint:46 - Validation loss decreased (20.861051 --> 17.822971).  Saving model ...\n",
      "2021-04-08 22:30:57.145 | INFO     | __main__:save_checkpoint:46 - Validation loss decreased (17.822971 --> 15.175418).  Saving model ...\n",
      "2021-04-08 22:30:58.082 | INFO     | __main__:save_checkpoint:46 - Validation loss decreased (15.175418 --> 10.986695).  Saving model ...\n",
      "2021-04-08 22:30:59.026 | INFO     | __main__:save_checkpoint:46 - Validation loss decreased (10.986695 --> 8.834634).  Saving model ...\n",
      "2021-04-08 22:30:59.967 | INFO     | __main__:save_checkpoint:46 - Validation loss decreased (8.834634 --> 8.173357).  Saving model ...\n",
      "2021-04-08 22:31:00.908 | INFO     | __main__:save_checkpoint:46 - Validation loss decreased (8.173357 --> 7.105490).  Saving model ...\n",
      "2021-04-08 22:31:01.847 | INFO     | __main__:__call__:35 - EarlyStopping counter: 1 out of 10\n",
      "2021-04-08 22:31:02.779 | INFO     | __main__:save_checkpoint:46 - Validation loss decreased (7.105490 --> 6.600524).  Saving model ...\n",
      "2021-04-08 22:31:03.710 | INFO     | __main__:save_checkpoint:46 - Validation loss decreased (6.600524 --> 6.429153).  Saving model ...\n",
      "2021-04-08 22:31:04.643 | INFO     | __main__:save_checkpoint:46 - Validation loss decreased (6.429153 --> 6.160966).  Saving model ...\n",
      "2021-04-08 22:31:05.582 | INFO     | __main__:__call__:35 - EarlyStopping counter: 1 out of 10\n",
      "2021-04-08 22:31:06.511 | INFO     | __main__:__call__:35 - EarlyStopping counter: 2 out of 10\n",
      "2021-04-08 22:31:07.436 | INFO     | __main__:save_checkpoint:46 - Validation loss decreased (6.160966 --> 6.127495).  Saving model ...\n",
      "2021-04-08 22:31:08.371 | INFO     | __main__:save_checkpoint:46 - Validation loss decreased (6.127495 --> 6.071380).  Saving model ...\n",
      "2021-04-08 22:31:09.314 | INFO     | __main__:save_checkpoint:46 - Validation loss decreased (6.071380 --> 6.040372).  Saving model ...\n",
      "2021-04-08 22:31:10.246 | INFO     | __main__:save_checkpoint:46 - Validation loss decreased (6.040372 --> 6.028569).  Saving model ...\n",
      "2021-04-08 22:31:11.181 | INFO     | __main__:__call__:35 - EarlyStopping counter: 1 out of 10\n",
      "2021-04-08 22:31:12.117 | INFO     | __main__:__call__:35 - EarlyStopping counter: 2 out of 10\n",
      "2021-04-08 22:31:13.037 | INFO     | __main__:__call__:35 - EarlyStopping counter: 3 out of 10\n",
      "2021-04-08 22:31:13.979 | INFO     | __main__:__call__:35 - EarlyStopping counter: 4 out of 10\n",
      "2021-04-08 22:31:14.903 | INFO     | __main__:__call__:35 - EarlyStopping counter: 5 out of 10\n",
      "2021-04-08 22:31:15.855 | INFO     | __main__:__call__:35 - EarlyStopping counter: 6 out of 10\n",
      "2021-04-08 22:31:16.777 | INFO     | __main__:__call__:35 - EarlyStopping counter: 7 out of 10\n",
      "2021-04-08 22:31:17.727 | INFO     | __main__:__call__:35 - EarlyStopping counter: 8 out of 10\n",
      "2021-04-08 22:31:18.677 | INFO     | __main__:__call__:35 - EarlyStopping counter: 9 out of 10\n",
      "2021-04-08 22:31:19.598 | INFO     | __main__:__call__:35 - EarlyStopping counter: 10 out of 10\n",
      "2021-04-08 22:31:19.599 | INFO     | __main__:<module>:94 - Early stopping\n"
     ]
    },
    {
     "name": "stdout",
     "output_type": "stream",
     "text": [
      "6.028568574279571\n",
      "CPU times: user 1min 23s, sys: 1min 55s, total: 3min 19s\n",
      "Wall time: 4min 40s\n"
     ]
    }
   ],
   "source": [
    "%%time\n",
    "\n",
    "oof_x = np.zeros((len(df_train)))\n",
    "oof_y = np.zeros((len(df_train)))\n",
    "oof_floor = np.zeros((len(df_train)))\n",
    "cv_scores = {}\n",
    "\n",
    "kf = KFold(n_splits=config['globals']['n_splits'], random_state=42, shuffle=True)\n",
    "for fold, (train_index, valid_index) in enumerate(kf.split(df_train)):\n",
    "    print(f'\\r\\n====== {fold + 1} ======')\n",
    "    net = IndoorWiFiNet(wifi_bssids_size, site_count, config['globals']['num_feats'])\n",
    "    net = net.to(device)\n",
    "\n",
    "    #criterion = IndoorLoss()\n",
    "    criterion = nn.MSELoss()\n",
    "    criterion = criterion.to(device)\n",
    "    #optimizer = optim.SGD(net.parameters(), lr=Config.LR, weight_decay=0.0001, momentum=0.9)\n",
    "    optimizer = torch.optim.Adam(net.parameters(), lr=config['globals']['lr'])\n",
    "    \n",
    "    train, valid = df_train.iloc[train_index], df_train.iloc[valid_index]\n",
    "\n",
    "    # TODO oof用のdataloaderはいらないはず\n",
    "    train_dataset = IndoorWiFiDataSet(train.reset_index(drop=True), bssid_feats, rssi_feats, data_type='train')\n",
    "    valid_dataset = IndoorWiFiDataSet(valid.reset_index(drop=True), bssid_feats, rssi_feats, data_type='valid')\n",
    "\n",
    "    trainloader = DataLoader(train_dataset, batch_size=config['globals']['batch_size'], shuffle=True, drop_last=True, num_workers=4)\n",
    "    validloader = DataLoader(valid_dataset, batch_size=config['globals']['batch_size'], num_workers=4)\n",
    "\n",
    "    early_stopping = EarlyStopping(save_name=f'{DIR_SAVE_IGNORE}checkpoint_{NB}', fold=fold+1, patience=config['globals']['patience'], verbose=True)\n",
    "    scheduler = torch.optim.lr_scheduler.CosineAnnealingLR(optimizer, T_max=config['globals']['t_mux'])\n",
    "\n",
    "\n",
    "    ############# TRAIN #############\n",
    "    val_losses = []\n",
    "    val_metrics = []\n",
    "    mb = master_bar(range(1, config['globals']['epoch']+1))\n",
    "    for epoch in mb:\n",
    "        mb.main_bar.comment = f'epoch = {epoch}'\n",
    "        running_loss = 0.0\n",
    "        #train_lwlrap = 0.0\n",
    "#         n_iter = len(trainloader)\n",
    "#         with tqdm(enumerate(trainloader), total=n_iter) as pbar:\n",
    "        for i, (bssid, rssi, site_id, x, y, floor) in enumerate(progress_bar(trainloader, parent=mb)):\n",
    "            net.train()\n",
    "            # zero the parameter gradients\n",
    "            optimizer.zero_grad()\n",
    "\n",
    "            bssid, rssi, site_id, x, y, floor = bssid.to(device).long(), rssi.to(device).float(), site_id.to(device).long(), x.to(device).float(), y.to(device).float(), floor.to(device)\n",
    "\n",
    "            xy_pred, floor_pred = net(bssid, rssi, site_id)\n",
    "            xy_pred = xy_pred.transpose(0, 1).squeeze(-2).reshape(-1)\n",
    "            label = torch.cat([x, y], dim=-1)\n",
    "            loss = criterion(xy_pred, label)\n",
    "            #loss = criterion(x, y, floor, x_pred, y_pred, floor_pred)\n",
    "            loss.backward()\n",
    "            optimizer.step()\n",
    "\n",
    "            running_loss += loss.item()\n",
    "#             mb.child.comment(OrderedDict(\n",
    "#                 epoch=\"{:>10}\".format(epoch), loss=\"{:.4f}\".format(loss.item())\n",
    "#             ))\n",
    "            mb.child.comment = f'loss={loss.item():.4f}'\n",
    "        scheduler.step()\n",
    "            \n",
    "        #if epoch < Config.SKIP_EVALUATE_NUM:\n",
    "        #    continue\n",
    "\n",
    "        ############# VALID #############\n",
    "        val_loss = 0.0\n",
    "        val_lwlrap = 0.0\n",
    "        x_preds = np.array([])\n",
    "        y_preds = np.array([])\n",
    "        val_preds_frame = []\n",
    "        n_iter_val = len(validloader)\n",
    "#         for i, (bssid, rssi, site_id) in tqdm(enumerate(validloader), total=len(validloader)):\n",
    "        for i, (bssid, rssi, site_id) in enumerate(progress_bar(validloader, parent=mb)):\n",
    "            mb.child.comment = 'calc valid'\n",
    "            net.eval()\n",
    "\n",
    "            with torch.no_grad():\n",
    "                \n",
    "                #melspec, labels = melspec.to(device).float(), labels.to(device).float()\n",
    "                bssid, rssi, site_id = bssid.to(device).long(), rssi.to(device).float(), site_id.to(device).long()\n",
    "                xy_pred, floor_pred = net(bssid, rssi, site_id)\n",
    "\n",
    "                xy_pred = xy_pred.to('cpu').detach().numpy().copy()\n",
    "                x_pred, y_pred = np.hsplit(xy_pred, 2)\n",
    "                x_preds = np.concatenate([x_preds, x_pred.reshape(-1)])\n",
    "                y_preds = np.concatenate([y_preds, y_pred.reshape(-1)])\n",
    "\n",
    "        score = comp_metric(x_preds, y_preds, 0, valid['x'], valid['y'], 0)\n",
    "\n",
    "        early_stopping(score, net)\n",
    "\n",
    "        if early_stopping.early_stop:\n",
    "            logger.info(\"Early stopping\")\n",
    "            cv_scores[f'cv{fold + 1}'] = early_stopping.best_score\n",
    "            break\n",
    "                \n",
    "    _x_oof = np.array([])\n",
    "    _y_oof = np.array([])\n",
    "    ############# OOF #############\n",
    "    oof_preds = []\n",
    "#     for i, (bssid, rssi, site_id) in tqdm(enumerate(validloader), total=len(validloader)):\n",
    "    for i, (bssid, rssi, site_id) in enumerate(progress_bar(validloader, parent=mb)):\n",
    "#         net.load_state_dict(torch.load(ROOT_DIR / Path('output') / f'checkpoint_{NB}_{fold}.pt'))\n",
    "        net.load_state_dict(torch.load(f'{DIR_SAVE_IGNORE}checkpoint_{NB}_{fold + 1}.pt'))\n",
    "        net.eval()\n",
    "\n",
    "        with torch.no_grad():\n",
    "\n",
    "            bssid, rssi, site_id, x, y, floor = bssid.to(device).long(), rssi.to(device).float(), site_id.to(device).long(), x.to(device).float(), y.to(device).float(), floor.to(device)\n",
    "\n",
    "            xy_pred, floor_pred = net(bssid, rssi, site_id)\n",
    "\n",
    "            xy_pred = xy_pred.to('cpu').detach().numpy().copy()\n",
    "            x_pred, y_pred = np.hsplit(xy_pred, 2)\n",
    "            _x_oof = np.concatenate([_x_oof, x_pred.reshape(-1)])\n",
    "            _y_oof = np.concatenate([_y_oof, y_pred.reshape(-1)])\n",
    "\n",
    "    print(comp_metric(_x_oof, _y_oof, 0, valid['x'], valid['y'], 0))\n",
    "\n",
    "    oof_x[valid_index] = _x_oof\n",
    "    oof_y[valid_index] = _y_oof\n",
    "\n",
    "    del net\n",
    "    torch.cuda.empty_cache()"
   ]
  },
  {
   "cell_type": "code",
   "execution_count": 22,
   "metadata": {
    "colab": {
     "base_uri": "https://localhost:8080/"
    },
    "executionInfo": {
     "elapsed": 501,
     "status": "ok",
     "timestamp": 1616481371504,
     "user": {
      "displayName": "ユウキハヤカワ",
      "photoUrl": "https://lh3.googleusercontent.com/a-/AOh14GjfXu9o7zmAYL24s4P8H7I0lvSgQUaSfrXi7qemvQ=s64",
      "userId": "00286900621093795459"
     },
     "user_tz": -540
    },
    "id": "VEdEjVItESKZ",
    "outputId": "8e4be26a-5aa1-4afa-eb4b-336380550dbb"
   },
   "outputs": [
    {
     "data": {
      "text/plain": [
       "6.0799063956209105"
      ]
     },
     "execution_count": 22,
     "metadata": {},
     "output_type": "execute_result"
    }
   ],
   "source": [
    "oof_score = comp_metric(oof_x, oof_y, np.zeros(len(df_train)), df_train['x'], df_train['y'], np.zeros(len(df_train)))\n",
    "oof_score"
   ]
  },
  {
   "cell_type": "raw",
   "metadata": {},
   "source": [
    "\n",
    "\n",
    "\n",
    "\n",
    "\n",
    "\n",
    "\n",
    "\n",
    "\n",
    "\n",
    "\n",
    "\n",
    "\n",
    "\n",
    "\n",
    "\n",
    "\n",
    "\n",
    "\n",
    "\n",
    "\n",
    "\n",
    "\n",
    "\n",
    "\n",
    "\n",
    "\n",
    "\n"
   ]
  }
 ],
 "metadata": {
  "accelerator": "GPU",
  "colab": {
   "collapsed_sections": [],
   "machine_shape": "hm",
   "name": "exp003-0.ipynb",
   "provenance": [
    {
     "file_id": "https://github.com/yuki-a4/Indoor/blob/main/COLAB/notebook/exp003.ipynb",
     "timestamp": 1616255627299
    }
   ]
  },
  "kernelspec": {
   "display_name": "Python 3",
   "language": "python",
   "name": "python3"
  },
  "language_info": {
   "codemirror_mode": {
    "name": "ipython",
    "version": 3
   },
   "file_extension": ".py",
   "mimetype": "text/x-python",
   "name": "python",
   "nbconvert_exporter": "python",
   "pygments_lexer": "ipython3",
   "version": "3.8.5"
  }
 },
 "nbformat": 4,
 "nbformat_minor": 4
}
