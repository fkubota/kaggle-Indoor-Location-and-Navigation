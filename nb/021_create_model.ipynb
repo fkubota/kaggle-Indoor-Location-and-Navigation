{
 "cells": [
  {
   "cell_type": "markdown",
   "metadata": {},
   "source": [
    "# Overview\n",
    "- nb016で作った特徴量を使う\n",
    "- nb017と異なり、ハイクオリティなbssid_posをを使う\n",
    "- percentを5%から30%にする"
   ]
  },
  {
   "cell_type": "code",
   "execution_count": 1,
   "metadata": {},
   "outputs": [
    {
     "name": "stdout",
     "output_type": "stream",
     "text": [
      "1c30b36\n"
     ]
    }
   ],
   "source": [
    "import subprocess\n",
    "cmd = \"git rev-parse --short HEAD\"\n",
    "hash = subprocess.check_output(cmd.split()).strip().decode('utf-8')\n",
    "print(hash)"
   ]
  },
  {
   "cell_type": "markdown",
   "metadata": {},
   "source": [
    "# Const"
   ]
  },
  {
   "cell_type": "code",
   "execution_count": 2,
   "metadata": {},
   "outputs": [],
   "source": [
    "NB = '021'\n",
    "DIR_TRAIN = './../data_ignore/input/train/'\n",
    "DIR_TEST = './../data_ignore/input/test/'\n",
    "DIR_WIFI = './../data_ignore/input/wifi/'\n",
    "PATH_SUB = './../data_ignore/input/sample_submission.csv'\n",
    "PATH_99_SUB = './../data/input/floor_99per_acc_sub.csv'\n",
    "DIR_SAVE_IGNORE = f'./../data_ignore/nb/{NB}/'\n",
    "DIR_SAVE = f'./../data/nb/{NB}/'"
   ]
  },
  {
   "cell_type": "code",
   "execution_count": 3,
   "metadata": {},
   "outputs": [],
   "source": [
    "config_str = '''\n",
    "globals:\n",
    "    seed: 5713\n",
    "    device: cuda\n",
    "    n_label: 24\n",
    "    n_splits: 5\n",
    "    random_sate: 42\n",
    "    lr: 0.001\n",
    "    patience: 10\n",
    "    epoch: 100\n",
    "    batch_size: 128\n",
    "    skip_evaluate_num: 5\n",
    "    num_feats: 20\n",
    "    t_mux: 10\n",
    "'''"
   ]
  },
  {
   "cell_type": "code",
   "execution_count": 4,
   "metadata": {},
   "outputs": [],
   "source": [
    "map_floor = {\n",
    "    'B2': -2, 'B1': -1, 'F1': 0, 'F2': 1, 'F3': 2, 'F4': 3, 'F5': 4, 'F6': 5, 'F7': 6, 'F8': 7, 'F9': 8,\n",
    "    \n",
    "    '2B': -2, '1B': -1, '1F': 0, '2F': 1, '3F': 2, '4F': 3, '5F': 4, '6F': 5, '7F': 6, '8F': 7, '9F': 8,\n",
    "    }"
   ]
  },
  {
   "cell_type": "markdown",
   "metadata": {},
   "source": [
    "# Import everything I need:)"
   ]
  },
  {
   "cell_type": "code",
   "execution_count": 5,
   "metadata": {},
   "outputs": [],
   "source": [
    "import os\n",
    "import json\n",
    "import yaml\n",
    "import types\n",
    "import random\n",
    "import pickle\n",
    "import builtins\n",
    "import numpy as np\n",
    "import pandas as pd\n",
    "import pytablewriter\n",
    "from PIL import Image\n",
    "from icecream import ic\n",
    "# from tqdm import tqdm\n",
    "import matplotlib.pyplot as plt\n",
    "from fastprogress import progress_bar, master_bar\n",
    "from glob import glob\n",
    "from loguru import logger\n",
    "from collections import OrderedDict\n",
    "\n",
    "# sklearn\n",
    "from sklearn.preprocessing import LabelEncoder, StandardScaler\n",
    "from sklearn.model_selection import KFold\n",
    "\n",
    "# pytorch\n",
    "import torch\n",
    "from torch import nn\n",
    "from torch.utils.data import Dataset, DataLoader\n",
    "import torch.optim as optim\n",
    "import torch.nn.functional as F"
   ]
  },
  {
   "cell_type": "markdown",
   "metadata": {},
   "source": [
    "# Function"
   ]
  },
  {
   "cell_type": "code",
   "execution_count": 6,
   "metadata": {
    "executionInfo": {
     "elapsed": 4655,
     "status": "ok",
     "timestamp": 1616479151188,
     "user": {
      "displayName": "ユウキハヤカワ",
      "photoUrl": "https://lh3.googleusercontent.com/a-/AOh14GjfXu9o7zmAYL24s4P8H7I0lvSgQUaSfrXi7qemvQ=s64",
      "userId": "00286900621093795459"
     },
     "user_tz": -540
    },
    "id": "7SxgGjwA5Rty"
   },
   "outputs": [],
   "source": [
    "def imports():\n",
    "    for name, val in globals().items():\n",
    "        # module imports\n",
    "        if isinstance(val, types.ModuleType):\n",
    "            yield name, val\n",
    "\n",
    "            # functions / callables\n",
    "        if hasattr(val, '__call__'):\n",
    "            yield name, val\n",
    "\n",
    "\n",
    "def noglobal(f):\n",
    "    '''\n",
    "    ref: https://gist.github.com/raven38/4e4c3c7a179283c441f575d6e375510c\n",
    "    '''\n",
    "    return types.FunctionType(f.__code__,\n",
    "                              dict(imports()),\n",
    "                              f.__name__,\n",
    "                              f.__defaults__,\n",
    "                              f.__closure__\n",
    "                              )\n",
    "\n",
    "\n",
    "def comp_metric(xhat, yhat, fhat, x, y, f):\n",
    "    intermediate = np.sqrt(np.power(xhat-x, 2) + np.power(yhat-y, 2)) + 15 * np.abs(fhat-f)\n",
    "    return intermediate.sum()/xhat.shape[0]\n",
    "\n",
    "def seed_everything(seed=42):\n",
    "    random.seed(seed)\n",
    "    os.environ['PYTHONHASHSEED'] = str(seed)\n",
    "    np.random.seed(seed)\n",
    "    torch.manual_seed(seed)\n",
    "    torch.cuda.manual_seed(seed)\n",
    "    torch.backends.cudnn.deterministic = True\n",
    "    torch.backends.cudnn.benchmark = True\n",
    "\n",
    "\n",
    "def visualize_submission(df_sub, dir_image_with_trace, dir_meta, show=True, dpi=100):\n",
    "    map_floor = {'B2': -2, 'B1': -1, 'F1': 0, 'F2': 1, 'F3': 2, 'F4': 3, 'F5': 4, 'F6': 5, 'F7': 6, 'F8': 7, 'F9': 8,\n",
    "                 '2B': -2, '1B': -1, '1F': 0, '2F': 1, '3F': 2, '4F': 3, '5F': 4, '6F': 5, '7F': 6, '8F': 7, '9F': 8}\n",
    "    \n",
    "    site_path_timestamp = df_sub.site_path_timestamp.values\n",
    "    site_arr = []\n",
    "    path_arr = []\n",
    "    for val in site_path_timestamp:\n",
    "        site, path, _ = val.split('_')\n",
    "        site_arr.append(site)\n",
    "        path_arr.append(path)\n",
    "    site_arr = np.array(site_arr)\n",
    "    path_arr = np.array(path_arr)\n",
    "\n",
    "    x_arr = df_sub.x.values\n",
    "    y_arr = df_sub.y.values\n",
    "    floor_arr = df_sub.floor.values\n",
    "    \n",
    "    # site loop\n",
    "    for site in sorted(np.unique(site_arr)):\n",
    "        floor_list = sorted(glob(f'{dir_image_with_trace}{site}/*'))\n",
    "        floor_list = [text.split('/')[-1] for text in floor_list]\n",
    "        \n",
    "        # 画像の比を決めるために一度floor_info.jsonを取得\n",
    "        path_json = f'{dir_meta}{site}/{floor_list[0]}/floor_info.json'\n",
    "        with open(path_json) as json_file:\n",
    "            json_data = json.load(json_file)\n",
    "        _width_meter = json_data[\"map_info\"][\"width\"]\n",
    "        _height_meter = json_data[\"map_info\"][\"height\"]\n",
    "        s = max(_width_meter, _height_meter)\n",
    "\n",
    "        # figとaxesの用意\n",
    "        n_floor = len(floor_list)\n",
    "        n_row = int(np.ceil(n_floor / 3))\n",
    "        w = round(5*3*_width_meter/s)\n",
    "        h = round(5*n_row*_height_meter/s)\n",
    "        fig, axs = plt.subplots(n_row, 3, figsize=(w, h), dpi=dpi)\n",
    "        fig.suptitle(site, fontsize=15)\n",
    "        fig.patch.set_facecolor('white')\n",
    "        axs = axs.ravel()\n",
    "\n",
    "        # floor loop\n",
    "        for i_floor, floor in enumerate(floor_list):\n",
    "            # json\n",
    "            path_json = f'{dir_meta}{site}/{floor}/floor_info.json'\n",
    "            with open(path_json) as json_file:\n",
    "                json_data = json.load(json_file)\n",
    "            width_meter = json_data[\"map_info\"][\"width\"]\n",
    "            height_meter = json_data[\"map_info\"][\"height\"]\n",
    "\n",
    "            # show image\n",
    "            path_img = f'{dir_image_with_trace}{site}/{floor}/floor_image_with_trace.png'\n",
    "            im = Image.open(path_img)\n",
    "            axs[i_floor].imshow(np.asarray(im), extent=(0, width_meter, 0, height_meter))\n",
    "            axs[i_floor].set_title(floor, fontsize=10)\n",
    "\n",
    "            # draw path\n",
    "            logics_site_floor = (site_arr == site) & (floor_arr == map_floor[floor])\n",
    "            for path in sorted(np.unique(path_arr[logics_site_floor])):\n",
    "                logics_path = path_arr == path\n",
    "                x_arr_path = x_arr[logics_path]\n",
    "                y_arr_path = y_arr[logics_path]\n",
    "\n",
    "                axs[i_floor].plot(x_arr_path, y_arr_path, linewidth=1, color='black')\n",
    "        if show:\n",
    "            display(fig)"
   ]
  },
  {
   "cell_type": "markdown",
   "metadata": {},
   "source": [
    "# Preparation"
   ]
  },
  {
   "cell_type": "markdown",
   "metadata": {},
   "source": [
    "load config"
   ]
  },
  {
   "cell_type": "code",
   "execution_count": 7,
   "metadata": {},
   "outputs": [
    {
     "data": {
      "text/plain": [
       "{'globals': {'seed': 5713,\n",
       "  'device': 'cuda',\n",
       "  'n_label': 24,\n",
       "  'n_splits': 5,\n",
       "  'random_sate': 42,\n",
       "  'lr': 0.001,\n",
       "  'patience': 10,\n",
       "  'epoch': 100,\n",
       "  'batch_size': 128,\n",
       "  'skip_evaluate_num': 5,\n",
       "  'num_feats': 20,\n",
       "  't_mux': 10}}"
      ]
     },
     "execution_count": 7,
     "metadata": {},
     "output_type": "execute_result"
    }
   ],
   "source": [
    "config = yaml.safe_load(config_str)\n",
    "config"
   ]
  },
  {
   "cell_type": "markdown",
   "metadata": {},
   "source": [
    "<br>\n",
    "\n",
    "set"
   ]
  },
  {
   "cell_type": "code",
   "execution_count": 8,
   "metadata": {},
   "outputs": [],
   "source": [
    "seed_everything(config['globals']['seed'])\n",
    "\n",
    "if not os.path.exists(DIR_SAVE_IGNORE):\n",
    "    os.makedirs(DIR_SAVE_IGNORE)\n",
    "if not os.path.exists(DIR_SAVE):\n",
    "    os.makedirs(DIR_SAVE)"
   ]
  },
  {
   "cell_type": "code",
   "execution_count": 9,
   "metadata": {
    "executionInfo": {
     "elapsed": 12395,
     "status": "ok",
     "timestamp": 1616479159023,
     "user": {
      "displayName": "ユウキハヤカワ",
      "photoUrl": "https://lh3.googleusercontent.com/a-/AOh14GjfXu9o7zmAYL24s4P8H7I0lvSgQUaSfrXi7qemvQ=s64",
      "userId": "00286900621093795459"
     },
     "user_tz": -540
    },
    "id": "6wFlN2I2NL3z"
   },
   "outputs": [],
   "source": [
    "bssid_feats = [f'bssid_{i}' for i in range(config['globals']['num_feats'])]\n",
    "rssi_feats  = [f'rssi_{i}' for i in range(config['globals']['num_feats'])]"
   ]
  },
  {
   "cell_type": "markdown",
   "metadata": {},
   "source": [
    "<br>\n",
    "\n",
    "load dataset"
   ]
  },
  {
   "cell_type": "code",
   "execution_count": 10,
   "metadata": {},
   "outputs": [],
   "source": [
    "sample_submission = pd.read_csv(PATH_SUB)"
   ]
  },
  {
   "cell_type": "raw",
   "metadata": {},
   "source": [
    "train_files = sorted(glob(f'{DIR_WIFI}*_train.csv'))\n",
    "test_files = sorted(glob(f'{DIR_WIFI}*_test.csv'))\n",
    "sample_sub = pd.read_csv(PATH_SUB)"
   ]
  },
  {
   "cell_type": "code",
   "execution_count": 11,
   "metadata": {
    "executionInfo": {
     "elapsed": 12440,
     "status": "ok",
     "timestamp": 1616479159010,
     "user": {
      "displayName": "ユウキハヤカワ",
      "photoUrl": "https://lh3.googleusercontent.com/a-/AOh14GjfXu9o7zmAYL24s4P8H7I0lvSgQUaSfrXi7qemvQ=s64",
      "userId": "00286900621093795459"
     },
     "user_tz": -540
    },
    "id": "g0ytMb1aSnv0"
   },
   "outputs": [],
   "source": [
    "with open(f'{DIR_WIFI}train_all.pkl', 'rb') as f:\n",
    "    df_train = pickle.load( f)\n",
    "with open(f'{DIR_WIFI}test_all.pkl', 'rb') as f:\n",
    "    df_test = pickle.load( f)"
   ]
  },
  {
   "cell_type": "code",
   "execution_count": 12,
   "metadata": {},
   "outputs": [],
   "source": [
    "df_list = []\n",
    "for path in sorted(glob('./../data/nb/013/*.csv')):\n",
    "    df_list.append(pd.read_csv(path))\n",
    "df_wifi_pos = pd.concat(df_list, axis=0)"
   ]
  },
  {
   "cell_type": "code",
   "execution_count": 13,
   "metadata": {},
   "outputs": [],
   "source": [
    "df_wifi_pos['floor_id'] = df_wifi_pos['floor'].map(map_floor)"
   ]
  },
  {
   "cell_type": "markdown",
   "metadata": {},
   "source": [
    "<br>\n",
    "\n",
    "merge"
   ]
  },
  {
   "cell_type": "code",
   "execution_count": 14,
   "metadata": {},
   "outputs": [],
   "source": [
    "# floorで丸める\n",
    "# df_wifi_pos_grp_floor = df_wifi_pos.groupby(['bssid', 'site']).mean().reset_index(drop=False).copy()\n",
    "\n",
    "# hig quarity 全体の5%(floor数も合わせて)になるまで絞る\n",
    "site_list = [val.split('_')[0] for val in sample_submission.site_path_timestamp]\n",
    "site_list = sorted(np.unique(site_list).tolist())\n",
    "df_list = []\n",
    "for site in site_list:\n",
    "    df_wifi_pos_site = df_wifi_pos.query('site == @site')\n",
    "    for n in range(0, 100):\n",
    "        df_bssid_pos_grp = df_wifi_pos_site.query('n_samples_rssi_over_m60 >= @n & n_samples >= 20')\n",
    "        rate = len(df_bssid_pos_grp)/len(df_wifi_pos_site)\n",
    "        if rate <= 0.30:\n",
    "            break\n",
    "    df_list.append(df_bssid_pos_grp)\n",
    "df_wifi_pos_grp_floor = pd.concat(df_list, axis=0)\n",
    "df_wifi_pos_grp_floor = df_wifi_pos_grp_floor.groupby(['bssid', 'site']).mean().reset_index(drop=False).copy()"
   ]
  },
  {
   "cell_type": "code",
   "execution_count": 15,
   "metadata": {},
   "outputs": [
    {
     "data": {
      "text/html": [
       "\n",
       "    <div>\n",
       "        <style>\n",
       "            /* Turns off some styling */\n",
       "            progress {\n",
       "                /* gets rid of default border in Firefox and Opera. */\n",
       "                border: none;\n",
       "                /* Needs to be in here for Safari polyfill so background images work as expected. */\n",
       "                background-size: auto;\n",
       "            }\n",
       "            .progress-bar-interrupted, .progress-bar-interrupted::-webkit-progress-bar {\n",
       "                background: #F44336;\n",
       "            }\n",
       "        </style>\n",
       "      <progress value='20' class='' max='20' style='width:300px; height:20px; vertical-align: middle;'></progress>\n",
       "      100.00% [20/20 01:47<00:00]\n",
       "    </div>\n",
       "    "
      ],
      "text/plain": [
       "<IPython.core.display.HTML object>"
      ]
     },
     "metadata": {},
     "output_type": "display_data"
    },
    {
     "name": "stdout",
     "output_type": "stream",
     "text": [
      "CPU times: user 1min 34s, sys: 13 s, total: 1min 47s\n",
      "Wall time: 1min 47s\n"
     ]
    }
   ],
   "source": [
    "%%time\n",
    "# df_train = df_train.copy()\n",
    "for i, bssid in enumerate(progress_bar(bssid_feats)):\n",
    "    df_train = df_train.merge(df_wifi_pos_grp_floor[['bssid', 'bssid_x', 'bssid_y', 'site']],\n",
    "                               how='left', left_on=[bssid, 'site_id'], right_on=['bssid', 'site']\n",
    "                              ).drop(['bssid', 'site'], axis=1\n",
    "                                    ).rename({'bssid_x': f'bssid_x_{i}', 'bssid_y': f'bssid_y_{i}'}, axis=1)"
   ]
  },
  {
   "cell_type": "code",
   "execution_count": 16,
   "metadata": {},
   "outputs": [
    {
     "data": {
      "text/html": [
       "\n",
       "    <div>\n",
       "        <style>\n",
       "            /* Turns off some styling */\n",
       "            progress {\n",
       "                /* gets rid of default border in Firefox and Opera. */\n",
       "                border: none;\n",
       "                /* Needs to be in here for Safari polyfill so background images work as expected. */\n",
       "                background-size: auto;\n",
       "            }\n",
       "            .progress-bar-interrupted, .progress-bar-interrupted::-webkit-progress-bar {\n",
       "                background: #F44336;\n",
       "            }\n",
       "        </style>\n",
       "      <progress value='20' class='' max='20' style='width:300px; height:20px; vertical-align: middle;'></progress>\n",
       "      100.00% [20/20 00:03<00:00]\n",
       "    </div>\n",
       "    "
      ],
      "text/plain": [
       "<IPython.core.display.HTML object>"
      ]
     },
     "metadata": {},
     "output_type": "display_data"
    },
    {
     "name": "stdout",
     "output_type": "stream",
     "text": [
      "CPU times: user 3.51 s, sys: 24.3 ms, total: 3.54 s\n",
      "Wall time: 3.54 s\n"
     ]
    }
   ],
   "source": [
    "%%time\n",
    "for i, bssid in enumerate(progress_bar(bssid_feats)):\n",
    "    df_test = df_test.merge(df_wifi_pos_grp_floor[['bssid', 'bssid_x', 'bssid_y', 'site']],\n",
    "                               how='left', left_on=[bssid, 'site_id'], right_on=['bssid', 'site']\n",
    "                              ).drop(['bssid', 'site'], axis=1\n",
    "                                    ).rename({'bssid_x': f'bssid_x_{i}', 'bssid_y': f'bssid_y_{i}'}, axis=1)"
   ]
  },
  {
   "cell_type": "code",
   "execution_count": 17,
   "metadata": {},
   "outputs": [],
   "source": [
    "bssid_x_feats = [f'bssid_x_{i}' for i in range(config['globals']['num_feats'])]\n",
    "bssid_y_feats = [f'bssid_y_{i}' for i in range(config['globals']['num_feats'])]\n",
    "\n",
    "bssid_x_mean = df_wifi_pos_grp_floor['bssid_x'].mean()\n",
    "bssid_y_mean = df_wifi_pos_grp_floor['bssid_y'].mean()"
   ]
  },
  {
   "cell_type": "markdown",
   "metadata": {},
   "source": [
    "<br>\n",
    "\n",
    "nanを埋める"
   ]
  },
  {
   "cell_type": "code",
   "execution_count": 18,
   "metadata": {},
   "outputs": [],
   "source": [
    "df_train[bssid_x_feats] = df_train[bssid_x_feats].fillna(value=bssid_x_mean)\n",
    "df_train[bssid_y_feats] = df_train[bssid_y_feats].fillna(value=bssid_y_mean)\n",
    "df_test[bssid_x_feats] = df_test[bssid_x_feats].fillna(value=bssid_x_mean)\n",
    "df_test[bssid_y_feats] = df_test[bssid_y_feats].fillna(value=bssid_y_mean)"
   ]
  },
  {
   "cell_type": "markdown",
   "metadata": {},
   "source": [
    "<br>\n",
    "\n",
    "preprocessing"
   ]
  },
  {
   "cell_type": "code",
   "execution_count": 19,
   "metadata": {
    "colab": {
     "base_uri": "https://localhost:8080/"
    },
    "executionInfo": {
     "elapsed": 16854,
     "status": "ok",
     "timestamp": 1616479163506,
     "user": {
      "displayName": "ユウキハヤカワ",
      "photoUrl": "https://lh3.googleusercontent.com/a-/AOh14GjfXu9o7zmAYL24s4P8H7I0lvSgQUaSfrXi7qemvQ=s64",
      "userId": "00286900621093795459"
     },
     "user_tz": -540
    },
    "id": "hfyRDfw3Xbov",
    "outputId": "196b63bf-9e51-4a08-8fd5-9b04139c3d4b"
   },
   "outputs": [
    {
     "name": "stdout",
     "output_type": "stream",
     "text": [
      "BSSID TYPES: 43722\n",
      "BSSID TYPES: 19239\n",
      "BSSID TYPES: 62961\n"
     ]
    }
   ],
   "source": [
    "# bssidの一覧作成\n",
    "# wifi_bassidにはtrainとtest両方のbssidの一覧が含まれる\n",
    "\n",
    "wifi_bssids = []\n",
    "for i in range(config['globals']['num_feats']):\n",
    "    wifi_bssids.extend(df_train.iloc[:,i].values.tolist())\n",
    "wifi_bssids = list(set(wifi_bssids))\n",
    "\n",
    "wifi_bssids_size = len(wifi_bssids)\n",
    "print(f'BSSID TYPES: {wifi_bssids_size}')\n",
    "\n",
    "wifi_bssids_test = []\n",
    "for i in range(config['globals']['num_feats']):\n",
    "    wifi_bssids_test.extend(df_test.iloc[:,i].values.tolist())\n",
    "wifi_bssids_test = list(set(wifi_bssids_test))\n",
    "\n",
    "wifi_bssids_size = len(wifi_bssids_test)\n",
    "print(f'BSSID TYPES: {wifi_bssids_size}')\n",
    "\n",
    "wifi_bssids.extend(wifi_bssids_test)\n",
    "wifi_bssids_size = len(wifi_bssids)\n",
    "print(f'BSSID TYPES: {wifi_bssids_size}')"
   ]
  },
  {
   "cell_type": "raw",
   "metadata": {
    "colab": {
     "base_uri": "https://localhost:8080/"
    },
    "executionInfo": {
     "elapsed": 16854,
     "status": "ok",
     "timestamp": 1616479163506,
     "user": {
      "displayName": "ユウキハヤカワ",
      "photoUrl": "https://lh3.googleusercontent.com/a-/AOh14GjfXu9o7zmAYL24s4P8H7I0lvSgQUaSfrXi7qemvQ=s64",
      "userId": "00286900621093795459"
     },
     "user_tz": -540
    },
    "id": "hfyRDfw3Xbov",
    "outputId": "196b63bf-9e51-4a08-8fd5-9b04139c3d4b"
   },
   "source": [
    "# bssidの一覧作成\n",
    "# wifi_bassidにはtrainとtest両方のbssidの一覧が含まれる\n",
    "\n",
    "wifi_bssids = []\n",
    "for i in range(100):\n",
    "    wifi_bssids.extend(df_train.iloc[:, i].values.tolist())\n",
    "    wifi_bssids.extend(df_test.iloc[:, i].values.tolist())\n",
    "\n",
    "wifi_bssids = list(set(wifi_bssids))\n",
    "print(f'BSSID TYPES: {len(wifi_bssids)}')"
   ]
  },
  {
   "cell_type": "code",
   "execution_count": 20,
   "metadata": {
    "colab": {
     "base_uri": "https://localhost:8080/"
    },
    "executionInfo": {
     "elapsed": 18605,
     "status": "ok",
     "timestamp": 1616479165294,
     "user": {
      "displayName": "ユウキハヤカワ",
      "photoUrl": "https://lh3.googleusercontent.com/a-/AOh14GjfXu9o7zmAYL24s4P8H7I0lvSgQUaSfrXi7qemvQ=s64",
      "userId": "00286900621093795459"
     },
     "user_tz": -540
    },
    "id": "eBhOfx-CdxJB",
    "outputId": "74a3e5ac-a638-41eb-b228-5d6c6cd9c0df"
   },
   "outputs": [
    {
     "data": {
      "text/plain": [
       "StandardScaler()"
      ]
     },
     "execution_count": 20,
     "metadata": {},
     "output_type": "execute_result"
    }
   ],
   "source": [
    "# LabelEncoding & StandardScaler\n",
    "\n",
    "le = LabelEncoder()\n",
    "le.fit(wifi_bssids)\n",
    "le_site = LabelEncoder()\n",
    "le_site.fit(df_train['site_id'])\n",
    "\n",
    "ss = StandardScaler()\n",
    "ss.fit(df_train.loc[:, rssi_feats])"
   ]
  },
  {
   "cell_type": "code",
   "execution_count": 21,
   "metadata": {
    "executionInfo": {
     "elapsed": 39684,
     "status": "ok",
     "timestamp": 1616479186398,
     "user": {
      "displayName": "ユウキハヤカワ",
      "photoUrl": "https://lh3.googleusercontent.com/a-/AOh14GjfXu9o7zmAYL24s4P8H7I0lvSgQUaSfrXi7qemvQ=s64",
      "userId": "00286900621093795459"
     },
     "user_tz": -540
    },
    "id": "ICMler34Xbt-"
   },
   "outputs": [],
   "source": [
    "df_train.loc[:, rssi_feats] = ss.transform(df_train.loc[:, rssi_feats])\n",
    "df_test.loc[:, rssi_feats] = ss.transform(df_test.loc[:, rssi_feats])\n",
    "for feat in bssid_feats:\n",
    "    df_train.loc[:, feat] = le.transform(df_train.loc[:, feat])\n",
    "    df_test.loc[:, feat] = le.transform(df_test.loc[:, feat])\n",
    "    \n",
    "    df_train.loc[:, feat] = df_train.loc[:, feat] + 1\n",
    "    df_test.loc[:, feat] = df_test.loc[:, feat] + 1\n",
    "    \n",
    "df_train.loc[:, 'site_id'] = le_site.transform(df_train.loc[:, 'site_id'])\n",
    "df_test.loc[:, 'site_id'] = le_site.transform(df_test.loc[:, 'site_id'])\n",
    "\n",
    "# df_train.loc[:, rssi_feats] = ss.transform(df_train.loc[:, rssi_feats])\n",
    "# df_test.loc[:, rssi_feats] = ss.transform(df_test.loc[:, rssi_feats])"
   ]
  },
  {
   "cell_type": "code",
   "execution_count": 22,
   "metadata": {
    "executionInfo": {
     "elapsed": 41413,
     "status": "ok",
     "timestamp": 1616479188164,
     "user": {
      "displayName": "ユウキハヤカワ",
      "photoUrl": "https://lh3.googleusercontent.com/a-/AOh14GjfXu9o7zmAYL24s4P8H7I0lvSgQUaSfrXi7qemvQ=s64",
      "userId": "00286900621093795459"
     },
     "user_tz": -540
    },
    "id": "fhagm8JcdyPI"
   },
   "outputs": [],
   "source": [
    "site_count = len(df_train['site_id'].unique())\n",
    "df_train.reset_index(drop=True, inplace=True)"
   ]
  },
  {
   "cell_type": "code",
   "execution_count": 23,
   "metadata": {},
   "outputs": [
    {
     "data": {
      "text/html": [
       "<div>\n",
       "<style scoped>\n",
       "    .dataframe tbody tr th:only-of-type {\n",
       "        vertical-align: middle;\n",
       "    }\n",
       "\n",
       "    .dataframe tbody tr th {\n",
       "        vertical-align: top;\n",
       "    }\n",
       "\n",
       "    .dataframe thead th {\n",
       "        text-align: right;\n",
       "    }\n",
       "</style>\n",
       "<table border=\"1\" class=\"dataframe\">\n",
       "  <thead>\n",
       "    <tr style=\"text-align: right;\">\n",
       "      <th></th>\n",
       "      <th>bssid_0</th>\n",
       "      <th>bssid_1</th>\n",
       "      <th>bssid_2</th>\n",
       "      <th>bssid_3</th>\n",
       "      <th>bssid_4</th>\n",
       "      <th>bssid_5</th>\n",
       "      <th>bssid_6</th>\n",
       "      <th>bssid_7</th>\n",
       "      <th>bssid_8</th>\n",
       "      <th>bssid_9</th>\n",
       "      <th>...</th>\n",
       "      <th>bssid_x_15</th>\n",
       "      <th>bssid_y_15</th>\n",
       "      <th>bssid_x_16</th>\n",
       "      <th>bssid_y_16</th>\n",
       "      <th>bssid_x_17</th>\n",
       "      <th>bssid_y_17</th>\n",
       "      <th>bssid_x_18</th>\n",
       "      <th>bssid_y_18</th>\n",
       "      <th>bssid_x_19</th>\n",
       "      <th>bssid_y_19</th>\n",
       "    </tr>\n",
       "  </thead>\n",
       "  <tbody>\n",
       "    <tr>\n",
       "      <th>0</th>\n",
       "      <td>37721</td>\n",
       "      <td>25790</td>\n",
       "      <td>1987</td>\n",
       "      <td>25076</td>\n",
       "      <td>37930</td>\n",
       "      <td>25352</td>\n",
       "      <td>30791</td>\n",
       "      <td>24095</td>\n",
       "      <td>16874</td>\n",
       "      <td>11019</td>\n",
       "      <td>...</td>\n",
       "      <td>103.568144</td>\n",
       "      <td>105.703949</td>\n",
       "      <td>103.568144</td>\n",
       "      <td>105.703949</td>\n",
       "      <td>103.568144</td>\n",
       "      <td>105.703949</td>\n",
       "      <td>103.568144</td>\n",
       "      <td>105.703949</td>\n",
       "      <td>103.568144</td>\n",
       "      <td>105.703949</td>\n",
       "    </tr>\n",
       "    <tr>\n",
       "      <th>1</th>\n",
       "      <td>25790</td>\n",
       "      <td>37721</td>\n",
       "      <td>5388</td>\n",
       "      <td>25076</td>\n",
       "      <td>37930</td>\n",
       "      <td>25352</td>\n",
       "      <td>15819</td>\n",
       "      <td>11019</td>\n",
       "      <td>12292</td>\n",
       "      <td>3855</td>\n",
       "      <td>...</td>\n",
       "      <td>103.568144</td>\n",
       "      <td>105.703949</td>\n",
       "      <td>87.456688</td>\n",
       "      <td>176.145208</td>\n",
       "      <td>110.112255</td>\n",
       "      <td>149.838047</td>\n",
       "      <td>103.568144</td>\n",
       "      <td>105.703949</td>\n",
       "      <td>103.568144</td>\n",
       "      <td>105.703949</td>\n",
       "    </tr>\n",
       "    <tr>\n",
       "      <th>2</th>\n",
       "      <td>25790</td>\n",
       "      <td>37721</td>\n",
       "      <td>37930</td>\n",
       "      <td>25076</td>\n",
       "      <td>25352</td>\n",
       "      <td>16874</td>\n",
       "      <td>35606</td>\n",
       "      <td>4811</td>\n",
       "      <td>5388</td>\n",
       "      <td>34934</td>\n",
       "      <td>...</td>\n",
       "      <td>104.314063</td>\n",
       "      <td>175.503640</td>\n",
       "      <td>87.456688</td>\n",
       "      <td>176.145208</td>\n",
       "      <td>103.568144</td>\n",
       "      <td>105.703949</td>\n",
       "      <td>103.927752</td>\n",
       "      <td>175.106895</td>\n",
       "      <td>104.308791</td>\n",
       "      <td>175.498171</td>\n",
       "    </tr>\n",
       "    <tr>\n",
       "      <th>3</th>\n",
       "      <td>16874</td>\n",
       "      <td>25076</td>\n",
       "      <td>25352</td>\n",
       "      <td>37721</td>\n",
       "      <td>25790</td>\n",
       "      <td>2691</td>\n",
       "      <td>35606</td>\n",
       "      <td>11293</td>\n",
       "      <td>7294</td>\n",
       "      <td>3594</td>\n",
       "      <td>...</td>\n",
       "      <td>110.112255</td>\n",
       "      <td>149.838047</td>\n",
       "      <td>103.568144</td>\n",
       "      <td>105.703949</td>\n",
       "      <td>103.568144</td>\n",
       "      <td>105.703949</td>\n",
       "      <td>103.568144</td>\n",
       "      <td>105.703949</td>\n",
       "      <td>103.568144</td>\n",
       "      <td>105.703949</td>\n",
       "    </tr>\n",
       "    <tr>\n",
       "      <th>4</th>\n",
       "      <td>25790</td>\n",
       "      <td>25352</td>\n",
       "      <td>16874</td>\n",
       "      <td>14039</td>\n",
       "      <td>37721</td>\n",
       "      <td>2691</td>\n",
       "      <td>35606</td>\n",
       "      <td>13209</td>\n",
       "      <td>15413</td>\n",
       "      <td>37991</td>\n",
       "      <td>...</td>\n",
       "      <td>104.308791</td>\n",
       "      <td>175.498171</td>\n",
       "      <td>104.303256</td>\n",
       "      <td>175.492409</td>\n",
       "      <td>104.319090</td>\n",
       "      <td>175.508834</td>\n",
       "      <td>104.328463</td>\n",
       "      <td>175.518464</td>\n",
       "      <td>104.314063</td>\n",
       "      <td>175.503640</td>\n",
       "    </tr>\n",
       "  </tbody>\n",
       "</table>\n",
       "<p>5 rows × 245 columns</p>\n",
       "</div>"
      ],
      "text/plain": [
       "   bssid_0  bssid_1  bssid_2  bssid_3  bssid_4  bssid_5  bssid_6  bssid_7  \\\n",
       "0    37721    25790     1987    25076    37930    25352    30791    24095   \n",
       "1    25790    37721     5388    25076    37930    25352    15819    11019   \n",
       "2    25790    37721    37930    25076    25352    16874    35606     4811   \n",
       "3    16874    25076    25352    37721    25790     2691    35606    11293   \n",
       "4    25790    25352    16874    14039    37721     2691    35606    13209   \n",
       "\n",
       "   bssid_8  bssid_9  ...  bssid_x_15  bssid_y_15  bssid_x_16  bssid_y_16  \\\n",
       "0    16874    11019  ...  103.568144  105.703949  103.568144  105.703949   \n",
       "1    12292     3855  ...  103.568144  105.703949   87.456688  176.145208   \n",
       "2     5388    34934  ...  104.314063  175.503640   87.456688  176.145208   \n",
       "3     7294     3594  ...  110.112255  149.838047  103.568144  105.703949   \n",
       "4    15413    37991  ...  104.308791  175.498171  104.303256  175.492409   \n",
       "\n",
       "   bssid_x_17  bssid_y_17  bssid_x_18  bssid_y_18  bssid_x_19  bssid_y_19  \n",
       "0  103.568144  105.703949  103.568144  105.703949  103.568144  105.703949  \n",
       "1  110.112255  149.838047  103.568144  105.703949  103.568144  105.703949  \n",
       "2  103.568144  105.703949  103.927752  175.106895  104.308791  175.498171  \n",
       "3  103.568144  105.703949  103.568144  105.703949  103.568144  105.703949  \n",
       "4  104.319090  175.508834  104.328463  175.518464  104.314063  175.503640  \n",
       "\n",
       "[5 rows x 245 columns]"
      ]
     },
     "execution_count": 23,
     "metadata": {},
     "output_type": "execute_result"
    }
   ],
   "source": [
    "df_train.head()"
   ]
  },
  {
   "cell_type": "markdown",
   "metadata": {},
   "source": [
    "# Execute"
   ]
  },
  {
   "cell_type": "code",
   "execution_count": 24,
   "metadata": {
    "executionInfo": {
     "elapsed": 41390,
     "status": "ok",
     "timestamp": 1616479188168,
     "user": {
      "displayName": "ユウキハヤカワ",
      "photoUrl": "https://lh3.googleusercontent.com/a-/AOh14GjfXu9o7zmAYL24s4P8H7I0lvSgQUaSfrXi7qemvQ=s64",
      "userId": "00286900621093795459"
     },
     "user_tz": -540
    },
    "id": "pUh8IpBV8i8Z"
   },
   "outputs": [],
   "source": [
    "class EarlyStopping:\n",
    "    \"\"\"\n",
    "    Early stops the training if validation loss doesn't improve after a given patience.\n",
    "    based on: https://github.com/Bjarten/early-stopping-pytorch\n",
    "    \"\"\"\n",
    "    def __init__(self, save_name, fold, patience=7, verbose=False, delta=0):\n",
    "        \"\"\"\n",
    "        Args:\n",
    "            patience (int): How long to wait after last time validation loss improved.\n",
    "                            Default: 7\n",
    "            verbose (bool): If True, prints a message for each validation loss improvement. \n",
    "                            Default: False\n",
    "            delta (float): Minimum change in the monitored quantity to qualify as an improvement.\n",
    "                            Default: 0\n",
    "        \"\"\"\n",
    "        self.patience = patience\n",
    "        self.verbose = verbose\n",
    "        self.counter = 0\n",
    "        self.best_score = None\n",
    "        self.early_stop = False\n",
    "        self.val_loss_min = np.Inf\n",
    "        self.delta = delta\n",
    "        self.fold = fold\n",
    "        self.save_name = save_name\n",
    "\n",
    "    def __call__(self, val_loss, model):\n",
    "\n",
    "        score = -val_loss\n",
    "\n",
    "        if self.best_score is None:\n",
    "            self.best_score = score\n",
    "            self.save_checkpoint(val_loss, model)\n",
    "        elif score < self.best_score + self.delta:\n",
    "            self.counter += 1\n",
    "            logger.info(f'EarlyStopping counter: {self.counter} out of {self.patience}, score={val_loss}')\n",
    "            if self.counter >= self.patience:\n",
    "                self.early_stop = True\n",
    "        else:\n",
    "            self.best_score = score\n",
    "            self.save_checkpoint(val_loss, model)\n",
    "            self.counter = 0\n",
    "\n",
    "    def save_checkpoint(self, val_loss, model):\n",
    "        '''Saves model when validation loss decrease.'''\n",
    "        if self.verbose:\n",
    "            logger.info(f'Validation loss decreased ({self.val_loss_min:.6f} --> {val_loss:.6f}).  Saving model ...')\n",
    "            \n",
    "        torch.save(model.state_dict(),  f'{self.save_name}_{self.fold}.pt')\n",
    "        self.val_loss_min = val_loss"
   ]
  },
  {
   "cell_type": "code",
   "execution_count": 25,
   "metadata": {
    "executionInfo": {
     "elapsed": 41385,
     "status": "ok",
     "timestamp": 1616479188169,
     "user": {
      "displayName": "ユウキハヤカワ",
      "photoUrl": "https://lh3.googleusercontent.com/a-/AOh14GjfXu9o7zmAYL24s4P8H7I0lvSgQUaSfrXi7qemvQ=s64",
      "userId": "00286900621093795459"
     },
     "user_tz": -540
    },
    "id": "7tycasUwdySR"
   },
   "outputs": [],
   "source": [
    "class IndoorWiFiNet(nn.Module):\n",
    "    def __init__(self, bssid_size, site_size, num_feats):\n",
    "        super(IndoorWiFiNet, self).__init__()\n",
    "        self.bssid_embedding = nn.Embedding(bssid_size, 64, max_norm=True)\n",
    "        self.site_embedding = nn.Embedding(site_size, 64, max_norm=True)\n",
    "\n",
    "        self.rssi = nn.Sequential(\n",
    "            nn.BatchNorm1d(20),\n",
    "            nn.Linear(20, num_feats * 64)\n",
    "#             nn.BatchNorm1d(20*3),\n",
    "#             nn.Linear(20*3, num_feats * 64 *3)\n",
    "        )\n",
    "        self.bssid_x = nn.Sequential(\n",
    "            nn.BatchNorm1d(20),\n",
    "            nn.Linear(20, num_feats * 64)\n",
    "        )\n",
    "        self.bssid_y = nn.Sequential(\n",
    "            nn.BatchNorm1d(20),\n",
    "            nn.Linear(20, num_feats * 64)\n",
    "        )\n",
    "\n",
    "        concat_size = 64 + (num_feats * 64) + (num_feats * 64) + (num_feats * 64) + (num_feats * 64)\n",
    "        self.bn1 = nn.BatchNorm1d(concat_size)\n",
    "\n",
    "        self.flatten = nn.Flatten()\n",
    "\n",
    "        self.dropout1 = nn.Dropout(0.3)\n",
    "        self.linear1 = nn.Linear(in_features=concat_size, out_features=256)#, bias=False)\n",
    "        self.bn2 = nn.BatchNorm1d(256)\n",
    "\n",
    "        self.linear2 = nn.Linear(in_features=256, out_features=128)#, bias=False)\n",
    "        self.linear3 = nn.Linear(in_features=128, out_features=16)#, bias=False)\n",
    "\n",
    "        self.bn3 = nn.BatchNorm1d(128)\n",
    "        self.bn4 = nn.BatchNorm1d(16)\n",
    "\n",
    "\n",
    "        self.xy = nn.Linear(in_features=16, out_features=2)#, bias=False)\n",
    "        self.floor = nn.Linear(in_features=16, out_features=1)#, bias=False)\n",
    "        \n",
    "\n",
    "    def forward(self, bssid, rssi, site, bssid_x, bssid_y):\n",
    "#     def forward(self, bssid, rssi, site):\n",
    "\n",
    "        site = torch.reshape(site, (-1, 1))\n",
    "\n",
    "        bssid_out = self.bssid_embedding(bssid)\n",
    "        site_out = self.site_embedding(site)\n",
    "\n",
    "        rssi_out = self.rssi(rssi)\n",
    "        bssid_x_out = self.bssid_x(bssid_x)\n",
    "        bssid_y_out = self.bssid_y(bssid_y)\n",
    "\n",
    "        bssid_out = self.flatten(bssid_out)\n",
    "        site_out = self.flatten(site_out)\n",
    "\n",
    "        x = torch.cat([bssid_out, rssi_out, site_out, bssid_x_out, bssid_y_out], dim=1)\n",
    "#         x = torch.cat([bssid_out, rssi_out, site_out], dim=1)\n",
    "        x = self.bn1(x)\n",
    "        x = self.dropout1(x)\n",
    "        x = F.relu(self.linear1(x))\n",
    "        x = self.bn2(x)\n",
    "\n",
    "        x = F.relu(self.linear2(x))\n",
    "        x = self.bn3(x)\n",
    "\n",
    "        x = F.relu(self.linear3(x))\n",
    "        x = self.bn4(x)\n",
    "\n",
    "        #x = self.lstm(x)\n",
    "\n",
    "        xy = self.xy(x)\n",
    "        floor = self.floor(x)\n",
    "\n",
    "        return xy, floor"
   ]
  },
  {
   "cell_type": "code",
   "execution_count": 26,
   "metadata": {
    "executionInfo": {
     "elapsed": 1376,
     "status": "ok",
     "timestamp": 1616481355217,
     "user": {
      "displayName": "ユウキハヤカワ",
      "photoUrl": "https://lh3.googleusercontent.com/a-/AOh14GjfXu9o7zmAYL24s4P8H7I0lvSgQUaSfrXi7qemvQ=s64",
      "userId": "00286900621093795459"
     },
     "user_tz": -540
    },
    "id": "uNYZS-avjuD-"
   },
   "outputs": [],
   "source": [
    "class IndoorWiFiDataSet(Dataset):\n",
    "    def __init__(self, wifi_df, bssid_feats_, rssi_feats_, bssid_x_feats_, bssid_y_feats_, data_type='test'):\n",
    "        self.wifi_df = wifi_df\n",
    "        self.data_type = data_type\n",
    "        self.bssids = wifi_df[bssid_feats_].to_numpy().astype(np.int)    # <----- リファクタ\n",
    "        self.rssis = wifi_df[rssi_feats_].to_numpy().astype(np.float)    # <----- リファクタ\n",
    "        \n",
    "        self.bssid_x = wifi_df[bssid_x_feats_].to_numpy().astype(np.float)\n",
    "        self.bssid_y = wifi_df[bssid_y_feats_].to_numpy().astype(np.float)\n",
    "        \n",
    "        self.site_ids = wifi_df['site_id'].to_numpy()\n",
    "        if data_type in ['train', 'valid']:\n",
    "            self.floors = wifi_df['floor'].to_numpy().astype(np.int)\n",
    "            self.xs = wifi_df['x'].to_numpy()\n",
    "            self.ys = wifi_df['y'].to_numpy()\n",
    "        \n",
    "    def __len__(self):\n",
    "        return len(self.wifi_df)\n",
    "\n",
    "    def __getitem__(self, idx):\n",
    "        # wifi_row = self.wifi_df.iloc[idx]\n",
    "        bssid = self.bssids[idx, :]\n",
    "        rssi = self.rssis[idx, :]\n",
    "        site_id = self.site_ids[idx]\n",
    "        \n",
    "        bssid_x = self.bssid_x[idx, :]\n",
    "        bssid_y = self.bssid_y[idx, :]\n",
    "\n",
    "        if self.data_type in ['test', 'valid']:\n",
    "            return bssid, rssi, site_id, bssid_x, bssid_y\n",
    "\n",
    "        elif self.data_type == 'train':\n",
    "            x = self.xs[idx]\n",
    "            y = self.ys[idx]\n",
    "            floor = self.floors[idx]\n",
    "\n",
    "            return bssid, rssi, site_id, x, y, floor, bssid_x, bssid_y\n"
   ]
  },
  {
   "cell_type": "code",
   "execution_count": 27,
   "metadata": {
    "executionInfo": {
     "elapsed": 41354,
     "status": "ok",
     "timestamp": 1616479188173,
     "user": {
      "displayName": "ユウキハヤカワ",
      "photoUrl": "https://lh3.googleusercontent.com/a-/AOh14GjfXu9o7zmAYL24s4P8H7I0lvSgQUaSfrXi7qemvQ=s64",
      "userId": "00286900621093795459"
     },
     "user_tz": -540
    },
    "id": "F4Parwz4Xcrn"
   },
   "outputs": [],
   "source": [
    "class IndoorLoss(nn.Module):\n",
    "    def __init__(self):\n",
    "        super().__init__()\n",
    "\n",
    "        self.mse = nn.MSELoss()\n",
    "\n",
    "    def forward(self, x, y, floor, x_pred, y_pred, floor_pred):\n",
    "\n",
    "        x_loss = self.mse(x, x_pred)\n",
    "        y_loss = self.mse(y, y_pred)\n",
    "        floor_loss = self.mse(floor, floor_pred)\n",
    "\n",
    "        return x_loss + y_loss + floor_loss"
   ]
  },
  {
   "cell_type": "code",
   "execution_count": 28,
   "metadata": {
    "colab": {
     "base_uri": "https://localhost:8080/"
    },
    "executionInfo": {
     "elapsed": 41347,
     "status": "ok",
     "timestamp": 1616479188173,
     "user": {
      "displayName": "ユウキハヤカワ",
      "photoUrl": "https://lh3.googleusercontent.com/a-/AOh14GjfXu9o7zmAYL24s4P8H7I0lvSgQUaSfrXi7qemvQ=s64",
      "userId": "00286900621093795459"
     },
     "user_tz": -540
    },
    "id": "_Diyk0TFZBiQ",
    "outputId": "f5a01157-c5f0-448a-ca29-9380a573e4b1"
   },
   "outputs": [],
   "source": [
    "# device = torch.device(\"cuda\" if torch.cuda.is_available() else \"cpu\")\n",
    "device = torch.device(config['globals']['device'])"
   ]
  },
  {
   "cell_type": "code",
   "execution_count": 29,
   "metadata": {
    "colab": {
     "base_uri": "https://localhost:8080/"
    },
    "executionInfo": {
     "elapsed": 2141644,
     "status": "ok",
     "timestamp": 1616481288506,
     "user": {
      "displayName": "ユウキハヤカワ",
      "photoUrl": "https://lh3.googleusercontent.com/a-/AOh14GjfXu9o7zmAYL24s4P8H7I0lvSgQUaSfrXi7qemvQ=s64",
      "userId": "00286900621093795459"
     },
     "user_tz": -540
    },
    "id": "AdSYMcirdyXx",
    "outputId": "e1f840c9-d3af-4df7-b2fc-3f7f9735df4d"
   },
   "outputs": [
    {
     "name": "stdout",
     "output_type": "stream",
     "text": [
      "\n",
      "====== 1 ======\n"
     ]
    },
    {
     "data": {
      "text/html": [
       "\n",
       "    <div>\n",
       "        <style>\n",
       "            /* Turns off some styling */\n",
       "            progress {\n",
       "                /* gets rid of default border in Firefox and Opera. */\n",
       "                border: none;\n",
       "                /* Needs to be in here for Safari polyfill so background images work as expected. */\n",
       "                background-size: auto;\n",
       "            }\n",
       "            .progress-bar-interrupted, .progress-bar-interrupted::-webkit-progress-bar {\n",
       "                background: #F44336;\n",
       "            }\n",
       "        </style>\n",
       "      <progress value='23' class='' max='100' style='width:300px; height:20px; vertical-align: middle;'></progress>\n",
       "      23.00% [23/100 05:35<18:42 epoch = 23]\n",
       "    </div>\n",
       "    \n",
       "\n",
       "\n",
       "    <div>\n",
       "        <style>\n",
       "            /* Turns off some styling */\n",
       "            progress {\n",
       "                /* gets rid of default border in Firefox and Opera. */\n",
       "                border: none;\n",
       "                /* Needs to be in here for Safari polyfill so background images work as expected. */\n",
       "                background-size: auto;\n",
       "            }\n",
       "            .progress-bar-interrupted, .progress-bar-interrupted::-webkit-progress-bar {\n",
       "                background: #F44336;\n",
       "            }\n",
       "        </style>\n",
       "      <progress value='404' class='' max='404' style='width:300px; height:20px; vertical-align: middle;'></progress>\n",
       "      100.00% [404/404 00:04<00:00]\n",
       "    </div>\n",
       "    "
      ],
      "text/plain": [
       "<IPython.core.display.HTML object>"
      ]
     },
     "metadata": {},
     "output_type": "display_data"
    },
    {
     "name": "stderr",
     "output_type": "stream",
     "text": [
      "2021-04-08 20:54:10.142 | INFO     | __main__:save_checkpoint:46 - Validation loss decreased (inf --> 78.751558).  Saving model ...\n",
      "2021-04-08 20:54:24.754 | INFO     | __main__:save_checkpoint:46 - Validation loss decreased (78.751558 --> 9.893851).  Saving model ...\n",
      "2021-04-08 20:54:39.422 | INFO     | __main__:save_checkpoint:46 - Validation loss decreased (9.893851 --> 7.931648).  Saving model ...\n",
      "2021-04-08 20:54:53.829 | INFO     | __main__:__call__:35 - EarlyStopping counter: 1 out of 10, score=8.113794028357969\n",
      "2021-04-08 20:55:08.395 | INFO     | __main__:__call__:35 - EarlyStopping counter: 2 out of 10, score=8.011124507878941\n",
      "2021-04-08 20:55:23.214 | INFO     | __main__:save_checkpoint:46 - Validation loss decreased (7.931648 --> 6.938730).  Saving model ...\n",
      "2021-04-08 20:55:37.999 | INFO     | __main__:__call__:35 - EarlyStopping counter: 1 out of 10, score=7.278338574465296\n",
      "2021-04-08 20:55:52.532 | INFO     | __main__:save_checkpoint:46 - Validation loss decreased (6.938730 --> 6.928505).  Saving model ...\n",
      "2021-04-08 20:56:07.676 | INFO     | __main__:save_checkpoint:46 - Validation loss decreased (6.928505 --> 6.663018).  Saving model ...\n",
      "2021-04-08 20:56:22.206 | INFO     | __main__:__call__:35 - EarlyStopping counter: 1 out of 10, score=6.835648812127021\n",
      "2021-04-08 20:56:36.689 | INFO     | __main__:__call__:35 - EarlyStopping counter: 2 out of 10, score=6.845952460333289\n",
      "2021-04-08 20:56:51.434 | INFO     | __main__:__call__:35 - EarlyStopping counter: 3 out of 10, score=6.985109491888888\n",
      "2021-04-08 20:57:06.117 | INFO     | __main__:__call__:35 - EarlyStopping counter: 4 out of 10, score=6.908118557616505\n",
      "2021-04-08 20:57:20.090 | INFO     | __main__:save_checkpoint:46 - Validation loss decreased (6.663018 --> 6.627744).  Saving model ...\n",
      "2021-04-08 20:57:34.537 | INFO     | __main__:__call__:35 - EarlyStopping counter: 1 out of 10, score=7.326322640232993\n",
      "2021-04-08 20:57:49.160 | INFO     | __main__:__call__:35 - EarlyStopping counter: 2 out of 10, score=6.88323527122759\n",
      "2021-04-08 20:58:03.205 | INFO     | __main__:__call__:35 - EarlyStopping counter: 3 out of 10, score=6.804184299472337\n",
      "2021-04-08 20:58:17.767 | INFO     | __main__:__call__:35 - EarlyStopping counter: 4 out of 10, score=7.161253977620144\n",
      "2021-04-08 20:58:32.504 | INFO     | __main__:__call__:35 - EarlyStopping counter: 5 out of 10, score=7.058680062760015\n",
      "2021-04-08 20:58:46.986 | INFO     | __main__:__call__:35 - EarlyStopping counter: 6 out of 10, score=6.921233839630355\n",
      "2021-04-08 20:59:01.565 | INFO     | __main__:__call__:35 - EarlyStopping counter: 7 out of 10, score=6.885027105270078\n",
      "2021-04-08 20:59:16.311 | INFO     | __main__:__call__:35 - EarlyStopping counter: 8 out of 10, score=7.020087620847281\n",
      "2021-04-08 20:59:30.950 | INFO     | __main__:__call__:35 - EarlyStopping counter: 9 out of 10, score=6.704057297842017\n",
      "2021-04-08 20:59:45.870 | INFO     | __main__:__call__:35 - EarlyStopping counter: 10 out of 10, score=7.074281522458887\n",
      "2021-04-08 20:59:45.871 | INFO     | __main__:<module>:95 - Early stopping\n"
     ]
    },
    {
     "name": "stdout",
     "output_type": "stream",
     "text": [
      "6.6277438565397055\n",
      "\n",
      "====== 2 ======\n"
     ]
    },
    {
     "data": {
      "text/html": [
       "\n",
       "    <div>\n",
       "        <style>\n",
       "            /* Turns off some styling */\n",
       "            progress {\n",
       "                /* gets rid of default border in Firefox and Opera. */\n",
       "                border: none;\n",
       "                /* Needs to be in here for Safari polyfill so background images work as expected. */\n",
       "                background-size: auto;\n",
       "            }\n",
       "            .progress-bar-interrupted, .progress-bar-interrupted::-webkit-progress-bar {\n",
       "                background: #F44336;\n",
       "            }\n",
       "        </style>\n",
       "      <progress value='21' class='' max='100' style='width:300px; height:20px; vertical-align: middle;'></progress>\n",
       "      21.00% [21/100 05:02<18:59 epoch = 21]\n",
       "    </div>\n",
       "    \n",
       "\n",
       "\n",
       "    <div>\n",
       "        <style>\n",
       "            /* Turns off some styling */\n",
       "            progress {\n",
       "                /* gets rid of default border in Firefox and Opera. */\n",
       "                border: none;\n",
       "                /* Needs to be in here for Safari polyfill so background images work as expected. */\n",
       "                background-size: auto;\n",
       "            }\n",
       "            .progress-bar-interrupted, .progress-bar-interrupted::-webkit-progress-bar {\n",
       "                background: #F44336;\n",
       "            }\n",
       "        </style>\n",
       "      <progress value='404' class='' max='404' style='width:300px; height:20px; vertical-align: middle;'></progress>\n",
       "      100.00% [404/404 00:04<00:00]\n",
       "    </div>\n",
       "    "
      ],
      "text/plain": [
       "<IPython.core.display.HTML object>"
      ]
     },
     "metadata": {},
     "output_type": "display_data"
    },
    {
     "name": "stderr",
     "output_type": "stream",
     "text": [
      "2021-04-08 21:00:06.887 | INFO     | __main__:save_checkpoint:46 - Validation loss decreased (inf --> 75.380887).  Saving model ...\n",
      "2021-04-08 21:00:21.072 | INFO     | __main__:save_checkpoint:46 - Validation loss decreased (75.380887 --> 9.018184).  Saving model ...\n",
      "2021-04-08 21:00:35.575 | INFO     | __main__:save_checkpoint:46 - Validation loss decreased (9.018184 --> 7.907555).  Saving model ...\n",
      "2021-04-08 21:00:50.206 | INFO     | __main__:save_checkpoint:46 - Validation loss decreased (7.907555 --> 7.624769).  Saving model ...\n",
      "2021-04-08 21:01:04.689 | INFO     | __main__:__call__:35 - EarlyStopping counter: 1 out of 10, score=7.712964530333144\n",
      "2021-04-08 21:01:18.872 | INFO     | __main__:save_checkpoint:46 - Validation loss decreased (7.624769 --> 7.442112).  Saving model ...\n",
      "2021-04-08 21:01:33.648 | INFO     | __main__:save_checkpoint:46 - Validation loss decreased (7.442112 --> 7.232453).  Saving model ...\n",
      "2021-04-08 21:01:47.338 | INFO     | __main__:save_checkpoint:46 - Validation loss decreased (7.232453 --> 7.202953).  Saving model ...\n",
      "2021-04-08 21:02:02.007 | INFO     | __main__:save_checkpoint:46 - Validation loss decreased (7.202953 --> 6.993404).  Saving model ...\n",
      "2021-04-08 21:02:16.870 | INFO     | __main__:__call__:35 - EarlyStopping counter: 1 out of 10, score=6.997573153949714\n",
      "2021-04-08 21:02:30.740 | INFO     | __main__:__call__:35 - EarlyStopping counter: 2 out of 10, score=7.026973885752917\n",
      "2021-04-08 21:02:44.967 | INFO     | __main__:save_checkpoint:46 - Validation loss decreased (6.993404 --> 6.775319).  Saving model ...\n",
      "2021-04-08 21:02:59.465 | INFO     | __main__:__call__:35 - EarlyStopping counter: 1 out of 10, score=7.096761890698119\n",
      "2021-04-08 21:03:14.025 | INFO     | __main__:__call__:35 - EarlyStopping counter: 2 out of 10, score=7.2620105340371195\n",
      "2021-04-08 21:03:28.437 | INFO     | __main__:__call__:35 - EarlyStopping counter: 3 out of 10, score=6.905717048838193\n",
      "2021-04-08 21:03:42.808 | INFO     | __main__:__call__:35 - EarlyStopping counter: 4 out of 10, score=7.865832397095764\n",
      "2021-04-08 21:03:57.481 | INFO     | __main__:__call__:35 - EarlyStopping counter: 5 out of 10, score=7.051159676250618\n",
      "2021-04-08 21:04:11.835 | INFO     | __main__:__call__:35 - EarlyStopping counter: 6 out of 10, score=7.261669378040597\n",
      "2021-04-08 21:04:26.441 | INFO     | __main__:__call__:35 - EarlyStopping counter: 7 out of 10, score=7.531166682400443\n",
      "2021-04-08 21:04:40.984 | INFO     | __main__:__call__:35 - EarlyStopping counter: 8 out of 10, score=7.208418986838589\n",
      "2021-04-08 21:04:55.218 | INFO     | __main__:__call__:35 - EarlyStopping counter: 9 out of 10, score=7.035793066019737\n",
      "2021-04-08 21:05:09.802 | INFO     | __main__:__call__:35 - EarlyStopping counter: 10 out of 10, score=6.957268038126994\n",
      "2021-04-08 21:05:09.803 | INFO     | __main__:<module>:95 - Early stopping\n"
     ]
    },
    {
     "name": "stdout",
     "output_type": "stream",
     "text": [
      "6.775319352868936\n",
      "\n",
      "====== 3 ======\n"
     ]
    },
    {
     "data": {
      "text/html": [
       "\n",
       "    <div>\n",
       "        <style>\n",
       "            /* Turns off some styling */\n",
       "            progress {\n",
       "                /* gets rid of default border in Firefox and Opera. */\n",
       "                border: none;\n",
       "                /* Needs to be in here for Safari polyfill so background images work as expected. */\n",
       "                background-size: auto;\n",
       "            }\n",
       "            .progress-bar-interrupted, .progress-bar-interrupted::-webkit-progress-bar {\n",
       "                background: #F44336;\n",
       "            }\n",
       "        </style>\n",
       "      <progress value='22' class='' max='100' style='width:300px; height:20px; vertical-align: middle;'></progress>\n",
       "      22.00% [22/100 05:20<18:56 epoch = 22]\n",
       "    </div>\n",
       "    \n",
       "\n",
       "\n",
       "    <div>\n",
       "        <style>\n",
       "            /* Turns off some styling */\n",
       "            progress {\n",
       "                /* gets rid of default border in Firefox and Opera. */\n",
       "                border: none;\n",
       "                /* Needs to be in here for Safari polyfill so background images work as expected. */\n",
       "                background-size: auto;\n",
       "            }\n",
       "            .progress-bar-interrupted, .progress-bar-interrupted::-webkit-progress-bar {\n",
       "                background: #F44336;\n",
       "            }\n",
       "        </style>\n",
       "      <progress value='404' class='' max='404' style='width:300px; height:20px; vertical-align: middle;'></progress>\n",
       "      100.00% [404/404 00:04<00:00]\n",
       "    </div>\n",
       "    "
      ],
      "text/plain": [
       "<IPython.core.display.HTML object>"
      ]
     },
     "metadata": {},
     "output_type": "display_data"
    },
    {
     "name": "stderr",
     "output_type": "stream",
     "text": [
      "2021-04-08 21:05:30.767 | INFO     | __main__:save_checkpoint:46 - Validation loss decreased (inf --> 79.126073).  Saving model ...\n",
      "2021-04-08 21:05:45.279 | INFO     | __main__:save_checkpoint:46 - Validation loss decreased (79.126073 --> 9.703316).  Saving model ...\n",
      "2021-04-08 21:06:00.226 | INFO     | __main__:save_checkpoint:46 - Validation loss decreased (9.703316 --> 8.002696).  Saving model ...\n",
      "2021-04-08 21:06:15.046 | INFO     | __main__:save_checkpoint:46 - Validation loss decreased (8.002696 --> 7.562442).  Saving model ...\n",
      "2021-04-08 21:06:29.573 | INFO     | __main__:save_checkpoint:46 - Validation loss decreased (7.562442 --> 7.537931).  Saving model ...\n",
      "2021-04-08 21:06:44.062 | INFO     | __main__:save_checkpoint:46 - Validation loss decreased (7.537931 --> 7.032241).  Saving model ...\n",
      "2021-04-08 21:06:58.600 | INFO     | __main__:save_checkpoint:46 - Validation loss decreased (7.032241 --> 6.871753).  Saving model ...\n",
      "2021-04-08 21:07:13.390 | INFO     | __main__:__call__:35 - EarlyStopping counter: 1 out of 10, score=7.142208515423909\n",
      "2021-04-08 21:07:27.793 | INFO     | __main__:__call__:35 - EarlyStopping counter: 2 out of 10, score=7.073593510512727\n",
      "2021-04-08 21:07:42.312 | INFO     | __main__:__call__:35 - EarlyStopping counter: 3 out of 10, score=6.9621679051932785\n",
      "2021-04-08 21:07:56.957 | INFO     | __main__:save_checkpoint:46 - Validation loss decreased (6.871753 --> 6.869103).  Saving model ...\n",
      "2021-04-08 21:08:11.736 | INFO     | __main__:save_checkpoint:46 - Validation loss decreased (6.869103 --> 6.731562).  Saving model ...\n",
      "2021-04-08 21:08:26.550 | INFO     | __main__:save_checkpoint:46 - Validation loss decreased (6.731562 --> 6.689283).  Saving model ...\n",
      "2021-04-08 21:08:40.740 | INFO     | __main__:__call__:35 - EarlyStopping counter: 1 out of 10, score=6.822948641137491\n",
      "2021-04-08 21:08:55.271 | INFO     | __main__:__call__:35 - EarlyStopping counter: 2 out of 10, score=7.026199305618433\n",
      "2021-04-08 21:09:09.918 | INFO     | __main__:__call__:35 - EarlyStopping counter: 3 out of 10, score=7.065903133089481\n",
      "2021-04-08 21:09:24.611 | INFO     | __main__:__call__:35 - EarlyStopping counter: 4 out of 10, score=7.008771270031478\n",
      "2021-04-08 21:09:39.115 | INFO     | __main__:__call__:35 - EarlyStopping counter: 5 out of 10, score=7.272098528077859\n",
      "2021-04-08 21:09:53.708 | INFO     | __main__:__call__:35 - EarlyStopping counter: 6 out of 10, score=6.803121125880599\n",
      "2021-04-08 21:10:07.966 | INFO     | __main__:__call__:35 - EarlyStopping counter: 7 out of 10, score=6.88237117337122\n",
      "2021-04-08 21:10:22.735 | INFO     | __main__:__call__:35 - EarlyStopping counter: 8 out of 10, score=7.019797831292497\n",
      "2021-04-08 21:10:37.028 | INFO     | __main__:__call__:35 - EarlyStopping counter: 9 out of 10, score=6.975136718507634\n",
      "2021-04-08 21:10:51.372 | INFO     | __main__:__call__:35 - EarlyStopping counter: 10 out of 10, score=6.861376874646032\n",
      "2021-04-08 21:10:51.373 | INFO     | __main__:<module>:95 - Early stopping\n"
     ]
    },
    {
     "name": "stdout",
     "output_type": "stream",
     "text": [
      "6.689282979728225\n",
      "\n",
      "====== 4 ======\n"
     ]
    },
    {
     "data": {
      "text/html": [
       "\n",
       "    <div>\n",
       "        <style>\n",
       "            /* Turns off some styling */\n",
       "            progress {\n",
       "                /* gets rid of default border in Firefox and Opera. */\n",
       "                border: none;\n",
       "                /* Needs to be in here for Safari polyfill so background images work as expected. */\n",
       "                background-size: auto;\n",
       "            }\n",
       "            .progress-bar-interrupted, .progress-bar-interrupted::-webkit-progress-bar {\n",
       "                background: #F44336;\n",
       "            }\n",
       "        </style>\n",
       "      <progress value='20' class='' max='100' style='width:300px; height:20px; vertical-align: middle;'></progress>\n",
       "      20.00% [20/100 04:53<19:34 epoch = 20]\n",
       "    </div>\n",
       "    \n",
       "\n",
       "\n",
       "    <div>\n",
       "        <style>\n",
       "            /* Turns off some styling */\n",
       "            progress {\n",
       "                /* gets rid of default border in Firefox and Opera. */\n",
       "                border: none;\n",
       "                /* Needs to be in here for Safari polyfill so background images work as expected. */\n",
       "                background-size: auto;\n",
       "            }\n",
       "            .progress-bar-interrupted, .progress-bar-interrupted::-webkit-progress-bar {\n",
       "                background: #F44336;\n",
       "            }\n",
       "        </style>\n",
       "      <progress value='404' class='' max='404' style='width:300px; height:20px; vertical-align: middle;'></progress>\n",
       "      100.00% [404/404 00:04<00:00]\n",
       "    </div>\n",
       "    "
      ],
      "text/plain": [
       "<IPython.core.display.HTML object>"
      ]
     },
     "metadata": {},
     "output_type": "display_data"
    },
    {
     "name": "stderr",
     "output_type": "stream",
     "text": [
      "2021-04-08 21:11:12.299 | INFO     | __main__:save_checkpoint:46 - Validation loss decreased (inf --> 80.568096).  Saving model ...\n",
      "2021-04-08 21:11:26.970 | INFO     | __main__:save_checkpoint:46 - Validation loss decreased (80.568096 --> 9.879761).  Saving model ...\n",
      "2021-04-08 21:11:41.652 | INFO     | __main__:save_checkpoint:46 - Validation loss decreased (9.879761 --> 7.990914).  Saving model ...\n",
      "2021-04-08 21:11:56.548 | INFO     | __main__:save_checkpoint:46 - Validation loss decreased (7.990914 --> 7.649300).  Saving model ...\n",
      "2021-04-08 21:12:11.398 | INFO     | __main__:__call__:35 - EarlyStopping counter: 1 out of 10, score=7.875078944517943\n",
      "2021-04-08 21:12:26.368 | INFO     | __main__:save_checkpoint:46 - Validation loss decreased (7.649300 --> 6.809511).  Saving model ...\n",
      "2021-04-08 21:12:41.038 | INFO     | __main__:__call__:35 - EarlyStopping counter: 1 out of 10, score=7.183672336927825\n",
      "2021-04-08 21:12:55.591 | INFO     | __main__:__call__:35 - EarlyStopping counter: 2 out of 10, score=7.155545430114053\n",
      "2021-04-08 21:13:10.222 | INFO     | __main__:save_checkpoint:46 - Validation loss decreased (6.809511 --> 6.620310).  Saving model ...\n",
      "2021-04-08 21:13:25.051 | INFO     | __main__:__call__:35 - EarlyStopping counter: 1 out of 10, score=6.945276235534601\n",
      "2021-04-08 21:13:39.702 | INFO     | __main__:save_checkpoint:46 - Validation loss decreased (6.620310 --> 6.518114).  Saving model ...\n",
      "2021-04-08 21:13:54.595 | INFO     | __main__:__call__:35 - EarlyStopping counter: 1 out of 10, score=7.284851664960368\n",
      "2021-04-08 21:14:09.242 | INFO     | __main__:__call__:35 - EarlyStopping counter: 2 out of 10, score=6.6177284756918615\n",
      "2021-04-08 21:14:23.728 | INFO     | __main__:__call__:35 - EarlyStopping counter: 3 out of 10, score=7.0937983355608\n",
      "2021-04-08 21:14:38.335 | INFO     | __main__:__call__:35 - EarlyStopping counter: 4 out of 10, score=7.112104085425137\n",
      "2021-04-08 21:14:53.071 | INFO     | __main__:__call__:35 - EarlyStopping counter: 5 out of 10, score=6.816194446180196\n",
      "2021-04-08 21:15:07.651 | INFO     | __main__:__call__:35 - EarlyStopping counter: 6 out of 10, score=6.865694061313244\n",
      "2021-04-08 21:15:22.341 | INFO     | __main__:__call__:35 - EarlyStopping counter: 7 out of 10, score=6.947553546110768\n",
      "2021-04-08 21:15:36.736 | INFO     | __main__:__call__:35 - EarlyStopping counter: 8 out of 10, score=7.013585912802818\n",
      "2021-04-08 21:15:51.381 | INFO     | __main__:__call__:35 - EarlyStopping counter: 9 out of 10, score=7.09772000797974\n",
      "2021-04-08 21:16:05.630 | INFO     | __main__:__call__:35 - EarlyStopping counter: 10 out of 10, score=7.129845935819663\n",
      "2021-04-08 21:16:05.630 | INFO     | __main__:<module>:95 - Early stopping\n"
     ]
    },
    {
     "name": "stdout",
     "output_type": "stream",
     "text": [
      "6.5181136812924985\n",
      "\n",
      "====== 5 ======\n"
     ]
    },
    {
     "data": {
      "text/html": [
       "\n",
       "    <div>\n",
       "        <style>\n",
       "            /* Turns off some styling */\n",
       "            progress {\n",
       "                /* gets rid of default border in Firefox and Opera. */\n",
       "                border: none;\n",
       "                /* Needs to be in here for Safari polyfill so background images work as expected. */\n",
       "                background-size: auto;\n",
       "            }\n",
       "            .progress-bar-interrupted, .progress-bar-interrupted::-webkit-progress-bar {\n",
       "                background: #F44336;\n",
       "            }\n",
       "        </style>\n",
       "      <progress value='19' class='' max='100' style='width:300px; height:20px; vertical-align: middle;'></progress>\n",
       "      19.00% [19/100 04:36<19:37 epoch = 19]\n",
       "    </div>\n",
       "    \n",
       "\n",
       "\n",
       "    <div>\n",
       "        <style>\n",
       "            /* Turns off some styling */\n",
       "            progress {\n",
       "                /* gets rid of default border in Firefox and Opera. */\n",
       "                border: none;\n",
       "                /* Needs to be in here for Safari polyfill so background images work as expected. */\n",
       "                background-size: auto;\n",
       "            }\n",
       "            .progress-bar-interrupted, .progress-bar-interrupted::-webkit-progress-bar {\n",
       "                background: #F44336;\n",
       "            }\n",
       "        </style>\n",
       "      <progress value='404' class='' max='404' style='width:300px; height:20px; vertical-align: middle;'></progress>\n",
       "      100.00% [404/404 00:04<00:00]\n",
       "    </div>\n",
       "    "
      ],
      "text/plain": [
       "<IPython.core.display.HTML object>"
      ]
     },
     "metadata": {},
     "output_type": "display_data"
    },
    {
     "name": "stderr",
     "output_type": "stream",
     "text": [
      "2021-04-08 21:16:26.669 | INFO     | __main__:save_checkpoint:46 - Validation loss decreased (inf --> 82.938575).  Saving model ...\n",
      "2021-04-08 21:16:41.429 | INFO     | __main__:save_checkpoint:46 - Validation loss decreased (82.938575 --> 10.005526).  Saving model ...\n",
      "2021-04-08 21:16:56.092 | INFO     | __main__:save_checkpoint:46 - Validation loss decreased (10.005526 --> 7.753458).  Saving model ...\n",
      "2021-04-08 21:17:09.813 | INFO     | __main__:save_checkpoint:46 - Validation loss decreased (7.753458 --> 7.653153).  Saving model ...\n",
      "2021-04-08 21:17:24.615 | INFO     | __main__:save_checkpoint:46 - Validation loss decreased (7.653153 --> 7.335071).  Saving model ...\n",
      "2021-04-08 21:17:39.034 | INFO     | __main__:save_checkpoint:46 - Validation loss decreased (7.335071 --> 7.054542).  Saving model ...\n",
      "2021-04-08 21:17:53.565 | INFO     | __main__:save_checkpoint:46 - Validation loss decreased (7.054542 --> 6.965152).  Saving model ...\n",
      "2021-04-08 21:18:07.681 | INFO     | __main__:__call__:35 - EarlyStopping counter: 1 out of 10, score=6.980466684639936\n",
      "2021-04-08 21:18:22.287 | INFO     | __main__:__call__:35 - EarlyStopping counter: 2 out of 10, score=7.072870512102376\n",
      "2021-04-08 21:18:36.815 | INFO     | __main__:save_checkpoint:46 - Validation loss decreased (6.965152 --> 6.502722).  Saving model ...\n",
      "2021-04-08 21:18:51.502 | INFO     | __main__:__call__:35 - EarlyStopping counter: 1 out of 10, score=7.002176323411097\n",
      "2021-04-08 21:19:05.567 | INFO     | __main__:__call__:35 - EarlyStopping counter: 2 out of 10, score=6.726225149457013\n",
      "2021-04-08 21:19:20.246 | INFO     | __main__:__call__:35 - EarlyStopping counter: 3 out of 10, score=6.811937442267979\n",
      "2021-04-08 21:19:35.051 | INFO     | __main__:__call__:35 - EarlyStopping counter: 4 out of 10, score=6.940426339624893\n",
      "2021-04-08 21:19:49.553 | INFO     | __main__:__call__:35 - EarlyStopping counter: 5 out of 10, score=7.142104900451725\n",
      "2021-04-08 21:20:04.495 | INFO     | __main__:__call__:35 - EarlyStopping counter: 6 out of 10, score=6.895700824248257\n",
      "2021-04-08 21:20:18.695 | INFO     | __main__:__call__:35 - EarlyStopping counter: 7 out of 10, score=7.215161738997997\n",
      "2021-04-08 21:20:33.450 | INFO     | __main__:__call__:35 - EarlyStopping counter: 8 out of 10, score=7.31467982836161\n",
      "2021-04-08 21:20:48.411 | INFO     | __main__:__call__:35 - EarlyStopping counter: 9 out of 10, score=7.172949233070115\n",
      "2021-04-08 21:21:03.138 | INFO     | __main__:__call__:35 - EarlyStopping counter: 10 out of 10, score=7.3891866042789145\n",
      "2021-04-08 21:21:03.139 | INFO     | __main__:<module>:95 - Early stopping\n"
     ]
    },
    {
     "name": "stdout",
     "output_type": "stream",
     "text": [
      "6.50272181207934\n",
      "CPU times: user 23min 9s, sys: 2min 23s, total: 25min 33s\n",
      "Wall time: 27min 15s\n"
     ]
    }
   ],
   "source": [
    "%%time\n",
    "\n",
    "oof_x = np.zeros((len(df_train)))\n",
    "oof_y = np.zeros((len(df_train)))\n",
    "oof_floor = np.zeros((len(df_train)))\n",
    "cv_scores = {}\n",
    "\n",
    "kf = KFold(n_splits=config['globals']['n_splits'], random_state=42, shuffle=True)\n",
    "for fold, (train_index, valid_index) in enumerate(kf.split(df_train)):\n",
    "    print(f'\\r\\n====== {fold + 1} ======')\n",
    "    net = IndoorWiFiNet(wifi_bssids_size, site_count, config['globals']['num_feats'])\n",
    "    net = net.to(device)\n",
    "\n",
    "    #criterion = IndoorLoss()\n",
    "    criterion = nn.MSELoss()\n",
    "    criterion = criterion.to(device)\n",
    "    #optimizer = optim.SGD(net.parameters(), lr=Config.LR, weight_decay=0.0001, momentum=0.9)\n",
    "    optimizer = torch.optim.Adam(net.parameters(), lr=config['globals']['lr'])\n",
    "    \n",
    "    train, valid = df_train.iloc[train_index], df_train.iloc[valid_index]\n",
    "\n",
    "    # TODO oof用のdataloaderはいらないはず\n",
    "    train_dataset = IndoorWiFiDataSet(train.reset_index(drop=True), bssid_feats, rssi_feats, bssid_x_feats, bssid_y_feats, data_type='train')\n",
    "    valid_dataset = IndoorWiFiDataSet(valid.reset_index(drop=True), bssid_feats, rssi_feats, bssid_x_feats, bssid_y_feats, data_type='valid')\n",
    "\n",
    "    trainloader = DataLoader(train_dataset, batch_size=config['globals']['batch_size'], shuffle=True, drop_last=True, num_workers=4)\n",
    "    validloader = DataLoader(valid_dataset, batch_size=config['globals']['batch_size'], num_workers=4)\n",
    "\n",
    "    early_stopping = EarlyStopping(save_name=f'{DIR_SAVE_IGNORE}checkpoint_{NB}', fold=fold+1, patience=config['globals']['patience'], verbose=True)\n",
    "    scheduler = torch.optim.lr_scheduler.CosineAnnealingLR(optimizer, T_max=config['globals']['t_mux'])\n",
    "\n",
    "\n",
    "    ############# TRAIN #############\n",
    "    val_losses = []\n",
    "    val_metrics = []\n",
    "    mb = master_bar(range(1, config['globals']['epoch']+1))\n",
    "    for epoch in mb:\n",
    "        mb.main_bar.comment = f'epoch = {epoch}'\n",
    "        running_loss = 0.0\n",
    "        #train_lwlrap = 0.0\n",
    "#         n_iter = len(trainloader)\n",
    "#         with tqdm(enumerate(trainloader), total=n_iter) as pbar:\n",
    "        for i, (bssid, rssi, site_id, x, y, floor, bssid_x, bssid_y) in enumerate(progress_bar(trainloader, parent=mb)):\n",
    "            net.train()\n",
    "            # zero the parameter gradients\n",
    "            optimizer.zero_grad()\n",
    "\n",
    "            bssid, rssi, site_id, x, y, floor, bssid_x, bssid_y = bssid.to(device).long(), rssi.to(device).float(), site_id.to(device).long(), x.to(device).float(), y.to(device).float(), floor.to(device), bssid_x.to(device).float(), bssid_y.to(device).float()\n",
    "\n",
    "            xy_pred, floor_pred = net(bssid, rssi, site_id, bssid_x, bssid_y)\n",
    "#             xy_pred, floor_pred = net(bssid, torch.cat([rssi, bssid_x, bssid_y], dim=1), site_id)\n",
    "            xy_pred = xy_pred.transpose(0, 1).squeeze(-2).reshape(-1)\n",
    "            label = torch.cat([x, y], dim=-1)\n",
    "            loss = criterion(xy_pred, label)\n",
    "            #loss = criterion(x, y, floor, x_pred, y_pred, floor_pred)\n",
    "            loss.backward()\n",
    "            optimizer.step()\n",
    "\n",
    "            running_loss += loss.item()\n",
    "#             mb.child.comment(OrderedDict(\n",
    "#                 epoch=\"{:>10}\".format(epoch), loss=\"{:.4f}\".format(loss.item())\n",
    "#             ))\n",
    "            mb.child.comment = f'loss={loss.item():.4f}'\n",
    "        scheduler.step()\n",
    "            \n",
    "        #if epoch < Config.SKIP_EVALUATE_NUM:\n",
    "        #    continue\n",
    "\n",
    "        ############# VALID #############\n",
    "        val_loss = 0.0\n",
    "        val_lwlrap = 0.0\n",
    "        x_preds = np.array([])\n",
    "        y_preds = np.array([])\n",
    "        val_preds_frame = []\n",
    "        n_iter_val = len(validloader)\n",
    "#         for i, (bssid, rssi, site_id) in tqdm(enumerate(validloader), total=len(validloader)):\n",
    "        for i, (bssid, rssi, site_id, bssid_x, bssid_y) in enumerate(progress_bar(validloader, parent=mb)):\n",
    "            mb.child.comment = 'calc valid'\n",
    "            net.eval()\n",
    "\n",
    "            with torch.no_grad():\n",
    "                \n",
    "                #melspec, labels = melspec.to(device).float(), labels.to(device).float()\n",
    "                bssid, rssi, site_id, bssid_x, bssid_y = bssid.to(device).long(), rssi.to(device).float(), site_id.to(device).long(), bssid_x.to(device).float(), bssid_y.to(device).float()\n",
    "                xy_pred, floor_pred = net(bssid, rssi, site_id, bssid_x, bssid_y)\n",
    "\n",
    "                xy_pred = xy_pred.to('cpu').detach().numpy().copy()\n",
    "                x_pred, y_pred = np.hsplit(xy_pred, 2)\n",
    "                x_preds = np.concatenate([x_preds, x_pred.reshape(-1)])\n",
    "                y_preds = np.concatenate([y_preds, y_pred.reshape(-1)])\n",
    "\n",
    "        score = comp_metric(x_preds, y_preds, 0, valid['x'], valid['y'], 0)\n",
    "\n",
    "        early_stopping(score, net)\n",
    "\n",
    "        if early_stopping.early_stop:\n",
    "            logger.info(\"Early stopping\")\n",
    "            cv_scores[f'cv{fold + 1}'] = early_stopping.best_score\n",
    "            break\n",
    "                \n",
    "    _x_oof = np.array([])\n",
    "    _y_oof = np.array([])\n",
    "    ############# OOF #############\n",
    "    oof_preds = []\n",
    "#     for i, (bssid, rssi, site_id) in tqdm(enumerate(validloader), total=len(validloader)):\n",
    "    for i, (bssid, rssi, site_id, bssid_x, bssid_y) in enumerate(progress_bar(validloader, parent=mb)):\n",
    "#         net.load_state_dict(torch.load(ROOT_DIR / Path('output') / f'checkpoint_{NB}_{fold}.pt'))\n",
    "        net.load_state_dict(torch.load(f'{DIR_SAVE_IGNORE}checkpoint_{NB}_{fold + 1}.pt'))\n",
    "        net.eval()\n",
    "\n",
    "        with torch.no_grad():\n",
    "\n",
    "#             bssid, rssi, site_id, x, y, floor = bssid.to(device).long(), rssi.to(device).float(), site_id.to(device).long(), x.to(device).float(), y.to(device).float(), floor.to(device)\n",
    "            bssid, rssi, site_id, x, y, floor, bssid_x, bssid_y = bssid.to(device).long(), rssi.to(device).float(), site_id.to(device).long(), x.to(device).float(), y.to(device).float(), floor.to(device), bssid_x.to(device).float(), bssid_y.to(device).float()\n",
    "\n",
    "            xy_pred, floor_pred = net(bssid, rssi, site_id, bssid_x, bssid_y)\n",
    "\n",
    "            xy_pred = xy_pred.to('cpu').detach().numpy().copy()\n",
    "            x_pred, y_pred = np.hsplit(xy_pred, 2)\n",
    "            _x_oof = np.concatenate([_x_oof, x_pred.reshape(-1)])\n",
    "            _y_oof = np.concatenate([_y_oof, y_pred.reshape(-1)])\n",
    "\n",
    "    print(comp_metric(_x_oof, _y_oof, 0, valid['x'], valid['y'], 0))\n",
    "\n",
    "    oof_x[valid_index] = _x_oof\n",
    "    oof_y[valid_index] = _y_oof\n",
    "\n",
    "    del net\n",
    "    torch.cuda.empty_cache()"
   ]
  },
  {
   "cell_type": "code",
   "execution_count": 30,
   "metadata": {
    "colab": {
     "base_uri": "https://localhost:8080/"
    },
    "executionInfo": {
     "elapsed": 501,
     "status": "ok",
     "timestamp": 1616481371504,
     "user": {
      "displayName": "ユウキハヤカワ",
      "photoUrl": "https://lh3.googleusercontent.com/a-/AOh14GjfXu9o7zmAYL24s4P8H7I0lvSgQUaSfrXi7qemvQ=s64",
      "userId": "00286900621093795459"
     },
     "user_tz": -540
    },
    "id": "VEdEjVItESKZ",
    "outputId": "8e4be26a-5aa1-4afa-eb4b-336380550dbb"
   },
   "outputs": [
    {
     "data": {
      "text/plain": [
       "6.622636336501743"
      ]
     },
     "execution_count": 30,
     "metadata": {},
     "output_type": "execute_result"
    }
   ],
   "source": [
    "oof_score = comp_metric(oof_x, oof_y, np.zeros(len(df_train)), df_train['x'], df_train['y'], np.zeros(len(df_train)))\n",
    "oof_score"
   ]
  },
  {
   "cell_type": "markdown",
   "metadata": {},
   "source": [
    "# test"
   ]
  },
  {
   "cell_type": "code",
   "execution_count": 31,
   "metadata": {},
   "outputs": [
    {
     "data": {
      "text/html": [
       "\n",
       "    <div>\n",
       "        <style>\n",
       "            /* Turns off some styling */\n",
       "            progress {\n",
       "                /* gets rid of default border in Firefox and Opera. */\n",
       "                border: none;\n",
       "                /* Needs to be in here for Safari polyfill so background images work as expected. */\n",
       "                background-size: auto;\n",
       "            }\n",
       "            .progress-bar-interrupted, .progress-bar-interrupted::-webkit-progress-bar {\n",
       "                background: #F44336;\n",
       "            }\n",
       "        </style>\n",
       "      <progress value='80' class='' max='80' style='width:300px; height:20px; vertical-align: middle;'></progress>\n",
       "      100.00% [80/80 00:00<00:00]\n",
       "    </div>\n",
       "    "
      ],
      "text/plain": [
       "<IPython.core.display.HTML object>"
      ]
     },
     "metadata": {},
     "output_type": "display_data"
    },
    {
     "data": {
      "text/html": [
       "\n",
       "    <div>\n",
       "        <style>\n",
       "            /* Turns off some styling */\n",
       "            progress {\n",
       "                /* gets rid of default border in Firefox and Opera. */\n",
       "                border: none;\n",
       "                /* Needs to be in here for Safari polyfill so background images work as expected. */\n",
       "                background-size: auto;\n",
       "            }\n",
       "            .progress-bar-interrupted, .progress-bar-interrupted::-webkit-progress-bar {\n",
       "                background: #F44336;\n",
       "            }\n",
       "        </style>\n",
       "      <progress value='80' class='' max='80' style='width:300px; height:20px; vertical-align: middle;'></progress>\n",
       "      100.00% [80/80 00:00<00:00]\n",
       "    </div>\n",
       "    "
      ],
      "text/plain": [
       "<IPython.core.display.HTML object>"
      ]
     },
     "metadata": {},
     "output_type": "display_data"
    },
    {
     "data": {
      "text/html": [
       "\n",
       "    <div>\n",
       "        <style>\n",
       "            /* Turns off some styling */\n",
       "            progress {\n",
       "                /* gets rid of default border in Firefox and Opera. */\n",
       "                border: none;\n",
       "                /* Needs to be in here for Safari polyfill so background images work as expected. */\n",
       "                background-size: auto;\n",
       "            }\n",
       "            .progress-bar-interrupted, .progress-bar-interrupted::-webkit-progress-bar {\n",
       "                background: #F44336;\n",
       "            }\n",
       "        </style>\n",
       "      <progress value='80' class='' max='80' style='width:300px; height:20px; vertical-align: middle;'></progress>\n",
       "      100.00% [80/80 00:00<00:00]\n",
       "    </div>\n",
       "    "
      ],
      "text/plain": [
       "<IPython.core.display.HTML object>"
      ]
     },
     "metadata": {},
     "output_type": "display_data"
    },
    {
     "data": {
      "text/html": [
       "\n",
       "    <div>\n",
       "        <style>\n",
       "            /* Turns off some styling */\n",
       "            progress {\n",
       "                /* gets rid of default border in Firefox and Opera. */\n",
       "                border: none;\n",
       "                /* Needs to be in here for Safari polyfill so background images work as expected. */\n",
       "                background-size: auto;\n",
       "            }\n",
       "            .progress-bar-interrupted, .progress-bar-interrupted::-webkit-progress-bar {\n",
       "                background: #F44336;\n",
       "            }\n",
       "        </style>\n",
       "      <progress value='80' class='' max='80' style='width:300px; height:20px; vertical-align: middle;'></progress>\n",
       "      100.00% [80/80 00:00<00:00]\n",
       "    </div>\n",
       "    "
      ],
      "text/plain": [
       "<IPython.core.display.HTML object>"
      ]
     },
     "metadata": {},
     "output_type": "display_data"
    },
    {
     "data": {
      "text/html": [
       "\n",
       "    <div>\n",
       "        <style>\n",
       "            /* Turns off some styling */\n",
       "            progress {\n",
       "                /* gets rid of default border in Firefox and Opera. */\n",
       "                border: none;\n",
       "                /* Needs to be in here for Safari polyfill so background images work as expected. */\n",
       "                background-size: auto;\n",
       "            }\n",
       "            .progress-bar-interrupted, .progress-bar-interrupted::-webkit-progress-bar {\n",
       "                background: #F44336;\n",
       "            }\n",
       "        </style>\n",
       "      <progress value='80' class='' max='80' style='width:300px; height:20px; vertical-align: middle;'></progress>\n",
       "      100.00% [80/80 00:00<00:00]\n",
       "    </div>\n",
       "    "
      ],
      "text/plain": [
       "<IPython.core.display.HTML object>"
      ]
     },
     "metadata": {},
     "output_type": "display_data"
    },
    {
     "name": "stdout",
     "output_type": "stream",
     "text": [
      "CPU times: user 1.03 s, sys: 970 ms, total: 2 s\n",
      "Wall time: 2.49 s\n"
     ]
    }
   ],
   "source": [
    "%%time\n",
    "x_preds_mean = np.zeros(len(df_test))\n",
    "y_preds_mean = np.zeros(len(df_test))\n",
    "\n",
    "for fold in range(config['globals']['n_splits']):\n",
    "\n",
    "    x_preds = np.array([])\n",
    "    y_preds = np.array([])\n",
    "\n",
    "    net = IndoorWiFiNet(wifi_bssids_size, site_count, config['globals']['num_feats'])\n",
    "    net.to(device)\n",
    "#     print(ROOT_DIR / Path('output') / f'load checkpoint_{NB}_{fold}.pt')\n",
    "#     net.load_state_dict(torch.load(ROOT_DIR / Path('output') / f'checkpoint_{NB}_{fold}.pt'))\n",
    "    net.load_state_dict(torch.load(f'{DIR_SAVE_IGNORE}checkpoint_{NB}_{fold + 1}.pt'))\n",
    "\n",
    "    test_dataset = IndoorWiFiDataSet(df_test, bssid_feats, rssi_feats, bssid_x_feats, bssid_y_feats, data_type='test')\n",
    "#     valid_dataset = IndoorWiFiDataSet(valid.reset_index(drop=True), bssid_feats, rssi_feats, bssid_x_feats, bssid_y_feats, data_type='valid')\n",
    "#     valid_dataset = IndoorWiFiDataSet(valid.reset_index(drop=True), bssid_feats, rssi_feats, data_type='valid')\n",
    "    testloader = DataLoader(test_dataset, batch_size=config['globals']['batch_size'], num_workers=4)\n",
    "    \n",
    "    test_preds = []\n",
    "    for i, (bssid, rssi, site_id, bssid_x, bssid_y) in enumerate(progress_bar(testloader)):\n",
    "        net.eval()\n",
    "        with torch.no_grad():\n",
    "            bssid, rssi, site_id, bssid_x, bssid_y = bssid.to(device).long(), rssi.to(device).float(), site_id.to(device).long(), bssid_x.to(device).float(), bssid_y.to(device).float()\n",
    "\n",
    "            xy_pred, floor_pred = net(bssid, rssi, site_id, bssid_x, bssid_y)\n",
    "            xy_pred = xy_pred.to('cpu').detach().numpy().copy()\n",
    "\n",
    "            x_pred, y_pred = np.hsplit(xy_pred, 2)\n",
    "            x_preds = np.concatenate([x_preds, x_pred.reshape(-1)])\n",
    "            y_preds = np.concatenate([y_preds, y_pred.reshape(-1)])\n",
    "\n",
    "    x_preds_mean += x_preds / config['globals']['n_splits']\n",
    "    y_preds_mean += y_preds / config['globals']['n_splits']"
   ]
  },
  {
   "cell_type": "code",
   "execution_count": 32,
   "metadata": {},
   "outputs": [
    {
     "data": {
      "text/plain": [
       "array([ 90.02116241,  79.98665314,  81.06503296, ..., 202.04557495,\n",
       "       200.74358521, 199.47182617])"
      ]
     },
     "execution_count": 32,
     "metadata": {},
     "output_type": "execute_result"
    }
   ],
   "source": [
    "x_preds_mean"
   ]
  },
  {
   "cell_type": "code",
   "execution_count": 33,
   "metadata": {},
   "outputs": [],
   "source": [
    "df_xy_oof = pd.DataFrame()\n",
    "df_xy_oof['oof_x'] = oof_x\n",
    "df_xy_oof['oof_y'] = oof_y\n",
    "df_xy_oof.to_csv(f'{DIR_SAVE}nb{NB}_oof_xy.csv', index=False)"
   ]
  },
  {
   "cell_type": "code",
   "execution_count": 34,
   "metadata": {
    "executionInfo": {
     "elapsed": 1689,
     "status": "ok",
     "timestamp": 1616481376074,
     "user": {
      "displayName": "ユウキハヤカワ",
      "photoUrl": "https://lh3.googleusercontent.com/a-/AOh14GjfXu9o7zmAYL24s4P8H7I0lvSgQUaSfrXi7qemvQ=s64",
      "userId": "00286900621093795459"
     },
     "user_tz": -540
    },
    "id": "nLIi69kGdV5B"
   },
   "outputs": [],
   "source": [
    "submission_99per_acc = pd.read_csv(PATH_99_SUB)\n",
    "\n",
    "pred_df = df_test[['site_path_timestamp']].copy()\n",
    "pred_df['x'] = x_preds_mean\n",
    "pred_df['y'] = y_preds_mean\n",
    "sub = pred_df.merge(submission_99per_acc[['site_path_timestamp', 'floor']], how='left', on='site_path_timestamp')[['site_path_timestamp', 'floor', 'x', 'y']]"
   ]
  },
  {
   "cell_type": "code",
   "execution_count": 35,
   "metadata": {
    "executionInfo": {
     "elapsed": 1423,
     "status": "ok",
     "timestamp": 1616481376078,
     "user": {
      "displayName": "ユウキハヤカワ",
      "photoUrl": "https://lh3.googleusercontent.com/a-/AOh14GjfXu9o7zmAYL24s4P8H7I0lvSgQUaSfrXi7qemvQ=s64",
      "userId": "00286900621093795459"
     },
     "user_tz": -540
    },
    "id": "2gtvd6JQZQ1_"
   },
   "outputs": [],
   "source": [
    "assert len(sample_submission.merge(sub, how='inner', on='site_path_timestamp')) == len(sample_submission)"
   ]
  },
  {
   "cell_type": "code",
   "execution_count": 36,
   "metadata": {
    "executionInfo": {
     "elapsed": 929,
     "status": "ok",
     "timestamp": 1616481376081,
     "user": {
      "displayName": "ユウキハヤカワ",
      "photoUrl": "https://lh3.googleusercontent.com/a-/AOh14GjfXu9o7zmAYL24s4P8H7I0lvSgQUaSfrXi7qemvQ=s64",
      "userId": "00286900621093795459"
     },
     "user_tz": -540
    },
    "id": "VpCo-uT_NOCh"
   },
   "outputs": [],
   "source": [
    "sub_file_path = f'{DIR_SAVE}nb{NB}_sub.csv'\n",
    "sub.to_csv(sub_file_path, index=False)"
   ]
  },
  {
   "cell_type": "markdown",
   "metadata": {},
   "source": [
    "# Analysis"
   ]
  },
  {
   "cell_type": "code",
   "execution_count": 37,
   "metadata": {},
   "outputs": [
    {
     "ename": "NameError",
     "evalue": "name 'calc_metrics_site' is not defined",
     "output_type": "error",
     "traceback": [
      "\u001b[0;31m---------------------------------------------------------------------------\u001b[0m",
      "\u001b[0;31mNameError\u001b[0m                                 Traceback (most recent call last)",
      "\u001b[0;32m<ipython-input-37-8b14c61b954c>\u001b[0m in \u001b[0;36m<module>\u001b[0;34m\u001b[0m\n\u001b[1;32m      1\u001b[0m \u001b[0msite_arr\u001b[0m \u001b[0;34m=\u001b[0m \u001b[0mle_site\u001b[0m\u001b[0;34m.\u001b[0m\u001b[0minverse_transform\u001b[0m\u001b[0;34m(\u001b[0m\u001b[0mdf_train\u001b[0m\u001b[0;34m.\u001b[0m\u001b[0msite_id\u001b[0m\u001b[0;34m)\u001b[0m\u001b[0;34m\u001b[0m\u001b[0;34m\u001b[0m\u001b[0m\n\u001b[0;32m----> 2\u001b[0;31m \u001b[0mdf_result_site\u001b[0m \u001b[0;34m=\u001b[0m \u001b[0mcalc_metrics_site\u001b[0m\u001b[0;34m(\u001b[0m\u001b[0moof_x\u001b[0m\u001b[0;34m,\u001b[0m \u001b[0moof_y\u001b[0m\u001b[0;34m,\u001b[0m \u001b[0mnp\u001b[0m\u001b[0;34m.\u001b[0m\u001b[0mzeros\u001b[0m\u001b[0;34m(\u001b[0m\u001b[0mlen\u001b[0m\u001b[0;34m(\u001b[0m\u001b[0mdf_train\u001b[0m\u001b[0;34m)\u001b[0m\u001b[0;34m)\u001b[0m\u001b[0;34m,\u001b[0m \u001b[0mdf_train\u001b[0m\u001b[0;34m[\u001b[0m\u001b[0;34m'x'\u001b[0m\u001b[0;34m]\u001b[0m\u001b[0;34m,\u001b[0m \u001b[0mdf_train\u001b[0m\u001b[0;34m[\u001b[0m\u001b[0;34m'y'\u001b[0m\u001b[0;34m]\u001b[0m\u001b[0;34m,\u001b[0m \u001b[0mnp\u001b[0m\u001b[0;34m.\u001b[0m\u001b[0mzeros\u001b[0m\u001b[0;34m(\u001b[0m\u001b[0mlen\u001b[0m\u001b[0;34m(\u001b[0m\u001b[0mdf_train\u001b[0m\u001b[0;34m)\u001b[0m\u001b[0;34m)\u001b[0m\u001b[0;34m,\u001b[0m \u001b[0msite_arr\u001b[0m\u001b[0;34m)\u001b[0m\u001b[0;34m\u001b[0m\u001b[0;34m\u001b[0m\u001b[0m\n\u001b[0m\u001b[1;32m      3\u001b[0m \u001b[0msite_eval_report\u001b[0m\u001b[0;34m(\u001b[0m\u001b[0mdf_result_site\u001b[0m\u001b[0;34m)\u001b[0m\u001b[0;34m\u001b[0m\u001b[0;34m\u001b[0m\u001b[0m\n",
      "\u001b[0;31mNameError\u001b[0m: name 'calc_metrics_site' is not defined"
     ]
    }
   ],
   "source": [
    "site_arr = le_site.inverse_transform(df_train.site_id)\n",
    "df_result_site = calc_metrics_site(oof_x, oof_y, np.zeros(len(df_train)), df_train['x'], df_train['y'], np.zeros(len(df_train)), site_arr)\n",
    "site_eval_report(df_result_site)"
   ]
  },
  {
   "cell_type": "code",
   "execution_count": null,
   "metadata": {},
   "outputs": [],
   "source": [
    "dpi = 100\n",
    "visualize_submission(sub, './../data/nb/008/floor_images_with_trace/', './../data_ignore/input/metadata/', dpi=dpi)"
   ]
  },
  {
   "cell_type": "code",
   "execution_count": null,
   "metadata": {},
   "outputs": [],
   "source": []
  },
  {
   "cell_type": "code",
   "execution_count": null,
   "metadata": {},
   "outputs": [],
   "source": []
  },
  {
   "cell_type": "raw",
   "metadata": {},
   "source": [
    "\n",
    "\n",
    "\n",
    "\n",
    "\n",
    "\n",
    "\n",
    "\n",
    "\n",
    "\n",
    "\n",
    "\n",
    "\n",
    "\n",
    "\n",
    "\n",
    "\n",
    "\n",
    "\n",
    "\n",
    "\n",
    "\n",
    "\n",
    "\n",
    "\n",
    "\n",
    "\n",
    "\n"
   ]
  }
 ],
 "metadata": {
  "accelerator": "GPU",
  "colab": {
   "collapsed_sections": [],
   "machine_shape": "hm",
   "name": "exp003-0.ipynb",
   "provenance": [
    {
     "file_id": "https://github.com/yuki-a4/Indoor/blob/main/COLAB/notebook/exp003.ipynb",
     "timestamp": 1616255627299
    }
   ]
  },
  "kernelspec": {
   "display_name": "Python 3",
   "language": "python",
   "name": "python3"
  },
  "language_info": {
   "codemirror_mode": {
    "name": "ipython",
    "version": 3
   },
   "file_extension": ".py",
   "mimetype": "text/x-python",
   "name": "python",
   "nbconvert_exporter": "python",
   "pygments_lexer": "ipython3",
   "version": "3.8.5"
  }
 },
 "nbformat": 4,
 "nbformat_minor": 4
}
